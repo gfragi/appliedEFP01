{
 "cells": [
  {
   "cell_type": "markdown",
   "id": "3468eff0-6823-4e67-b60c-b5614974099e",
   "metadata": {},
   "source": [
    "## Ερώτηση 1\n",
    "\n",
    "Έχετε ένα εστιατόριο με πέντε πιάτα φαγητού, οργανωμένα στο «μενού» της λίστας Python παρακάτω. Μια μέρα, αποφασίζετε να:\n",
    "- αφαιρέστε τη φασολάδα από το μενού και\n",
    "- να προσθέστε τη σαλάτα με παντζάρι (παντζαροσαλάτα) στο μενού.\n",
    "\n",
    "Εφαρμόστε αυτήν την αλλαγή στην παρακάτω λίστα. Κατά την ολοκλήρωση αυτής της εργασίας,\n",
    "- μην αλλάξετε τη γραμμή που δημιουργεί τη λίστα `menu`.\n",
    "- η απάντησή σας θα πρέπει να χρησιμοποιεί `.remove()` και `.append()`.\n",
    "\n",
    "`menu = ['στιφάδο με κρεμμύδια', 'φασολάδα', 'ριζότο με πέστροφα και γαρίδες', 'ψαρόσουπα με κρέμα και κρεμμύδι', 'γύρος']`"
   ]
  },
  {
   "cell_type": "code",
   "execution_count": null,
   "metadata": {},
   "outputs": [],
   "source": []
  },
  {
   "cell_type": "code",
   "execution_count": null,
   "id": "e0476a98-5caf-42f5-afc4-5a959adfb8c6",
   "metadata": {},
   "outputs": [],
   "source": [
    "# Do not change: Initial menu for your restaurant\n",
    "menu = ['στιφάδο με κρεμμύδια', 'φασολάδα', 'ριζότο με πέστροφα και γαρίδες', 'ψαρόσουπα με κρέμα και κρεμμύδι', 'γύρος']\n",
    "\n",
    "# TODO: remove 'φασολάδα', and add 'παντζαροσαλάτα' to the end of the menu\n",
    "\n",
    "_____\n"
   ]
  },
  {
   "cell_type": "markdown",
   "id": "ac15f932-fc66-448d-85ca-240c74f2fb19",
   "metadata": {},
   "source": [
    "## Ερώτηση 2\n",
    "\n",
    "Η λίστα `num_customers` περιέχει τον αριθμό των πελατών που έρχονταν στο εστιατόριό σας κάθε μέρα τον τελευταίο μήνα (ο οποίος διήρκεσε τριάντα ημέρες). Συμπληρώστε τιμές για καθένα από τα παρακάτω:\n",
    "- `avg_first_seven` - μέσος αριθμός πελατών που επισκέφτηκαν τις πρώτες επτά ημέρες\n",
    "- `avg_last_seven` - μέσος αριθμός πελατών που επισκέφτηκαν τις τελευταίες επτά ημέρες\n",
    "- `max_month` - αριθμός πελατών την ημέρα που συγκέντρωσε τους περισσότερους πελάτες τον τελευταίο μήνα\n",
    "- `min_month` - αριθμός πελατών την ημέρα που είχε τους λιγότερους πελάτες τον τελευταίο μήνα\n"
   ]
  },
  {
   "cell_type": "code",
   "execution_count": null,
   "id": "7a94d1cd-e15d-4698-b35e-bf552e7b5949",
   "metadata": {},
   "outputs": [],
   "source": [
    "# Do not change: Number of customers each day for the last month\n",
    "num_customers = [137, 147, 135, 128, 170, 174, 165, 146, 126, 159,\n",
    "                 141, 148, 132, 147, 168, 153, 170, 161, 148, 152,\n",
    "                 141, 151, 131, 149, 164, 163, 143, 143, 166, 171]\n",
    "\n",
    "# TODO: Fill in values for the variables below\n",
    "avg_first_seven = ____ \n",
    "avg_last_seven = ____ \n",
    "max_month = ____\n",
    "min_month = ____"
   ]
  },
  {
   "cell_type": "markdown",
   "id": "67c3298b-738d-4578-98b1-2c00eb59040b",
   "metadata": {},
   "source": [
    "## Ερώτηση 3\n",
    "\n",
    "Δημιουργήστε δύο λίστες Python:\n",
    "- H `letters` πρέπει να είναι μια λίστα Python όπου κάθε καταχώρηση είναι ένα κεφαλαίο γράμμα του αγγλικού αλφαβήτου. Για παράδειγμα, οι δύο πρώτες εγγραφές θα πρέπει να είναι `A` και `B` και οι δύο τελευταίες καταχωρήσεις θα πρέπει να είναι `Y` και `Z`. Χρησιμοποιήστε τη συμβολοσειρά `alphabet` για να δημιουργήσετε αυτήν τη λίστα.\n",
    "- Η `address` πρέπει να είναι μια λίστα Python όπου κάθε σειρά στη `address` είναι διαφορετικό στοιχείο στη λίστα. Kάθε σειρά στην `address` χωρίζεται με κόμμα."
   ]
  },
  {
   "cell_type": "code",
   "execution_count": null,
   "id": "52f95420-9648-402c-802e-b2b674b5d05d",
   "metadata": {},
   "outputs": [],
   "source": [
    "# DO not change: Define two Python strings\n",
    "alphabet = \"A.B.C.D.E.F.G.H.I.J.K.L.M.N.O.P.Q.R.S.T.U.V.W.X.Y.Z\"\n",
    "address = \"Mr. H. Potter,The cupboard under the Stairs,4 Privet Drive,Little Whinging,Surrey\"\n",
    "\n",
    "# TODO: Convert strings into Python lists\n",
    "letters = _____\n",
    "formatted_address = __________"
   ]
  },
  {
   "cell_type": "markdown",
   "id": "941ee6af-2dbb-4c59-b29c-6fa6d11967a8",
   "metadata": {},
   "source": [
    "## Ερώτηση 4\n",
    "\n",
    "**List comprehensions**, σας επιτρέπουν να δημιουργήσετε μια λίστα με βάση τις τιμές σε μια άλλη λίστα. Σε αυτήν την ερώτηση, θα λάβετε μια σύντομη προεπισκόπηση του τρόπου λειτουργίας τους.\n",
    "\n",
    "Ας πούμε ότι εργαζόμαστε με την παρακάτω λίστα.\n"
   ]
  },
  {
   "cell_type": "code",
   "execution_count": null,
   "id": "3bcb0d97-b99f-4863-b4fc-ac27d224fedb",
   "metadata": {},
   "outputs": [],
   "source": [
    "test_ratings = [1, 2, 3, 4, 5]"
   ]
  },
  {
   "cell_type": "markdown",
   "id": "1c0b261c-ac38-4d08-bc2f-72c87ecaec91",
   "metadata": {},
   "source": [
    "Στη συνέχεια, μπορούμε να χρησιμοποιήσουμε αυτήν τη λίστα `test_ratings` για να δημιουργήσουμε μια νέα λίστα `test_likes` όπου κάθε στοιχείο έχει μετατραπεί σε `boolean`, ανάλογα με το εάν το στοιχείο είναι μεγαλύτερο ή ίσο με τέσσερα."
   ]
  },
  {
   "cell_type": "code",
   "execution_count": null,
   "id": "41c48442-dc7c-446d-bde6-09b96f7c15cc",
   "metadata": {
    "tags": []
   },
   "outputs": [],
   "source": [
    "test_liked = [i>=4 for i in test_ratings]\n",
    "print(test_liked)"
   ]
  },
  {
   "cell_type": "markdown",
   "id": "8bb97114-0ca4-46b2-91b8-15c4d08b8d38",
   "metadata": {},
   "source": [
    "Σε αυτήν την ερώτηση, θα χρησιμοποιήσετε αυτήν την κατανόηση λίστας για να ορίσετε μια συνάρτηση `percentage_like()` που λαμβάνει ένα όρισμα ως είσοδο:\n",
    "- `ratings`: λίστα βαθμολογιών που έδωσαν θεατές σε μια ταινία, όπου κάθε βαθμολογία είναι ένας αριθμός μεταξύ 1 και 5, συμπεριλαμβανομένου\n",
    "\n",
    "Λέμε ότι άρεσε σε κάποιον η ταινία, αν έδωσε βαθμολογία είτε 4 είτε 5. Η συνάρτησή σας θα πρέπει να επιστρέψει το ποσοστό των ατόμων που τους άρεσε η ταινία.\n",
    "\n",
    "Για παράδειγμα, αν παρέχουμε μια λίστα με τιμές `[1, 2, 3, 4, 5, 4, 5, 1]`, τότε η ταινία άρεσε στο 50% (4/8) των ατόμων και η συνάρτηση θα πρέπει να επιστρέψει `0,5`.\n",
    "\n",
    "Μέρος της λειτουργίας έχει ήδη ολοκληρωθεί για εσάςΧρειάζεται μόνο να χρησιμοποιήσετε το `list_likes` για να υπολογίσετε το `percentage_like`."
   ]
  },
  {
   "cell_type": "code",
   "execution_count": null,
   "id": "e6f2af31-ec00-4187-8620-b6886d6cae18",
   "metadata": {},
   "outputs": [],
   "source": [
    "\n",
    "def percentage_liked(ratings):\n",
    "    list_liked = [__________]\n",
    "    # TODO: Complete the function\n",
    "    percentage_liked = ____\n",
    "    return percentage_liked\n",
    "\n",
    "# Do not change: should return 0.5\n",
    "percentage_liked([1, 2, 3, 4, 5, 4, 5, 1])\n"
   ]
  },
  {
   "cell_type": "markdown",
   "id": "bf63dd16-d4a2-461f-a218-408379019806",
   "metadata": {},
   "source": [
    "## 🌶️ Question 5\n",
    "\n",
    "Ας υποθέσουμε πραγματοποιείται ανάλυση δεδομένων για έναν ιστότοπο. Πρέπει να γράψετε μια συνάρτηση που να επιστρέφει την ποσοστιαία αύξηση του συνολικού αριθμού χρηστών σε σχέση με έναν καθορισμένο αριθμό ετών πριν.\n",
    "\n",
    "Η συνάρτησή σας `percentage_growth()` πρέπει να λάβει δύο ορίσματα ως είσοδο:\n",
    "- `num_users` = Λίστα Python με τον συνολικό αριθμό χρηστών κάθε χρόνο. Άρα, ο αριθμός `num_users[0]` είναι ο συνολικός αριθμός χρηστών το πρώτο έτος, ο `num_users[1]` είναι ο συνολικός αριθμός χρηστών το δεύτερο έτος και ούτω καθεξής. Η τελική καταχώριση στη λίστα δίνει τον συνολικό αριθμό των χρηστών το πιο πρόσφατα συμπληρωμένο έτος.\n",
    "- `yrs_ago` = αριθμός ετών για να επιστρέψουμε στο χρόνο κατά τον υπολογισμό του ποσοστού ανάπτυξης\n",
    "\n",
    "Για παράδειγμα, πείτε `num_users = [920344, 1043553, 1204334, 1458996, 1503323, 1593432, 1623463, 1843064, 1930992, 2001078]`.\n",
    "- εάν `yrs_ago = 1`, η συνάρτηση να επιστρέψει μια τιμή περίπου `0,036`. Αυτό αντιστοιχεί σε ποσοστό αύξησης περίπου 3,6%, υπολογιζόμενο ως (2001078 - 1930992)/1930992.\n",
    "- εάν `yrs_ago` = 7`, θα επέστρεφε περίπου το `0,66`. Αυτό αντιστοιχεί σε ποσοστό αύξησης περίπου 66%, υπολογιζόμενο ως (2001078 - 1204334)/1204334.\n",
    "\n",
    "Ο συνάδελφός σας σας έστειλε ένα προσχέδιο μιας συνάρτησης, αλλά δεν φαίνεται να κάνει τον σωστό υπολογισμό. Μπορείτε να καταλάβετε τι πήγε στραβά και να κάνετε τις απαραίτητες αλλαγές;"
   ]
  },
  {
   "cell_type": "code",
   "execution_count": null,
   "id": "4910bd1d-7762-42d4-a768-47782f3c6b75",
   "metadata": {},
   "outputs": [],
   "source": [
    "# TODO: Edit the function\n",
    "def percentage_growth(num_users, yrs_ago):\n",
    "    growth = (num_users[len(num_users)-1] - num_users[len(num_users)-yrs_ago])/num_users[len(num_users)-2]\n",
    "    return growth\n",
    "\n",
    "# Do not change: Variable for calculating some test examples\n",
    "num_users_test = [920344, 1043553, 1204334, 1458996, 1503323, 1593432, 1623463, 1843064, 1930992, 2001078]\n",
    "\n",
    "# Do not change: Should return .036\n",
    "print(percentage_growth(num_users_test, 1))\n",
    "\n",
    "# Do not change: Should return 0.66\n",
    "print(percentage_growth(num_users_test, 7))"
   ]
  }
 ],
 "metadata": {
  "kernelspec": {
   "display_name": "Python 3.10.6 ('exerc_venv': venv)",
   "language": "python",
   "name": "python3"
  },
  "language_info": {
   "codemirror_mode": {
    "name": "ipython",
    "version": 3
   },
   "file_extension": ".py",
   "mimetype": "text/x-python",
   "name": "python",
   "nbconvert_exporter": "python",
   "pygments_lexer": "ipython3",
   "version": "3.10.6"
  },
  "vscode": {
   "interpreter": {
    "hash": "859fa3b1593710b6eb4bbdb744343e4ffda11c820b11949b92adfdd7e56dcd1c"
   }
  }
 },
 "nbformat": 4,
 "nbformat_minor": 5
}
