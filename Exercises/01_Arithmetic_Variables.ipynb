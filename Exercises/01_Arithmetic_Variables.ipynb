{
 "cells": [
  {
   "cell_type": "markdown",
   "id": "a47de5d6-e779-4220-9c73-a4f6f0f88e84",
   "metadata": {},
   "source": [
    "*Based on kaggle tutorials https://www.kaggle.com/*"
   ]
  },
  {
   "cell_type": "code",
   "execution_count": null,
   "id": "ee73e833-bc8f-42c8-9550-e042e300a277",
   "metadata": {},
   "outputs": [],
   "source": [
    "# Imports\n",
    "import pandas as pd"
   ]
  },
  {
   "cell_type": "markdown",
   "id": "6422fdcf-5a40-4e7e-a8eb-c4eb29b6387e",
   "metadata": {},
   "source": [
    "## Question 1\n",
    "\n",
    " - Υπολογίστε τον συνολικό αριθμό των δευτερολέπτων σε 4 χρόνια έτος."
   ]
  },
  {
   "cell_type": "code",
   "execution_count": null,
   "id": "c1284a69-16b7-403c-a942-aaf842861436",
   "metadata": {},
   "outputs": [],
   "source": [
    "# Create variables\n",
    "num_years = ____\n",
    "days_per_year = ____\n",
    "hours_per_day = ____\n",
    "mins_per_hour = ____\n",
    "secs_per_min = ____\n",
    "\n",
    "# Calculate number of seconds in four years\n",
    "total_secs = ____"
   ]
  },
  {
   "cell_type": "markdown",
   "id": "5696f909-5718-47aa-a009-742d37a185af",
   "metadata": {},
   "source": [
    " - Ορίστε μια μεταβλητή `births_per_min` και ορίστε την σε 267. (Υπάρχουν κατά μέσο όρο 267 μωρά που γεννιούνται κάθε λεπτό.)\n",
    " - Ορίστε μια μεταβλητή `births_per_day` που περιέχει τον μέσο αριθμό μωρών που γεννιούνται κάθε μέρα. "
   ]
  },
  {
   "cell_type": "code",
   "execution_count": null,
   "id": "323d5413-d013-4f38-8ea0-1063bad0544b",
   "metadata": {},
   "outputs": [],
   "source": []
  },
  {
   "cell_type": "markdown",
   "id": "0d517cc1-16a4-45f9-bfe9-e68713e291ca",
   "metadata": {},
   "source": [
    "## 🌶️ Question 2\n",
    "\n",
    "Εκτελέστε το επόμενο κελί κώδικα χωρίς αλλαγές για να φορτώσετε και να κάνετε προεπισκόπηση των δεδομένων.\n",
    "\n",
    "\n"
   ]
  },
  {
   "cell_type": "code",
   "execution_count": 2,
   "id": "5b727fe2-d45a-4c68-89f4-24b8058142cd",
   "metadata": {},
   "outputs": [
    {
     "data": {
      "text/html": [
       "<div>\n",
       "<style scoped>\n",
       "    .dataframe tbody tr th:only-of-type {\n",
       "        vertical-align: middle;\n",
       "    }\n",
       "\n",
       "    .dataframe tbody tr th {\n",
       "        vertical-align: top;\n",
       "    }\n",
       "\n",
       "    .dataframe thead th {\n",
       "        text-align: right;\n",
       "    }\n",
       "</style>\n",
       "<table border=\"1\" class=\"dataframe\">\n",
       "  <thead>\n",
       "    <tr style=\"text-align: right;\">\n",
       "      <th></th>\n",
       "      <th>PassengerId</th>\n",
       "      <th>Survived</th>\n",
       "      <th>Pclass</th>\n",
       "      <th>Name</th>\n",
       "      <th>Sex</th>\n",
       "      <th>Age</th>\n",
       "      <th>SibSp</th>\n",
       "      <th>Parch</th>\n",
       "      <th>Ticket</th>\n",
       "      <th>Fare</th>\n",
       "      <th>Cabin</th>\n",
       "      <th>Embarked</th>\n",
       "    </tr>\n",
       "  </thead>\n",
       "  <tbody>\n",
       "    <tr>\n",
       "      <th>0</th>\n",
       "      <td>1</td>\n",
       "      <td>0</td>\n",
       "      <td>3</td>\n",
       "      <td>Braund, Mr. Owen Harris</td>\n",
       "      <td>male</td>\n",
       "      <td>22.0</td>\n",
       "      <td>1</td>\n",
       "      <td>0</td>\n",
       "      <td>A/5 21171</td>\n",
       "      <td>7.2500</td>\n",
       "      <td>NaN</td>\n",
       "      <td>S</td>\n",
       "    </tr>\n",
       "    <tr>\n",
       "      <th>1</th>\n",
       "      <td>2</td>\n",
       "      <td>1</td>\n",
       "      <td>1</td>\n",
       "      <td>Cumings, Mrs. John Bradley (Florence Briggs Th...</td>\n",
       "      <td>female</td>\n",
       "      <td>38.0</td>\n",
       "      <td>1</td>\n",
       "      <td>0</td>\n",
       "      <td>PC 17599</td>\n",
       "      <td>71.2833</td>\n",
       "      <td>C85</td>\n",
       "      <td>C</td>\n",
       "    </tr>\n",
       "    <tr>\n",
       "      <th>2</th>\n",
       "      <td>3</td>\n",
       "      <td>1</td>\n",
       "      <td>3</td>\n",
       "      <td>Heikkinen, Miss. Laina</td>\n",
       "      <td>female</td>\n",
       "      <td>26.0</td>\n",
       "      <td>0</td>\n",
       "      <td>0</td>\n",
       "      <td>STON/O2. 3101282</td>\n",
       "      <td>7.9250</td>\n",
       "      <td>NaN</td>\n",
       "      <td>S</td>\n",
       "    </tr>\n",
       "    <tr>\n",
       "      <th>3</th>\n",
       "      <td>4</td>\n",
       "      <td>1</td>\n",
       "      <td>1</td>\n",
       "      <td>Futrelle, Mrs. Jacques Heath (Lily May Peel)</td>\n",
       "      <td>female</td>\n",
       "      <td>35.0</td>\n",
       "      <td>1</td>\n",
       "      <td>0</td>\n",
       "      <td>113803</td>\n",
       "      <td>53.1000</td>\n",
       "      <td>C123</td>\n",
       "      <td>S</td>\n",
       "    </tr>\n",
       "    <tr>\n",
       "      <th>4</th>\n",
       "      <td>5</td>\n",
       "      <td>0</td>\n",
       "      <td>3</td>\n",
       "      <td>Allen, Mr. William Henry</td>\n",
       "      <td>male</td>\n",
       "      <td>35.0</td>\n",
       "      <td>0</td>\n",
       "      <td>0</td>\n",
       "      <td>373450</td>\n",
       "      <td>8.0500</td>\n",
       "      <td>NaN</td>\n",
       "      <td>S</td>\n",
       "    </tr>\n",
       "  </tbody>\n",
       "</table>\n",
       "</div>"
      ],
      "text/plain": [
       "   PassengerId  Survived  Pclass  \\\n",
       "0            1         0       3   \n",
       "1            2         1       1   \n",
       "2            3         1       3   \n",
       "3            4         1       1   \n",
       "4            5         0       3   \n",
       "\n",
       "                                                Name     Sex   Age  SibSp  \\\n",
       "0                            Braund, Mr. Owen Harris    male  22.0      1   \n",
       "1  Cumings, Mrs. John Bradley (Florence Briggs Th...  female  38.0      1   \n",
       "2                             Heikkinen, Miss. Laina  female  26.0      0   \n",
       "3       Futrelle, Mrs. Jacques Heath (Lily May Peel)  female  35.0      1   \n",
       "4                           Allen, Mr. William Henry    male  35.0      0   \n",
       "\n",
       "   Parch            Ticket     Fare Cabin Embarked  \n",
       "0      0         A/5 21171   7.2500   NaN        S  \n",
       "1      0          PC 17599  71.2833   C85        C  \n",
       "2      0  STON/O2. 3101282   7.9250   NaN        S  \n",
       "3      0            113803  53.1000  C123        S  \n",
       "4      0            373450   8.0500   NaN        S  "
      ]
     },
     "execution_count": 2,
     "metadata": {},
     "output_type": "execute_result"
    }
   ],
   "source": [
    "# Load the data \n",
    "import pandas as pd\n",
    "titanic_data = pd.read_csv(\"data/titanic.csv\")\n",
    "\n",
    "\n",
    "# Show the first five rows of the data\n",
    "titanic_data.head()"
   ]
  },
  {
   "cell_type": "code",
   "execution_count": 18,
   "metadata": {},
   "outputs": [
    {
     "name": "stdout",
     "output_type": "stream",
     "text": [
      "[3 1 2]\n"
     ]
    }
   ],
   "source": [
    "classes = titanic_data[\"Pclass\"].unique()\n",
    "print(classes)"
   ]
  },
  {
   "cell_type": "code",
   "execution_count": 14,
   "metadata": {},
   "outputs": [
    {
     "name": "stdout",
     "output_type": "stream",
     "text": [
      "491\n"
     ]
    }
   ],
   "source": [
    "third_class_passengers = (titanic_data.Pclass == 3).sum()\n",
    "print(third_class_passengers)"
   ]
  },
  {
   "cell_type": "markdown",
   "id": "089c2139-1266-47aa-89b1-485c28ece0d9",
   "metadata": {},
   "source": [
    "Τα δεδομένα έχουν διαφορετική σειρά για κάθε επιβάτη.\n",
    "\n",
    "Το επόμενο κελί κώδικα ορίζει και εκτυπώνει τις τιμές τριών μεταβλητών:\n",
    "\n",
    " - `total` = συνολικός αριθμός επιβατών που επιβιβάστηκαν στο πλοίο\n",
    " - `survived` = αριθμός επιβατών που επέζησαν από το ναυάγιο\n",
    " - `minors` = αριθμός επιβατών κάτω των 18 ετών"
   ]
  },
  {
   "cell_type": "code",
   "execution_count": 9,
   "metadata": {},
   "outputs": [
    {
     "data": {
      "text/plain": [
       "342"
      ]
     },
     "execution_count": 9,
     "metadata": {},
     "output_type": "execute_result"
    }
   ],
   "source": [
    "survived = (titanic_data.Survived == 1).sum()\n",
    "survived"
   ]
  },
  {
   "cell_type": "code",
   "execution_count": null,
   "metadata": {},
   "outputs": [],
   "source": []
  },
  {
   "cell_type": "code",
   "execution_count": 20,
   "id": "ce794363-3de6-4c66-b647-15f4bb623b58",
   "metadata": {},
   "outputs": [
    {
     "name": "stdout",
     "output_type": "stream",
     "text": [
      "891\n",
      "342\n",
      "113\n"
     ]
    }
   ],
   "source": [
    "# Number of total passengers\n",
    "total = len(titanic_data)\n",
    "print(total)\n",
    "\n",
    "# Number of passengers who survived\n",
    "survived = (titanic_data.Survived == 1).sum()\n",
    "print(survived)\n",
    "\n",
    "# Number of passengers under 18\n",
    "minors = (titanic_data.Age < 18).sum()\n",
    "print(minors)"
   ]
  },
  {
   "cell_type": "markdown",
   "id": "732bb0d4-7bc8-449f-be1d-a55c66409aab",
   "metadata": {},
   "source": [
    "Στο παρακάτω κελί κώδικα, αντικαταστήστε τις υπογραμμίσεις (____) με κώδικα για να υπολογίσετε τις τιμές για δύο ακόμη μεταβλητές:\n",
    "\n",
    " - `surved_fraction` θα πρέπει να οριστεί το κλάσμα των επιβατών που επέζησαν από την καταστροφή του Τιτανικού.\n",
    " - `minors_fraction` θα πρέπει να είναι το κλάσμα των επιβατών που ήταν ανήλικοι (κάτω των 18 ετών)."
   ]
  },
  {
   "cell_type": "code",
   "execution_count": 21,
   "id": "5ed6a81c-2b27-4fe4-9c12-e22cc8060897",
   "metadata": {},
   "outputs": [
    {
     "name": "stdout",
     "output_type": "stream",
     "text": [
      "38.38383838383838\n",
      "12.682379349046016\n"
     ]
    }
   ],
   "source": [
    "# TODO: Fill in the value of the survived_fraction variable\n",
    "survived_fraction = (survived / total)*100\n",
    "\n",
    "# Print the value of the variable\n",
    "print(survived_fraction)\n",
    "\n",
    "# TODO: Fill in the value of the minors_fraction variable\n",
    "minors_fraction = (minors / total)*100 \n",
    "\n",
    "# Print the value of the variable\n",
    "print(minors_fraction)"
   ]
  },
  {
   "cell_type": "code",
   "execution_count": 24,
   "metadata": {},
   "outputs": [],
   "source": [
    "survived_under_18 = ((titanic_data.Survived == 1) & (titanic_data.Age < 18) & (titanic_data.Sex == 'male')).sum()"
   ]
  }
 ],
 "metadata": {
  "kernelspec": {
   "display_name": "Python 3.10.6 64-bit",
   "language": "python",
   "name": "python3"
  },
  "language_info": {
   "codemirror_mode": {
    "name": "ipython",
    "version": 3
   },
   "file_extension": ".py",
   "mimetype": "text/x-python",
   "name": "python",
   "nbconvert_exporter": "python",
   "pygments_lexer": "ipython3",
   "version": "3.10.12"
  },
  "vscode": {
   "interpreter": {
    "hash": "916dbcbb3f70747c44a77c7bcd40155683ae19c65e1c03b4aa3499c5328201f1"
   }
  }
 },
 "nbformat": 4,
 "nbformat_minor": 5
}
