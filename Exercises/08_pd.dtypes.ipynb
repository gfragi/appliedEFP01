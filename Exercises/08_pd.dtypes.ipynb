{
 "cells": [
  {
   "cell_type": "code",
   "execution_count": 3,
   "metadata": {},
   "outputs": [],
   "source": [
    "import pandas as pd"
   ]
  },
  {
   "cell_type": "code",
   "execution_count": 8,
   "metadata": {},
   "outputs": [],
   "source": [
    "reviews = pd.read_csv('./data/winemag-data_first1000.csv', index_col=0)\n"
   ]
  },
  {
   "cell_type": "markdown",
   "metadata": {},
   "source": [
    "## Exercises"
   ]
  },
  {
   "cell_type": "markdown",
   "metadata": {},
   "source": [
    "## 1.\n",
    "Ποιος είναι ο τύπος δεδομένων της στήλης `points` στο σύνολο δεδομένων;"
   ]
  },
  {
   "cell_type": "code",
   "execution_count": null,
   "metadata": {},
   "outputs": [],
   "source": [
    "dtype = ___"
   ]
  },
  {
   "cell_type": "markdown",
   "metadata": {},
   "source": [
    "## 2.\n",
    "\n",
    "Δημιουργήστε μια σειρά από εγγραφές της στήλης `points`, αλλά μετατρέψτε τις εγγραφές σε συμβολοσειρές."
   ]
  },
  {
   "cell_type": "code",
   "execution_count": null,
   "metadata": {},
   "outputs": [],
   "source": [
    "point_strings = ___"
   ]
  },
  {
   "cell_type": "markdown",
   "metadata": {},
   "source": [
    "## 3. \n",
    "\n",
    "Μερικές φορές η στήλη της τιμής είναι κενή. Σε πόσες κριτικές στο σύνολο δεδομένων λείπει μια τιμή απο τη στήλη `price`;"
   ]
  },
  {
   "cell_type": "code",
   "execution_count": null,
   "metadata": {},
   "outputs": [],
   "source": [
    "n_missing_prices = ___"
   ]
  },
  {
   "cell_type": "markdown",
   "metadata": {},
   "source": [
    "## 4. \n",
    "\n",
    "Ποιες είναι οι πιο κοινές οινοπαραγωγικές περιοχές; Δημιουργήστε μια σειρά μετρώντας πόσες φορές εμφανίζεται κάθε τιμή στο πεδίο `region_1`. Σε αυτό το πεδίο συχνά λείπουν δεδομένα, επομένως αντικαταστήστε τις τιμές που λείπουν με `Unknown`. Ταξινόμήστε σε φθίνουσα σειρά. "
   ]
  },
  {
   "cell_type": "code",
   "execution_count": null,
   "metadata": {},
   "outputs": [],
   "source": [
    "reviews_per_region = __"
   ]
  }
 ],
 "metadata": {
  "kernelspec": {
   "display_name": "price39_env",
   "language": "python",
   "name": "price39_env"
  },
  "language_info": {
   "codemirror_mode": {
    "name": "ipython",
    "version": 3
   },
   "file_extension": ".py",
   "mimetype": "text/x-python",
   "name": "python",
   "nbconvert_exporter": "python",
   "pygments_lexer": "ipython3",
   "version": "3.9.16"
  },
  "orig_nbformat": 4,
  "vscode": {
   "interpreter": {
    "hash": "916dbcbb3f70747c44a77c7bcd40155683ae19c65e1c03b4aa3499c5328201f1"
   }
  }
 },
 "nbformat": 4,
 "nbformat_minor": 2
}
