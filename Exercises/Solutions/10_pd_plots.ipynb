{
 "cells": [
  {
   "cell_type": "code",
   "execution_count": 1,
   "metadata": {},
   "outputs": [],
   "source": [
    "import pandas as pd\n",
    "import plotly.express as px\n"
   ]
  },
  {
   "cell_type": "code",
   "execution_count": 2,
   "metadata": {},
   "outputs": [
    {
     "data": {
      "text/html": [
       "<div>\n",
       "<style scoped>\n",
       "    .dataframe tbody tr th:only-of-type {\n",
       "        vertical-align: middle;\n",
       "    }\n",
       "\n",
       "    .dataframe tbody tr th {\n",
       "        vertical-align: top;\n",
       "    }\n",
       "\n",
       "    .dataframe thead th {\n",
       "        text-align: right;\n",
       "    }\n",
       "</style>\n",
       "<table border=\"1\" class=\"dataframe\">\n",
       "  <thead>\n",
       "    <tr style=\"text-align: right;\">\n",
       "      <th></th>\n",
       "      <th>Survived</th>\n",
       "      <th>Pclass</th>\n",
       "      <th>Name</th>\n",
       "      <th>Sex</th>\n",
       "      <th>Age</th>\n",
       "      <th>SibSp</th>\n",
       "      <th>Parch</th>\n",
       "      <th>Ticket</th>\n",
       "      <th>Fare</th>\n",
       "      <th>Cabin</th>\n",
       "      <th>Embarked</th>\n",
       "    </tr>\n",
       "    <tr>\n",
       "      <th>PassengerId</th>\n",
       "      <th></th>\n",
       "      <th></th>\n",
       "      <th></th>\n",
       "      <th></th>\n",
       "      <th></th>\n",
       "      <th></th>\n",
       "      <th></th>\n",
       "      <th></th>\n",
       "      <th></th>\n",
       "      <th></th>\n",
       "      <th></th>\n",
       "    </tr>\n",
       "  </thead>\n",
       "  <tbody>\n",
       "    <tr>\n",
       "      <th>1</th>\n",
       "      <td>0</td>\n",
       "      <td>3</td>\n",
       "      <td>Braund, Mr. Owen Harris</td>\n",
       "      <td>male</td>\n",
       "      <td>22.0</td>\n",
       "      <td>1</td>\n",
       "      <td>0</td>\n",
       "      <td>A/5 21171</td>\n",
       "      <td>7.2500</td>\n",
       "      <td>NaN</td>\n",
       "      <td>S</td>\n",
       "    </tr>\n",
       "    <tr>\n",
       "      <th>2</th>\n",
       "      <td>1</td>\n",
       "      <td>1</td>\n",
       "      <td>Cumings, Mrs. John Bradley (Florence Briggs Th...</td>\n",
       "      <td>female</td>\n",
       "      <td>38.0</td>\n",
       "      <td>1</td>\n",
       "      <td>0</td>\n",
       "      <td>PC 17599</td>\n",
       "      <td>71.2833</td>\n",
       "      <td>C85</td>\n",
       "      <td>C</td>\n",
       "    </tr>\n",
       "    <tr>\n",
       "      <th>3</th>\n",
       "      <td>1</td>\n",
       "      <td>3</td>\n",
       "      <td>Heikkinen, Miss. Laina</td>\n",
       "      <td>female</td>\n",
       "      <td>26.0</td>\n",
       "      <td>0</td>\n",
       "      <td>0</td>\n",
       "      <td>STON/O2. 3101282</td>\n",
       "      <td>7.9250</td>\n",
       "      <td>NaN</td>\n",
       "      <td>S</td>\n",
       "    </tr>\n",
       "    <tr>\n",
       "      <th>4</th>\n",
       "      <td>1</td>\n",
       "      <td>1</td>\n",
       "      <td>Futrelle, Mrs. Jacques Heath (Lily May Peel)</td>\n",
       "      <td>female</td>\n",
       "      <td>35.0</td>\n",
       "      <td>1</td>\n",
       "      <td>0</td>\n",
       "      <td>113803</td>\n",
       "      <td>53.1000</td>\n",
       "      <td>C123</td>\n",
       "      <td>S</td>\n",
       "    </tr>\n",
       "    <tr>\n",
       "      <th>5</th>\n",
       "      <td>0</td>\n",
       "      <td>3</td>\n",
       "      <td>Allen, Mr. William Henry</td>\n",
       "      <td>male</td>\n",
       "      <td>35.0</td>\n",
       "      <td>0</td>\n",
       "      <td>0</td>\n",
       "      <td>373450</td>\n",
       "      <td>8.0500</td>\n",
       "      <td>NaN</td>\n",
       "      <td>S</td>\n",
       "    </tr>\n",
       "  </tbody>\n",
       "</table>\n",
       "</div>"
      ],
      "text/plain": [
       "             Survived  Pclass  \\\n",
       "PassengerId                     \n",
       "1                   0       3   \n",
       "2                   1       1   \n",
       "3                   1       3   \n",
       "4                   1       1   \n",
       "5                   0       3   \n",
       "\n",
       "                                                          Name     Sex   Age  \\\n",
       "PassengerId                                                                    \n",
       "1                                      Braund, Mr. Owen Harris    male  22.0   \n",
       "2            Cumings, Mrs. John Bradley (Florence Briggs Th...  female  38.0   \n",
       "3                                       Heikkinen, Miss. Laina  female  26.0   \n",
       "4                 Futrelle, Mrs. Jacques Heath (Lily May Peel)  female  35.0   \n",
       "5                                     Allen, Mr. William Henry    male  35.0   \n",
       "\n",
       "             SibSp  Parch            Ticket     Fare Cabin Embarked  \n",
       "PassengerId                                                          \n",
       "1                1      0         A/5 21171   7.2500   NaN        S  \n",
       "2                1      0          PC 17599  71.2833   C85        C  \n",
       "3                0      0  STON/O2. 3101282   7.9250   NaN        S  \n",
       "4                1      0            113803  53.1000  C123        S  \n",
       "5                0      0            373450   8.0500   NaN        S  "
      ]
     },
     "execution_count": 2,
     "metadata": {},
     "output_type": "execute_result"
    }
   ],
   "source": [
    "titanic = pd.read_csv('../data/titanic.csv', index_col=0)\n",
    "titanic.head()"
   ]
  },
  {
   "cell_type": "code",
   "execution_count": 3,
   "metadata": {},
   "outputs": [
    {
     "name": "stdout",
     "output_type": "stream",
     "text": [
      "<class 'pandas.core.frame.DataFrame'>\n",
      "Int64Index: 891 entries, 1 to 891\n",
      "Data columns (total 11 columns):\n",
      " #   Column    Non-Null Count  Dtype  \n",
      "---  ------    --------------  -----  \n",
      " 0   Survived  891 non-null    int64  \n",
      " 1   Pclass    891 non-null    int64  \n",
      " 2   Name      891 non-null    object \n",
      " 3   Sex       891 non-null    object \n",
      " 4   Age       714 non-null    float64\n",
      " 5   SibSp     891 non-null    int64  \n",
      " 6   Parch     891 non-null    int64  \n",
      " 7   Ticket    891 non-null    object \n",
      " 8   Fare      891 non-null    float64\n",
      " 9   Cabin     204 non-null    object \n",
      " 10  Embarked  889 non-null    object \n",
      "dtypes: float64(2), int64(4), object(5)\n",
      "memory usage: 83.5+ KB\n"
     ]
    }
   ],
   "source": [
    "titanic.info()"
   ]
  },
  {
   "cell_type": "markdown",
   "metadata": {},
   "source": [
    "Fare vs. Age Scatter Plot: A scatter plot can illustrate the relationship between the fare paid and the age of the passengers, with a possible differentiation by survival status."
   ]
  },
  {
   "cell_type": "code",
   "execution_count": 4,
   "metadata": {},
   "outputs": [
    {
     "data": {
      "application/vnd.plotly.v1+json": {
       "config": {
        "plotlyServerURL": "https://plot.ly"
       },
       "data": [
        {
         "customdata": [
          [
           "Braund, Mr. Owen Harris",
           3,
           "male"
          ],
          [
           "Cumings, Mrs. John Bradley (Florence Briggs Thayer)",
           1,
           "female"
          ],
          [
           "Heikkinen, Miss. Laina",
           3,
           "female"
          ],
          [
           "Futrelle, Mrs. Jacques Heath (Lily May Peel)",
           1,
           "female"
          ],
          [
           "Allen, Mr. William Henry",
           3,
           "male"
          ],
          [
           "Moran, Mr. James",
           3,
           "male"
          ],
          [
           "McCarthy, Mr. Timothy J",
           1,
           "male"
          ],
          [
           "Palsson, Master. Gosta Leonard",
           3,
           "male"
          ],
          [
           "Johnson, Mrs. Oscar W (Elisabeth Vilhelmina Berg)",
           3,
           "female"
          ],
          [
           "Nasser, Mrs. Nicholas (Adele Achem)",
           2,
           "female"
          ],
          [
           "Sandstrom, Miss. Marguerite Rut",
           3,
           "female"
          ],
          [
           "Bonnell, Miss. Elizabeth",
           1,
           "female"
          ],
          [
           "Saundercock, Mr. William Henry",
           3,
           "male"
          ],
          [
           "Andersson, Mr. Anders Johan",
           3,
           "male"
          ],
          [
           "Vestrom, Miss. Hulda Amanda Adolfina",
           3,
           "female"
          ],
          [
           "Hewlett, Mrs. (Mary D Kingcome) ",
           2,
           "female"
          ],
          [
           "Rice, Master. Eugene",
           3,
           "male"
          ],
          [
           "Williams, Mr. Charles Eugene",
           2,
           "male"
          ],
          [
           "Vander Planke, Mrs. Julius (Emelia Maria Vandemoortele)",
           3,
           "female"
          ],
          [
           "Masselmani, Mrs. Fatima",
           3,
           "female"
          ],
          [
           "Fynney, Mr. Joseph J",
           2,
           "male"
          ],
          [
           "Beesley, Mr. Lawrence",
           2,
           "male"
          ],
          [
           "McGowan, Miss. Anna \"Annie\"",
           3,
           "female"
          ],
          [
           "Sloper, Mr. William Thompson",
           1,
           "male"
          ],
          [
           "Palsson, Miss. Torborg Danira",
           3,
           "female"
          ],
          [
           "Asplund, Mrs. Carl Oscar (Selma Augusta Emilia Johansson)",
           3,
           "female"
          ],
          [
           "Emir, Mr. Farred Chehab",
           3,
           "male"
          ],
          [
           "Fortune, Mr. Charles Alexander",
           1,
           "male"
          ],
          [
           "O'Dwyer, Miss. Ellen \"Nellie\"",
           3,
           "female"
          ],
          [
           "Todoroff, Mr. Lalio",
           3,
           "male"
          ],
          [
           "Uruchurtu, Don. Manuel E",
           1,
           "male"
          ],
          [
           "Spencer, Mrs. William Augustus (Marie Eugenie)",
           1,
           "female"
          ],
          [
           "Glynn, Miss. Mary Agatha",
           3,
           "female"
          ],
          [
           "Wheadon, Mr. Edward H",
           2,
           "male"
          ],
          [
           "Meyer, Mr. Edgar Joseph",
           1,
           "male"
          ],
          [
           "Holverson, Mr. Alexander Oskar",
           1,
           "male"
          ],
          [
           "Mamee, Mr. Hanna",
           3,
           "male"
          ],
          [
           "Cann, Mr. Ernest Charles",
           3,
           "male"
          ],
          [
           "Vander Planke, Miss. Augusta Maria",
           3,
           "female"
          ],
          [
           "Nicola-Yarred, Miss. Jamila",
           3,
           "female"
          ],
          [
           "Ahlin, Mrs. Johan (Johanna Persdotter Larsson)",
           3,
           "female"
          ],
          [
           "Turpin, Mrs. William John Robert (Dorothy Ann Wonnacott)",
           2,
           "female"
          ],
          [
           "Kraeff, Mr. Theodor",
           3,
           "male"
          ],
          [
           "Laroche, Miss. Simonne Marie Anne Andree",
           2,
           "female"
          ],
          [
           "Devaney, Miss. Margaret Delia",
           3,
           "female"
          ],
          [
           "Rogers, Mr. William John",
           3,
           "male"
          ],
          [
           "Lennon, Mr. Denis",
           3,
           "male"
          ],
          [
           "O'Driscoll, Miss. Bridget",
           3,
           "female"
          ],
          [
           "Samaan, Mr. Youssef",
           3,
           "male"
          ],
          [
           "Arnold-Franchi, Mrs. Josef (Josefine Franchi)",
           3,
           "female"
          ],
          [
           "Panula, Master. Juha Niilo",
           3,
           "male"
          ],
          [
           "Nosworthy, Mr. Richard Cater",
           3,
           "male"
          ],
          [
           "Harper, Mrs. Henry Sleeper (Myna Haxtun)",
           1,
           "female"
          ],
          [
           "Faunthorpe, Mrs. Lizzie (Elizabeth Anne Wilkinson)",
           2,
           "female"
          ],
          [
           "Ostby, Mr. Engelhart Cornelius",
           1,
           "male"
          ],
          [
           "Woolner, Mr. Hugh",
           1,
           "male"
          ],
          [
           "Rugg, Miss. Emily",
           2,
           "female"
          ],
          [
           "Novel, Mr. Mansouer",
           3,
           "male"
          ],
          [
           "West, Miss. Constance Mirium",
           2,
           "female"
          ],
          [
           "Goodwin, Master. William Frederick",
           3,
           "male"
          ],
          [
           "Sirayanian, Mr. Orsen",
           3,
           "male"
          ],
          [
           "Icard, Miss. Amelie",
           1,
           "female"
          ],
          [
           "Harris, Mr. Henry Birkhardt",
           1,
           "male"
          ],
          [
           "Skoog, Master. Harald",
           3,
           "male"
          ],
          [
           "Stewart, Mr. Albert A",
           1,
           "male"
          ],
          [
           "Moubarek, Master. Gerios",
           3,
           "male"
          ],
          [
           "Nye, Mrs. (Elizabeth Ramell)",
           2,
           "female"
          ],
          [
           "Crease, Mr. Ernest James",
           3,
           "male"
          ],
          [
           "Andersson, Miss. Erna Alexandra",
           3,
           "female"
          ],
          [
           "Kink, Mr. Vincenz",
           3,
           "male"
          ],
          [
           "Jenkin, Mr. Stephen Curnow",
           2,
           "male"
          ],
          [
           "Goodwin, Miss. Lillian Amy",
           3,
           "female"
          ],
          [
           "Hood, Mr. Ambrose Jr",
           2,
           "male"
          ],
          [
           "Chronopoulos, Mr. Apostolos",
           3,
           "male"
          ],
          [
           "Bing, Mr. Lee",
           3,
           "male"
          ],
          [
           "Moen, Mr. Sigurd Hansen",
           3,
           "male"
          ],
          [
           "Staneff, Mr. Ivan",
           3,
           "male"
          ],
          [
           "Moutal, Mr. Rahamin Haim",
           3,
           "male"
          ],
          [
           "Caldwell, Master. Alden Gates",
           2,
           "male"
          ],
          [
           "Dowdell, Miss. Elizabeth",
           3,
           "female"
          ],
          [
           "Waelens, Mr. Achille",
           3,
           "male"
          ],
          [
           "Sheerlinck, Mr. Jan Baptist",
           3,
           "male"
          ],
          [
           "McDermott, Miss. Brigdet Delia",
           3,
           "female"
          ],
          [
           "Carrau, Mr. Francisco M",
           1,
           "male"
          ],
          [
           "Ilett, Miss. Bertha",
           2,
           "female"
          ],
          [
           "Backstrom, Mrs. Karl Alfred (Maria Mathilda Gustafsson)",
           3,
           "female"
          ],
          [
           "Ford, Mr. William Neal",
           3,
           "male"
          ],
          [
           "Slocovski, Mr. Selman Francis",
           3,
           "male"
          ],
          [
           "Fortune, Miss. Mabel Helen",
           1,
           "female"
          ],
          [
           "Celotti, Mr. Francesco",
           3,
           "male"
          ],
          [
           "Christmann, Mr. Emil",
           3,
           "male"
          ],
          [
           "Andreasson, Mr. Paul Edvin",
           3,
           "male"
          ],
          [
           "Chaffee, Mr. Herbert Fuller",
           1,
           "male"
          ],
          [
           "Dean, Mr. Bertram Frank",
           3,
           "male"
          ],
          [
           "Coxon, Mr. Daniel",
           3,
           "male"
          ],
          [
           "Shorney, Mr. Charles Joseph",
           3,
           "male"
          ],
          [
           "Goldschmidt, Mr. George B",
           1,
           "male"
          ],
          [
           "Greenfield, Mr. William Bertram",
           1,
           "male"
          ],
          [
           "Doling, Mrs. John T (Ada Julia Bone)",
           2,
           "female"
          ],
          [
           "Kantor, Mr. Sinai",
           2,
           "male"
          ],
          [
           "Petranec, Miss. Matilda",
           3,
           "female"
          ],
          [
           "Petroff, Mr. Pastcho (\"Pentcho\")",
           3,
           "male"
          ],
          [
           "White, Mr. Richard Frasar",
           1,
           "male"
          ],
          [
           "Johansson, Mr. Gustaf Joel",
           3,
           "male"
          ],
          [
           "Gustafsson, Mr. Anders Vilhelm",
           3,
           "male"
          ],
          [
           "Mionoff, Mr. Stoytcho",
           3,
           "male"
          ],
          [
           "Salkjelsvik, Miss. Anna Kristine",
           3,
           "female"
          ],
          [
           "Moss, Mr. Albert Johan",
           3,
           "male"
          ],
          [
           "Rekic, Mr. Tido",
           3,
           "male"
          ],
          [
           "Moran, Miss. Bertha",
           3,
           "female"
          ],
          [
           "Porter, Mr. Walter Chamberlain",
           1,
           "male"
          ],
          [
           "Zabour, Miss. Hileni",
           3,
           "female"
          ],
          [
           "Barton, Mr. David John",
           3,
           "male"
          ],
          [
           "Jussila, Miss. Katriina",
           3,
           "female"
          ],
          [
           "Attalah, Miss. Malake",
           3,
           "female"
          ],
          [
           "Pekoniemi, Mr. Edvard",
           3,
           "male"
          ],
          [
           "Connors, Mr. Patrick",
           3,
           "male"
          ],
          [
           "Turpin, Mr. William John Robert",
           2,
           "male"
          ],
          [
           "Baxter, Mr. Quigg Edmond",
           1,
           "male"
          ],
          [
           "Andersson, Miss. Ellis Anna Maria",
           3,
           "female"
          ],
          [
           "Hickman, Mr. Stanley George",
           2,
           "male"
          ],
          [
           "Moore, Mr. Leonard Charles",
           3,
           "male"
          ],
          [
           "Nasser, Mr. Nicholas",
           2,
           "male"
          ],
          [
           "Webber, Miss. Susan",
           2,
           "female"
          ],
          [
           "White, Mr. Percival Wayland",
           1,
           "male"
          ],
          [
           "Nicola-Yarred, Master. Elias",
           3,
           "male"
          ],
          [
           "McMahon, Mr. Martin",
           3,
           "male"
          ],
          [
           "Madsen, Mr. Fridtjof Arne",
           3,
           "male"
          ],
          [
           "Peter, Miss. Anna",
           3,
           "female"
          ],
          [
           "Ekstrom, Mr. Johan",
           3,
           "male"
          ],
          [
           "Drazenoic, Mr. Jozef",
           3,
           "male"
          ],
          [
           "Coelho, Mr. Domingos Fernandeo",
           3,
           "male"
          ],
          [
           "Robins, Mrs. Alexander A (Grace Charity Laury)",
           3,
           "female"
          ],
          [
           "Weisz, Mrs. Leopold (Mathilde Francoise Pede)",
           2,
           "female"
          ],
          [
           "Sobey, Mr. Samuel James Hayden",
           2,
           "male"
          ],
          [
           "Richard, Mr. Emile",
           2,
           "male"
          ],
          [
           "Newsom, Miss. Helen Monypeny",
           1,
           "female"
          ],
          [
           "Futrelle, Mr. Jacques Heath",
           1,
           "male"
          ],
          [
           "Osen, Mr. Olaf Elon",
           3,
           "male"
          ],
          [
           "Giglio, Mr. Victor",
           1,
           "male"
          ],
          [
           "Boulos, Mrs. Joseph (Sultana)",
           3,
           "female"
          ],
          [
           "Nysten, Miss. Anna Sofia",
           3,
           "female"
          ],
          [
           "Hakkarainen, Mrs. Pekka Pietari (Elin Matilda Dolck)",
           3,
           "female"
          ],
          [
           "Burke, Mr. Jeremiah",
           3,
           "male"
          ],
          [
           "Andrew, Mr. Edgardo Samuel",
           2,
           "male"
          ],
          [
           "Nicholls, Mr. Joseph Charles",
           2,
           "male"
          ],
          [
           "Andersson, Mr. August Edvard (\"Wennerstrom\")",
           3,
           "male"
          ],
          [
           "Ford, Miss. Robina Maggie \"Ruby\"",
           3,
           "female"
          ],
          [
           "Navratil, Mr. Michel (\"Louis M Hoffman\")",
           2,
           "male"
          ],
          [
           "Byles, Rev. Thomas Roussel Davids",
           2,
           "male"
          ],
          [
           "Bateman, Rev. Robert James",
           2,
           "male"
          ],
          [
           "Pears, Mrs. Thomas (Edith Wearne)",
           1,
           "female"
          ],
          [
           "Meo, Mr. Alfonzo",
           3,
           "male"
          ],
          [
           "van Billiard, Mr. Austin Blyler",
           3,
           "male"
          ],
          [
           "Olsen, Mr. Ole Martin",
           3,
           "male"
          ],
          [
           "Williams, Mr. Charles Duane",
           1,
           "male"
          ],
          [
           "Gilnagh, Miss. Katherine \"Katie\"",
           3,
           "female"
          ],
          [
           "Corn, Mr. Harry",
           3,
           "male"
          ],
          [
           "Smiljanic, Mr. Mile",
           3,
           "male"
          ],
          [
           "Sage, Master. Thomas Henry",
           3,
           "male"
          ],
          [
           "Cribb, Mr. John Hatfield",
           3,
           "male"
          ],
          [
           "Watt, Mrs. James (Elizabeth \"Bessie\" Inglis Milne)",
           2,
           "female"
          ],
          [
           "Bengtsson, Mr. John Viktor",
           3,
           "male"
          ],
          [
           "Calic, Mr. Jovo",
           3,
           "male"
          ],
          [
           "Panula, Master. Eino Viljami",
           3,
           "male"
          ],
          [
           "Goldsmith, Master. Frank John William \"Frankie\"",
           3,
           "male"
          ],
          [
           "Chibnall, Mrs. (Edith Martha Bowerman)",
           1,
           "female"
          ],
          [
           "Skoog, Mrs. William (Anna Bernhardina Karlsson)",
           3,
           "female"
          ],
          [
           "Baumann, Mr. John D",
           1,
           "male"
          ],
          [
           "Ling, Mr. Lee",
           3,
           "male"
          ],
          [
           "Van der hoef, Mr. Wyckoff",
           1,
           "male"
          ],
          [
           "Rice, Master. Arthur",
           3,
           "male"
          ],
          [
           "Johnson, Miss. Eleanor Ileen",
           3,
           "female"
          ],
          [
           "Sivola, Mr. Antti Wilhelm",
           3,
           "male"
          ],
          [
           "Smith, Mr. James Clinch",
           1,
           "male"
          ],
          [
           "Klasen, Mr. Klas Albin",
           3,
           "male"
          ],
          [
           "Lefebre, Master. Henry Forbes",
           3,
           "male"
          ],
          [
           "Isham, Miss. Ann Elizabeth",
           1,
           "female"
          ],
          [
           "Hale, Mr. Reginald",
           2,
           "male"
          ],
          [
           "Leonard, Mr. Lionel",
           3,
           "male"
          ],
          [
           "Sage, Miss. Constance Gladys",
           3,
           "female"
          ],
          [
           "Pernot, Mr. Rene",
           2,
           "male"
          ],
          [
           "Asplund, Master. Clarence Gustaf Hugo",
           3,
           "male"
          ],
          [
           "Becker, Master. Richard F",
           2,
           "male"
          ],
          [
           "Kink-Heilmann, Miss. Luise Gretchen",
           3,
           "female"
          ],
          [
           "Rood, Mr. Hugh Roscoe",
           1,
           "male"
          ],
          [
           "O'Brien, Mrs. Thomas (Johanna \"Hannah\" Godfrey)",
           3,
           "female"
          ],
          [
           "Romaine, Mr. Charles Hallace (\"Mr C Rolmane\")",
           1,
           "male"
          ],
          [
           "Bourke, Mr. John",
           3,
           "male"
          ],
          [
           "Turcin, Mr. Stjepan",
           3,
           "male"
          ],
          [
           "Pinsky, Mrs. (Rosa)",
           2,
           "female"
          ],
          [
           "Carbines, Mr. William",
           2,
           "male"
          ],
          [
           "Andersen-Jensen, Miss. Carla Christine Nielsine",
           3,
           "female"
          ],
          [
           "Navratil, Master. Michel M",
           2,
           "male"
          ],
          [
           "Brown, Mrs. James Joseph (Margaret Tobin)",
           1,
           "female"
          ],
          [
           "Lurette, Miss. Elise",
           1,
           "female"
          ],
          [
           "Mernagh, Mr. Robert",
           3,
           "male"
          ],
          [
           "Olsen, Mr. Karl Siegwart Andreas",
           3,
           "male"
          ],
          [
           "Madigan, Miss. Margaret \"Maggie\"",
           3,
           "female"
          ],
          [
           "Yrois, Miss. Henriette (\"Mrs Harbeck\")",
           2,
           "female"
          ],
          [
           "Vande Walle, Mr. Nestor Cyriel",
           3,
           "male"
          ],
          [
           "Sage, Mr. Frederick",
           3,
           "male"
          ],
          [
           "Johanson, Mr. Jakob Alfred",
           3,
           "male"
          ],
          [
           "Youseff, Mr. Gerious",
           3,
           "male"
          ],
          [
           "Cohen, Mr. Gurshon \"Gus\"",
           3,
           "male"
          ],
          [
           "Strom, Miss. Telma Matilda",
           3,
           "female"
          ],
          [
           "Backstrom, Mr. Karl Alfred",
           3,
           "male"
          ],
          [
           "Albimona, Mr. Nassef Cassem",
           3,
           "male"
          ],
          [
           "Carr, Miss. Helen \"Ellen\"",
           3,
           "female"
          ],
          [
           "Blank, Mr. Henry",
           1,
           "male"
          ],
          [
           "Ali, Mr. Ahmed",
           3,
           "male"
          ],
          [
           "Cameron, Miss. Clear Annie",
           2,
           "female"
          ],
          [
           "Perkin, Mr. John Henry",
           3,
           "male"
          ],
          [
           "Givard, Mr. Hans Kristensen",
           2,
           "male"
          ],
          [
           "Kiernan, Mr. Philip",
           3,
           "male"
          ],
          [
           "Newell, Miss. Madeleine",
           1,
           "female"
          ],
          [
           "Honkanen, Miss. Eliina",
           3,
           "female"
          ],
          [
           "Jacobsohn, Mr. Sidney Samuel",
           2,
           "male"
          ],
          [
           "Bazzani, Miss. Albina",
           1,
           "female"
          ],
          [
           "Harris, Mr. Walter",
           2,
           "male"
          ],
          [
           "Sunderland, Mr. Victor Francis",
           3,
           "male"
          ],
          [
           "Bracken, Mr. James H",
           2,
           "male"
          ],
          [
           "Green, Mr. George Henry",
           3,
           "male"
          ],
          [
           "Nenkoff, Mr. Christo",
           3,
           "male"
          ],
          [
           "Hoyt, Mr. Frederick Maxfield",
           1,
           "male"
          ],
          [
           "Berglund, Mr. Karl Ivar Sven",
           3,
           "male"
          ],
          [
           "Mellors, Mr. William John",
           2,
           "male"
          ],
          [
           "Lovell, Mr. John Hall (\"Henry\")",
           3,
           "male"
          ],
          [
           "Fahlstrom, Mr. Arne Jonas",
           2,
           "male"
          ],
          [
           "Lefebre, Miss. Mathilde",
           3,
           "female"
          ],
          [
           "Harris, Mrs. Henry Birkhardt (Irene Wallach)",
           1,
           "female"
          ],
          [
           "Larsson, Mr. Bengt Edvin",
           3,
           "male"
          ],
          [
           "Sjostedt, Mr. Ernst Adolf",
           2,
           "male"
          ],
          [
           "Asplund, Miss. Lillian Gertrud",
           3,
           "female"
          ],
          [
           "Leyson, Mr. Robert William Norman",
           2,
           "male"
          ],
          [
           "Harknett, Miss. Alice Phoebe",
           3,
           "female"
          ],
          [
           "Hold, Mr. Stephen",
           2,
           "male"
          ],
          [
           "Collyer, Miss. Marjorie \"Lottie\"",
           2,
           "female"
          ],
          [
           "Pengelly, Mr. Frederick William",
           2,
           "male"
          ],
          [
           "Hunt, Mr. George Henry",
           2,
           "male"
          ],
          [
           "Zabour, Miss. Thamine",
           3,
           "female"
          ],
          [
           "Murphy, Miss. Katherine \"Kate\"",
           3,
           "female"
          ],
          [
           "Coleridge, Mr. Reginald Charles",
           2,
           "male"
          ],
          [
           "Maenpaa, Mr. Matti Alexanteri",
           3,
           "male"
          ],
          [
           "Attalah, Mr. Sleiman",
           3,
           "male"
          ],
          [
           "Minahan, Dr. William Edward",
           1,
           "male"
          ],
          [
           "Lindahl, Miss. Agda Thorilda Viktoria",
           3,
           "female"
          ],
          [
           "Hamalainen, Mrs. William (Anna)",
           2,
           "female"
          ],
          [
           "Beckwith, Mr. Richard Leonard",
           1,
           "male"
          ],
          [
           "Carter, Rev. Ernest Courtenay",
           2,
           "male"
          ],
          [
           "Reed, Mr. James George",
           3,
           "male"
          ],
          [
           "Strom, Mrs. Wilhelm (Elna Matilda Persson)",
           3,
           "female"
          ],
          [
           "Stead, Mr. William Thomas",
           1,
           "male"
          ],
          [
           "Lobb, Mr. William Arthur",
           3,
           "male"
          ],
          [
           "Rosblom, Mrs. Viktor (Helena Wilhelmina)",
           3,
           "female"
          ],
          [
           "Touma, Mrs. Darwis (Hanne Youssef Razi)",
           3,
           "female"
          ],
          [
           "Thorne, Mrs. Gertrude Maybelle",
           1,
           "female"
          ],
          [
           "Cherry, Miss. Gladys",
           1,
           "female"
          ],
          [
           "Ward, Miss. Anna",
           1,
           "female"
          ],
          [
           "Parrish, Mrs. (Lutie Davis)",
           2,
           "female"
          ],
          [
           "Smith, Mr. Thomas",
           3,
           "male"
          ],
          [
           "Asplund, Master. Edvin Rojj Felix",
           3,
           "male"
          ],
          [
           "Taussig, Mr. Emil",
           1,
           "male"
          ],
          [
           "Harrison, Mr. William",
           1,
           "male"
          ],
          [
           "Henry, Miss. Delia",
           3,
           "female"
          ],
          [
           "Reeves, Mr. David",
           2,
           "male"
          ],
          [
           "Panula, Mr. Ernesti Arvid",
           3,
           "male"
          ],
          [
           "Persson, Mr. Ernst Ulrik",
           3,
           "male"
          ],
          [
           "Graham, Mrs. William Thompson (Edith Junkins)",
           1,
           "female"
          ],
          [
           "Bissette, Miss. Amelia",
           1,
           "female"
          ],
          [
           "Cairns, Mr. Alexander",
           1,
           "male"
          ],
          [
           "Tornquist, Mr. William Henry",
           3,
           "male"
          ],
          [
           "Mellinger, Mrs. (Elizabeth Anne Maidment)",
           2,
           "female"
          ],
          [
           "Natsch, Mr. Charles H",
           1,
           "male"
          ],
          [
           "Healy, Miss. Hanora \"Nora\"",
           3,
           "female"
          ],
          [
           "Andrews, Miss. Kornelia Theodosia",
           1,
           "female"
          ],
          [
           "Lindblom, Miss. Augusta Charlotta",
           3,
           "female"
          ],
          [
           "Parkes, Mr. Francis \"Frank\"",
           2,
           "male"
          ],
          [
           "Rice, Master. Eric",
           3,
           "male"
          ],
          [
           "Abbott, Mrs. Stanton (Rosa Hunt)",
           3,
           "female"
          ],
          [
           "Duane, Mr. Frank",
           3,
           "male"
          ],
          [
           "Olsson, Mr. Nils Johan Goransson",
           3,
           "male"
          ],
          [
           "de Pelsmaeker, Mr. Alfons",
           3,
           "male"
          ],
          [
           "Dorking, Mr. Edward Arthur",
           3,
           "male"
          ],
          [
           "Smith, Mr. Richard William",
           1,
           "male"
          ],
          [
           "Stankovic, Mr. Ivan",
           3,
           "male"
          ],
          [
           "de Mulder, Mr. Theodore",
           3,
           "male"
          ],
          [
           "Naidenoff, Mr. Penko",
           3,
           "male"
          ],
          [
           "Hosono, Mr. Masabumi",
           2,
           "male"
          ],
          [
           "Connolly, Miss. Kate",
           3,
           "female"
          ],
          [
           "Barber, Miss. Ellen \"Nellie\"",
           1,
           "female"
          ],
          [
           "Bishop, Mrs. Dickinson H (Helen Walton)",
           1,
           "female"
          ],
          [
           "Levy, Mr. Rene Jacques",
           2,
           "male"
          ],
          [
           "Haas, Miss. Aloisia",
           3,
           "female"
          ],
          [
           "Mineff, Mr. Ivan",
           3,
           "male"
          ],
          [
           "Lewy, Mr. Ervin G",
           1,
           "male"
          ],
          [
           "Hanna, Mr. Mansour",
           3,
           "male"
          ],
          [
           "Allison, Miss. Helen Loraine",
           1,
           "female"
          ],
          [
           "Saalfeld, Mr. Adolphe",
           1,
           "male"
          ],
          [
           "Baxter, Mrs. James (Helene DeLaudeniere Chaput)",
           1,
           "female"
          ],
          [
           "Kelly, Miss. Anna Katherine \"Annie Kate\"",
           3,
           "female"
          ],
          [
           "McCoy, Mr. Bernard",
           3,
           "male"
          ],
          [
           "Johnson, Mr. William Cahoone Jr",
           3,
           "male"
          ],
          [
           "Keane, Miss. Nora A",
           2,
           "female"
          ],
          [
           "Williams, Mr. Howard Hugh \"Harry\"",
           3,
           "male"
          ],
          [
           "Allison, Master. Hudson Trevor",
           1,
           "male"
          ],
          [
           "Fleming, Miss. Margaret",
           1,
           "female"
          ],
          [
           "Penasco y Castellana, Mrs. Victor de Satode (Maria Josefa Perez de Soto y Vallejo)",
           1,
           "female"
          ],
          [
           "Abelson, Mr. Samuel",
           2,
           "male"
          ],
          [
           "Francatelli, Miss. Laura Mabel",
           1,
           "female"
          ],
          [
           "Hays, Miss. Margaret Bechstein",
           1,
           "female"
          ],
          [
           "Ryerson, Miss. Emily Borie",
           1,
           "female"
          ],
          [
           "Lahtinen, Mrs. William (Anna Sylfven)",
           2,
           "female"
          ],
          [
           "Hendekovic, Mr. Ignjac",
           3,
           "male"
          ],
          [
           "Hart, Mr. Benjamin",
           2,
           "male"
          ],
          [
           "Nilsson, Miss. Helmina Josefina",
           3,
           "female"
          ],
          [
           "Kantor, Mrs. Sinai (Miriam Sternin)",
           2,
           "female"
          ],
          [
           "Moraweck, Dr. Ernest",
           2,
           "male"
          ],
          [
           "Wick, Miss. Mary Natalie",
           1,
           "female"
          ],
          [
           "Spedden, Mrs. Frederic Oakley (Margaretta Corning Stone)",
           1,
           "female"
          ],
          [
           "Dennis, Mr. Samuel",
           3,
           "male"
          ],
          [
           "Danoff, Mr. Yoto",
           3,
           "male"
          ],
          [
           "Slayter, Miss. Hilda Mary",
           2,
           "female"
          ],
          [
           "Caldwell, Mrs. Albert Francis (Sylvia Mae Harbaugh)",
           2,
           "female"
          ],
          [
           "Sage, Mr. George John Jr",
           3,
           "male"
          ],
          [
           "Young, Miss. Marie Grice",
           1,
           "female"
          ],
          [
           "Nysveen, Mr. Johan Hansen",
           3,
           "male"
          ],
          [
           "Ball, Mrs. (Ada E Hall)",
           2,
           "female"
          ],
          [
           "Goldsmith, Mrs. Frank John (Emily Alice Brown)",
           3,
           "female"
          ],
          [
           "Hippach, Miss. Jean Gertrude",
           1,
           "female"
          ],
          [
           "McCoy, Miss. Agnes",
           3,
           "female"
          ],
          [
           "Partner, Mr. Austen",
           1,
           "male"
          ],
          [
           "Graham, Mr. George Edward",
           1,
           "male"
          ],
          [
           "Vander Planke, Mr. Leo Edmondus",
           3,
           "male"
          ],
          [
           "Frauenthal, Mrs. Henry William (Clara Heinsheimer)",
           1,
           "female"
          ],
          [
           "Denkoff, Mr. Mitto",
           3,
           "male"
          ],
          [
           "Pears, Mr. Thomas Clinton",
           1,
           "male"
          ],
          [
           "Burns, Miss. Elizabeth Margaret",
           1,
           "female"
          ],
          [
           "Dahl, Mr. Karl Edwart",
           3,
           "male"
          ],
          [
           "Blackwell, Mr. Stephen Weart",
           1,
           "male"
          ],
          [
           "Navratil, Master. Edmond Roger",
           2,
           "male"
          ],
          [
           "Fortune, Miss. Alice Elizabeth",
           1,
           "female"
          ],
          [
           "Collander, Mr. Erik Gustaf",
           2,
           "male"
          ],
          [
           "Sedgwick, Mr. Charles Frederick Waddington",
           2,
           "male"
          ],
          [
           "Fox, Mr. Stanley Hubert",
           2,
           "male"
          ],
          [
           "Brown, Miss. Amelia \"Mildred\"",
           2,
           "female"
          ],
          [
           "Smith, Miss. Marion Elsie",
           2,
           "female"
          ],
          [
           "Davison, Mrs. Thomas Henry (Mary E Finck)",
           3,
           "female"
          ],
          [
           "Coutts, Master. William Loch \"William\"",
           3,
           "male"
          ],
          [
           "Dimic, Mr. Jovan",
           3,
           "male"
          ],
          [
           "Odahl, Mr. Nils Martin",
           3,
           "male"
          ],
          [
           "Williams-Lambert, Mr. Fletcher Fellows",
           1,
           "male"
          ],
          [
           "Elias, Mr. Tannous",
           3,
           "male"
          ],
          [
           "Arnold-Franchi, Mr. Josef",
           3,
           "male"
          ],
          [
           "Yousif, Mr. Wazli",
           3,
           "male"
          ],
          [
           "Vanden Steen, Mr. Leo Peter",
           3,
           "male"
          ],
          [
           "Bowerman, Miss. Elsie Edith",
           1,
           "female"
          ],
          [
           "Funk, Miss. Annie Clemmer",
           2,
           "female"
          ],
          [
           "McGovern, Miss. Mary",
           3,
           "female"
          ],
          [
           "Mockler, Miss. Helen Mary \"Ellie\"",
           3,
           "female"
          ],
          [
           "Skoog, Mr. Wilhelm",
           3,
           "male"
          ],
          [
           "del Carlo, Mr. Sebastiano",
           2,
           "male"
          ],
          [
           "Barbara, Mrs. (Catherine David)",
           3,
           "female"
          ],
          [
           "Asim, Mr. Adola",
           3,
           "male"
          ],
          [
           "O'Brien, Mr. Thomas",
           3,
           "male"
          ],
          [
           "Adahl, Mr. Mauritz Nils Martin",
           3,
           "male"
          ],
          [
           "Warren, Mrs. Frank Manley (Anna Sophia Atkinson)",
           1,
           "female"
          ],
          [
           "Moussa, Mrs. (Mantoura Boulos)",
           3,
           "female"
          ],
          [
           "Jermyn, Miss. Annie",
           3,
           "female"
          ],
          [
           "Aubart, Mme. Leontine Pauline",
           1,
           "female"
          ],
          [
           "Harder, Mr. George Achilles",
           1,
           "male"
          ],
          [
           "Wiklund, Mr. Jakob Alfred",
           3,
           "male"
          ],
          [
           "Beavan, Mr. William Thomas",
           3,
           "male"
          ],
          [
           "Ringhini, Mr. Sante",
           1,
           "male"
          ],
          [
           "Palsson, Miss. Stina Viola",
           3,
           "female"
          ],
          [
           "Meyer, Mrs. Edgar Joseph (Leila Saks)",
           1,
           "female"
          ],
          [
           "Landergren, Miss. Aurora Adelia",
           3,
           "female"
          ],
          [
           "Widener, Mr. Harry Elkins",
           1,
           "male"
          ],
          [
           "Betros, Mr. Tannous",
           3,
           "male"
          ],
          [
           "Gustafsson, Mr. Karl Gideon",
           3,
           "male"
          ],
          [
           "Bidois, Miss. Rosalie",
           1,
           "female"
          ],
          [
           "Nakid, Miss. Maria (\"Mary\")",
           3,
           "female"
          ],
          [
           "Tikkanen, Mr. Juho",
           3,
           "male"
          ],
          [
           "Holverson, Mrs. Alexander Oskar (Mary Aline Towner)",
           1,
           "female"
          ],
          [
           "Plotcharsky, Mr. Vasil",
           3,
           "male"
          ],
          [
           "Davies, Mr. Charles Henry",
           2,
           "male"
          ],
          [
           "Goodwin, Master. Sidney Leonard",
           3,
           "male"
          ],
          [
           "Buss, Miss. Kate",
           2,
           "female"
          ],
          [
           "Sadlier, Mr. Matthew",
           3,
           "male"
          ],
          [
           "Lehmann, Miss. Bertha",
           2,
           "female"
          ],
          [
           "Carter, Mr. William Ernest",
           1,
           "male"
          ],
          [
           "Jansson, Mr. Carl Olof",
           3,
           "male"
          ],
          [
           "Gustafsson, Mr. Johan Birger",
           3,
           "male"
          ],
          [
           "Newell, Miss. Marjorie",
           1,
           "female"
          ],
          [
           "Sandstrom, Mrs. Hjalmar (Agnes Charlotta Bengtsson)",
           3,
           "female"
          ],
          [
           "Johansson, Mr. Erik",
           3,
           "male"
          ],
          [
           "Olsson, Miss. Elina",
           3,
           "female"
          ],
          [
           "McKane, Mr. Peter David",
           2,
           "male"
          ],
          [
           "Pain, Dr. Alfred",
           2,
           "male"
          ],
          [
           "Trout, Mrs. William H (Jessie L)",
           2,
           "female"
          ],
          [
           "Niskanen, Mr. Juha",
           3,
           "male"
          ],
          [
           "Adams, Mr. John",
           3,
           "male"
          ],
          [
           "Jussila, Miss. Mari Aina",
           3,
           "female"
          ],
          [
           "Hakkarainen, Mr. Pekka Pietari",
           3,
           "male"
          ],
          [
           "Oreskovic, Miss. Marija",
           3,
           "female"
          ],
          [
           "Gale, Mr. Shadrach",
           2,
           "male"
          ],
          [
           "Widegren, Mr. Carl/Charles Peter",
           3,
           "male"
          ],
          [
           "Richards, Master. William Rowe",
           2,
           "male"
          ],
          [
           "Birkeland, Mr. Hans Martin Monsen",
           3,
           "male"
          ],
          [
           "Lefebre, Miss. Ida",
           3,
           "female"
          ],
          [
           "Sdycoff, Mr. Todor",
           3,
           "male"
          ],
          [
           "Hart, Mr. Henry",
           3,
           "male"
          ],
          [
           "Minahan, Miss. Daisy E",
           1,
           "female"
          ],
          [
           "Cunningham, Mr. Alfred Fleming",
           2,
           "male"
          ],
          [
           "Sundman, Mr. Johan Julian",
           3,
           "male"
          ],
          [
           "Meek, Mrs. Thomas (Annie Louise Rowley)",
           3,
           "female"
          ],
          [
           "Drew, Mrs. James Vivian (Lulu Thorne Christian)",
           2,
           "female"
          ],
          [
           "Silven, Miss. Lyyli Karoliina",
           2,
           "female"
          ],
          [
           "Matthews, Mr. William John",
           2,
           "male"
          ],
          [
           "Van Impe, Miss. Catharina",
           3,
           "female"
          ],
          [
           "Gheorgheff, Mr. Stanio",
           3,
           "male"
          ],
          [
           "Charters, Mr. David",
           3,
           "male"
          ],
          [
           "Zimmerman, Mr. Leo",
           3,
           "male"
          ],
          [
           "Danbom, Mrs. Ernst Gilbert (Anna Sigrid Maria Brogren)",
           3,
           "female"
          ],
          [
           "Rosblom, Mr. Viktor Richard",
           3,
           "male"
          ],
          [
           "Wiseman, Mr. Phillippe",
           3,
           "male"
          ],
          [
           "Clarke, Mrs. Charles V (Ada Maria Winfield)",
           2,
           "female"
          ],
          [
           "Phillips, Miss. Kate Florence (\"Mrs Kate Louise Phillips Marshall\")",
           2,
           "female"
          ],
          [
           "Flynn, Mr. James",
           3,
           "male"
          ],
          [
           "Pickard, Mr. Berk (Berk Trembisky)",
           3,
           "male"
          ],
          [
           "Bjornstrom-Steffansson, Mr. Mauritz Hakan",
           1,
           "male"
          ],
          [
           "Thorneycroft, Mrs. Percival (Florence Kate White)",
           3,
           "female"
          ],
          [
           "Louch, Mrs. Charles Alexander (Alice Adelaide Slow)",
           2,
           "female"
          ],
          [
           "Kallio, Mr. Nikolai Erland",
           3,
           "male"
          ],
          [
           "Silvey, Mr. William Baird",
           1,
           "male"
          ],
          [
           "Carter, Miss. Lucile Polk",
           1,
           "female"
          ],
          [
           "Ford, Miss. Doolina Margaret \"Daisy\"",
           3,
           "female"
          ],
          [
           "Richards, Mrs. Sidney (Emily Hocking)",
           2,
           "female"
          ],
          [
           "Fortune, Mr. Mark",
           1,
           "male"
          ],
          [
           "Kvillner, Mr. Johan Henrik Johannesson",
           2,
           "male"
          ],
          [
           "Hart, Mrs. Benjamin (Esther Ada Bloomfield)",
           2,
           "female"
          ],
          [
           "Hampe, Mr. Leon",
           3,
           "male"
          ],
          [
           "Petterson, Mr. Johan Emil",
           3,
           "male"
          ],
          [
           "Reynaldo, Ms. Encarnacion",
           2,
           "female"
          ],
          [
           "Johannesen-Bratthammer, Mr. Bernt",
           3,
           "male"
          ],
          [
           "Dodge, Master. Washington",
           1,
           "male"
          ],
          [
           "Mellinger, Miss. Madeleine Violet",
           2,
           "female"
          ],
          [
           "Seward, Mr. Frederic Kimber",
           1,
           "male"
          ],
          [
           "Baclini, Miss. Marie Catherine",
           3,
           "female"
          ],
          [
           "Peuchen, Major. Arthur Godfrey",
           1,
           "male"
          ],
          [
           "West, Mr. Edwy Arthur",
           2,
           "male"
          ],
          [
           "Hagland, Mr. Ingvald Olai Olsen",
           3,
           "male"
          ],
          [
           "Foreman, Mr. Benjamin Laventall",
           1,
           "male"
          ],
          [
           "Goldenberg, Mr. Samuel L",
           1,
           "male"
          ],
          [
           "Peduzzi, Mr. Joseph",
           3,
           "male"
          ],
          [
           "Jalsevac, Mr. Ivan",
           3,
           "male"
          ],
          [
           "Millet, Mr. Francis Davis",
           1,
           "male"
          ],
          [
           "Kenyon, Mrs. Frederick R (Marion)",
           1,
           "female"
          ],
          [
           "Toomey, Miss. Ellen",
           2,
           "female"
          ],
          [
           "O'Connor, Mr. Maurice",
           3,
           "male"
          ],
          [
           "Anderson, Mr. Harry",
           1,
           "male"
          ],
          [
           "Morley, Mr. William",
           3,
           "male"
          ],
          [
           "Gee, Mr. Arthur H",
           1,
           "male"
          ],
          [
           "Milling, Mr. Jacob Christian",
           2,
           "male"
          ],
          [
           "Maisner, Mr. Simon",
           3,
           "male"
          ],
          [
           "Goncalves, Mr. Manuel Estanslas",
           3,
           "male"
          ],
          [
           "Campbell, Mr. William",
           2,
           "male"
          ],
          [
           "Smart, Mr. John Montgomery",
           1,
           "male"
          ],
          [
           "Scanlan, Mr. James",
           3,
           "male"
          ],
          [
           "Baclini, Miss. Helene Barbara",
           3,
           "female"
          ],
          [
           "Keefe, Mr. Arthur",
           3,
           "male"
          ],
          [
           "Cacic, Mr. Luka",
           3,
           "male"
          ],
          [
           "West, Mrs. Edwy Arthur (Ada Mary Worth)",
           2,
           "female"
          ],
          [
           "Jerwan, Mrs. Amin S (Marie Marthe Thuillard)",
           2,
           "female"
          ],
          [
           "Strandberg, Miss. Ida Sofia",
           3,
           "female"
          ],
          [
           "Clifford, Mr. George Quincy",
           1,
           "male"
          ],
          [
           "Renouf, Mr. Peter Henry",
           2,
           "male"
          ],
          [
           "Braund, Mr. Lewis Richard",
           3,
           "male"
          ],
          [
           "Karlsson, Mr. Nils August",
           3,
           "male"
          ],
          [
           "Hirvonen, Miss. Hildur E",
           3,
           "female"
          ],
          [
           "Goodwin, Master. Harold Victor",
           3,
           "male"
          ],
          [
           "Frost, Mr. Anthony Wood \"Archie\"",
           2,
           "male"
          ],
          [
           "Rouse, Mr. Richard Henry",
           3,
           "male"
          ],
          [
           "Turkula, Mrs. (Hedwig)",
           3,
           "female"
          ],
          [
           "Bishop, Mr. Dickinson H",
           1,
           "male"
          ],
          [
           "Lefebre, Miss. Jeannie",
           3,
           "female"
          ],
          [
           "Hoyt, Mrs. Frederick Maxfield (Jane Anne Forby)",
           1,
           "female"
          ],
          [
           "Kent, Mr. Edward Austin",
           1,
           "male"
          ],
          [
           "Somerton, Mr. Francis William",
           3,
           "male"
          ],
          [
           "Coutts, Master. Eden Leslie \"Neville\"",
           3,
           "male"
          ],
          [
           "Hagland, Mr. Konrad Mathias Reiersen",
           3,
           "male"
          ],
          [
           "Windelov, Mr. Einar",
           3,
           "male"
          ],
          [
           "Molson, Mr. Harry Markland",
           1,
           "male"
          ],
          [
           "Artagaveytia, Mr. Ramon",
           1,
           "male"
          ],
          [
           "Stanley, Mr. Edward Roland",
           3,
           "male"
          ],
          [
           "Yousseff, Mr. Gerious",
           3,
           "male"
          ],
          [
           "Eustis, Miss. Elizabeth Mussey",
           1,
           "female"
          ],
          [
           "Shellard, Mr. Frederick William",
           3,
           "male"
          ],
          [
           "Allison, Mrs. Hudson J C (Bessie Waldo Daniels)",
           1,
           "female"
          ],
          [
           "Svensson, Mr. Olof",
           3,
           "male"
          ],
          [
           "Calic, Mr. Petar",
           3,
           "male"
          ],
          [
           "Canavan, Miss. Mary",
           3,
           "female"
          ],
          [
           "O'Sullivan, Miss. Bridget Mary",
           3,
           "female"
          ],
          [
           "Laitinen, Miss. Kristina Sofia",
           3,
           "female"
          ],
          [
           "Maioni, Miss. Roberta",
           1,
           "female"
          ],
          [
           "Penasco y Castellana, Mr. Victor de Satode",
           1,
           "male"
          ],
          [
           "Quick, Mrs. Frederick Charles (Jane Richards)",
           2,
           "female"
          ],
          [
           "Bradley, Mr. George (\"George Arthur Brayton\")",
           1,
           "male"
          ],
          [
           "Olsen, Mr. Henry Margido",
           3,
           "male"
          ],
          [
           "Lang, Mr. Fang",
           3,
           "male"
          ],
          [
           "Daly, Mr. Eugene Patrick",
           3,
           "male"
          ],
          [
           "Webber, Mr. James",
           3,
           "male"
          ],
          [
           "McGough, Mr. James Robert",
           1,
           "male"
          ],
          [
           "Rothschild, Mrs. Martin (Elizabeth L. Barrett)",
           1,
           "female"
          ],
          [
           "Coleff, Mr. Satio",
           3,
           "male"
          ],
          [
           "Walker, Mr. William Anderson",
           1,
           "male"
          ],
          [
           "Lemore, Mrs. (Amelia Milley)",
           2,
           "female"
          ],
          [
           "Ryan, Mr. Patrick",
           3,
           "male"
          ],
          [
           "Angle, Mrs. William A (Florence \"Mary\" Agnes Hughes)",
           2,
           "female"
          ],
          [
           "Pavlovic, Mr. Stefo",
           3,
           "male"
          ],
          [
           "Perreault, Miss. Anne",
           1,
           "female"
          ],
          [
           "Vovk, Mr. Janko",
           3,
           "male"
          ],
          [
           "Lahoud, Mr. Sarkis",
           3,
           "male"
          ],
          [
           "Hippach, Mrs. Louis Albert (Ida Sophia Fischer)",
           1,
           "female"
          ],
          [
           "Kassem, Mr. Fared",
           3,
           "male"
          ],
          [
           "Farrell, Mr. James",
           3,
           "male"
          ],
          [
           "Ridsdale, Miss. Lucy",
           2,
           "female"
          ],
          [
           "Farthing, Mr. John",
           1,
           "male"
          ],
          [
           "Salonen, Mr. Johan Werner",
           3,
           "male"
          ],
          [
           "Hocking, Mr. Richard George",
           2,
           "male"
          ],
          [
           "Quick, Miss. Phyllis May",
           2,
           "female"
          ],
          [
           "Toufik, Mr. Nakli",
           3,
           "male"
          ],
          [
           "Elias, Mr. Joseph Jr",
           3,
           "male"
          ],
          [
           "Peter, Mrs. Catherine (Catherine Rizk)",
           3,
           "female"
          ],
          [
           "Cacic, Miss. Marija",
           3,
           "female"
          ],
          [
           "Hart, Miss. Eva Miriam",
           2,
           "female"
          ],
          [
           "Butt, Major. Archibald Willingham",
           1,
           "male"
          ],
          [
           "LeRoy, Miss. Bertha",
           1,
           "female"
          ],
          [
           "Risien, Mr. Samuel Beard",
           3,
           "male"
          ],
          [
           "Frolicher, Miss. Hedwig Margaritha",
           1,
           "female"
          ],
          [
           "Crosby, Miss. Harriet R",
           1,
           "female"
          ],
          [
           "Andersson, Miss. Ingeborg Constanzia",
           3,
           "female"
          ],
          [
           "Andersson, Miss. Sigrid Elisabeth",
           3,
           "female"
          ],
          [
           "Beane, Mr. Edward",
           2,
           "male"
          ],
          [
           "Douglas, Mr. Walter Donald",
           1,
           "male"
          ],
          [
           "Nicholson, Mr. Arthur Ernest",
           1,
           "male"
          ],
          [
           "Beane, Mrs. Edward (Ethel Clarke)",
           2,
           "female"
          ],
          [
           "Padro y Manent, Mr. Julian",
           2,
           "male"
          ],
          [
           "Goldsmith, Mr. Frank John",
           3,
           "male"
          ],
          [
           "Davies, Master. John Morgan Jr",
           2,
           "male"
          ],
          [
           "Thayer, Mr. John Borland Jr",
           1,
           "male"
          ],
          [
           "Sharp, Mr. Percival James R",
           2,
           "male"
          ],
          [
           "O'Brien, Mr. Timothy",
           3,
           "male"
          ],
          [
           "Leeni, Mr. Fahim (\"Philip Zenni\")",
           3,
           "male"
          ],
          [
           "Ohman, Miss. Velin",
           3,
           "female"
          ],
          [
           "Wright, Mr. George",
           1,
           "male"
          ],
          [
           "Duff Gordon, Lady. (Lucille Christiana Sutherland) (\"Mrs Morgan\")",
           1,
           "female"
          ],
          [
           "Robbins, Mr. Victor",
           1,
           "male"
          ],
          [
           "Taussig, Mrs. Emil (Tillie Mandelbaum)",
           1,
           "female"
          ],
          [
           "de Messemaeker, Mrs. Guillaume Joseph (Emma)",
           3,
           "female"
          ],
          [
           "Morrow, Mr. Thomas Rowan",
           3,
           "male"
          ],
          [
           "Sivic, Mr. Husein",
           3,
           "male"
          ],
          [
           "Norman, Mr. Robert Douglas",
           2,
           "male"
          ],
          [
           "Simmons, Mr. John",
           3,
           "male"
          ],
          [
           "Meanwell, Miss. (Marion Ogden)",
           3,
           "female"
          ],
          [
           "Davies, Mr. Alfred J",
           3,
           "male"
          ],
          [
           "Stoytcheff, Mr. Ilia",
           3,
           "male"
          ],
          [
           "Palsson, Mrs. Nils (Alma Cornelia Berglund)",
           3,
           "female"
          ],
          [
           "Doharr, Mr. Tannous",
           3,
           "male"
          ],
          [
           "Jonsson, Mr. Carl",
           3,
           "male"
          ],
          [
           "Harris, Mr. George",
           2,
           "male"
          ],
          [
           "Appleton, Mrs. Edward Dale (Charlotte Lamson)",
           1,
           "female"
          ],
          [
           "Flynn, Mr. John Irwin (\"Irving\")",
           1,
           "male"
          ],
          [
           "Kelly, Miss. Mary",
           3,
           "female"
          ],
          [
           "Rush, Mr. Alfred George John",
           3,
           "male"
          ],
          [
           "Patchett, Mr. George",
           3,
           "male"
          ],
          [
           "Garside, Miss. Ethel",
           2,
           "female"
          ],
          [
           "Silvey, Mrs. William Baird (Alice Munger)",
           1,
           "female"
          ],
          [
           "Caram, Mrs. Joseph (Maria Elias)",
           3,
           "female"
          ],
          [
           "Jussila, Mr. Eiriik",
           3,
           "male"
          ],
          [
           "Christy, Miss. Julie Rachel",
           2,
           "female"
          ],
          [
           "Thayer, Mrs. John Borland (Marian Longstreth Morris)",
           1,
           "female"
          ],
          [
           "Downton, Mr. William James",
           2,
           "male"
          ],
          [
           "Ross, Mr. John Hugo",
           1,
           "male"
          ],
          [
           "Paulner, Mr. Uscher",
           3,
           "male"
          ],
          [
           "Taussig, Miss. Ruth",
           1,
           "female"
          ],
          [
           "Jarvis, Mr. John Denzil",
           2,
           "male"
          ],
          [
           "Frolicher-Stehli, Mr. Maxmillian",
           1,
           "male"
          ],
          [
           "Gilinski, Mr. Eliezer",
           3,
           "male"
          ],
          [
           "Murdlin, Mr. Joseph",
           3,
           "male"
          ],
          [
           "Rintamaki, Mr. Matti",
           3,
           "male"
          ],
          [
           "Stephenson, Mrs. Walter Bertram (Martha Eustis)",
           1,
           "female"
          ],
          [
           "Elsbury, Mr. William James",
           3,
           "male"
          ],
          [
           "Bourke, Miss. Mary",
           3,
           "female"
          ],
          [
           "Chapman, Mr. John Henry",
           2,
           "male"
          ],
          [
           "Van Impe, Mr. Jean Baptiste",
           3,
           "male"
          ],
          [
           "Leitch, Miss. Jessie Wills",
           2,
           "female"
          ],
          [
           "Johnson, Mr. Alfred",
           3,
           "male"
          ],
          [
           "Boulos, Mr. Hanna",
           3,
           "male"
          ],
          [
           "Duff Gordon, Sir. Cosmo Edmund (\"Mr Morgan\")",
           1,
           "male"
          ],
          [
           "Jacobsohn, Mrs. Sidney Samuel (Amy Frances Christy)",
           2,
           "female"
          ],
          [
           "Slabenoff, Mr. Petco",
           3,
           "male"
          ],
          [
           "Harrington, Mr. Charles H",
           1,
           "male"
          ],
          [
           "Torber, Mr. Ernst William",
           3,
           "male"
          ],
          [
           "Homer, Mr. Harry (\"Mr E Haven\")",
           1,
           "male"
          ],
          [
           "Lindell, Mr. Edvard Bengtsson",
           3,
           "male"
          ],
          [
           "Karaic, Mr. Milan",
           3,
           "male"
          ],
          [
           "Daniel, Mr. Robert Williams",
           1,
           "male"
          ],
          [
           "Laroche, Mrs. Joseph (Juliette Marie Louise Lafargue)",
           2,
           "female"
          ],
          [
           "Shutes, Miss. Elizabeth W",
           1,
           "female"
          ],
          [
           "Andersson, Mrs. Anders Johan (Alfrida Konstantia Brogren)",
           3,
           "female"
          ],
          [
           "Jardin, Mr. Jose Neto",
           3,
           "male"
          ],
          [
           "Murphy, Miss. Margaret Jane",
           3,
           "female"
          ],
          [
           "Horgan, Mr. John",
           3,
           "male"
          ],
          [
           "Brocklebank, Mr. William Alfred",
           3,
           "male"
          ],
          [
           "Herman, Miss. Alice",
           2,
           "female"
          ],
          [
           "Danbom, Mr. Ernst Gilbert",
           3,
           "male"
          ],
          [
           "Lobb, Mrs. William Arthur (Cordelia K Stanlick)",
           3,
           "female"
          ],
          [
           "Becker, Miss. Marion Louise",
           2,
           "female"
          ],
          [
           "Gavey, Mr. Lawrence",
           2,
           "male"
          ],
          [
           "Yasbeck, Mr. Antoni",
           3,
           "male"
          ],
          [
           "Kimball, Mr. Edwin Nelson Jr",
           1,
           "male"
          ],
          [
           "Nakid, Mr. Sahid",
           3,
           "male"
          ],
          [
           "Hansen, Mr. Henry Damsgaard",
           3,
           "male"
          ],
          [
           "Bowen, Mr. David John \"Dai\"",
           3,
           "male"
          ],
          [
           "Sutton, Mr. Frederick",
           1,
           "male"
          ],
          [
           "Kirkland, Rev. Charles Leonard",
           2,
           "male"
          ],
          [
           "Longley, Miss. Gretchen Fiske",
           1,
           "female"
          ],
          [
           "Bostandyeff, Mr. Guentcho",
           3,
           "male"
          ],
          [
           "O'Connell, Mr. Patrick D",
           3,
           "male"
          ],
          [
           "Barkworth, Mr. Algernon Henry Wilson",
           1,
           "male"
          ],
          [
           "Lundahl, Mr. Johan Svensson",
           3,
           "male"
          ],
          [
           "Stahelin-Maeglin, Dr. Max",
           1,
           "male"
          ],
          [
           "Parr, Mr. William Henry Marsh",
           1,
           "male"
          ],
          [
           "Skoog, Miss. Mabel",
           3,
           "female"
          ],
          [
           "Davis, Miss. Mary",
           2,
           "female"
          ],
          [
           "Leinonen, Mr. Antti Gustaf",
           3,
           "male"
          ],
          [
           "Collyer, Mr. Harvey",
           2,
           "male"
          ],
          [
           "Panula, Mrs. Juha (Maria Emilia Ojala)",
           3,
           "female"
          ],
          [
           "Thorneycroft, Mr. Percival",
           3,
           "male"
          ],
          [
           "Jensen, Mr. Hans Peder",
           3,
           "male"
          ],
          [
           "Sagesser, Mlle. Emma",
           1,
           "female"
          ],
          [
           "Skoog, Miss. Margit Elizabeth",
           3,
           "female"
          ],
          [
           "Foo, Mr. Choong",
           3,
           "male"
          ],
          [
           "Baclini, Miss. Eugenie",
           3,
           "female"
          ],
          [
           "Harper, Mr. Henry Sleeper",
           1,
           "male"
          ],
          [
           "Cor, Mr. Liudevit",
           3,
           "male"
          ],
          [
           "Simonius-Blumer, Col. Oberst Alfons",
           1,
           "male"
          ],
          [
           "Willey, Mr. Edward",
           3,
           "male"
          ],
          [
           "Stanley, Miss. Amy Zillah Elsie",
           3,
           "female"
          ],
          [
           "Mitkoff, Mr. Mito",
           3,
           "male"
          ],
          [
           "Doling, Miss. Elsie",
           2,
           "female"
          ],
          [
           "Kalvik, Mr. Johannes Halvorsen",
           3,
           "male"
          ],
          [
           "O'Leary, Miss. Hanora \"Norah\"",
           3,
           "female"
          ],
          [
           "Hegarty, Miss. Hanora \"Nora\"",
           3,
           "female"
          ],
          [
           "Hickman, Mr. Leonard Mark",
           2,
           "male"
          ],
          [
           "Radeff, Mr. Alexander",
           3,
           "male"
          ],
          [
           "Bourke, Mrs. John (Catherine)",
           3,
           "female"
          ],
          [
           "Eitemiller, Mr. George Floyd",
           2,
           "male"
          ],
          [
           "Newell, Mr. Arthur Webster",
           1,
           "male"
          ],
          [
           "Frauenthal, Dr. Henry William",
           1,
           "male"
          ],
          [
           "Badt, Mr. Mohamed",
           3,
           "male"
          ],
          [
           "Colley, Mr. Edward Pomeroy",
           1,
           "male"
          ],
          [
           "Coleff, Mr. Peju",
           3,
           "male"
          ],
          [
           "Lindqvist, Mr. Eino William",
           3,
           "male"
          ],
          [
           "Hickman, Mr. Lewis",
           2,
           "male"
          ],
          [
           "Butler, Mr. Reginald Fenton",
           2,
           "male"
          ],
          [
           "Rommetvedt, Mr. Knud Paust",
           3,
           "male"
          ],
          [
           "Cook, Mr. Jacob",
           3,
           "male"
          ],
          [
           "Taylor, Mrs. Elmer Zebley (Juliet Cummins Wright)",
           1,
           "female"
          ],
          [
           "Brown, Mrs. Thomas William Solomon (Elizabeth Catherine Ford)",
           2,
           "female"
          ],
          [
           "Davidson, Mr. Thornton",
           1,
           "male"
          ],
          [
           "Mitchell, Mr. Henry Michael",
           2,
           "male"
          ],
          [
           "Wilhelms, Mr. Charles",
           2,
           "male"
          ],
          [
           "Watson, Mr. Ennis Hastings",
           2,
           "male"
          ],
          [
           "Edvardsson, Mr. Gustaf Hjalmar",
           3,
           "male"
          ],
          [
           "Sawyer, Mr. Frederick Charles",
           3,
           "male"
          ],
          [
           "Turja, Miss. Anna Sofia",
           3,
           "female"
          ],
          [
           "Goodwin, Mrs. Frederick (Augusta Tyler)",
           3,
           "female"
          ],
          [
           "Cardeza, Mr. Thomas Drake Martinez",
           1,
           "male"
          ],
          [
           "Peters, Miss. Katie",
           3,
           "female"
          ],
          [
           "Hassab, Mr. Hammad",
           1,
           "male"
          ],
          [
           "Olsvigen, Mr. Thor Anderson",
           3,
           "male"
          ],
          [
           "Goodwin, Mr. Charles Edward",
           3,
           "male"
          ],
          [
           "Brown, Mr. Thomas William Solomon",
           2,
           "male"
          ],
          [
           "Laroche, Mr. Joseph Philippe Lemercier",
           2,
           "male"
          ],
          [
           "Panula, Mr. Jaako Arnold",
           3,
           "male"
          ],
          [
           "Dakic, Mr. Branko",
           3,
           "male"
          ],
          [
           "Fischer, Mr. Eberhard Thelander",
           3,
           "male"
          ],
          [
           "Madill, Miss. Georgette Alexandra",
           1,
           "female"
          ],
          [
           "Dick, Mr. Albert Adrian",
           1,
           "male"
          ],
          [
           "Karun, Miss. Manca",
           3,
           "female"
          ],
          [
           "Lam, Mr. Ali",
           3,
           "male"
          ],
          [
           "Saad, Mr. Khalil",
           3,
           "male"
          ],
          [
           "Weir, Col. John",
           1,
           "male"
          ],
          [
           "Chapman, Mr. Charles Henry",
           2,
           "male"
          ],
          [
           "Kelly, Mr. James",
           3,
           "male"
          ],
          [
           "Mullens, Miss. Katherine \"Katie\"",
           3,
           "female"
          ],
          [
           "Thayer, Mr. John Borland",
           1,
           "male"
          ],
          [
           "Humblen, Mr. Adolf Mathias Nicolai Olsen",
           3,
           "male"
          ],
          [
           "Astor, Mrs. John Jacob (Madeleine Talmadge Force)",
           1,
           "female"
          ],
          [
           "Silverthorne, Mr. Spencer Victor",
           1,
           "male"
          ],
          [
           "Barbara, Miss. Saiide",
           3,
           "female"
          ],
          [
           "Gallagher, Mr. Martin",
           3,
           "male"
          ],
          [
           "Hansen, Mr. Henrik Juul",
           3,
           "male"
          ],
          [
           "Morley, Mr. Henry Samuel (\"Mr Henry Marshall\")",
           2,
           "male"
          ],
          [
           "Kelly, Mrs. Florence \"Fannie\"",
           2,
           "female"
          ],
          [
           "Calderhead, Mr. Edward Pennington",
           1,
           "male"
          ],
          [
           "Cleaver, Miss. Alice",
           1,
           "female"
          ],
          [
           "Moubarek, Master. Halim Gonios (\"William George\")",
           3,
           "male"
          ],
          [
           "Mayne, Mlle. Berthe Antonine (\"Mrs de Villiers\")",
           1,
           "female"
          ],
          [
           "Klaber, Mr. Herman",
           1,
           "male"
          ],
          [
           "Taylor, Mr. Elmer Zebley",
           1,
           "male"
          ],
          [
           "Larsson, Mr. August Viktor",
           3,
           "male"
          ],
          [
           "Greenberg, Mr. Samuel",
           2,
           "male"
          ],
          [
           "Soholt, Mr. Peter Andreas Lauritz Andersen",
           3,
           "male"
          ],
          [
           "Endres, Miss. Caroline Louise",
           1,
           "female"
          ],
          [
           "Troutt, Miss. Edwina Celia \"Winnie\"",
           2,
           "female"
          ],
          [
           "McEvoy, Mr. Michael",
           3,
           "male"
          ],
          [
           "Johnson, Mr. Malkolm Joackim",
           3,
           "male"
          ],
          [
           "Harper, Miss. Annie Jessie \"Nina\"",
           2,
           "female"
          ],
          [
           "Jensen, Mr. Svend Lauritz",
           3,
           "male"
          ],
          [
           "Gillespie, Mr. William Henry",
           2,
           "male"
          ],
          [
           "Hodges, Mr. Henry Price",
           2,
           "male"
          ],
          [
           "Chambers, Mr. Norman Campbell",
           1,
           "male"
          ],
          [
           "Oreskovic, Mr. Luka",
           3,
           "male"
          ],
          [
           "Renouf, Mrs. Peter Henry (Lillian Jefferys)",
           2,
           "female"
          ],
          [
           "Mannion, Miss. Margareth",
           3,
           "female"
          ],
          [
           "Bryhl, Mr. Kurt Arnold Gottfrid",
           2,
           "male"
          ],
          [
           "Ilmakangas, Miss. Pieta Sofia",
           3,
           "female"
          ],
          [
           "Allen, Miss. Elisabeth Walton",
           1,
           "female"
          ],
          [
           "Hassan, Mr. Houssein G N",
           3,
           "male"
          ],
          [
           "Knight, Mr. Robert J",
           2,
           "male"
          ],
          [
           "Berriman, Mr. William John",
           2,
           "male"
          ],
          [
           "Troupiansky, Mr. Moses Aaron",
           2,
           "male"
          ],
          [
           "Williams, Mr. Leslie",
           3,
           "male"
          ],
          [
           "Ford, Mrs. Edward (Margaret Ann Watson)",
           3,
           "female"
          ],
          [
           "Lesurer, Mr. Gustave J",
           1,
           "male"
          ],
          [
           "Ivanoff, Mr. Kanio",
           3,
           "male"
          ],
          [
           "Nankoff, Mr. Minko",
           3,
           "male"
          ],
          [
           "Hawksford, Mr. Walter James",
           1,
           "male"
          ],
          [
           "Cavendish, Mr. Tyrell William",
           1,
           "male"
          ],
          [
           "Ryerson, Miss. Susan Parker \"Suzette\"",
           1,
           "female"
          ],
          [
           "McNamee, Mr. Neal",
           3,
           "male"
          ],
          [
           "Stranden, Mr. Juho",
           3,
           "male"
          ],
          [
           "Crosby, Capt. Edward Gifford",
           1,
           "male"
          ],
          [
           "Abbott, Mr. Rossmore Edward",
           3,
           "male"
          ],
          [
           "Sinkkonen, Miss. Anna",
           2,
           "female"
          ],
          [
           "Marvin, Mr. Daniel Warner",
           1,
           "male"
          ],
          [
           "Connaghton, Mr. Michael",
           3,
           "male"
          ],
          [
           "Wells, Miss. Joan",
           2,
           "female"
          ],
          [
           "Moor, Master. Meier",
           3,
           "male"
          ],
          [
           "Vande Velde, Mr. Johannes Joseph",
           3,
           "male"
          ],
          [
           "Jonkoff, Mr. Lalio",
           3,
           "male"
          ],
          [
           "Herman, Mrs. Samuel (Jane Laver)",
           2,
           "female"
          ],
          [
           "Hamalainen, Master. Viljo",
           2,
           "male"
          ],
          [
           "Carlsson, Mr. August Sigfrid",
           3,
           "male"
          ],
          [
           "Bailey, Mr. Percy Andrew",
           2,
           "male"
          ],
          [
           "Theobald, Mr. Thomas Leonard",
           3,
           "male"
          ],
          [
           "Rothes, the Countess. of (Lucy Noel Martha Dyer-Edwards)",
           1,
           "female"
          ],
          [
           "Garfirth, Mr. John",
           3,
           "male"
          ],
          [
           "Nirva, Mr. Iisakki Antino Aijo",
           3,
           "male"
          ],
          [
           "Barah, Mr. Hanna Assi",
           3,
           "male"
          ],
          [
           "Carter, Mrs. William Ernest (Lucile Polk)",
           1,
           "female"
          ],
          [
           "Eklund, Mr. Hans Linus",
           3,
           "male"
          ],
          [
           "Hogeboom, Mrs. John C (Anna Andrews)",
           1,
           "female"
          ],
          [
           "Brewe, Dr. Arthur Jackson",
           1,
           "male"
          ],
          [
           "Mangan, Miss. Mary",
           3,
           "female"
          ],
          [
           "Moran, Mr. Daniel J",
           3,
           "male"
          ],
          [
           "Gronnestad, Mr. Daniel Danielsen",
           3,
           "male"
          ],
          [
           "Lievens, Mr. Rene Aime",
           3,
           "male"
          ],
          [
           "Jensen, Mr. Niels Peder",
           3,
           "male"
          ],
          [
           "Mack, Mrs. (Mary)",
           2,
           "female"
          ],
          [
           "Elias, Mr. Dibo",
           3,
           "male"
          ],
          [
           "Hocking, Mrs. Elizabeth (Eliza Needs)",
           2,
           "female"
          ],
          [
           "Myhrman, Mr. Pehr Fabian Oliver Malkolm",
           3,
           "male"
          ],
          [
           "Tobin, Mr. Roger",
           3,
           "male"
          ],
          [
           "Emanuel, Miss. Virginia Ethel",
           3,
           "female"
          ],
          [
           "Kilgannon, Mr. Thomas J",
           3,
           "male"
          ],
          [
           "Robert, Mrs. Edward Scott (Elisabeth Walton McMillan)",
           1,
           "female"
          ],
          [
           "Ayoub, Miss. Banoura",
           3,
           "female"
          ],
          [
           "Dick, Mrs. Albert Adrian (Vera Gillespie)",
           1,
           "female"
          ],
          [
           "Long, Mr. Milton Clyde",
           1,
           "male"
          ],
          [
           "Johnston, Mr. Andrew G",
           3,
           "male"
          ],
          [
           "Ali, Mr. William",
           3,
           "male"
          ],
          [
           "Harmer, Mr. Abraham (David Lishin)",
           3,
           "male"
          ],
          [
           "Sjoblom, Miss. Anna Sofia",
           3,
           "female"
          ],
          [
           "Rice, Master. George Hugh",
           3,
           "male"
          ],
          [
           "Dean, Master. Bertram Vere",
           3,
           "male"
          ],
          [
           "Guggenheim, Mr. Benjamin",
           1,
           "male"
          ],
          [
           "Keane, Mr. Andrew \"Andy\"",
           3,
           "male"
          ],
          [
           "Gaskell, Mr. Alfred",
           2,
           "male"
          ],
          [
           "Sage, Miss. Stella Anna",
           3,
           "female"
          ],
          [
           "Hoyt, Mr. William Fisher",
           1,
           "male"
          ],
          [
           "Dantcheff, Mr. Ristiu",
           3,
           "male"
          ],
          [
           "Otter, Mr. Richard",
           2,
           "male"
          ],
          [
           "Leader, Dr. Alice (Farnham)",
           1,
           "female"
          ],
          [
           "Osman, Mrs. Mara",
           3,
           "female"
          ],
          [
           "Ibrahim Shawah, Mr. Yousseff",
           3,
           "male"
          ],
          [
           "Van Impe, Mrs. Jean Baptiste (Rosalie Paula Govaert)",
           3,
           "female"
          ],
          [
           "Ponesell, Mr. Martin",
           2,
           "male"
          ],
          [
           "Collyer, Mrs. Harvey (Charlotte Annie Tate)",
           2,
           "female"
          ],
          [
           "Carter, Master. William Thornton II",
           1,
           "male"
          ],
          [
           "Thomas, Master. Assad Alexander",
           3,
           "male"
          ],
          [
           "Hedman, Mr. Oskar Arvid",
           3,
           "male"
          ],
          [
           "Johansson, Mr. Karl Johan",
           3,
           "male"
          ],
          [
           "Andrews, Mr. Thomas Jr",
           1,
           "male"
          ],
          [
           "Pettersson, Miss. Ellen Natalia",
           3,
           "female"
          ],
          [
           "Meyer, Mr. August",
           2,
           "male"
          ],
          [
           "Chambers, Mrs. Norman Campbell (Bertha Griggs)",
           1,
           "female"
          ],
          [
           "Alexander, Mr. William",
           3,
           "male"
          ],
          [
           "Lester, Mr. James",
           3,
           "male"
          ],
          [
           "Slemen, Mr. Richard James",
           2,
           "male"
          ],
          [
           "Andersson, Miss. Ebba Iris Alfrida",
           3,
           "female"
          ],
          [
           "Tomlin, Mr. Ernest Portage",
           3,
           "male"
          ],
          [
           "Fry, Mr. Richard",
           1,
           "male"
          ],
          [
           "Heininen, Miss. Wendla Maria",
           3,
           "female"
          ],
          [
           "Mallet, Mr. Albert",
           2,
           "male"
          ],
          [
           "Holm, Mr. John Fredrik Alexander",
           3,
           "male"
          ],
          [
           "Skoog, Master. Karl Thorsten",
           3,
           "male"
          ],
          [
           "Hays, Mrs. Charles Melville (Clara Jennings Gregg)",
           1,
           "female"
          ],
          [
           "Lulic, Mr. Nikola",
           3,
           "male"
          ],
          [
           "Reuchlin, Jonkheer. John George",
           1,
           "male"
          ],
          [
           "Moor, Mrs. (Beila)",
           3,
           "female"
          ],
          [
           "Panula, Master. Urho Abraham",
           3,
           "male"
          ],
          [
           "Flynn, Mr. John",
           3,
           "male"
          ],
          [
           "Lam, Mr. Len",
           3,
           "male"
          ],
          [
           "Mallet, Master. Andre",
           2,
           "male"
          ],
          [
           "McCormack, Mr. Thomas Joseph",
           3,
           "male"
          ],
          [
           "Stone, Mrs. George Nelson (Martha Evelyn)",
           1,
           "female"
          ],
          [
           "Yasbeck, Mrs. Antoni (Selini Alexander)",
           3,
           "female"
          ],
          [
           "Richards, Master. George Sibley",
           2,
           "male"
          ],
          [
           "Saad, Mr. Amin",
           3,
           "male"
          ],
          [
           "Augustsson, Mr. Albert",
           3,
           "male"
          ],
          [
           "Allum, Mr. Owen George",
           3,
           "male"
          ],
          [
           "Compton, Miss. Sara Rebecca",
           1,
           "female"
          ],
          [
           "Pasic, Mr. Jakob",
           3,
           "male"
          ],
          [
           "Sirota, Mr. Maurice",
           3,
           "male"
          ],
          [
           "Chip, Mr. Chang",
           3,
           "male"
          ],
          [
           "Marechal, Mr. Pierre",
           1,
           "male"
          ],
          [
           "Alhomaki, Mr. Ilmari Rudolf",
           3,
           "male"
          ],
          [
           "Mudd, Mr. Thomas Charles",
           2,
           "male"
          ],
          [
           "Serepeca, Miss. Augusta",
           1,
           "female"
          ],
          [
           "Lemberopolous, Mr. Peter L",
           3,
           "male"
          ],
          [
           "Culumovic, Mr. Jeso",
           3,
           "male"
          ],
          [
           "Abbing, Mr. Anthony",
           3,
           "male"
          ],
          [
           "Sage, Mr. Douglas Bullen",
           3,
           "male"
          ],
          [
           "Markoff, Mr. Marin",
           3,
           "male"
          ],
          [
           "Harper, Rev. John",
           2,
           "male"
          ],
          [
           "Goldenberg, Mrs. Samuel L (Edwiga Grabowska)",
           1,
           "female"
          ],
          [
           "Andersson, Master. Sigvard Harald Elias",
           3,
           "male"
          ],
          [
           "Svensson, Mr. Johan",
           3,
           "male"
          ],
          [
           "Boulos, Miss. Nourelain",
           3,
           "female"
          ],
          [
           "Lines, Miss. Mary Conover",
           1,
           "female"
          ],
          [
           "Carter, Mrs. Ernest Courtenay (Lilian Hughes)",
           2,
           "female"
          ],
          [
           "Aks, Mrs. Sam (Leah Rosen)",
           3,
           "female"
          ],
          [
           "Wick, Mrs. George Dennick (Mary Hitchcock)",
           1,
           "female"
          ],
          [
           "Daly, Mr. Peter Denis ",
           1,
           "male"
          ],
          [
           "Baclini, Mrs. Solomon (Latifa Qurban)",
           3,
           "female"
          ],
          [
           "Razi, Mr. Raihed",
           3,
           "male"
          ],
          [
           "Hansen, Mr. Claus Peter",
           3,
           "male"
          ],
          [
           "Giles, Mr. Frederick Edward",
           2,
           "male"
          ],
          [
           "Swift, Mrs. Frederick Joel (Margaret Welles Barron)",
           1,
           "female"
          ],
          [
           "Sage, Miss. Dorothy Edith \"Dolly\"",
           3,
           "female"
          ],
          [
           "Gill, Mr. John William",
           2,
           "male"
          ],
          [
           "Bystrom, Mrs. (Karolina)",
           2,
           "female"
          ],
          [
           "Duran y More, Miss. Asuncion",
           2,
           "female"
          ],
          [
           "Roebling, Mr. Washington Augustus II",
           1,
           "male"
          ],
          [
           "van Melkebeke, Mr. Philemon",
           3,
           "male"
          ],
          [
           "Johnson, Master. Harold Theodor",
           3,
           "male"
          ],
          [
           "Balkic, Mr. Cerin",
           3,
           "male"
          ],
          [
           "Beckwith, Mrs. Richard Leonard (Sallie Monypeny)",
           1,
           "female"
          ],
          [
           "Carlsson, Mr. Frans Olof",
           1,
           "male"
          ],
          [
           "Vander Cruyssen, Mr. Victor",
           3,
           "male"
          ],
          [
           "Abelson, Mrs. Samuel (Hannah Wizosky)",
           2,
           "female"
          ],
          [
           "Najib, Miss. Adele Kiamie \"Jane\"",
           3,
           "female"
          ],
          [
           "Gustafsson, Mr. Alfred Ossian",
           3,
           "male"
          ],
          [
           "Petroff, Mr. Nedelio",
           3,
           "male"
          ],
          [
           "Laleff, Mr. Kristo",
           3,
           "male"
          ],
          [
           "Potter, Mrs. Thomas Jr (Lily Alexenia Wilson)",
           1,
           "female"
          ],
          [
           "Shelley, Mrs. William (Imanita Parrish Hall)",
           2,
           "female"
          ],
          [
           "Markun, Mr. Johann",
           3,
           "male"
          ],
          [
           "Dahlberg, Miss. Gerda Ulrika",
           3,
           "female"
          ],
          [
           "Banfield, Mr. Frederick James",
           2,
           "male"
          ],
          [
           "Sutehall, Mr. Henry Jr",
           3,
           "male"
          ],
          [
           "Rice, Mrs. William (Margaret Norton)",
           3,
           "female"
          ],
          [
           "Montvila, Rev. Juozas",
           2,
           "male"
          ],
          [
           "Graham, Miss. Margaret Edith",
           1,
           "female"
          ],
          [
           "Johnston, Miss. Catherine Helen \"Carrie\"",
           3,
           "female"
          ],
          [
           "Behr, Mr. Karl Howell",
           1,
           "male"
          ],
          [
           "Dooley, Mr. Patrick",
           3,
           "male"
          ]
         ],
         "hovertemplate": "Age (years)=%{x}<br>Fare ($)=%{y}<br>Name=%{customdata[0]}<br>Pclass=%{customdata[1]}<br>Sex=%{customdata[2]}<br>Survived=%{marker.color}<extra></extra>",
         "legendgroup": "",
         "marker": {
          "color": [
           0,
           1,
           1,
           1,
           0,
           0,
           0,
           0,
           1,
           1,
           1,
           1,
           0,
           0,
           0,
           1,
           0,
           1,
           0,
           1,
           0,
           1,
           1,
           1,
           0,
           1,
           0,
           0,
           1,
           0,
           0,
           1,
           1,
           0,
           0,
           0,
           1,
           0,
           0,
           1,
           0,
           0,
           0,
           1,
           1,
           0,
           0,
           1,
           0,
           0,
           0,
           0,
           1,
           1,
           0,
           1,
           1,
           0,
           1,
           0,
           0,
           1,
           0,
           0,
           0,
           1,
           1,
           0,
           1,
           0,
           0,
           0,
           0,
           0,
           1,
           0,
           0,
           0,
           1,
           1,
           0,
           1,
           1,
           0,
           1,
           1,
           0,
           0,
           1,
           0,
           0,
           0,
           0,
           0,
           0,
           0,
           0,
           1,
           1,
           0,
           0,
           0,
           0,
           0,
           0,
           0,
           1,
           1,
           0,
           1,
           0,
           0,
           0,
           0,
           0,
           0,
           0,
           0,
           0,
           0,
           0,
           0,
           0,
           1,
           0,
           1,
           0,
           1,
           1,
           0,
           0,
           0,
           0,
           1,
           0,
           0,
           1,
           0,
           0,
           0,
           0,
           1,
           1,
           0,
           0,
           0,
           1,
           0,
           0,
           0,
           0,
           1,
           0,
           0,
           0,
           0,
           1,
           0,
           0,
           0,
           0,
           1,
           0,
           0,
           0,
           1,
           1,
           0,
           0,
           0,
           0,
           0,
           1,
           0,
           0,
           0,
           0,
           0,
           0,
           0,
           0,
           0,
           0,
           1,
           1,
           0,
           1,
           1,
           0,
           0,
           1,
           0,
           1,
           1,
           1,
           1,
           0,
           0,
           1,
           0,
           0,
           0,
           0,
           0,
           1,
           0,
           0,
           1,
           1,
           1,
           0,
           1,
           0,
           0,
           0,
           1,
           1,
           0,
           1,
           0,
           1,
           0,
           0,
           0,
           1,
           0,
           1,
           0,
           0,
           0,
           1,
           0,
           0,
           1,
           0,
           0,
           0,
           1,
           0,
           0,
           0,
           1,
           0,
           0,
           0,
           0,
           0,
           1,
           1,
           0,
           0,
           0,
           0,
           0,
           0,
           1,
           1,
           1,
           1,
           1,
           0,
           1,
           0,
           0,
           0,
           0,
           0,
           1,
           1,
           1,
           0,
           1,
           1,
           0,
           1,
           1,
           0,
           0,
           0,
           1,
           0,
           0,
           0,
           1,
           0,
           0,
           1,
           0,
           1,
           1,
           1,
           1,
           0,
           0,
           0,
           0,
           0,
           0,
           1,
           1,
           1,
           1,
           0,
           1,
           0,
           1,
           1,
           1,
           0,
           1,
           1,
           1,
           0,
           0,
           0,
           1,
           1,
           0,
           1,
           1,
           0,
           0,
           1,
           1,
           0,
           1,
           0,
           1,
           1,
           1,
           1,
           0,
           0,
           0,
           1,
           0,
           0,
           1,
           1,
           0,
           1,
           1,
           0,
           0,
           0,
           1,
           1,
           1,
           1,
           0,
           0,
           0,
           0,
           0,
           0,
           0,
           1,
           0,
           1,
           1,
           0,
           0,
           0,
           0,
           0,
           0,
           1,
           1,
           1,
           1,
           1,
           0,
           0,
           0,
           0,
           1,
           1,
           0,
           0,
           0,
           1,
           1,
           0,
           1,
           0,
           0,
           0,
           1,
           0,
           1,
           1,
           1,
           0,
           1,
           1,
           0,
           0,
           0,
           0,
           1,
           1,
           0,
           0,
           0,
           0,
           0,
           0,
           1,
           0,
           0,
           0,
           0,
           1,
           0,
           1,
           0,
           1,
           1,
           0,
           0,
           0,
           0,
           0,
           0,
           0,
           0,
           1,
           1,
           0,
           1,
           1,
           1,
           1,
           0,
           0,
           1,
           0,
           1,
           0,
           0,
           1,
           0,
           0,
           1,
           1,
           1,
           1,
           1,
           1,
           1,
           0,
           0,
           0,
           1,
           0,
           1,
           0,
           1,
           1,
           0,
           1,
           0,
           0,
           0,
           0,
           0,
           0,
           0,
           0,
           1,
           0,
           0,
           1,
           1,
           0,
           0,
           0,
           0,
           0,
           1,
           0,
           0,
           0,
           1,
           1,
           0,
           1,
           0,
           0,
           1,
           0,
           0,
           0,
           0,
           0,
           0,
           1,
           0,
           0,
           0,
           0,
           0,
           0,
           0,
           1,
           0,
           1,
           1,
           0,
           1,
           1,
           0,
           1,
           1,
           0,
           0,
           1,
           0,
           1,
           0,
           1,
           0,
           0,
           1,
           0,
           0,
           1,
           0,
           0,
           0,
           1,
           0,
           0,
           1,
           0,
           1,
           0,
           1,
           0,
           1,
           1,
           0,
           0,
           1,
           0,
           0,
           1,
           1,
           0,
           1,
           1,
           0,
           0,
           1,
           1,
           0,
           1,
           0,
           1,
           1,
           0,
           0,
           0,
           0,
           0,
           0,
           0,
           0,
           0,
           1,
           1,
           1,
           1,
           1,
           0,
           0,
           1,
           1,
           0,
           1,
           1,
           1,
           0,
           0,
           0,
           1,
           0,
           1,
           0,
           0,
           0,
           1,
           0,
           0,
           0,
           0,
           1,
           0,
           0,
           1,
           1,
           0,
           0,
           0,
           1,
           0,
           0,
           1,
           1,
           1,
           0,
           0,
           1,
           0,
           0,
           1,
           0,
           0,
           1,
           0,
           0,
           1,
           1,
           0,
           0,
           0,
           0,
           1,
           0,
           0,
           1,
           0,
           1,
           0,
           0,
           1,
           0,
           0,
           0,
           0,
           0,
           1,
           0,
           1,
           1,
           1,
           0,
           1,
           0,
           1,
           0,
           1,
           0,
           1,
           0,
           0,
           0,
           0,
           0,
           0,
           1,
           0,
           0,
           0,
           1,
           0,
           0,
           0,
           0,
           1,
           1,
           0,
           0,
           1,
           0,
           0,
           0,
           1,
           0,
           1,
           0,
           1,
           0,
           0,
           0,
           0,
           0,
           0,
           0,
           1,
           1,
           1,
           1,
           0,
           0,
           0,
           0,
           1,
           0,
           0,
           1,
           1,
           0,
           0,
           0,
           0,
           1,
           1,
           1,
           1,
           1,
           0,
           1,
           0,
           0,
           0,
           1,
           1,
           0,
           0,
           1,
           0,
           0,
           0,
           1,
           0,
           1,
           1,
           0,
           0,
           1,
           0,
           0,
           0,
           0,
           0,
           0,
           1,
           0,
           0,
           1,
           0,
           1,
           0,
           1,
           0,
           0,
           1,
           0,
           0,
           1,
           1,
           0,
           0,
           1,
           1,
           0,
           0,
           0,
           1,
           0,
           0,
           1,
           1,
           0,
           1,
           0,
           0,
           0,
           0,
           0,
           0,
           0,
           0,
           1,
           0,
           0,
           1,
           0,
           1,
           1,
           1,
           0,
           0,
           0,
           0,
           1,
           0,
           1,
           0,
           0,
           0,
           0,
           0,
           0,
           0,
           1,
           1,
           0,
           0,
           0,
           1,
           1,
           1,
           1,
           0,
           0,
           0,
           0,
           1,
           0,
           0,
           0,
           0,
           0,
           0,
           0,
           0,
           0,
           0,
           1,
           1,
           0,
           1,
           0,
           0,
           0,
           1,
           1,
           1,
           1,
           1,
           0,
           0,
           0,
           1,
           0,
           0,
           1,
           1,
           0,
           0,
           1,
           0,
           0,
           0,
           0,
           0,
           0,
           1,
           0,
           0,
           0,
           1,
           0,
           1,
           1,
           1,
           1,
           0,
           0,
           0,
           1,
           0,
           0,
           1,
           1,
           0,
           0,
           1,
           0,
           1,
           0,
           0,
           1,
           1,
           0,
           0,
           0,
           1,
           1,
           0,
           0,
           0,
           0,
           0,
           0,
           1,
           0,
           1,
           0
          ],
          "coloraxis": "coloraxis",
          "symbol": "circle"
         },
         "mode": "markers",
         "name": "",
         "orientation": "v",
         "showlegend": false,
         "type": "scatter",
         "x": [
          22,
          38,
          26,
          35,
          35,
          null,
          54,
          2,
          27,
          14,
          4,
          58,
          20,
          39,
          14,
          55,
          2,
          null,
          31,
          null,
          35,
          34,
          15,
          28,
          8,
          38,
          null,
          19,
          null,
          null,
          40,
          null,
          null,
          66,
          28,
          42,
          null,
          21,
          18,
          14,
          40,
          27,
          null,
          3,
          19,
          null,
          null,
          null,
          null,
          18,
          7,
          21,
          49,
          29,
          65,
          null,
          21,
          28.5,
          5,
          11,
          22,
          38,
          45,
          4,
          null,
          null,
          29,
          19,
          17,
          26,
          32,
          16,
          21,
          26,
          32,
          25,
          null,
          null,
          0.83,
          30,
          22,
          29,
          null,
          28,
          17,
          33,
          16,
          null,
          23,
          24,
          29,
          20,
          46,
          26,
          59,
          null,
          71,
          23,
          34,
          34,
          28,
          null,
          21,
          33,
          37,
          28,
          21,
          null,
          38,
          null,
          47,
          14.5,
          22,
          20,
          17,
          21,
          70.5,
          29,
          24,
          2,
          21,
          null,
          32.5,
          32.5,
          54,
          12,
          null,
          24,
          null,
          45,
          33,
          20,
          47,
          29,
          25,
          23,
          19,
          37,
          16,
          24,
          null,
          22,
          24,
          19,
          18,
          19,
          27,
          9,
          36.5,
          42,
          51,
          22,
          55.5,
          40.5,
          null,
          51,
          16,
          30,
          null,
          null,
          44,
          40,
          26,
          17,
          1,
          9,
          null,
          45,
          null,
          28,
          61,
          4,
          1,
          21,
          56,
          18,
          null,
          50,
          30,
          36,
          null,
          null,
          9,
          1,
          4,
          null,
          null,
          45,
          40,
          36,
          32,
          19,
          19,
          3,
          44,
          58,
          null,
          42,
          null,
          24,
          28,
          null,
          34,
          45.5,
          18,
          2,
          32,
          26,
          16,
          40,
          24,
          35,
          22,
          30,
          null,
          31,
          27,
          42,
          32,
          30,
          16,
          27,
          51,
          null,
          38,
          22,
          19,
          20.5,
          18,
          null,
          35,
          29,
          59,
          5,
          24,
          null,
          44,
          8,
          19,
          33,
          null,
          null,
          29,
          22,
          30,
          44,
          25,
          24,
          37,
          54,
          null,
          29,
          62,
          30,
          41,
          29,
          null,
          30,
          35,
          50,
          null,
          3,
          52,
          40,
          null,
          36,
          16,
          25,
          58,
          35,
          null,
          25,
          41,
          37,
          null,
          63,
          45,
          null,
          7,
          35,
          65,
          28,
          16,
          19,
          null,
          33,
          30,
          22,
          42,
          22,
          26,
          19,
          36,
          24,
          24,
          null,
          23.5,
          2,
          null,
          50,
          null,
          null,
          19,
          null,
          null,
          0.92,
          null,
          17,
          30,
          30,
          24,
          18,
          26,
          28,
          43,
          26,
          24,
          54,
          31,
          40,
          22,
          27,
          30,
          22,
          null,
          36,
          61,
          36,
          31,
          16,
          null,
          45.5,
          38,
          16,
          null,
          null,
          29,
          41,
          45,
          45,
          2,
          24,
          28,
          25,
          36,
          24,
          40,
          null,
          3,
          42,
          23,
          null,
          15,
          25,
          null,
          28,
          22,
          38,
          null,
          null,
          40,
          29,
          45,
          35,
          null,
          30,
          60,
          null,
          null,
          24,
          25,
          18,
          19,
          22,
          3,
          null,
          22,
          27,
          20,
          19,
          42,
          1,
          32,
          35,
          null,
          18,
          1,
          36,
          null,
          17,
          36,
          21,
          28,
          23,
          24,
          22,
          31,
          46,
          23,
          28,
          39,
          26,
          21,
          28,
          20,
          34,
          51,
          3,
          21,
          null,
          null,
          null,
          33,
          null,
          44,
          null,
          34,
          18,
          30,
          10,
          null,
          21,
          29,
          28,
          18,
          null,
          28,
          19,
          null,
          32,
          28,
          null,
          42,
          17,
          50,
          14,
          21,
          24,
          64,
          31,
          45,
          20,
          25,
          28,
          null,
          4,
          13,
          34,
          5,
          52,
          36,
          null,
          30,
          49,
          null,
          29,
          65,
          null,
          50,
          null,
          48,
          34,
          47,
          48,
          null,
          38,
          null,
          56,
          null,
          0.75,
          null,
          38,
          33,
          23,
          22,
          null,
          34,
          29,
          22,
          2,
          9,
          null,
          50,
          63,
          25,
          null,
          35,
          58,
          30,
          9,
          null,
          21,
          55,
          71,
          21,
          null,
          54,
          null,
          25,
          24,
          17,
          21,
          null,
          37,
          16,
          18,
          33,
          null,
          28,
          26,
          29,
          null,
          36,
          54,
          24,
          47,
          34,
          null,
          36,
          32,
          30,
          22,
          null,
          44,
          null,
          40.5,
          50,
          null,
          39,
          23,
          2,
          null,
          17,
          null,
          30,
          7,
          45,
          30,
          null,
          22,
          36,
          9,
          11,
          32,
          50,
          64,
          19,
          null,
          33,
          8,
          17,
          27,
          null,
          22,
          22,
          62,
          48,
          null,
          39,
          36,
          null,
          40,
          28,
          null,
          null,
          24,
          19,
          29,
          null,
          32,
          62,
          53,
          36,
          null,
          16,
          19,
          34,
          39,
          null,
          32,
          25,
          39,
          54,
          36,
          null,
          18,
          47,
          60,
          22,
          null,
          35,
          52,
          47,
          null,
          37,
          36,
          null,
          49,
          null,
          49,
          24,
          null,
          null,
          44,
          35,
          36,
          30,
          27,
          22,
          40,
          39,
          null,
          null,
          null,
          35,
          24,
          34,
          26,
          4,
          26,
          27,
          42,
          20,
          21,
          21,
          61,
          57,
          21,
          26,
          null,
          80,
          51,
          32,
          null,
          9,
          28,
          32,
          31,
          41,
          null,
          20,
          24,
          2,
          null,
          0.75,
          48,
          19,
          56,
          null,
          23,
          null,
          18,
          21,
          null,
          18,
          24,
          null,
          32,
          23,
          58,
          50,
          40,
          47,
          36,
          20,
          32,
          25,
          null,
          43,
          null,
          40,
          31,
          70,
          31,
          null,
          18,
          24.5,
          18,
          43,
          36,
          null,
          27,
          20,
          14,
          60,
          25,
          14,
          19,
          18,
          15,
          31,
          4,
          null,
          25,
          60,
          52,
          44,
          null,
          49,
          42,
          18,
          35,
          18,
          25,
          26,
          39,
          45,
          42,
          22,
          null,
          24,
          null,
          48,
          29,
          52,
          19,
          38,
          27,
          null,
          33,
          6,
          17,
          34,
          50,
          27,
          20,
          30,
          null,
          25,
          25,
          29,
          11,
          null,
          23,
          23,
          28.5,
          48,
          35,
          null,
          null,
          null,
          36,
          21,
          24,
          31,
          70,
          16,
          30,
          19,
          31,
          4,
          6,
          33,
          23,
          48,
          0.67,
          28,
          18,
          34,
          33,
          null,
          41,
          20,
          36,
          16,
          51,
          null,
          30.5,
          null,
          32,
          24,
          48,
          57,
          null,
          54,
          18,
          null,
          5,
          null,
          43,
          13,
          17,
          29,
          null,
          25,
          25,
          18,
          8,
          1,
          46,
          null,
          16,
          null,
          null,
          25,
          39,
          49,
          31,
          30,
          30,
          34,
          31,
          11,
          0.42,
          27,
          31,
          39,
          18,
          39,
          33,
          26,
          39,
          35,
          6,
          30.5,
          null,
          23,
          31,
          43,
          10,
          52,
          27,
          38,
          27,
          2,
          null,
          null,
          1,
          null,
          62,
          15,
          0.83,
          null,
          23,
          18,
          39,
          21,
          null,
          32,
          null,
          20,
          16,
          30,
          34.5,
          17,
          42,
          null,
          35,
          28,
          null,
          4,
          74,
          9,
          16,
          44,
          18,
          45,
          51,
          24,
          null,
          41,
          21,
          48,
          null,
          24,
          42,
          27,
          31,
          null,
          4,
          26,
          47,
          33,
          47,
          28,
          15,
          20,
          19,
          null,
          56,
          25,
          33,
          22,
          28,
          25,
          39,
          27,
          19,
          null,
          26,
          32
         ],
         "xaxis": "x",
         "y": [
          7.25,
          71.2833,
          7.925,
          53.1,
          8.05,
          8.4583,
          51.8625,
          21.075,
          11.1333,
          30.0708,
          16.7,
          26.55,
          8.05,
          31.275,
          7.8542,
          16,
          29.125,
          13,
          18,
          7.225,
          26,
          13,
          8.0292,
          35.5,
          21.075,
          31.3875,
          7.225,
          263,
          7.8792,
          7.8958,
          27.7208,
          146.5208,
          7.75,
          10.5,
          82.1708,
          52,
          7.2292,
          8.05,
          18,
          11.2417,
          9.475,
          21,
          7.8958,
          41.5792,
          7.8792,
          8.05,
          15.5,
          7.75,
          21.6792,
          17.8,
          39.6875,
          7.8,
          76.7292,
          26,
          61.9792,
          35.5,
          10.5,
          7.2292,
          27.75,
          46.9,
          7.2292,
          80,
          83.475,
          27.9,
          27.7208,
          15.2458,
          10.5,
          8.1583,
          7.925,
          8.6625,
          10.5,
          46.9,
          73.5,
          14.4542,
          56.4958,
          7.65,
          7.8958,
          8.05,
          29,
          12.475,
          9,
          9.5,
          7.7875,
          47.1,
          10.5,
          15.85,
          34.375,
          8.05,
          263,
          8.05,
          8.05,
          7.8542,
          61.175,
          20.575,
          7.25,
          8.05,
          34.6542,
          63.3583,
          23,
          26,
          7.8958,
          7.8958,
          77.2875,
          8.6542,
          7.925,
          7.8958,
          7.65,
          7.775,
          7.8958,
          24.15,
          52,
          14.4542,
          8.05,
          9.825,
          14.4583,
          7.925,
          7.75,
          21,
          247.5208,
          31.275,
          73.5,
          8.05,
          30.0708,
          13,
          77.2875,
          11.2417,
          7.75,
          7.1417,
          22.3583,
          6.975,
          7.8958,
          7.05,
          14.5,
          26,
          13,
          15.0458,
          26.2833,
          53.1,
          9.2167,
          79.2,
          15.2458,
          7.75,
          15.85,
          6.75,
          11.5,
          36.75,
          7.7958,
          34.375,
          26,
          13,
          12.525,
          66.6,
          8.05,
          14.5,
          7.3125,
          61.3792,
          7.7333,
          8.05,
          8.6625,
          69.55,
          16.1,
          15.75,
          7.775,
          8.6625,
          39.6875,
          20.525,
          55,
          27.9,
          25.925,
          56.4958,
          33.5,
          29.125,
          11.1333,
          7.925,
          30.6958,
          7.8542,
          25.4667,
          28.7125,
          13,
          0,
          69.55,
          15.05,
          31.3875,
          39,
          22.025,
          50,
          15.5,
          26.55,
          15.5,
          7.8958,
          13,
          13,
          7.8542,
          26,
          27.7208,
          146.5208,
          7.75,
          8.4042,
          7.75,
          13,
          9.5,
          69.55,
          6.4958,
          7.225,
          8.05,
          10.4625,
          15.85,
          18.7875,
          7.75,
          31,
          7.05,
          21,
          7.25,
          13,
          7.75,
          113.275,
          7.925,
          27,
          76.2917,
          10.5,
          8.05,
          13,
          8.05,
          7.8958,
          90,
          9.35,
          10.5,
          7.25,
          13,
          25.4667,
          83.475,
          7.775,
          13.5,
          31.3875,
          10.5,
          7.55,
          26,
          26.25,
          10.5,
          12.275,
          14.4542,
          15.5,
          10.5,
          7.125,
          7.225,
          90,
          7.775,
          14.5,
          52.5542,
          26,
          7.25,
          10.4625,
          26.55,
          16.1,
          20.2125,
          15.2458,
          79.2,
          86.5,
          512.3292,
          26,
          7.75,
          31.3875,
          79.65,
          0,
          7.75,
          10.5,
          39.6875,
          7.775,
          153.4625,
          135.6333,
          31,
          0,
          19.5,
          29.7,
          7.75,
          77.9583,
          7.75,
          0,
          29.125,
          20.25,
          7.75,
          7.8542,
          9.5,
          8.05,
          26,
          8.6625,
          9.5,
          7.8958,
          13,
          7.75,
          78.85,
          91.0792,
          12.875,
          8.85,
          7.8958,
          27.7208,
          7.2292,
          151.55,
          30.5,
          247.5208,
          7.75,
          23.25,
          0,
          12.35,
          8.05,
          151.55,
          110.8833,
          108.9,
          24,
          56.9292,
          83.1583,
          262.375,
          26,
          7.8958,
          26.25,
          7.8542,
          26,
          14,
          164.8667,
          134.5,
          7.25,
          7.8958,
          12.35,
          29,
          69.55,
          135.6333,
          6.2375,
          13,
          20.525,
          57.9792,
          23.25,
          28.5,
          153.4625,
          18,
          133.65,
          7.8958,
          66.6,
          134.5,
          8.05,
          35.5,
          26,
          263,
          13,
          13,
          13,
          13,
          13,
          16.1,
          15.9,
          8.6625,
          9.225,
          35,
          7.2292,
          17.8,
          7.225,
          9.5,
          55,
          13,
          7.8792,
          7.8792,
          27.9,
          27.7208,
          14.4542,
          7.05,
          15.5,
          7.25,
          75.25,
          7.2292,
          7.75,
          69.3,
          55.4417,
          6.4958,
          8.05,
          135.6333,
          21.075,
          82.1708,
          7.25,
          211.5,
          4.0125,
          7.775,
          227.525,
          15.7417,
          7.925,
          52,
          7.8958,
          73.5,
          46.9,
          13,
          7.7292,
          12,
          120,
          7.7958,
          7.925,
          113.275,
          16.7,
          7.7958,
          7.8542,
          26,
          10.5,
          12.65,
          7.925,
          8.05,
          9.825,
          15.85,
          8.6625,
          21,
          7.75,
          18.75,
          7.775,
          25.4667,
          7.8958,
          6.8583,
          90,
          0,
          7.925,
          8.05,
          32.5,
          13,
          13,
          24.15,
          7.8958,
          7.7333,
          7.875,
          14.4,
          20.2125,
          7.25,
          26,
          26,
          7.75,
          8.05,
          26.55,
          16.1,
          26,
          7.125,
          55.9,
          120,
          34.375,
          18.75,
          263,
          10.5,
          26.25,
          9.5,
          7.775,
          13,
          8.1125,
          81.8583,
          19.5,
          26.55,
          19.2583,
          30.5,
          27.75,
          19.9667,
          27.75,
          89.1042,
          8.05,
          7.8958,
          26.55,
          51.8625,
          10.5,
          7.75,
          26.55,
          8.05,
          38.5,
          13,
          8.05,
          7.05,
          0,
          26.55,
          7.725,
          19.2583,
          7.25,
          8.6625,
          27.75,
          13.7917,
          9.8375,
          52,
          21,
          7.0458,
          7.5208,
          12.2875,
          46.9,
          0,
          8.05,
          9.5875,
          91.0792,
          25.4667,
          90,
          29.7,
          8.05,
          15.9,
          19.9667,
          7.25,
          30.5,
          49.5042,
          8.05,
          14.4583,
          78.2667,
          15.1,
          151.55,
          7.7958,
          8.6625,
          7.75,
          7.6292,
          9.5875,
          86.5,
          108.9,
          26,
          26.55,
          22.525,
          56.4958,
          7.75,
          8.05,
          26.2875,
          59.4,
          7.4958,
          34.0208,
          10.5,
          24.15,
          26,
          7.8958,
          93.5,
          7.8958,
          7.225,
          57.9792,
          7.2292,
          7.75,
          10.5,
          221.7792,
          7.925,
          11.5,
          26,
          7.2292,
          7.2292,
          22.3583,
          8.6625,
          26.25,
          26.55,
          106.425,
          14.5,
          49.5,
          71,
          31.275,
          31.275,
          26,
          106.425,
          26,
          26,
          13.8625,
          20.525,
          36.75,
          110.8833,
          26,
          7.8292,
          7.225,
          7.775,
          26.55,
          39.6,
          227.525,
          79.65,
          17.4,
          7.75,
          7.8958,
          13.5,
          8.05,
          8.05,
          24.15,
          7.8958,
          21.075,
          7.2292,
          7.8542,
          10.5,
          51.4792,
          26.3875,
          7.75,
          8.05,
          14.5,
          13,
          55.9,
          14.4583,
          7.925,
          30,
          110.8833,
          26,
          40.125,
          8.7125,
          79.65,
          15,
          79.2,
          8.05,
          8.05,
          7.125,
          78.2667,
          7.25,
          7.75,
          26,
          24.15,
          33,
          0,
          7.225,
          56.9292,
          27,
          7.8958,
          42.4,
          8.05,
          26.55,
          15.55,
          7.8958,
          30.5,
          41.5792,
          153.4625,
          31.275,
          7.05,
          15.5,
          7.75,
          8.05,
          65,
          14.4,
          16.1,
          39,
          10.5,
          14.4542,
          52.5542,
          15.7417,
          7.8542,
          16.1,
          32.3208,
          12.35,
          77.9583,
          7.8958,
          7.7333,
          30,
          7.0542,
          30.5,
          0,
          27.9,
          13,
          7.925,
          26.25,
          39.6875,
          16.1,
          7.8542,
          69.3,
          27.9,
          56.4958,
          19.2583,
          76.7292,
          7.8958,
          35.5,
          7.55,
          7.55,
          7.8958,
          23,
          8.4333,
          7.8292,
          6.75,
          73.5,
          7.8958,
          15.5,
          13,
          113.275,
          133.65,
          7.225,
          25.5875,
          7.4958,
          7.925,
          73.5,
          13,
          7.775,
          8.05,
          52,
          39,
          52,
          10.5,
          13,
          0,
          7.775,
          8.05,
          9.8417,
          46.9,
          512.3292,
          8.1375,
          76.7292,
          9.225,
          46.9,
          39,
          41.5792,
          39.6875,
          10.1708,
          7.7958,
          211.3375,
          57,
          13.4167,
          56.4958,
          7.225,
          26.55,
          13.5,
          8.05,
          7.7333,
          110.8833,
          7.65,
          227.525,
          26.2875,
          14.4542,
          7.7417,
          7.8542,
          26,
          13.5,
          26.2875,
          151.55,
          15.2458,
          49.5042,
          26.55,
          52,
          9.4833,
          13,
          7.65,
          227.525,
          10.5,
          15.5,
          7.775,
          33,
          7.0542,
          13,
          13,
          53.1,
          8.6625,
          21,
          7.7375,
          26,
          7.925,
          211.3375,
          18.7875,
          0,
          13,
          13,
          16.1,
          34.375,
          512.3292,
          7.8958,
          7.8958,
          30,
          78.85,
          262.375,
          16.1,
          7.925,
          71,
          20.25,
          13,
          53.1,
          7.75,
          23,
          12.475,
          9.5,
          7.8958,
          65,
          14.5,
          7.7958,
          11.5,
          8.05,
          86.5,
          14.5,
          7.125,
          7.2292,
          120,
          7.775,
          77.9583,
          39.6,
          7.75,
          24.15,
          8.3625,
          9.5,
          7.8542,
          10.5,
          7.225,
          23,
          7.75,
          7.75,
          12.475,
          7.7375,
          211.3375,
          7.2292,
          57,
          30,
          23.45,
          7.05,
          7.25,
          7.4958,
          29.125,
          20.575,
          79.2,
          7.75,
          26,
          69.55,
          30.6958,
          7.8958,
          13,
          25.9292,
          8.6833,
          7.2292,
          24.15,
          13,
          26.25,
          120,
          8.5167,
          6.975,
          7.775,
          0,
          7.775,
          13,
          53.1,
          7.8875,
          24.15,
          10.5,
          31.275,
          8.05,
          0,
          7.925,
          37.0042,
          6.45,
          27.9,
          93.5,
          8.6625,
          0,
          12.475,
          39.6875,
          6.95,
          56.4958,
          37.0042,
          7.75,
          80,
          14.4542,
          18.75,
          7.2292,
          7.8542,
          8.3,
          83.1583,
          8.6625,
          8.05,
          56.4958,
          29.7,
          7.925,
          10.5,
          31,
          6.4375,
          8.6625,
          7.55,
          69.55,
          7.8958,
          33,
          89.1042,
          31.275,
          7.775,
          15.2458,
          39.4,
          26,
          9.35,
          164.8667,
          26.55,
          19.2583,
          7.2292,
          14.1083,
          11.5,
          25.9292,
          69.55,
          13,
          13,
          13.8583,
          50.4958,
          9.5,
          11.1333,
          7.8958,
          52.5542,
          5,
          9,
          24,
          7.225,
          9.8458,
          7.8958,
          7.8958,
          83.1583,
          26,
          7.8958,
          10.5167,
          10.5,
          7.05,
          29.125,
          13,
          30,
          23.45,
          30,
          7.75
         ],
         "yaxis": "y"
        }
       ],
       "layout": {
        "coloraxis": {
         "colorbar": {
          "title": {
           "text": "Survived"
          }
         },
         "colorscale": [
          [
           0,
           "#0d0887"
          ],
          [
           0.1111111111111111,
           "#46039f"
          ],
          [
           0.2222222222222222,
           "#7201a8"
          ],
          [
           0.3333333333333333,
           "#9c179e"
          ],
          [
           0.4444444444444444,
           "#bd3786"
          ],
          [
           0.5555555555555556,
           "#d8576b"
          ],
          [
           0.6666666666666666,
           "#ed7953"
          ],
          [
           0.7777777777777778,
           "#fb9f3a"
          ],
          [
           0.8888888888888888,
           "#fdca26"
          ],
          [
           1,
           "#f0f921"
          ]
         ]
        },
        "legend": {
         "tracegroupgap": 0
        },
        "template": {
         "data": {
          "bar": [
           {
            "error_x": {
             "color": "#2a3f5f"
            },
            "error_y": {
             "color": "#2a3f5f"
            },
            "marker": {
             "line": {
              "color": "#E5ECF6",
              "width": 0.5
             },
             "pattern": {
              "fillmode": "overlay",
              "size": 10,
              "solidity": 0.2
             }
            },
            "type": "bar"
           }
          ],
          "barpolar": [
           {
            "marker": {
             "line": {
              "color": "#E5ECF6",
              "width": 0.5
             },
             "pattern": {
              "fillmode": "overlay",
              "size": 10,
              "solidity": 0.2
             }
            },
            "type": "barpolar"
           }
          ],
          "carpet": [
           {
            "aaxis": {
             "endlinecolor": "#2a3f5f",
             "gridcolor": "white",
             "linecolor": "white",
             "minorgridcolor": "white",
             "startlinecolor": "#2a3f5f"
            },
            "baxis": {
             "endlinecolor": "#2a3f5f",
             "gridcolor": "white",
             "linecolor": "white",
             "minorgridcolor": "white",
             "startlinecolor": "#2a3f5f"
            },
            "type": "carpet"
           }
          ],
          "choropleth": [
           {
            "colorbar": {
             "outlinewidth": 0,
             "ticks": ""
            },
            "type": "choropleth"
           }
          ],
          "contour": [
           {
            "colorbar": {
             "outlinewidth": 0,
             "ticks": ""
            },
            "colorscale": [
             [
              0,
              "#0d0887"
             ],
             [
              0.1111111111111111,
              "#46039f"
             ],
             [
              0.2222222222222222,
              "#7201a8"
             ],
             [
              0.3333333333333333,
              "#9c179e"
             ],
             [
              0.4444444444444444,
              "#bd3786"
             ],
             [
              0.5555555555555556,
              "#d8576b"
             ],
             [
              0.6666666666666666,
              "#ed7953"
             ],
             [
              0.7777777777777778,
              "#fb9f3a"
             ],
             [
              0.8888888888888888,
              "#fdca26"
             ],
             [
              1,
              "#f0f921"
             ]
            ],
            "type": "contour"
           }
          ],
          "contourcarpet": [
           {
            "colorbar": {
             "outlinewidth": 0,
             "ticks": ""
            },
            "type": "contourcarpet"
           }
          ],
          "heatmap": [
           {
            "colorbar": {
             "outlinewidth": 0,
             "ticks": ""
            },
            "colorscale": [
             [
              0,
              "#0d0887"
             ],
             [
              0.1111111111111111,
              "#46039f"
             ],
             [
              0.2222222222222222,
              "#7201a8"
             ],
             [
              0.3333333333333333,
              "#9c179e"
             ],
             [
              0.4444444444444444,
              "#bd3786"
             ],
             [
              0.5555555555555556,
              "#d8576b"
             ],
             [
              0.6666666666666666,
              "#ed7953"
             ],
             [
              0.7777777777777778,
              "#fb9f3a"
             ],
             [
              0.8888888888888888,
              "#fdca26"
             ],
             [
              1,
              "#f0f921"
             ]
            ],
            "type": "heatmap"
           }
          ],
          "heatmapgl": [
           {
            "colorbar": {
             "outlinewidth": 0,
             "ticks": ""
            },
            "colorscale": [
             [
              0,
              "#0d0887"
             ],
             [
              0.1111111111111111,
              "#46039f"
             ],
             [
              0.2222222222222222,
              "#7201a8"
             ],
             [
              0.3333333333333333,
              "#9c179e"
             ],
             [
              0.4444444444444444,
              "#bd3786"
             ],
             [
              0.5555555555555556,
              "#d8576b"
             ],
             [
              0.6666666666666666,
              "#ed7953"
             ],
             [
              0.7777777777777778,
              "#fb9f3a"
             ],
             [
              0.8888888888888888,
              "#fdca26"
             ],
             [
              1,
              "#f0f921"
             ]
            ],
            "type": "heatmapgl"
           }
          ],
          "histogram": [
           {
            "marker": {
             "pattern": {
              "fillmode": "overlay",
              "size": 10,
              "solidity": 0.2
             }
            },
            "type": "histogram"
           }
          ],
          "histogram2d": [
           {
            "colorbar": {
             "outlinewidth": 0,
             "ticks": ""
            },
            "colorscale": [
             [
              0,
              "#0d0887"
             ],
             [
              0.1111111111111111,
              "#46039f"
             ],
             [
              0.2222222222222222,
              "#7201a8"
             ],
             [
              0.3333333333333333,
              "#9c179e"
             ],
             [
              0.4444444444444444,
              "#bd3786"
             ],
             [
              0.5555555555555556,
              "#d8576b"
             ],
             [
              0.6666666666666666,
              "#ed7953"
             ],
             [
              0.7777777777777778,
              "#fb9f3a"
             ],
             [
              0.8888888888888888,
              "#fdca26"
             ],
             [
              1,
              "#f0f921"
             ]
            ],
            "type": "histogram2d"
           }
          ],
          "histogram2dcontour": [
           {
            "colorbar": {
             "outlinewidth": 0,
             "ticks": ""
            },
            "colorscale": [
             [
              0,
              "#0d0887"
             ],
             [
              0.1111111111111111,
              "#46039f"
             ],
             [
              0.2222222222222222,
              "#7201a8"
             ],
             [
              0.3333333333333333,
              "#9c179e"
             ],
             [
              0.4444444444444444,
              "#bd3786"
             ],
             [
              0.5555555555555556,
              "#d8576b"
             ],
             [
              0.6666666666666666,
              "#ed7953"
             ],
             [
              0.7777777777777778,
              "#fb9f3a"
             ],
             [
              0.8888888888888888,
              "#fdca26"
             ],
             [
              1,
              "#f0f921"
             ]
            ],
            "type": "histogram2dcontour"
           }
          ],
          "mesh3d": [
           {
            "colorbar": {
             "outlinewidth": 0,
             "ticks": ""
            },
            "type": "mesh3d"
           }
          ],
          "parcoords": [
           {
            "line": {
             "colorbar": {
              "outlinewidth": 0,
              "ticks": ""
             }
            },
            "type": "parcoords"
           }
          ],
          "pie": [
           {
            "automargin": true,
            "type": "pie"
           }
          ],
          "scatter": [
           {
            "fillpattern": {
             "fillmode": "overlay",
             "size": 10,
             "solidity": 0.2
            },
            "type": "scatter"
           }
          ],
          "scatter3d": [
           {
            "line": {
             "colorbar": {
              "outlinewidth": 0,
              "ticks": ""
             }
            },
            "marker": {
             "colorbar": {
              "outlinewidth": 0,
              "ticks": ""
             }
            },
            "type": "scatter3d"
           }
          ],
          "scattercarpet": [
           {
            "marker": {
             "colorbar": {
              "outlinewidth": 0,
              "ticks": ""
             }
            },
            "type": "scattercarpet"
           }
          ],
          "scattergeo": [
           {
            "marker": {
             "colorbar": {
              "outlinewidth": 0,
              "ticks": ""
             }
            },
            "type": "scattergeo"
           }
          ],
          "scattergl": [
           {
            "marker": {
             "colorbar": {
              "outlinewidth": 0,
              "ticks": ""
             }
            },
            "type": "scattergl"
           }
          ],
          "scattermapbox": [
           {
            "marker": {
             "colorbar": {
              "outlinewidth": 0,
              "ticks": ""
             }
            },
            "type": "scattermapbox"
           }
          ],
          "scatterpolar": [
           {
            "marker": {
             "colorbar": {
              "outlinewidth": 0,
              "ticks": ""
             }
            },
            "type": "scatterpolar"
           }
          ],
          "scatterpolargl": [
           {
            "marker": {
             "colorbar": {
              "outlinewidth": 0,
              "ticks": ""
             }
            },
            "type": "scatterpolargl"
           }
          ],
          "scatterternary": [
           {
            "marker": {
             "colorbar": {
              "outlinewidth": 0,
              "ticks": ""
             }
            },
            "type": "scatterternary"
           }
          ],
          "surface": [
           {
            "colorbar": {
             "outlinewidth": 0,
             "ticks": ""
            },
            "colorscale": [
             [
              0,
              "#0d0887"
             ],
             [
              0.1111111111111111,
              "#46039f"
             ],
             [
              0.2222222222222222,
              "#7201a8"
             ],
             [
              0.3333333333333333,
              "#9c179e"
             ],
             [
              0.4444444444444444,
              "#bd3786"
             ],
             [
              0.5555555555555556,
              "#d8576b"
             ],
             [
              0.6666666666666666,
              "#ed7953"
             ],
             [
              0.7777777777777778,
              "#fb9f3a"
             ],
             [
              0.8888888888888888,
              "#fdca26"
             ],
             [
              1,
              "#f0f921"
             ]
            ],
            "type": "surface"
           }
          ],
          "table": [
           {
            "cells": {
             "fill": {
              "color": "#EBF0F8"
             },
             "line": {
              "color": "white"
             }
            },
            "header": {
             "fill": {
              "color": "#C8D4E3"
             },
             "line": {
              "color": "white"
             }
            },
            "type": "table"
           }
          ]
         },
         "layout": {
          "annotationdefaults": {
           "arrowcolor": "#2a3f5f",
           "arrowhead": 0,
           "arrowwidth": 1
          },
          "autotypenumbers": "strict",
          "coloraxis": {
           "colorbar": {
            "outlinewidth": 0,
            "ticks": ""
           }
          },
          "colorscale": {
           "diverging": [
            [
             0,
             "#8e0152"
            ],
            [
             0.1,
             "#c51b7d"
            ],
            [
             0.2,
             "#de77ae"
            ],
            [
             0.3,
             "#f1b6da"
            ],
            [
             0.4,
             "#fde0ef"
            ],
            [
             0.5,
             "#f7f7f7"
            ],
            [
             0.6,
             "#e6f5d0"
            ],
            [
             0.7,
             "#b8e186"
            ],
            [
             0.8,
             "#7fbc41"
            ],
            [
             0.9,
             "#4d9221"
            ],
            [
             1,
             "#276419"
            ]
           ],
           "sequential": [
            [
             0,
             "#0d0887"
            ],
            [
             0.1111111111111111,
             "#46039f"
            ],
            [
             0.2222222222222222,
             "#7201a8"
            ],
            [
             0.3333333333333333,
             "#9c179e"
            ],
            [
             0.4444444444444444,
             "#bd3786"
            ],
            [
             0.5555555555555556,
             "#d8576b"
            ],
            [
             0.6666666666666666,
             "#ed7953"
            ],
            [
             0.7777777777777778,
             "#fb9f3a"
            ],
            [
             0.8888888888888888,
             "#fdca26"
            ],
            [
             1,
             "#f0f921"
            ]
           ],
           "sequentialminus": [
            [
             0,
             "#0d0887"
            ],
            [
             0.1111111111111111,
             "#46039f"
            ],
            [
             0.2222222222222222,
             "#7201a8"
            ],
            [
             0.3333333333333333,
             "#9c179e"
            ],
            [
             0.4444444444444444,
             "#bd3786"
            ],
            [
             0.5555555555555556,
             "#d8576b"
            ],
            [
             0.6666666666666666,
             "#ed7953"
            ],
            [
             0.7777777777777778,
             "#fb9f3a"
            ],
            [
             0.8888888888888888,
             "#fdca26"
            ],
            [
             1,
             "#f0f921"
            ]
           ]
          },
          "colorway": [
           "#636efa",
           "#EF553B",
           "#00cc96",
           "#ab63fa",
           "#FFA15A",
           "#19d3f3",
           "#FF6692",
           "#B6E880",
           "#FF97FF",
           "#FECB52"
          ],
          "font": {
           "color": "#2a3f5f"
          },
          "geo": {
           "bgcolor": "white",
           "lakecolor": "white",
           "landcolor": "#E5ECF6",
           "showlakes": true,
           "showland": true,
           "subunitcolor": "white"
          },
          "hoverlabel": {
           "align": "left"
          },
          "hovermode": "closest",
          "mapbox": {
           "style": "light"
          },
          "paper_bgcolor": "white",
          "plot_bgcolor": "#E5ECF6",
          "polar": {
           "angularaxis": {
            "gridcolor": "white",
            "linecolor": "white",
            "ticks": ""
           },
           "bgcolor": "#E5ECF6",
           "radialaxis": {
            "gridcolor": "white",
            "linecolor": "white",
            "ticks": ""
           }
          },
          "scene": {
           "xaxis": {
            "backgroundcolor": "#E5ECF6",
            "gridcolor": "white",
            "gridwidth": 2,
            "linecolor": "white",
            "showbackground": true,
            "ticks": "",
            "zerolinecolor": "white"
           },
           "yaxis": {
            "backgroundcolor": "#E5ECF6",
            "gridcolor": "white",
            "gridwidth": 2,
            "linecolor": "white",
            "showbackground": true,
            "ticks": "",
            "zerolinecolor": "white"
           },
           "zaxis": {
            "backgroundcolor": "#E5ECF6",
            "gridcolor": "white",
            "gridwidth": 2,
            "linecolor": "white",
            "showbackground": true,
            "ticks": "",
            "zerolinecolor": "white"
           }
          },
          "shapedefaults": {
           "line": {
            "color": "#2a3f5f"
           }
          },
          "ternary": {
           "aaxis": {
            "gridcolor": "white",
            "linecolor": "white",
            "ticks": ""
           },
           "baxis": {
            "gridcolor": "white",
            "linecolor": "white",
            "ticks": ""
           },
           "bgcolor": "#E5ECF6",
           "caxis": {
            "gridcolor": "white",
            "linecolor": "white",
            "ticks": ""
           }
          },
          "title": {
           "x": 0.05
          },
          "xaxis": {
           "automargin": true,
           "gridcolor": "white",
           "linecolor": "white",
           "ticks": "",
           "title": {
            "standoff": 15
           },
           "zerolinecolor": "white",
           "zerolinewidth": 2
          },
          "yaxis": {
           "automargin": true,
           "gridcolor": "white",
           "linecolor": "white",
           "ticks": "",
           "title": {
            "standoff": 15
           },
           "zerolinecolor": "white",
           "zerolinewidth": 2
          }
         }
        },
        "title": {
         "text": "Age vs. Fare Paid Scatter Plot"
        },
        "xaxis": {
         "anchor": "y",
         "domain": [
          0,
          1
         ],
         "title": {
          "text": "Age (years)"
         }
        },
        "yaxis": {
         "anchor": "x",
         "domain": [
          0,
          1
         ],
         "title": {
          "text": "Fare ($)"
         }
        }
       }
      }
     },
     "metadata": {},
     "output_type": "display_data"
    }
   ],
   "source": [
    "# Create a scatter plot for Age vs. Fare\n",
    "fig = px.scatter(titanic, x='Age', y='Fare', color='Survived',\n",
    "                 title='Age vs. Fare Paid Scatter Plot',\n",
    "                 labels={'Fare': 'Fare ($)', 'Age': 'Age (years)'}, \n",
    "                 hover_data=['Name', 'Pclass', 'Sex'])\n",
    "\n",
    "# Show the plot\n",
    "fig.show()"
   ]
  },
  {
   "cell_type": "markdown",
   "metadata": {},
   "source": [
    "Fare Paid Distribution:\n",
    "A histogram or boxplot could represent the distribution of fares paid by passengers, which can also be segmented by class or survival status."
   ]
  },
  {
   "cell_type": "code",
   "execution_count": 18,
   "metadata": {},
   "outputs": [
    {
     "data": {
      "application/vnd.plotly.v1+json": {
       "config": {
        "plotlyServerURL": "https://plot.ly"
       },
       "data": [
        {
         "alignmentgroup": "True",
         "bingroup": "x",
         "hovertemplate": "Passenger Class=3<br>Fare ($)=%{x}<br>count=%{y}<extra></extra>",
         "legendgroup": "3",
         "marker": {
          "color": "#636efa",
          "opacity": 0.75,
          "pattern": {
           "shape": ""
          }
         },
         "name": "3",
         "nbinsx": 30,
         "offsetgroup": "3",
         "orientation": "v",
         "showlegend": true,
         "type": "histogram",
         "x": [
          7.25,
          7.925,
          8.05,
          21.075,
          11.1333,
          16.7,
          8.05,
          31.275,
          7.8542,
          29.125,
          18,
          8.0292,
          21.075,
          31.3875,
          8.05,
          18,
          11.2417,
          9.475,
          7.8792,
          17.8,
          39.6875,
          7.8,
          7.2292,
          46.9,
          7.2292,
          27.9,
          8.1583,
          7.925,
          8.6625,
          46.9,
          14.4542,
          56.4958,
          7.65,
          12.475,
          9,
          9.5,
          15.85,
          34.375,
          8.05,
          8.05,
          7.8542,
          20.575,
          7.25,
          7.8958,
          8.6542,
          7.925,
          7.8958,
          7.65,
          7.8958,
          14.4542,
          8.05,
          9.825,
          14.4583,
          7.925,
          7.75,
          31.275,
          11.2417,
          7.1417,
          6.975,
          7.8958,
          7.05,
          14.5,
          9.2167,
          7.75,
          15.85,
          6.75,
          7.7958,
          34.375,
          8.05,
          14.5,
          7.7333,
          8.05,
          16.1,
          7.775,
          8.6625,
          39.6875,
          20.525,
          27.9,
          56.4958,
          29.125,
          11.1333,
          7.925,
          7.8542,
          0,
          31.3875,
          22.025,
          15.5,
          7.8958,
          7.8542,
          8.4042,
          9.5,
          6.4958,
          7.225,
          8.05,
          10.4625,
          15.85,
          18.7875,
          7.75,
          7.05,
          7.25,
          7.925,
          8.05,
          8.05,
          9.35,
          7.25,
          7.775,
          31.3875,
          7.125,
          7.225,
          7.775,
          10.4625,
          16.1,
          20.2125,
          15.2458,
          31.3875,
          39.6875,
          7.775,
          0,
          7.75,
          29.125,
          20.25,
          7.75,
          7.8542,
          9.5,
          8.05,
          8.6625,
          9.5,
          7.8958,
          7.75,
          8.85,
          7.8958,
          7.2292,
          0,
          7.8958,
          7.8542,
          7.25,
          7.8958,
          6.2375,
          20.525,
          18,
          8.05,
          15.9,
          8.6625,
          9.225,
          7.2292,
          17.8,
          9.5,
          27.9,
          14.4542,
          7.05,
          7.25,
          6.4958,
          8.05,
          21.075,
          7.25,
          4.0125,
          7.775,
          15.7417,
          7.925,
          46.9,
          7.7958,
          7.925,
          16.7,
          7.7958,
          7.8542,
          7.925,
          8.05,
          9.825,
          15.85,
          8.6625,
          7.75,
          7.775,
          7.925,
          24.15,
          7.7333,
          7.875,
          14.4,
          20.2125,
          8.05,
          7.125,
          34.375,
          9.5,
          7.775,
          19.2583,
          7.8958,
          8.05,
          7.05,
          19.2583,
          8.6625,
          9.8375,
          7.0458,
          7.5208,
          12.2875,
          46.9,
          8.05,
          9.5875,
          8.05,
          15.9,
          7.25,
          8.05,
          7.7958,
          8.6625,
          7.75,
          9.5875,
          22.525,
          56.4958,
          7.75,
          7.4958,
          7.8958,
          7.8958,
          7.75,
          7.925,
          7.2292,
          8.6625,
          31.275,
          31.275,
          20.525,
          7.225,
          7.775,
          17.4,
          7.8958,
          24.15,
          7.8958,
          21.075,
          7.8542,
          8.05,
          14.5,
          7.925,
          8.05,
          7.125,
          7.25,
          24.15,
          0,
          8.05,
          15.55,
          7.8958,
          31.275,
          8.05,
          14.4,
          16.1,
          14.4542,
          15.7417,
          7.8542,
          16.1,
          7.8958,
          7.0542,
          27.9,
          7.925,
          39.6875,
          7.8542,
          27.9,
          19.2583,
          7.8958,
          7.55,
          8.4333,
          6.75,
          15.5,
          7.225,
          7.4958,
          7.925,
          8.05,
          7.775,
          8.05,
          9.8417,
          46.9,
          9.225,
          46.9,
          39.6875,
          10.1708,
          7.7958,
          13.4167,
          7.225,
          8.05,
          7.65,
          14.4542,
          7.7417,
          7.8542,
          9.4833,
          7.65,
          7.775,
          7.0542,
          8.6625,
          7.925,
          18.7875,
          16.1,
          34.375,
          16.1,
          7.925,
          20.25,
          7.75,
          12.475,
          9.5,
          7.8958,
          7.7958,
          8.05,
          7.125,
          7.2292,
          7.775,
          7.75,
          8.3625,
          9.5,
          7.8542,
          7.75,
          12.475,
          7.2292,
          7.05,
          7.25,
          7.4958,
          29.125,
          20.575,
          7.8958,
          8.6833,
          7.2292,
          24.15,
          8.5167,
          6.975,
          7.775,
          7.775,
          7.8875,
          24.15,
          31.275,
          8.05,
          7.925,
          6.45,
          27.9,
          8.6625,
          12.475,
          39.6875,
          14.4542,
          7.8542,
          8.3,
          8.6625,
          56.4958,
          7.925,
          6.4375,
          8.6625,
          7.55,
          7.8958,
          31.275,
          7.775,
          15.2458,
          9.35,
          19.2583,
          14.1083,
          11.1333,
          7.8958,
          9,
          7.225,
          9.8458,
          7.8958,
          7.8958,
          10.5167,
          7.05,
          29.125,
          7.75
         ],
         "xaxis": "x",
         "yaxis": "y"
        },
        {
         "alignmentgroup": "True",
         "bingroup": "x",
         "hovertemplate": "Passenger Class=1<br>Fare ($)=%{x}<br>count=%{y}<extra></extra>",
         "legendgroup": "1",
         "marker": {
          "color": "#EF553B",
          "opacity": 0.75,
          "pattern": {
           "shape": ""
          }
         },
         "name": "1",
         "nbinsx": 30,
         "offsetgroup": "1",
         "orientation": "v",
         "showlegend": true,
         "type": "histogram",
         "x": [
          71.2833,
          53.1,
          51.8625,
          26.55,
          35.5,
          263,
          27.7208,
          82.1708,
          52,
          76.7292,
          61.9792,
          80,
          83.475,
          47.1,
          263,
          61.175,
          34.6542,
          63.3583,
          77.2875,
          52,
          247.5208,
          77.2875,
          26.2833,
          53.1,
          79.2,
          66.6,
          61.3792,
          33.5,
          30.6958,
          28.7125,
          26.55,
          27.7208,
          146.5208,
          31,
          113.275,
          76.2917,
          90,
          83.475,
          90,
          52.5542,
          26.55,
          86.5,
          512.3292,
          79.65,
          0,
          153.4625,
          135.6333,
          29.7,
          77.9583,
          78.85,
          91.0792,
          151.55,
          247.5208,
          151.55,
          108.9,
          56.9292,
          83.1583,
          262.375,
          164.8667,
          134.5,
          135.6333,
          57.9792,
          28.5,
          153.4625,
          66.6,
          134.5,
          35.5,
          263,
          55,
          75.25,
          69.3,
          55.4417,
          135.6333,
          211.5,
          227.525,
          52,
          120,
          113.275,
          90,
          26.55,
          55.9,
          120,
          263,
          81.8583,
          26.55,
          30.5,
          27.75,
          89.1042,
          26.55,
          26.55,
          38.5,
          26.55,
          91.0792,
          90,
          29.7,
          30.5,
          49.5042,
          78.2667,
          151.55,
          86.5,
          108.9,
          26.2875,
          59.4,
          34.0208,
          93.5,
          57.9792,
          26.55,
          106.425,
          49.5,
          71,
          106.425,
          26,
          110.8833,
          26.55,
          39.6,
          79.65,
          51.4792,
          26.3875,
          55.9,
          110.8833,
          40.125,
          79.65,
          79.2,
          78.2667,
          56.9292,
          26.55,
          30.5,
          153.4625,
          52.5542,
          32.3208,
          77.9583,
          30,
          30.5,
          69.3,
          76.7292,
          35.5,
          113.275,
          133.65,
          25.5875,
          52,
          512.3292,
          76.7292,
          211.3375,
          57,
          26.55,
          110.8833,
          227.525,
          26.2875,
          26.2875,
          151.55,
          49.5042,
          52,
          227.525,
          53.1,
          211.3375,
          512.3292,
          78.85,
          262.375,
          71,
          53.1,
          86.5,
          120,
          77.9583,
          211.3375,
          57,
          30,
          79.2,
          25.9292,
          120,
          0,
          53.1,
          93.5,
          0,
          80,
          83.1583,
          31,
          39.4,
          164.8667,
          26.55,
          25.9292,
          50.4958,
          52.5542,
          5,
          83.1583,
          30,
          30
         ],
         "xaxis": "x",
         "yaxis": "y"
        },
        {
         "alignmentgroup": "True",
         "bingroup": "x",
         "hovertemplate": "Passenger Class=2<br>Fare ($)=%{x}<br>count=%{y}<extra></extra>",
         "legendgroup": "2",
         "marker": {
          "color": "#00cc96",
          "opacity": 0.75,
          "pattern": {
           "shape": ""
          }
         },
         "name": "2",
         "nbinsx": 30,
         "offsetgroup": "2",
         "orientation": "v",
         "showlegend": true,
         "type": "histogram",
         "x": [
          30.0708,
          16,
          26,
          13,
          10.5,
          21,
          41.5792,
          26,
          10.5,
          27.75,
          10.5,
          10.5,
          73.5,
          29,
          10.5,
          23,
          26,
          21,
          73.5,
          30.0708,
          13,
          26,
          13,
          15.0458,
          11.5,
          36.75,
          26,
          13,
          12.525,
          15.75,
          13,
          39,
          13,
          13,
          26,
          13,
          21,
          13,
          27,
          10.5,
          13,
          10.5,
          13,
          13.5,
          10.5,
          26,
          26.25,
          10.5,
          12.275,
          10.5,
          14.5,
          26,
          26,
          10.5,
          19.5,
          13,
          12.875,
          24,
          26,
          26.25,
          26,
          14,
          12.35,
          29,
          13,
          26,
          13,
          13,
          13,
          13,
          13,
          13,
          27.7208,
          73.5,
          13,
          12,
          26,
          10.5,
          12.65,
          21,
          18.75,
          32.5,
          13,
          13,
          26,
          26,
          26,
          18.75,
          10.5,
          26.25,
          13,
          19.5,
          27.75,
          10.5,
          13,
          27.75,
          13.7917,
          21,
          26,
          10.5,
          26,
          10.5,
          11.5,
          26,
          26.25,
          26,
          26,
          36.75,
          26,
          13.5,
          10.5,
          13,
          30,
          26,
          15,
          26,
          27,
          41.5792,
          65,
          39,
          10.5,
          12.35,
          13,
          26.25,
          23,
          73.5,
          13,
          73.5,
          13,
          39,
          10.5,
          13,
          39,
          41.5792,
          13.5,
          26,
          13.5,
          13,
          10.5,
          33,
          13,
          13,
          21,
          26,
          13,
          13,
          13,
          23,
          65,
          14.5,
          11.5,
          10.5,
          23,
          26,
          13,
          13,
          26.25,
          13,
          10.5,
          37.0042,
          37.0042,
          18.75,
          10.5,
          33,
          26,
          11.5,
          13,
          13,
          13.8583,
          24,
          26,
          10.5,
          13
         ],
         "xaxis": "x",
         "yaxis": "y"
        }
       ],
       "layout": {
        "barmode": "overlay",
        "legend": {
         "title": {
          "text": "Passenger Class"
         },
         "tracegroupgap": 0
        },
        "template": {
         "data": {
          "bar": [
           {
            "error_x": {
             "color": "#2a3f5f"
            },
            "error_y": {
             "color": "#2a3f5f"
            },
            "marker": {
             "line": {
              "color": "#E5ECF6",
              "width": 0.5
             },
             "pattern": {
              "fillmode": "overlay",
              "size": 10,
              "solidity": 0.2
             }
            },
            "type": "bar"
           }
          ],
          "barpolar": [
           {
            "marker": {
             "line": {
              "color": "#E5ECF6",
              "width": 0.5
             },
             "pattern": {
              "fillmode": "overlay",
              "size": 10,
              "solidity": 0.2
             }
            },
            "type": "barpolar"
           }
          ],
          "carpet": [
           {
            "aaxis": {
             "endlinecolor": "#2a3f5f",
             "gridcolor": "white",
             "linecolor": "white",
             "minorgridcolor": "white",
             "startlinecolor": "#2a3f5f"
            },
            "baxis": {
             "endlinecolor": "#2a3f5f",
             "gridcolor": "white",
             "linecolor": "white",
             "minorgridcolor": "white",
             "startlinecolor": "#2a3f5f"
            },
            "type": "carpet"
           }
          ],
          "choropleth": [
           {
            "colorbar": {
             "outlinewidth": 0,
             "ticks": ""
            },
            "type": "choropleth"
           }
          ],
          "contour": [
           {
            "colorbar": {
             "outlinewidth": 0,
             "ticks": ""
            },
            "colorscale": [
             [
              0,
              "#0d0887"
             ],
             [
              0.1111111111111111,
              "#46039f"
             ],
             [
              0.2222222222222222,
              "#7201a8"
             ],
             [
              0.3333333333333333,
              "#9c179e"
             ],
             [
              0.4444444444444444,
              "#bd3786"
             ],
             [
              0.5555555555555556,
              "#d8576b"
             ],
             [
              0.6666666666666666,
              "#ed7953"
             ],
             [
              0.7777777777777778,
              "#fb9f3a"
             ],
             [
              0.8888888888888888,
              "#fdca26"
             ],
             [
              1,
              "#f0f921"
             ]
            ],
            "type": "contour"
           }
          ],
          "contourcarpet": [
           {
            "colorbar": {
             "outlinewidth": 0,
             "ticks": ""
            },
            "type": "contourcarpet"
           }
          ],
          "heatmap": [
           {
            "colorbar": {
             "outlinewidth": 0,
             "ticks": ""
            },
            "colorscale": [
             [
              0,
              "#0d0887"
             ],
             [
              0.1111111111111111,
              "#46039f"
             ],
             [
              0.2222222222222222,
              "#7201a8"
             ],
             [
              0.3333333333333333,
              "#9c179e"
             ],
             [
              0.4444444444444444,
              "#bd3786"
             ],
             [
              0.5555555555555556,
              "#d8576b"
             ],
             [
              0.6666666666666666,
              "#ed7953"
             ],
             [
              0.7777777777777778,
              "#fb9f3a"
             ],
             [
              0.8888888888888888,
              "#fdca26"
             ],
             [
              1,
              "#f0f921"
             ]
            ],
            "type": "heatmap"
           }
          ],
          "heatmapgl": [
           {
            "colorbar": {
             "outlinewidth": 0,
             "ticks": ""
            },
            "colorscale": [
             [
              0,
              "#0d0887"
             ],
             [
              0.1111111111111111,
              "#46039f"
             ],
             [
              0.2222222222222222,
              "#7201a8"
             ],
             [
              0.3333333333333333,
              "#9c179e"
             ],
             [
              0.4444444444444444,
              "#bd3786"
             ],
             [
              0.5555555555555556,
              "#d8576b"
             ],
             [
              0.6666666666666666,
              "#ed7953"
             ],
             [
              0.7777777777777778,
              "#fb9f3a"
             ],
             [
              0.8888888888888888,
              "#fdca26"
             ],
             [
              1,
              "#f0f921"
             ]
            ],
            "type": "heatmapgl"
           }
          ],
          "histogram": [
           {
            "marker": {
             "pattern": {
              "fillmode": "overlay",
              "size": 10,
              "solidity": 0.2
             }
            },
            "type": "histogram"
           }
          ],
          "histogram2d": [
           {
            "colorbar": {
             "outlinewidth": 0,
             "ticks": ""
            },
            "colorscale": [
             [
              0,
              "#0d0887"
             ],
             [
              0.1111111111111111,
              "#46039f"
             ],
             [
              0.2222222222222222,
              "#7201a8"
             ],
             [
              0.3333333333333333,
              "#9c179e"
             ],
             [
              0.4444444444444444,
              "#bd3786"
             ],
             [
              0.5555555555555556,
              "#d8576b"
             ],
             [
              0.6666666666666666,
              "#ed7953"
             ],
             [
              0.7777777777777778,
              "#fb9f3a"
             ],
             [
              0.8888888888888888,
              "#fdca26"
             ],
             [
              1,
              "#f0f921"
             ]
            ],
            "type": "histogram2d"
           }
          ],
          "histogram2dcontour": [
           {
            "colorbar": {
             "outlinewidth": 0,
             "ticks": ""
            },
            "colorscale": [
             [
              0,
              "#0d0887"
             ],
             [
              0.1111111111111111,
              "#46039f"
             ],
             [
              0.2222222222222222,
              "#7201a8"
             ],
             [
              0.3333333333333333,
              "#9c179e"
             ],
             [
              0.4444444444444444,
              "#bd3786"
             ],
             [
              0.5555555555555556,
              "#d8576b"
             ],
             [
              0.6666666666666666,
              "#ed7953"
             ],
             [
              0.7777777777777778,
              "#fb9f3a"
             ],
             [
              0.8888888888888888,
              "#fdca26"
             ],
             [
              1,
              "#f0f921"
             ]
            ],
            "type": "histogram2dcontour"
           }
          ],
          "mesh3d": [
           {
            "colorbar": {
             "outlinewidth": 0,
             "ticks": ""
            },
            "type": "mesh3d"
           }
          ],
          "parcoords": [
           {
            "line": {
             "colorbar": {
              "outlinewidth": 0,
              "ticks": ""
             }
            },
            "type": "parcoords"
           }
          ],
          "pie": [
           {
            "automargin": true,
            "type": "pie"
           }
          ],
          "scatter": [
           {
            "fillpattern": {
             "fillmode": "overlay",
             "size": 10,
             "solidity": 0.2
            },
            "type": "scatter"
           }
          ],
          "scatter3d": [
           {
            "line": {
             "colorbar": {
              "outlinewidth": 0,
              "ticks": ""
             }
            },
            "marker": {
             "colorbar": {
              "outlinewidth": 0,
              "ticks": ""
             }
            },
            "type": "scatter3d"
           }
          ],
          "scattercarpet": [
           {
            "marker": {
             "colorbar": {
              "outlinewidth": 0,
              "ticks": ""
             }
            },
            "type": "scattercarpet"
           }
          ],
          "scattergeo": [
           {
            "marker": {
             "colorbar": {
              "outlinewidth": 0,
              "ticks": ""
             }
            },
            "type": "scattergeo"
           }
          ],
          "scattergl": [
           {
            "marker": {
             "colorbar": {
              "outlinewidth": 0,
              "ticks": ""
             }
            },
            "type": "scattergl"
           }
          ],
          "scattermapbox": [
           {
            "marker": {
             "colorbar": {
              "outlinewidth": 0,
              "ticks": ""
             }
            },
            "type": "scattermapbox"
           }
          ],
          "scatterpolar": [
           {
            "marker": {
             "colorbar": {
              "outlinewidth": 0,
              "ticks": ""
             }
            },
            "type": "scatterpolar"
           }
          ],
          "scatterpolargl": [
           {
            "marker": {
             "colorbar": {
              "outlinewidth": 0,
              "ticks": ""
             }
            },
            "type": "scatterpolargl"
           }
          ],
          "scatterternary": [
           {
            "marker": {
             "colorbar": {
              "outlinewidth": 0,
              "ticks": ""
             }
            },
            "type": "scatterternary"
           }
          ],
          "surface": [
           {
            "colorbar": {
             "outlinewidth": 0,
             "ticks": ""
            },
            "colorscale": [
             [
              0,
              "#0d0887"
             ],
             [
              0.1111111111111111,
              "#46039f"
             ],
             [
              0.2222222222222222,
              "#7201a8"
             ],
             [
              0.3333333333333333,
              "#9c179e"
             ],
             [
              0.4444444444444444,
              "#bd3786"
             ],
             [
              0.5555555555555556,
              "#d8576b"
             ],
             [
              0.6666666666666666,
              "#ed7953"
             ],
             [
              0.7777777777777778,
              "#fb9f3a"
             ],
             [
              0.8888888888888888,
              "#fdca26"
             ],
             [
              1,
              "#f0f921"
             ]
            ],
            "type": "surface"
           }
          ],
          "table": [
           {
            "cells": {
             "fill": {
              "color": "#EBF0F8"
             },
             "line": {
              "color": "white"
             }
            },
            "header": {
             "fill": {
              "color": "#C8D4E3"
             },
             "line": {
              "color": "white"
             }
            },
            "type": "table"
           }
          ]
         },
         "layout": {
          "annotationdefaults": {
           "arrowcolor": "#2a3f5f",
           "arrowhead": 0,
           "arrowwidth": 1
          },
          "autotypenumbers": "strict",
          "coloraxis": {
           "colorbar": {
            "outlinewidth": 0,
            "ticks": ""
           }
          },
          "colorscale": {
           "diverging": [
            [
             0,
             "#8e0152"
            ],
            [
             0.1,
             "#c51b7d"
            ],
            [
             0.2,
             "#de77ae"
            ],
            [
             0.3,
             "#f1b6da"
            ],
            [
             0.4,
             "#fde0ef"
            ],
            [
             0.5,
             "#f7f7f7"
            ],
            [
             0.6,
             "#e6f5d0"
            ],
            [
             0.7,
             "#b8e186"
            ],
            [
             0.8,
             "#7fbc41"
            ],
            [
             0.9,
             "#4d9221"
            ],
            [
             1,
             "#276419"
            ]
           ],
           "sequential": [
            [
             0,
             "#0d0887"
            ],
            [
             0.1111111111111111,
             "#46039f"
            ],
            [
             0.2222222222222222,
             "#7201a8"
            ],
            [
             0.3333333333333333,
             "#9c179e"
            ],
            [
             0.4444444444444444,
             "#bd3786"
            ],
            [
             0.5555555555555556,
             "#d8576b"
            ],
            [
             0.6666666666666666,
             "#ed7953"
            ],
            [
             0.7777777777777778,
             "#fb9f3a"
            ],
            [
             0.8888888888888888,
             "#fdca26"
            ],
            [
             1,
             "#f0f921"
            ]
           ],
           "sequentialminus": [
            [
             0,
             "#0d0887"
            ],
            [
             0.1111111111111111,
             "#46039f"
            ],
            [
             0.2222222222222222,
             "#7201a8"
            ],
            [
             0.3333333333333333,
             "#9c179e"
            ],
            [
             0.4444444444444444,
             "#bd3786"
            ],
            [
             0.5555555555555556,
             "#d8576b"
            ],
            [
             0.6666666666666666,
             "#ed7953"
            ],
            [
             0.7777777777777778,
             "#fb9f3a"
            ],
            [
             0.8888888888888888,
             "#fdca26"
            ],
            [
             1,
             "#f0f921"
            ]
           ]
          },
          "colorway": [
           "#636efa",
           "#EF553B",
           "#00cc96",
           "#ab63fa",
           "#FFA15A",
           "#19d3f3",
           "#FF6692",
           "#B6E880",
           "#FF97FF",
           "#FECB52"
          ],
          "font": {
           "color": "#2a3f5f"
          },
          "geo": {
           "bgcolor": "white",
           "lakecolor": "white",
           "landcolor": "#E5ECF6",
           "showlakes": true,
           "showland": true,
           "subunitcolor": "white"
          },
          "hoverlabel": {
           "align": "left"
          },
          "hovermode": "closest",
          "mapbox": {
           "style": "light"
          },
          "paper_bgcolor": "white",
          "plot_bgcolor": "#E5ECF6",
          "polar": {
           "angularaxis": {
            "gridcolor": "white",
            "linecolor": "white",
            "ticks": ""
           },
           "bgcolor": "#E5ECF6",
           "radialaxis": {
            "gridcolor": "white",
            "linecolor": "white",
            "ticks": ""
           }
          },
          "scene": {
           "xaxis": {
            "backgroundcolor": "#E5ECF6",
            "gridcolor": "white",
            "gridwidth": 2,
            "linecolor": "white",
            "showbackground": true,
            "ticks": "",
            "zerolinecolor": "white"
           },
           "yaxis": {
            "backgroundcolor": "#E5ECF6",
            "gridcolor": "white",
            "gridwidth": 2,
            "linecolor": "white",
            "showbackground": true,
            "ticks": "",
            "zerolinecolor": "white"
           },
           "zaxis": {
            "backgroundcolor": "#E5ECF6",
            "gridcolor": "white",
            "gridwidth": 2,
            "linecolor": "white",
            "showbackground": true,
            "ticks": "",
            "zerolinecolor": "white"
           }
          },
          "shapedefaults": {
           "line": {
            "color": "#2a3f5f"
           }
          },
          "ternary": {
           "aaxis": {
            "gridcolor": "white",
            "linecolor": "white",
            "ticks": ""
           },
           "baxis": {
            "gridcolor": "white",
            "linecolor": "white",
            "ticks": ""
           },
           "bgcolor": "#E5ECF6",
           "caxis": {
            "gridcolor": "white",
            "linecolor": "white",
            "ticks": ""
           }
          },
          "title": {
           "x": 0.05
          },
          "xaxis": {
           "automargin": true,
           "gridcolor": "white",
           "linecolor": "white",
           "ticks": "",
           "title": {
            "standoff": 15
           },
           "zerolinecolor": "white",
           "zerolinewidth": 2
          },
          "yaxis": {
           "automargin": true,
           "gridcolor": "white",
           "linecolor": "white",
           "ticks": "",
           "title": {
            "standoff": 15
           },
           "zerolinecolor": "white",
           "zerolinewidth": 2
          }
         }
        },
        "title": {
         "text": "Fare Distribution by Passenger Class"
        },
        "xaxis": {
         "anchor": "y",
         "domain": [
          0,
          1
         ],
         "title": {
          "text": "Fare ($)"
         }
        },
        "yaxis": {
         "anchor": "x",
         "domain": [
          0,
          1
         ],
         "title": {
          "text": "count"
         }
        }
       }
      }
     },
     "metadata": {},
     "output_type": "display_data"
    }
   ],
   "source": [
    "# Create a histogram for Fare distribution segmented by Pclass\n",
    "fig = px.histogram(titanic, x='Fare', color='Pclass',\n",
    "                   title='Fare Distribution by Passenger Class',\n",
    "                   labels={'Fare': 'Fare ($)', 'Pclass': 'Passenger Class'},\n",
    "                   barmode='overlay',  # Overlay the histograms to compare classes\n",
    "                   nbins=30,  # You can adjust the number of bins for more/less granularity\n",
    "                   opacity=0.75)  # Set the opacity to see overlapping bars\n",
    "\n",
    "# Show the plot\n",
    "fig.show()"
   ]
  },
  {
   "cell_type": "markdown",
   "metadata": {},
   "source": [
    "Create a boxplot to visualize the distribution of fares, segmented by survival status"
   ]
  },
  {
   "cell_type": "code",
   "execution_count": 19,
   "metadata": {},
   "outputs": [
    {
     "data": {
      "application/vnd.plotly.v1+json": {
       "config": {
        "plotlyServerURL": "https://plot.ly"
       },
       "data": [
        {
         "alignmentgroup": "True",
         "hovertemplate": "Survival Status=%{x}<br>Fare ($)=%{y}<extra></extra>",
         "legendgroup": "0",
         "marker": {
          "color": "#636efa"
         },
         "name": "0",
         "notched": true,
         "offsetgroup": "0",
         "orientation": "v",
         "showlegend": true,
         "type": "box",
         "x": [
          0,
          0,
          0,
          0,
          0,
          0,
          0,
          0,
          0,
          0,
          0,
          0,
          0,
          0,
          0,
          0,
          0,
          0,
          0,
          0,
          0,
          0,
          0,
          0,
          0,
          0,
          0,
          0,
          0,
          0,
          0,
          0,
          0,
          0,
          0,
          0,
          0,
          0,
          0,
          0,
          0,
          0,
          0,
          0,
          0,
          0,
          0,
          0,
          0,
          0,
          0,
          0,
          0,
          0,
          0,
          0,
          0,
          0,
          0,
          0,
          0,
          0,
          0,
          0,
          0,
          0,
          0,
          0,
          0,
          0,
          0,
          0,
          0,
          0,
          0,
          0,
          0,
          0,
          0,
          0,
          0,
          0,
          0,
          0,
          0,
          0,
          0,
          0,
          0,
          0,
          0,
          0,
          0,
          0,
          0,
          0,
          0,
          0,
          0,
          0,
          0,
          0,
          0,
          0,
          0,
          0,
          0,
          0,
          0,
          0,
          0,
          0,
          0,
          0,
          0,
          0,
          0,
          0,
          0,
          0,
          0,
          0,
          0,
          0,
          0,
          0,
          0,
          0,
          0,
          0,
          0,
          0,
          0,
          0,
          0,
          0,
          0,
          0,
          0,
          0,
          0,
          0,
          0,
          0,
          0,
          0,
          0,
          0,
          0,
          0,
          0,
          0,
          0,
          0,
          0,
          0,
          0,
          0,
          0,
          0,
          0,
          0,
          0,
          0,
          0,
          0,
          0,
          0,
          0,
          0,
          0,
          0,
          0,
          0,
          0,
          0,
          0,
          0,
          0,
          0,
          0,
          0,
          0,
          0,
          0,
          0,
          0,
          0,
          0,
          0,
          0,
          0,
          0,
          0,
          0,
          0,
          0,
          0,
          0,
          0,
          0,
          0,
          0,
          0,
          0,
          0,
          0,
          0,
          0,
          0,
          0,
          0,
          0,
          0,
          0,
          0,
          0,
          0,
          0,
          0,
          0,
          0,
          0,
          0,
          0,
          0,
          0,
          0,
          0,
          0,
          0,
          0,
          0,
          0,
          0,
          0,
          0,
          0,
          0,
          0,
          0,
          0,
          0,
          0,
          0,
          0,
          0,
          0,
          0,
          0,
          0,
          0,
          0,
          0,
          0,
          0,
          0,
          0,
          0,
          0,
          0,
          0,
          0,
          0,
          0,
          0,
          0,
          0,
          0,
          0,
          0,
          0,
          0,
          0,
          0,
          0,
          0,
          0,
          0,
          0,
          0,
          0,
          0,
          0,
          0,
          0,
          0,
          0,
          0,
          0,
          0,
          0,
          0,
          0,
          0,
          0,
          0,
          0,
          0,
          0,
          0,
          0,
          0,
          0,
          0,
          0,
          0,
          0,
          0,
          0,
          0,
          0,
          0,
          0,
          0,
          0,
          0,
          0,
          0,
          0,
          0,
          0,
          0,
          0,
          0,
          0,
          0,
          0,
          0,
          0,
          0,
          0,
          0,
          0,
          0,
          0,
          0,
          0,
          0,
          0,
          0,
          0,
          0,
          0,
          0,
          0,
          0,
          0,
          0,
          0,
          0,
          0,
          0,
          0,
          0,
          0,
          0,
          0,
          0,
          0,
          0,
          0,
          0,
          0,
          0,
          0,
          0,
          0,
          0,
          0,
          0,
          0,
          0,
          0,
          0,
          0,
          0,
          0,
          0,
          0,
          0,
          0,
          0,
          0,
          0,
          0,
          0,
          0,
          0,
          0,
          0,
          0,
          0,
          0,
          0,
          0,
          0,
          0,
          0,
          0,
          0,
          0,
          0,
          0,
          0,
          0,
          0,
          0,
          0,
          0,
          0,
          0,
          0,
          0,
          0,
          0,
          0,
          0,
          0,
          0,
          0,
          0,
          0,
          0
         ],
         "x0": " ",
         "xaxis": "x",
         "y": [
          7.25,
          8.05,
          51.8625,
          21.075,
          8.05,
          31.275,
          7.8542,
          29.125,
          18,
          26,
          21.075,
          263,
          27.7208,
          10.5,
          82.1708,
          52,
          8.05,
          18,
          9.475,
          21,
          17.8,
          39.6875,
          7.8,
          61.9792,
          7.2292,
          46.9,
          7.2292,
          83.475,
          27.9,
          8.1583,
          8.6625,
          10.5,
          46.9,
          73.5,
          14.4542,
          7.65,
          9,
          47.1,
          34.375,
          8.05,
          8.05,
          7.8542,
          61.175,
          20.575,
          7.25,
          34.6542,
          26,
          7.8958,
          77.2875,
          8.6542,
          7.925,
          7.8958,
          7.8958,
          52,
          14.4542,
          8.05,
          9.825,
          14.4583,
          7.925,
          7.75,
          21,
          247.5208,
          31.275,
          73.5,
          30.0708,
          77.2875,
          6.975,
          7.8958,
          7.05,
          14.5,
          13,
          15.0458,
          53.1,
          9.2167,
          79.2,
          6.75,
          11.5,
          36.75,
          34.375,
          26,
          13,
          12.525,
          8.05,
          14.5,
          61.3792,
          8.05,
          16.1,
          7.775,
          8.6625,
          39.6875,
          27.9,
          56.4958,
          33.5,
          29.125,
          7.925,
          30.6958,
          7.8542,
          28.7125,
          13,
          0,
          31.3875,
          15.5,
          7.8958,
          13,
          8.4042,
          13,
          9.5,
          6.4958,
          7.225,
          10.4625,
          15.85,
          7.05,
          7.25,
          13,
          27,
          10.5,
          13,
          8.05,
          9.35,
          7.25,
          13,
          7.775,
          13.5,
          10.5,
          26,
          10.5,
          12.275,
          10.5,
          7.125,
          7.225,
          90,
          7.775,
          26,
          10.4625,
          26.55,
          16.1,
          20.2125,
          79.65,
          0,
          10.5,
          39.6875,
          29.7,
          7.75,
          29.125,
          7.75,
          7.8542,
          9.5,
          8.6625,
          7.8958,
          12.875,
          8.85,
          7.8958,
          7.2292,
          151.55,
          0,
          24,
          26,
          7.8958,
          26.25,
          14,
          7.25,
          7.8958,
          6.2375,
          28.5,
          153.4625,
          18,
          66.6,
          35.5,
          13,
          13,
          13,
          8.6625,
          9.225,
          7.2292,
          17.8,
          9.5,
          13,
          27.9,
          27.7208,
          14.4542,
          7.05,
          7.25,
          6.4958,
          8.05,
          135.6333,
          21.075,
          211.5,
          4.0125,
          7.775,
          7.925,
          73.5,
          46.9,
          7.925,
          7.7958,
          7.8542,
          26,
          10.5,
          8.05,
          9.825,
          15.85,
          8.6625,
          21,
          7.75,
          7.775,
          13,
          24.15,
          7.7333,
          7.875,
          14.4,
          20.2125,
          7.125,
          55.9,
          34.375,
          263,
          10.5,
          9.5,
          7.775,
          27.75,
          27.75,
          26.55,
          8.05,
          38.5,
          13,
          7.05,
          26.55,
          8.6625,
          9.8375,
          21,
          7.0458,
          7.5208,
          46.9,
          8.05,
          29.7,
          8.05,
          7.25,
          30.5,
          49.5042,
          8.05,
          151.55,
          7.7958,
          8.6625,
          7.75,
          9.5875,
          108.9,
          22.525,
          7.4958,
          34.0208,
          7.8958,
          7.8958,
          7.75,
          7.925,
          11.5,
          7.2292,
          8.6625,
          26.55,
          31.275,
          31.275,
          106.425,
          26,
          20.525,
          26,
          26.55,
          7.8958,
          13.5,
          24.15,
          7.8958,
          21.075,
          8.05,
          14.5,
          26,
          40.125,
          15,
          8.05,
          7.125,
          7.25,
          26,
          24.15,
          0,
          8.05,
          15.55,
          7.8958,
          31.275,
          8.05,
          14.4,
          16.1,
          10.5,
          14.4542,
          7.8542,
          16.1,
          32.3208,
          12.35,
          7.8958,
          7.0542,
          27.9,
          7.925,
          26.25,
          39.6875,
          7.8542,
          27.9,
          7.8958,
          8.4333,
          6.75,
          73.5,
          15.5,
          13,
          113.275,
          7.225,
          25.5875,
          7.4958,
          73.5,
          13,
          8.05,
          52,
          10.5,
          7.775,
          8.05,
          46.9,
          9.225,
          46.9,
          39,
          41.5792,
          39.6875,
          10.1708,
          7.7958,
          7.225,
          26.55,
          13.5,
          8.05,
          110.8833,
          7.65,
          14.4542,
          7.7417,
          7.8542,
          26,
          9.4833,
          13,
          7.65,
          7.775,
          7.0542,
          13,
          13,
          8.6625,
          26,
          7.925,
          18.7875,
          13,
          13,
          16.1,
          34.375,
          78.85,
          16.1,
          71,
          20.25,
          53.1,
          7.75,
          9.5,
          7.8958,
          7.7958,
          11.5,
          8.05,
          7.125,
          7.775,
          7.75,
          8.3625,
          9.5,
          7.8542,
          10.5,
          7.75,
          30,
          7.05,
          7.25,
          29.125,
          79.2,
          26,
          7.8958,
          13,
          7.2292,
          24.15,
          13,
          7.775,
          0,
          7.775,
          13,
          7.8875,
          24.15,
          10.5,
          31.275,
          8.05,
          7.925,
          37.0042,
          6.45,
          27.9,
          0,
          39.6875,
          7.8542,
          8.3,
          8.6625,
          7.925,
          10.5,
          6.4375,
          8.6625,
          7.55,
          7.8958,
          33,
          31.275,
          7.775,
          15.2458,
          26,
          14.1083,
          11.5,
          13,
          50.4958,
          7.8958,
          5,
          9,
          9.8458,
          7.8958,
          7.8958,
          10.5167,
          10.5,
          7.05,
          29.125,
          13,
          7.75
         ],
         "y0": " ",
         "yaxis": "y"
        },
        {
         "alignmentgroup": "True",
         "hovertemplate": "Survival Status=%{x}<br>Fare ($)=%{y}<extra></extra>",
         "legendgroup": "1",
         "marker": {
          "color": "#EF553B"
         },
         "name": "1",
         "notched": true,
         "offsetgroup": "1",
         "orientation": "v",
         "showlegend": true,
         "type": "box",
         "x": [
          1,
          1,
          1,
          1,
          1,
          1,
          1,
          1,
          1,
          1,
          1,
          1,
          1,
          1,
          1,
          1,
          1,
          1,
          1,
          1,
          1,
          1,
          1,
          1,
          1,
          1,
          1,
          1,
          1,
          1,
          1,
          1,
          1,
          1,
          1,
          1,
          1,
          1,
          1,
          1,
          1,
          1,
          1,
          1,
          1,
          1,
          1,
          1,
          1,
          1,
          1,
          1,
          1,
          1,
          1,
          1,
          1,
          1,
          1,
          1,
          1,
          1,
          1,
          1,
          1,
          1,
          1,
          1,
          1,
          1,
          1,
          1,
          1,
          1,
          1,
          1,
          1,
          1,
          1,
          1,
          1,
          1,
          1,
          1,
          1,
          1,
          1,
          1,
          1,
          1,
          1,
          1,
          1,
          1,
          1,
          1,
          1,
          1,
          1,
          1,
          1,
          1,
          1,
          1,
          1,
          1,
          1,
          1,
          1,
          1,
          1,
          1,
          1,
          1,
          1,
          1,
          1,
          1,
          1,
          1,
          1,
          1,
          1,
          1,
          1,
          1,
          1,
          1,
          1,
          1,
          1,
          1,
          1,
          1,
          1,
          1,
          1,
          1,
          1,
          1,
          1,
          1,
          1,
          1,
          1,
          1,
          1,
          1,
          1,
          1,
          1,
          1,
          1,
          1,
          1,
          1,
          1,
          1,
          1,
          1,
          1,
          1,
          1,
          1,
          1,
          1,
          1,
          1,
          1,
          1,
          1,
          1,
          1,
          1,
          1,
          1,
          1,
          1,
          1,
          1,
          1,
          1,
          1,
          1,
          1,
          1,
          1,
          1,
          1,
          1,
          1,
          1,
          1,
          1,
          1,
          1,
          1,
          1,
          1,
          1,
          1,
          1,
          1,
          1,
          1,
          1,
          1,
          1,
          1,
          1,
          1,
          1,
          1,
          1,
          1,
          1,
          1,
          1,
          1,
          1,
          1,
          1,
          1,
          1,
          1,
          1,
          1,
          1,
          1,
          1,
          1,
          1,
          1,
          1,
          1,
          1,
          1,
          1,
          1,
          1,
          1,
          1,
          1,
          1,
          1,
          1,
          1,
          1,
          1,
          1,
          1,
          1,
          1,
          1,
          1,
          1,
          1,
          1,
          1,
          1,
          1,
          1,
          1,
          1,
          1,
          1,
          1,
          1,
          1,
          1,
          1,
          1,
          1,
          1,
          1,
          1,
          1,
          1,
          1,
          1,
          1,
          1,
          1,
          1,
          1,
          1,
          1,
          1,
          1,
          1
         ],
         "x0": " ",
         "xaxis": "x",
         "y": [
          71.2833,
          7.925,
          53.1,
          11.1333,
          30.0708,
          16.7,
          26.55,
          16,
          13,
          8.0292,
          35.5,
          31.3875,
          11.2417,
          41.5792,
          7.8792,
          76.7292,
          26,
          10.5,
          27.75,
          80,
          10.5,
          7.925,
          56.4958,
          29,
          12.475,
          9.5,
          10.5,
          15.85,
          263,
          63.3583,
          23,
          7.65,
          13,
          11.2417,
          7.1417,
          26,
          26.2833,
          7.75,
          15.85,
          7.7958,
          66.6,
          7.7333,
          15.75,
          20.525,
          11.1333,
          39,
          22.025,
          26.55,
          13,
          7.8542,
          26,
          27.7208,
          146.5208,
          8.05,
          18.7875,
          7.75,
          31,
          21,
          113.275,
          7.925,
          76.2917,
          8.05,
          90,
          10.5,
          83.475,
          31.3875,
          26.25,
          14.5,
          52.5542,
          15.2458,
          86.5,
          512.3292,
          26,
          31.3875,
          7.775,
          153.4625,
          135.6333,
          0,
          19.5,
          77.9583,
          20.25,
          8.05,
          9.5,
          13,
          7.75,
          78.85,
          91.0792,
          247.5208,
          151.55,
          108.9,
          56.9292,
          83.1583,
          262.375,
          7.8542,
          26,
          164.8667,
          134.5,
          12.35,
          29,
          135.6333,
          13,
          20.525,
          57.9792,
          134.5,
          8.05,
          26,
          263,
          13,
          13,
          15.9,
          55,
          75.25,
          69.3,
          55.4417,
          7.25,
          227.525,
          15.7417,
          52,
          13,
          12,
          120,
          7.7958,
          113.275,
          16.7,
          12.65,
          7.925,
          18.75,
          90,
          7.925,
          32.5,
          13,
          26,
          26,
          8.05,
          26.55,
          26,
          120,
          18.75,
          26.25,
          13,
          81.8583,
          19.5,
          26.55,
          19.2583,
          30.5,
          89.1042,
          7.8958,
          10.5,
          26.55,
          19.2583,
          27.75,
          13.7917,
          12.2875,
          9.5875,
          91.0792,
          90,
          15.9,
          78.2667,
          86.5,
          26,
          56.4958,
          7.75,
          26.2875,
          59.4,
          10.5,
          26,
          93.5,
          57.9792,
          10.5,
          26,
          26.25,
          106.425,
          49.5,
          71,
          26,
          26,
          36.75,
          110.8833,
          7.225,
          7.775,
          39.6,
          79.65,
          17.4,
          7.8542,
          10.5,
          51.4792,
          26.3875,
          13,
          55.9,
          7.925,
          30,
          110.8833,
          79.65,
          79.2,
          78.2667,
          56.9292,
          27,
          26.55,
          30.5,
          41.5792,
          153.4625,
          65,
          39,
          52.5542,
          15.7417,
          77.9583,
          30,
          30.5,
          13,
          69.3,
          19.2583,
          76.7292,
          35.5,
          7.55,
          23,
          133.65,
          7.925,
          39,
          13,
          9.8417,
          512.3292,
          76.7292,
          211.3375,
          57,
          13.4167,
          227.525,
          26.2875,
          13.5,
          26.2875,
          151.55,
          49.5042,
          52,
          227.525,
          10.5,
          33,
          53.1,
          21,
          211.3375,
          512.3292,
          262.375,
          7.925,
          13,
          23,
          12.475,
          65,
          14.5,
          86.5,
          7.2292,
          120,
          77.9583,
          23,
          12.475,
          211.3375,
          7.2292,
          57,
          7.4958,
          20.575,
          25.9292,
          8.6833,
          26.25,
          120,
          8.5167,
          6.975,
          53.1,
          93.5,
          8.6625,
          12.475,
          37.0042,
          80,
          14.4542,
          18.75,
          83.1583,
          56.4958,
          31,
          39.4,
          9.35,
          164.8667,
          26.55,
          19.2583,
          25.9292,
          13,
          13.8583,
          11.1333,
          52.5542,
          24,
          7.225,
          83.1583,
          26,
          30,
          30
         ],
         "y0": " ",
         "yaxis": "y"
        }
       ],
       "layout": {
        "boxmode": "overlay",
        "legend": {
         "title": {
          "text": "Survival Status"
         },
         "tracegroupgap": 0
        },
        "template": {
         "data": {
          "bar": [
           {
            "error_x": {
             "color": "#2a3f5f"
            },
            "error_y": {
             "color": "#2a3f5f"
            },
            "marker": {
             "line": {
              "color": "#E5ECF6",
              "width": 0.5
             },
             "pattern": {
              "fillmode": "overlay",
              "size": 10,
              "solidity": 0.2
             }
            },
            "type": "bar"
           }
          ],
          "barpolar": [
           {
            "marker": {
             "line": {
              "color": "#E5ECF6",
              "width": 0.5
             },
             "pattern": {
              "fillmode": "overlay",
              "size": 10,
              "solidity": 0.2
             }
            },
            "type": "barpolar"
           }
          ],
          "carpet": [
           {
            "aaxis": {
             "endlinecolor": "#2a3f5f",
             "gridcolor": "white",
             "linecolor": "white",
             "minorgridcolor": "white",
             "startlinecolor": "#2a3f5f"
            },
            "baxis": {
             "endlinecolor": "#2a3f5f",
             "gridcolor": "white",
             "linecolor": "white",
             "minorgridcolor": "white",
             "startlinecolor": "#2a3f5f"
            },
            "type": "carpet"
           }
          ],
          "choropleth": [
           {
            "colorbar": {
             "outlinewidth": 0,
             "ticks": ""
            },
            "type": "choropleth"
           }
          ],
          "contour": [
           {
            "colorbar": {
             "outlinewidth": 0,
             "ticks": ""
            },
            "colorscale": [
             [
              0,
              "#0d0887"
             ],
             [
              0.1111111111111111,
              "#46039f"
             ],
             [
              0.2222222222222222,
              "#7201a8"
             ],
             [
              0.3333333333333333,
              "#9c179e"
             ],
             [
              0.4444444444444444,
              "#bd3786"
             ],
             [
              0.5555555555555556,
              "#d8576b"
             ],
             [
              0.6666666666666666,
              "#ed7953"
             ],
             [
              0.7777777777777778,
              "#fb9f3a"
             ],
             [
              0.8888888888888888,
              "#fdca26"
             ],
             [
              1,
              "#f0f921"
             ]
            ],
            "type": "contour"
           }
          ],
          "contourcarpet": [
           {
            "colorbar": {
             "outlinewidth": 0,
             "ticks": ""
            },
            "type": "contourcarpet"
           }
          ],
          "heatmap": [
           {
            "colorbar": {
             "outlinewidth": 0,
             "ticks": ""
            },
            "colorscale": [
             [
              0,
              "#0d0887"
             ],
             [
              0.1111111111111111,
              "#46039f"
             ],
             [
              0.2222222222222222,
              "#7201a8"
             ],
             [
              0.3333333333333333,
              "#9c179e"
             ],
             [
              0.4444444444444444,
              "#bd3786"
             ],
             [
              0.5555555555555556,
              "#d8576b"
             ],
             [
              0.6666666666666666,
              "#ed7953"
             ],
             [
              0.7777777777777778,
              "#fb9f3a"
             ],
             [
              0.8888888888888888,
              "#fdca26"
             ],
             [
              1,
              "#f0f921"
             ]
            ],
            "type": "heatmap"
           }
          ],
          "heatmapgl": [
           {
            "colorbar": {
             "outlinewidth": 0,
             "ticks": ""
            },
            "colorscale": [
             [
              0,
              "#0d0887"
             ],
             [
              0.1111111111111111,
              "#46039f"
             ],
             [
              0.2222222222222222,
              "#7201a8"
             ],
             [
              0.3333333333333333,
              "#9c179e"
             ],
             [
              0.4444444444444444,
              "#bd3786"
             ],
             [
              0.5555555555555556,
              "#d8576b"
             ],
             [
              0.6666666666666666,
              "#ed7953"
             ],
             [
              0.7777777777777778,
              "#fb9f3a"
             ],
             [
              0.8888888888888888,
              "#fdca26"
             ],
             [
              1,
              "#f0f921"
             ]
            ],
            "type": "heatmapgl"
           }
          ],
          "histogram": [
           {
            "marker": {
             "pattern": {
              "fillmode": "overlay",
              "size": 10,
              "solidity": 0.2
             }
            },
            "type": "histogram"
           }
          ],
          "histogram2d": [
           {
            "colorbar": {
             "outlinewidth": 0,
             "ticks": ""
            },
            "colorscale": [
             [
              0,
              "#0d0887"
             ],
             [
              0.1111111111111111,
              "#46039f"
             ],
             [
              0.2222222222222222,
              "#7201a8"
             ],
             [
              0.3333333333333333,
              "#9c179e"
             ],
             [
              0.4444444444444444,
              "#bd3786"
             ],
             [
              0.5555555555555556,
              "#d8576b"
             ],
             [
              0.6666666666666666,
              "#ed7953"
             ],
             [
              0.7777777777777778,
              "#fb9f3a"
             ],
             [
              0.8888888888888888,
              "#fdca26"
             ],
             [
              1,
              "#f0f921"
             ]
            ],
            "type": "histogram2d"
           }
          ],
          "histogram2dcontour": [
           {
            "colorbar": {
             "outlinewidth": 0,
             "ticks": ""
            },
            "colorscale": [
             [
              0,
              "#0d0887"
             ],
             [
              0.1111111111111111,
              "#46039f"
             ],
             [
              0.2222222222222222,
              "#7201a8"
             ],
             [
              0.3333333333333333,
              "#9c179e"
             ],
             [
              0.4444444444444444,
              "#bd3786"
             ],
             [
              0.5555555555555556,
              "#d8576b"
             ],
             [
              0.6666666666666666,
              "#ed7953"
             ],
             [
              0.7777777777777778,
              "#fb9f3a"
             ],
             [
              0.8888888888888888,
              "#fdca26"
             ],
             [
              1,
              "#f0f921"
             ]
            ],
            "type": "histogram2dcontour"
           }
          ],
          "mesh3d": [
           {
            "colorbar": {
             "outlinewidth": 0,
             "ticks": ""
            },
            "type": "mesh3d"
           }
          ],
          "parcoords": [
           {
            "line": {
             "colorbar": {
              "outlinewidth": 0,
              "ticks": ""
             }
            },
            "type": "parcoords"
           }
          ],
          "pie": [
           {
            "automargin": true,
            "type": "pie"
           }
          ],
          "scatter": [
           {
            "fillpattern": {
             "fillmode": "overlay",
             "size": 10,
             "solidity": 0.2
            },
            "type": "scatter"
           }
          ],
          "scatter3d": [
           {
            "line": {
             "colorbar": {
              "outlinewidth": 0,
              "ticks": ""
             }
            },
            "marker": {
             "colorbar": {
              "outlinewidth": 0,
              "ticks": ""
             }
            },
            "type": "scatter3d"
           }
          ],
          "scattercarpet": [
           {
            "marker": {
             "colorbar": {
              "outlinewidth": 0,
              "ticks": ""
             }
            },
            "type": "scattercarpet"
           }
          ],
          "scattergeo": [
           {
            "marker": {
             "colorbar": {
              "outlinewidth": 0,
              "ticks": ""
             }
            },
            "type": "scattergeo"
           }
          ],
          "scattergl": [
           {
            "marker": {
             "colorbar": {
              "outlinewidth": 0,
              "ticks": ""
             }
            },
            "type": "scattergl"
           }
          ],
          "scattermapbox": [
           {
            "marker": {
             "colorbar": {
              "outlinewidth": 0,
              "ticks": ""
             }
            },
            "type": "scattermapbox"
           }
          ],
          "scatterpolar": [
           {
            "marker": {
             "colorbar": {
              "outlinewidth": 0,
              "ticks": ""
             }
            },
            "type": "scatterpolar"
           }
          ],
          "scatterpolargl": [
           {
            "marker": {
             "colorbar": {
              "outlinewidth": 0,
              "ticks": ""
             }
            },
            "type": "scatterpolargl"
           }
          ],
          "scatterternary": [
           {
            "marker": {
             "colorbar": {
              "outlinewidth": 0,
              "ticks": ""
             }
            },
            "type": "scatterternary"
           }
          ],
          "surface": [
           {
            "colorbar": {
             "outlinewidth": 0,
             "ticks": ""
            },
            "colorscale": [
             [
              0,
              "#0d0887"
             ],
             [
              0.1111111111111111,
              "#46039f"
             ],
             [
              0.2222222222222222,
              "#7201a8"
             ],
             [
              0.3333333333333333,
              "#9c179e"
             ],
             [
              0.4444444444444444,
              "#bd3786"
             ],
             [
              0.5555555555555556,
              "#d8576b"
             ],
             [
              0.6666666666666666,
              "#ed7953"
             ],
             [
              0.7777777777777778,
              "#fb9f3a"
             ],
             [
              0.8888888888888888,
              "#fdca26"
             ],
             [
              1,
              "#f0f921"
             ]
            ],
            "type": "surface"
           }
          ],
          "table": [
           {
            "cells": {
             "fill": {
              "color": "#EBF0F8"
             },
             "line": {
              "color": "white"
             }
            },
            "header": {
             "fill": {
              "color": "#C8D4E3"
             },
             "line": {
              "color": "white"
             }
            },
            "type": "table"
           }
          ]
         },
         "layout": {
          "annotationdefaults": {
           "arrowcolor": "#2a3f5f",
           "arrowhead": 0,
           "arrowwidth": 1
          },
          "autotypenumbers": "strict",
          "coloraxis": {
           "colorbar": {
            "outlinewidth": 0,
            "ticks": ""
           }
          },
          "colorscale": {
           "diverging": [
            [
             0,
             "#8e0152"
            ],
            [
             0.1,
             "#c51b7d"
            ],
            [
             0.2,
             "#de77ae"
            ],
            [
             0.3,
             "#f1b6da"
            ],
            [
             0.4,
             "#fde0ef"
            ],
            [
             0.5,
             "#f7f7f7"
            ],
            [
             0.6,
             "#e6f5d0"
            ],
            [
             0.7,
             "#b8e186"
            ],
            [
             0.8,
             "#7fbc41"
            ],
            [
             0.9,
             "#4d9221"
            ],
            [
             1,
             "#276419"
            ]
           ],
           "sequential": [
            [
             0,
             "#0d0887"
            ],
            [
             0.1111111111111111,
             "#46039f"
            ],
            [
             0.2222222222222222,
             "#7201a8"
            ],
            [
             0.3333333333333333,
             "#9c179e"
            ],
            [
             0.4444444444444444,
             "#bd3786"
            ],
            [
             0.5555555555555556,
             "#d8576b"
            ],
            [
             0.6666666666666666,
             "#ed7953"
            ],
            [
             0.7777777777777778,
             "#fb9f3a"
            ],
            [
             0.8888888888888888,
             "#fdca26"
            ],
            [
             1,
             "#f0f921"
            ]
           ],
           "sequentialminus": [
            [
             0,
             "#0d0887"
            ],
            [
             0.1111111111111111,
             "#46039f"
            ],
            [
             0.2222222222222222,
             "#7201a8"
            ],
            [
             0.3333333333333333,
             "#9c179e"
            ],
            [
             0.4444444444444444,
             "#bd3786"
            ],
            [
             0.5555555555555556,
             "#d8576b"
            ],
            [
             0.6666666666666666,
             "#ed7953"
            ],
            [
             0.7777777777777778,
             "#fb9f3a"
            ],
            [
             0.8888888888888888,
             "#fdca26"
            ],
            [
             1,
             "#f0f921"
            ]
           ]
          },
          "colorway": [
           "#636efa",
           "#EF553B",
           "#00cc96",
           "#ab63fa",
           "#FFA15A",
           "#19d3f3",
           "#FF6692",
           "#B6E880",
           "#FF97FF",
           "#FECB52"
          ],
          "font": {
           "color": "#2a3f5f"
          },
          "geo": {
           "bgcolor": "white",
           "lakecolor": "white",
           "landcolor": "#E5ECF6",
           "showlakes": true,
           "showland": true,
           "subunitcolor": "white"
          },
          "hoverlabel": {
           "align": "left"
          },
          "hovermode": "closest",
          "mapbox": {
           "style": "light"
          },
          "paper_bgcolor": "white",
          "plot_bgcolor": "#E5ECF6",
          "polar": {
           "angularaxis": {
            "gridcolor": "white",
            "linecolor": "white",
            "ticks": ""
           },
           "bgcolor": "#E5ECF6",
           "radialaxis": {
            "gridcolor": "white",
            "linecolor": "white",
            "ticks": ""
           }
          },
          "scene": {
           "xaxis": {
            "backgroundcolor": "#E5ECF6",
            "gridcolor": "white",
            "gridwidth": 2,
            "linecolor": "white",
            "showbackground": true,
            "ticks": "",
            "zerolinecolor": "white"
           },
           "yaxis": {
            "backgroundcolor": "#E5ECF6",
            "gridcolor": "white",
            "gridwidth": 2,
            "linecolor": "white",
            "showbackground": true,
            "ticks": "",
            "zerolinecolor": "white"
           },
           "zaxis": {
            "backgroundcolor": "#E5ECF6",
            "gridcolor": "white",
            "gridwidth": 2,
            "linecolor": "white",
            "showbackground": true,
            "ticks": "",
            "zerolinecolor": "white"
           }
          },
          "shapedefaults": {
           "line": {
            "color": "#2a3f5f"
           }
          },
          "ternary": {
           "aaxis": {
            "gridcolor": "white",
            "linecolor": "white",
            "ticks": ""
           },
           "baxis": {
            "gridcolor": "white",
            "linecolor": "white",
            "ticks": ""
           },
           "bgcolor": "#E5ECF6",
           "caxis": {
            "gridcolor": "white",
            "linecolor": "white",
            "ticks": ""
           }
          },
          "title": {
           "x": 0.05
          },
          "xaxis": {
           "automargin": true,
           "gridcolor": "white",
           "linecolor": "white",
           "ticks": "",
           "title": {
            "standoff": 15
           },
           "zerolinecolor": "white",
           "zerolinewidth": 2
          },
          "yaxis": {
           "automargin": true,
           "gridcolor": "white",
           "linecolor": "white",
           "ticks": "",
           "title": {
            "standoff": 15
           },
           "zerolinecolor": "white",
           "zerolinewidth": 2
          }
         }
        },
        "title": {
         "text": "Fare Distribution by Survival Status"
        },
        "xaxis": {
         "anchor": "y",
         "categoryarray": [
          0,
          1
         ],
         "categoryorder": "array",
         "domain": [
          0,
          1
         ],
         "title": {
          "text": "Survival Status"
         }
        },
        "yaxis": {
         "anchor": "x",
         "domain": [
          0,
          1
         ],
         "title": {
          "text": "Fare ($)"
         }
        }
       }
      }
     },
     "metadata": {},
     "output_type": "display_data"
    }
   ],
   "source": [
    "\n",
    "# Create a boxplot for Fare distribution segmented by Survived\n",
    "fig = px.box(titanic, x='Survived', y='Fare',\n",
    "             title='Fare Distribution by Survival Status',\n",
    "             labels={'Fare': 'Fare ($)', 'Survived': 'Survival Status'},\n",
    "             color='Survived',  # Use color to differentiate between survived and not survived\n",
    "             notched=True)  # Adding notches to indicate confidence interval around the median\n",
    "\n",
    "# Show the plot\n",
    "fig.show()"
   ]
  },
  {
   "cell_type": "markdown",
   "metadata": {},
   "source": [
    "Visualize the survival rate by passenger class (Pclass) using Plotly"
   ]
  },
  {
   "cell_type": "code",
   "execution_count": 5,
   "metadata": {},
   "outputs": [
    {
     "data": {
      "application/vnd.plotly.v1+json": {
       "config": {
        "plotlyServerURL": "https://plot.ly"
       },
       "data": [
        {
         "alignmentgroup": "True",
         "hovertemplate": "Passenger Class=%{x}<br>Survival Rate=%{text}<extra></extra>",
         "legendgroup": "",
         "marker": {
          "color": "#636efa",
          "pattern": {
           "shape": ""
          }
         },
         "name": "",
         "offsetgroup": "",
         "orientation": "v",
         "showlegend": false,
         "text": [
          0.6296296296296297,
          0.47282608695652173,
          0.24236252545824846
         ],
         "textposition": "auto",
         "type": "bar",
         "x": [
          1,
          2,
          3
         ],
         "xaxis": "x",
         "y": [
          0.6296296296296297,
          0.47282608695652173,
          0.24236252545824846
         ],
         "yaxis": "y"
        }
       ],
       "layout": {
        "barmode": "relative",
        "legend": {
         "tracegroupgap": 0
        },
        "template": {
         "data": {
          "bar": [
           {
            "error_x": {
             "color": "#2a3f5f"
            },
            "error_y": {
             "color": "#2a3f5f"
            },
            "marker": {
             "line": {
              "color": "#E5ECF6",
              "width": 0.5
             },
             "pattern": {
              "fillmode": "overlay",
              "size": 10,
              "solidity": 0.2
             }
            },
            "type": "bar"
           }
          ],
          "barpolar": [
           {
            "marker": {
             "line": {
              "color": "#E5ECF6",
              "width": 0.5
             },
             "pattern": {
              "fillmode": "overlay",
              "size": 10,
              "solidity": 0.2
             }
            },
            "type": "barpolar"
           }
          ],
          "carpet": [
           {
            "aaxis": {
             "endlinecolor": "#2a3f5f",
             "gridcolor": "white",
             "linecolor": "white",
             "minorgridcolor": "white",
             "startlinecolor": "#2a3f5f"
            },
            "baxis": {
             "endlinecolor": "#2a3f5f",
             "gridcolor": "white",
             "linecolor": "white",
             "minorgridcolor": "white",
             "startlinecolor": "#2a3f5f"
            },
            "type": "carpet"
           }
          ],
          "choropleth": [
           {
            "colorbar": {
             "outlinewidth": 0,
             "ticks": ""
            },
            "type": "choropleth"
           }
          ],
          "contour": [
           {
            "colorbar": {
             "outlinewidth": 0,
             "ticks": ""
            },
            "colorscale": [
             [
              0,
              "#0d0887"
             ],
             [
              0.1111111111111111,
              "#46039f"
             ],
             [
              0.2222222222222222,
              "#7201a8"
             ],
             [
              0.3333333333333333,
              "#9c179e"
             ],
             [
              0.4444444444444444,
              "#bd3786"
             ],
             [
              0.5555555555555556,
              "#d8576b"
             ],
             [
              0.6666666666666666,
              "#ed7953"
             ],
             [
              0.7777777777777778,
              "#fb9f3a"
             ],
             [
              0.8888888888888888,
              "#fdca26"
             ],
             [
              1,
              "#f0f921"
             ]
            ],
            "type": "contour"
           }
          ],
          "contourcarpet": [
           {
            "colorbar": {
             "outlinewidth": 0,
             "ticks": ""
            },
            "type": "contourcarpet"
           }
          ],
          "heatmap": [
           {
            "colorbar": {
             "outlinewidth": 0,
             "ticks": ""
            },
            "colorscale": [
             [
              0,
              "#0d0887"
             ],
             [
              0.1111111111111111,
              "#46039f"
             ],
             [
              0.2222222222222222,
              "#7201a8"
             ],
             [
              0.3333333333333333,
              "#9c179e"
             ],
             [
              0.4444444444444444,
              "#bd3786"
             ],
             [
              0.5555555555555556,
              "#d8576b"
             ],
             [
              0.6666666666666666,
              "#ed7953"
             ],
             [
              0.7777777777777778,
              "#fb9f3a"
             ],
             [
              0.8888888888888888,
              "#fdca26"
             ],
             [
              1,
              "#f0f921"
             ]
            ],
            "type": "heatmap"
           }
          ],
          "heatmapgl": [
           {
            "colorbar": {
             "outlinewidth": 0,
             "ticks": ""
            },
            "colorscale": [
             [
              0,
              "#0d0887"
             ],
             [
              0.1111111111111111,
              "#46039f"
             ],
             [
              0.2222222222222222,
              "#7201a8"
             ],
             [
              0.3333333333333333,
              "#9c179e"
             ],
             [
              0.4444444444444444,
              "#bd3786"
             ],
             [
              0.5555555555555556,
              "#d8576b"
             ],
             [
              0.6666666666666666,
              "#ed7953"
             ],
             [
              0.7777777777777778,
              "#fb9f3a"
             ],
             [
              0.8888888888888888,
              "#fdca26"
             ],
             [
              1,
              "#f0f921"
             ]
            ],
            "type": "heatmapgl"
           }
          ],
          "histogram": [
           {
            "marker": {
             "pattern": {
              "fillmode": "overlay",
              "size": 10,
              "solidity": 0.2
             }
            },
            "type": "histogram"
           }
          ],
          "histogram2d": [
           {
            "colorbar": {
             "outlinewidth": 0,
             "ticks": ""
            },
            "colorscale": [
             [
              0,
              "#0d0887"
             ],
             [
              0.1111111111111111,
              "#46039f"
             ],
             [
              0.2222222222222222,
              "#7201a8"
             ],
             [
              0.3333333333333333,
              "#9c179e"
             ],
             [
              0.4444444444444444,
              "#bd3786"
             ],
             [
              0.5555555555555556,
              "#d8576b"
             ],
             [
              0.6666666666666666,
              "#ed7953"
             ],
             [
              0.7777777777777778,
              "#fb9f3a"
             ],
             [
              0.8888888888888888,
              "#fdca26"
             ],
             [
              1,
              "#f0f921"
             ]
            ],
            "type": "histogram2d"
           }
          ],
          "histogram2dcontour": [
           {
            "colorbar": {
             "outlinewidth": 0,
             "ticks": ""
            },
            "colorscale": [
             [
              0,
              "#0d0887"
             ],
             [
              0.1111111111111111,
              "#46039f"
             ],
             [
              0.2222222222222222,
              "#7201a8"
             ],
             [
              0.3333333333333333,
              "#9c179e"
             ],
             [
              0.4444444444444444,
              "#bd3786"
             ],
             [
              0.5555555555555556,
              "#d8576b"
             ],
             [
              0.6666666666666666,
              "#ed7953"
             ],
             [
              0.7777777777777778,
              "#fb9f3a"
             ],
             [
              0.8888888888888888,
              "#fdca26"
             ],
             [
              1,
              "#f0f921"
             ]
            ],
            "type": "histogram2dcontour"
           }
          ],
          "mesh3d": [
           {
            "colorbar": {
             "outlinewidth": 0,
             "ticks": ""
            },
            "type": "mesh3d"
           }
          ],
          "parcoords": [
           {
            "line": {
             "colorbar": {
              "outlinewidth": 0,
              "ticks": ""
             }
            },
            "type": "parcoords"
           }
          ],
          "pie": [
           {
            "automargin": true,
            "type": "pie"
           }
          ],
          "scatter": [
           {
            "fillpattern": {
             "fillmode": "overlay",
             "size": 10,
             "solidity": 0.2
            },
            "type": "scatter"
           }
          ],
          "scatter3d": [
           {
            "line": {
             "colorbar": {
              "outlinewidth": 0,
              "ticks": ""
             }
            },
            "marker": {
             "colorbar": {
              "outlinewidth": 0,
              "ticks": ""
             }
            },
            "type": "scatter3d"
           }
          ],
          "scattercarpet": [
           {
            "marker": {
             "colorbar": {
              "outlinewidth": 0,
              "ticks": ""
             }
            },
            "type": "scattercarpet"
           }
          ],
          "scattergeo": [
           {
            "marker": {
             "colorbar": {
              "outlinewidth": 0,
              "ticks": ""
             }
            },
            "type": "scattergeo"
           }
          ],
          "scattergl": [
           {
            "marker": {
             "colorbar": {
              "outlinewidth": 0,
              "ticks": ""
             }
            },
            "type": "scattergl"
           }
          ],
          "scattermapbox": [
           {
            "marker": {
             "colorbar": {
              "outlinewidth": 0,
              "ticks": ""
             }
            },
            "type": "scattermapbox"
           }
          ],
          "scatterpolar": [
           {
            "marker": {
             "colorbar": {
              "outlinewidth": 0,
              "ticks": ""
             }
            },
            "type": "scatterpolar"
           }
          ],
          "scatterpolargl": [
           {
            "marker": {
             "colorbar": {
              "outlinewidth": 0,
              "ticks": ""
             }
            },
            "type": "scatterpolargl"
           }
          ],
          "scatterternary": [
           {
            "marker": {
             "colorbar": {
              "outlinewidth": 0,
              "ticks": ""
             }
            },
            "type": "scatterternary"
           }
          ],
          "surface": [
           {
            "colorbar": {
             "outlinewidth": 0,
             "ticks": ""
            },
            "colorscale": [
             [
              0,
              "#0d0887"
             ],
             [
              0.1111111111111111,
              "#46039f"
             ],
             [
              0.2222222222222222,
              "#7201a8"
             ],
             [
              0.3333333333333333,
              "#9c179e"
             ],
             [
              0.4444444444444444,
              "#bd3786"
             ],
             [
              0.5555555555555556,
              "#d8576b"
             ],
             [
              0.6666666666666666,
              "#ed7953"
             ],
             [
              0.7777777777777778,
              "#fb9f3a"
             ],
             [
              0.8888888888888888,
              "#fdca26"
             ],
             [
              1,
              "#f0f921"
             ]
            ],
            "type": "surface"
           }
          ],
          "table": [
           {
            "cells": {
             "fill": {
              "color": "#EBF0F8"
             },
             "line": {
              "color": "white"
             }
            },
            "header": {
             "fill": {
              "color": "#C8D4E3"
             },
             "line": {
              "color": "white"
             }
            },
            "type": "table"
           }
          ]
         },
         "layout": {
          "annotationdefaults": {
           "arrowcolor": "#2a3f5f",
           "arrowhead": 0,
           "arrowwidth": 1
          },
          "autotypenumbers": "strict",
          "coloraxis": {
           "colorbar": {
            "outlinewidth": 0,
            "ticks": ""
           }
          },
          "colorscale": {
           "diverging": [
            [
             0,
             "#8e0152"
            ],
            [
             0.1,
             "#c51b7d"
            ],
            [
             0.2,
             "#de77ae"
            ],
            [
             0.3,
             "#f1b6da"
            ],
            [
             0.4,
             "#fde0ef"
            ],
            [
             0.5,
             "#f7f7f7"
            ],
            [
             0.6,
             "#e6f5d0"
            ],
            [
             0.7,
             "#b8e186"
            ],
            [
             0.8,
             "#7fbc41"
            ],
            [
             0.9,
             "#4d9221"
            ],
            [
             1,
             "#276419"
            ]
           ],
           "sequential": [
            [
             0,
             "#0d0887"
            ],
            [
             0.1111111111111111,
             "#46039f"
            ],
            [
             0.2222222222222222,
             "#7201a8"
            ],
            [
             0.3333333333333333,
             "#9c179e"
            ],
            [
             0.4444444444444444,
             "#bd3786"
            ],
            [
             0.5555555555555556,
             "#d8576b"
            ],
            [
             0.6666666666666666,
             "#ed7953"
            ],
            [
             0.7777777777777778,
             "#fb9f3a"
            ],
            [
             0.8888888888888888,
             "#fdca26"
            ],
            [
             1,
             "#f0f921"
            ]
           ],
           "sequentialminus": [
            [
             0,
             "#0d0887"
            ],
            [
             0.1111111111111111,
             "#46039f"
            ],
            [
             0.2222222222222222,
             "#7201a8"
            ],
            [
             0.3333333333333333,
             "#9c179e"
            ],
            [
             0.4444444444444444,
             "#bd3786"
            ],
            [
             0.5555555555555556,
             "#d8576b"
            ],
            [
             0.6666666666666666,
             "#ed7953"
            ],
            [
             0.7777777777777778,
             "#fb9f3a"
            ],
            [
             0.8888888888888888,
             "#fdca26"
            ],
            [
             1,
             "#f0f921"
            ]
           ]
          },
          "colorway": [
           "#636efa",
           "#EF553B",
           "#00cc96",
           "#ab63fa",
           "#FFA15A",
           "#19d3f3",
           "#FF6692",
           "#B6E880",
           "#FF97FF",
           "#FECB52"
          ],
          "font": {
           "color": "#2a3f5f"
          },
          "geo": {
           "bgcolor": "white",
           "lakecolor": "white",
           "landcolor": "#E5ECF6",
           "showlakes": true,
           "showland": true,
           "subunitcolor": "white"
          },
          "hoverlabel": {
           "align": "left"
          },
          "hovermode": "closest",
          "mapbox": {
           "style": "light"
          },
          "paper_bgcolor": "white",
          "plot_bgcolor": "#E5ECF6",
          "polar": {
           "angularaxis": {
            "gridcolor": "white",
            "linecolor": "white",
            "ticks": ""
           },
           "bgcolor": "#E5ECF6",
           "radialaxis": {
            "gridcolor": "white",
            "linecolor": "white",
            "ticks": ""
           }
          },
          "scene": {
           "xaxis": {
            "backgroundcolor": "#E5ECF6",
            "gridcolor": "white",
            "gridwidth": 2,
            "linecolor": "white",
            "showbackground": true,
            "ticks": "",
            "zerolinecolor": "white"
           },
           "yaxis": {
            "backgroundcolor": "#E5ECF6",
            "gridcolor": "white",
            "gridwidth": 2,
            "linecolor": "white",
            "showbackground": true,
            "ticks": "",
            "zerolinecolor": "white"
           },
           "zaxis": {
            "backgroundcolor": "#E5ECF6",
            "gridcolor": "white",
            "gridwidth": 2,
            "linecolor": "white",
            "showbackground": true,
            "ticks": "",
            "zerolinecolor": "white"
           }
          },
          "shapedefaults": {
           "line": {
            "color": "#2a3f5f"
           }
          },
          "ternary": {
           "aaxis": {
            "gridcolor": "white",
            "linecolor": "white",
            "ticks": ""
           },
           "baxis": {
            "gridcolor": "white",
            "linecolor": "white",
            "ticks": ""
           },
           "bgcolor": "#E5ECF6",
           "caxis": {
            "gridcolor": "white",
            "linecolor": "white",
            "ticks": ""
           }
          },
          "title": {
           "x": 0.05
          },
          "xaxis": {
           "automargin": true,
           "gridcolor": "white",
           "linecolor": "white",
           "ticks": "",
           "title": {
            "standoff": 15
           },
           "zerolinecolor": "white",
           "zerolinewidth": 2
          },
          "yaxis": {
           "automargin": true,
           "gridcolor": "white",
           "linecolor": "white",
           "ticks": "",
           "title": {
            "standoff": 15
           },
           "zerolinecolor": "white",
           "zerolinewidth": 2
          }
         }
        },
        "title": {
         "text": "Survival Rate by Passenger Class"
        },
        "xaxis": {
         "anchor": "y",
         "categoryarray": [
          1,
          2,
          3
         ],
         "categoryorder": "array",
         "domain": [
          0,
          1
         ],
         "title": {
          "text": "Passenger Class"
         }
        },
        "yaxis": {
         "anchor": "x",
         "domain": [
          0,
          1
         ],
         "tickformat": ".1%",
         "title": {
          "text": "Survival Rate"
         }
        }
       }
      }
     },
     "metadata": {},
     "output_type": "display_data"
    }
   ],
   "source": [
    "# Calculate the survival rate by Pclass\n",
    "survival_rate = titanic.groupby('Pclass')['Survived'].mean().reset_index()\n",
    "\n",
    "# Create a bar chart\n",
    "fig = px.bar(survival_rate, x='Pclass', y='Survived',\n",
    "             text='Survived',\n",
    "             title='Survival Rate by Passenger Class',\n",
    "             labels={'Survived': 'Survival Rate', 'Pclass': 'Passenger Class'},\n",
    "             category_orders={\"Pclass\": [1, 2, 3]}) # Ensuring the passenger classes are in order\n",
    "\n",
    "# Update the y-axis to show percentages\n",
    "fig.update_yaxes(tickformat=\".1%\")\n",
    "\n",
    "# Show the plot\n",
    "fig.show()\n"
   ]
  },
  {
   "cell_type": "markdown",
   "metadata": {},
   "source": [
    "Survival Rate by Gender:\n",
    "A bar chart could show the difference in survival rates between males and females."
   ]
  },
  {
   "cell_type": "code",
   "execution_count": 11,
   "metadata": {},
   "outputs": [
    {
     "data": {
      "application/vnd.plotly.v1+json": {
       "config": {
        "plotlyServerURL": "https://plot.ly"
       },
       "data": [
        {
         "alignmentgroup": "True",
         "hovertemplate": "Gender=%{x}<br>Survival Rate=%{text}<extra></extra>",
         "legendgroup": "",
         "marker": {
          "color": "#636efa",
          "pattern": {
           "shape": ""
          }
         },
         "name": "",
         "offsetgroup": "",
         "orientation": "v",
         "showlegend": false,
         "text": [
          0.7547892720306514,
          0.2052980132450331
         ],
         "textposition": "auto",
         "type": "bar",
         "x": [
          "female",
          "male"
         ],
         "xaxis": "x",
         "y": [
          0.7547892720306514,
          0.2052980132450331
         ],
         "yaxis": "y"
        }
       ],
       "layout": {
        "barmode": "relative",
        "legend": {
         "tracegroupgap": 0
        },
        "template": {
         "data": {
          "bar": [
           {
            "error_x": {
             "color": "#2a3f5f"
            },
            "error_y": {
             "color": "#2a3f5f"
            },
            "marker": {
             "line": {
              "color": "#E5ECF6",
              "width": 0.5
             },
             "pattern": {
              "fillmode": "overlay",
              "size": 10,
              "solidity": 0.2
             }
            },
            "type": "bar"
           }
          ],
          "barpolar": [
           {
            "marker": {
             "line": {
              "color": "#E5ECF6",
              "width": 0.5
             },
             "pattern": {
              "fillmode": "overlay",
              "size": 10,
              "solidity": 0.2
             }
            },
            "type": "barpolar"
           }
          ],
          "carpet": [
           {
            "aaxis": {
             "endlinecolor": "#2a3f5f",
             "gridcolor": "white",
             "linecolor": "white",
             "minorgridcolor": "white",
             "startlinecolor": "#2a3f5f"
            },
            "baxis": {
             "endlinecolor": "#2a3f5f",
             "gridcolor": "white",
             "linecolor": "white",
             "minorgridcolor": "white",
             "startlinecolor": "#2a3f5f"
            },
            "type": "carpet"
           }
          ],
          "choropleth": [
           {
            "colorbar": {
             "outlinewidth": 0,
             "ticks": ""
            },
            "type": "choropleth"
           }
          ],
          "contour": [
           {
            "colorbar": {
             "outlinewidth": 0,
             "ticks": ""
            },
            "colorscale": [
             [
              0,
              "#0d0887"
             ],
             [
              0.1111111111111111,
              "#46039f"
             ],
             [
              0.2222222222222222,
              "#7201a8"
             ],
             [
              0.3333333333333333,
              "#9c179e"
             ],
             [
              0.4444444444444444,
              "#bd3786"
             ],
             [
              0.5555555555555556,
              "#d8576b"
             ],
             [
              0.6666666666666666,
              "#ed7953"
             ],
             [
              0.7777777777777778,
              "#fb9f3a"
             ],
             [
              0.8888888888888888,
              "#fdca26"
             ],
             [
              1,
              "#f0f921"
             ]
            ],
            "type": "contour"
           }
          ],
          "contourcarpet": [
           {
            "colorbar": {
             "outlinewidth": 0,
             "ticks": ""
            },
            "type": "contourcarpet"
           }
          ],
          "heatmap": [
           {
            "colorbar": {
             "outlinewidth": 0,
             "ticks": ""
            },
            "colorscale": [
             [
              0,
              "#0d0887"
             ],
             [
              0.1111111111111111,
              "#46039f"
             ],
             [
              0.2222222222222222,
              "#7201a8"
             ],
             [
              0.3333333333333333,
              "#9c179e"
             ],
             [
              0.4444444444444444,
              "#bd3786"
             ],
             [
              0.5555555555555556,
              "#d8576b"
             ],
             [
              0.6666666666666666,
              "#ed7953"
             ],
             [
              0.7777777777777778,
              "#fb9f3a"
             ],
             [
              0.8888888888888888,
              "#fdca26"
             ],
             [
              1,
              "#f0f921"
             ]
            ],
            "type": "heatmap"
           }
          ],
          "heatmapgl": [
           {
            "colorbar": {
             "outlinewidth": 0,
             "ticks": ""
            },
            "colorscale": [
             [
              0,
              "#0d0887"
             ],
             [
              0.1111111111111111,
              "#46039f"
             ],
             [
              0.2222222222222222,
              "#7201a8"
             ],
             [
              0.3333333333333333,
              "#9c179e"
             ],
             [
              0.4444444444444444,
              "#bd3786"
             ],
             [
              0.5555555555555556,
              "#d8576b"
             ],
             [
              0.6666666666666666,
              "#ed7953"
             ],
             [
              0.7777777777777778,
              "#fb9f3a"
             ],
             [
              0.8888888888888888,
              "#fdca26"
             ],
             [
              1,
              "#f0f921"
             ]
            ],
            "type": "heatmapgl"
           }
          ],
          "histogram": [
           {
            "marker": {
             "pattern": {
              "fillmode": "overlay",
              "size": 10,
              "solidity": 0.2
             }
            },
            "type": "histogram"
           }
          ],
          "histogram2d": [
           {
            "colorbar": {
             "outlinewidth": 0,
             "ticks": ""
            },
            "colorscale": [
             [
              0,
              "#0d0887"
             ],
             [
              0.1111111111111111,
              "#46039f"
             ],
             [
              0.2222222222222222,
              "#7201a8"
             ],
             [
              0.3333333333333333,
              "#9c179e"
             ],
             [
              0.4444444444444444,
              "#bd3786"
             ],
             [
              0.5555555555555556,
              "#d8576b"
             ],
             [
              0.6666666666666666,
              "#ed7953"
             ],
             [
              0.7777777777777778,
              "#fb9f3a"
             ],
             [
              0.8888888888888888,
              "#fdca26"
             ],
             [
              1,
              "#f0f921"
             ]
            ],
            "type": "histogram2d"
           }
          ],
          "histogram2dcontour": [
           {
            "colorbar": {
             "outlinewidth": 0,
             "ticks": ""
            },
            "colorscale": [
             [
              0,
              "#0d0887"
             ],
             [
              0.1111111111111111,
              "#46039f"
             ],
             [
              0.2222222222222222,
              "#7201a8"
             ],
             [
              0.3333333333333333,
              "#9c179e"
             ],
             [
              0.4444444444444444,
              "#bd3786"
             ],
             [
              0.5555555555555556,
              "#d8576b"
             ],
             [
              0.6666666666666666,
              "#ed7953"
             ],
             [
              0.7777777777777778,
              "#fb9f3a"
             ],
             [
              0.8888888888888888,
              "#fdca26"
             ],
             [
              1,
              "#f0f921"
             ]
            ],
            "type": "histogram2dcontour"
           }
          ],
          "mesh3d": [
           {
            "colorbar": {
             "outlinewidth": 0,
             "ticks": ""
            },
            "type": "mesh3d"
           }
          ],
          "parcoords": [
           {
            "line": {
             "colorbar": {
              "outlinewidth": 0,
              "ticks": ""
             }
            },
            "type": "parcoords"
           }
          ],
          "pie": [
           {
            "automargin": true,
            "type": "pie"
           }
          ],
          "scatter": [
           {
            "fillpattern": {
             "fillmode": "overlay",
             "size": 10,
             "solidity": 0.2
            },
            "type": "scatter"
           }
          ],
          "scatter3d": [
           {
            "line": {
             "colorbar": {
              "outlinewidth": 0,
              "ticks": ""
             }
            },
            "marker": {
             "colorbar": {
              "outlinewidth": 0,
              "ticks": ""
             }
            },
            "type": "scatter3d"
           }
          ],
          "scattercarpet": [
           {
            "marker": {
             "colorbar": {
              "outlinewidth": 0,
              "ticks": ""
             }
            },
            "type": "scattercarpet"
           }
          ],
          "scattergeo": [
           {
            "marker": {
             "colorbar": {
              "outlinewidth": 0,
              "ticks": ""
             }
            },
            "type": "scattergeo"
           }
          ],
          "scattergl": [
           {
            "marker": {
             "colorbar": {
              "outlinewidth": 0,
              "ticks": ""
             }
            },
            "type": "scattergl"
           }
          ],
          "scattermapbox": [
           {
            "marker": {
             "colorbar": {
              "outlinewidth": 0,
              "ticks": ""
             }
            },
            "type": "scattermapbox"
           }
          ],
          "scatterpolar": [
           {
            "marker": {
             "colorbar": {
              "outlinewidth": 0,
              "ticks": ""
             }
            },
            "type": "scatterpolar"
           }
          ],
          "scatterpolargl": [
           {
            "marker": {
             "colorbar": {
              "outlinewidth": 0,
              "ticks": ""
             }
            },
            "type": "scatterpolargl"
           }
          ],
          "scatterternary": [
           {
            "marker": {
             "colorbar": {
              "outlinewidth": 0,
              "ticks": ""
             }
            },
            "type": "scatterternary"
           }
          ],
          "surface": [
           {
            "colorbar": {
             "outlinewidth": 0,
             "ticks": ""
            },
            "colorscale": [
             [
              0,
              "#0d0887"
             ],
             [
              0.1111111111111111,
              "#46039f"
             ],
             [
              0.2222222222222222,
              "#7201a8"
             ],
             [
              0.3333333333333333,
              "#9c179e"
             ],
             [
              0.4444444444444444,
              "#bd3786"
             ],
             [
              0.5555555555555556,
              "#d8576b"
             ],
             [
              0.6666666666666666,
              "#ed7953"
             ],
             [
              0.7777777777777778,
              "#fb9f3a"
             ],
             [
              0.8888888888888888,
              "#fdca26"
             ],
             [
              1,
              "#f0f921"
             ]
            ],
            "type": "surface"
           }
          ],
          "table": [
           {
            "cells": {
             "fill": {
              "color": "#EBF0F8"
             },
             "line": {
              "color": "white"
             }
            },
            "header": {
             "fill": {
              "color": "#C8D4E3"
             },
             "line": {
              "color": "white"
             }
            },
            "type": "table"
           }
          ]
         },
         "layout": {
          "annotationdefaults": {
           "arrowcolor": "#2a3f5f",
           "arrowhead": 0,
           "arrowwidth": 1
          },
          "autotypenumbers": "strict",
          "coloraxis": {
           "colorbar": {
            "outlinewidth": 0,
            "ticks": ""
           }
          },
          "colorscale": {
           "diverging": [
            [
             0,
             "#8e0152"
            ],
            [
             0.1,
             "#c51b7d"
            ],
            [
             0.2,
             "#de77ae"
            ],
            [
             0.3,
             "#f1b6da"
            ],
            [
             0.4,
             "#fde0ef"
            ],
            [
             0.5,
             "#f7f7f7"
            ],
            [
             0.6,
             "#e6f5d0"
            ],
            [
             0.7,
             "#b8e186"
            ],
            [
             0.8,
             "#7fbc41"
            ],
            [
             0.9,
             "#4d9221"
            ],
            [
             1,
             "#276419"
            ]
           ],
           "sequential": [
            [
             0,
             "#0d0887"
            ],
            [
             0.1111111111111111,
             "#46039f"
            ],
            [
             0.2222222222222222,
             "#7201a8"
            ],
            [
             0.3333333333333333,
             "#9c179e"
            ],
            [
             0.4444444444444444,
             "#bd3786"
            ],
            [
             0.5555555555555556,
             "#d8576b"
            ],
            [
             0.6666666666666666,
             "#ed7953"
            ],
            [
             0.7777777777777778,
             "#fb9f3a"
            ],
            [
             0.8888888888888888,
             "#fdca26"
            ],
            [
             1,
             "#f0f921"
            ]
           ],
           "sequentialminus": [
            [
             0,
             "#0d0887"
            ],
            [
             0.1111111111111111,
             "#46039f"
            ],
            [
             0.2222222222222222,
             "#7201a8"
            ],
            [
             0.3333333333333333,
             "#9c179e"
            ],
            [
             0.4444444444444444,
             "#bd3786"
            ],
            [
             0.5555555555555556,
             "#d8576b"
            ],
            [
             0.6666666666666666,
             "#ed7953"
            ],
            [
             0.7777777777777778,
             "#fb9f3a"
            ],
            [
             0.8888888888888888,
             "#fdca26"
            ],
            [
             1,
             "#f0f921"
            ]
           ]
          },
          "colorway": [
           "#636efa",
           "#EF553B",
           "#00cc96",
           "#ab63fa",
           "#FFA15A",
           "#19d3f3",
           "#FF6692",
           "#B6E880",
           "#FF97FF",
           "#FECB52"
          ],
          "font": {
           "color": "#2a3f5f"
          },
          "geo": {
           "bgcolor": "white",
           "lakecolor": "white",
           "landcolor": "#E5ECF6",
           "showlakes": true,
           "showland": true,
           "subunitcolor": "white"
          },
          "hoverlabel": {
           "align": "left"
          },
          "hovermode": "closest",
          "mapbox": {
           "style": "light"
          },
          "paper_bgcolor": "white",
          "plot_bgcolor": "#E5ECF6",
          "polar": {
           "angularaxis": {
            "gridcolor": "white",
            "linecolor": "white",
            "ticks": ""
           },
           "bgcolor": "#E5ECF6",
           "radialaxis": {
            "gridcolor": "white",
            "linecolor": "white",
            "ticks": ""
           }
          },
          "scene": {
           "xaxis": {
            "backgroundcolor": "#E5ECF6",
            "gridcolor": "white",
            "gridwidth": 2,
            "linecolor": "white",
            "showbackground": true,
            "ticks": "",
            "zerolinecolor": "white"
           },
           "yaxis": {
            "backgroundcolor": "#E5ECF6",
            "gridcolor": "white",
            "gridwidth": 2,
            "linecolor": "white",
            "showbackground": true,
            "ticks": "",
            "zerolinecolor": "white"
           },
           "zaxis": {
            "backgroundcolor": "#E5ECF6",
            "gridcolor": "white",
            "gridwidth": 2,
            "linecolor": "white",
            "showbackground": true,
            "ticks": "",
            "zerolinecolor": "white"
           }
          },
          "shapedefaults": {
           "line": {
            "color": "#2a3f5f"
           }
          },
          "ternary": {
           "aaxis": {
            "gridcolor": "white",
            "linecolor": "white",
            "ticks": ""
           },
           "baxis": {
            "gridcolor": "white",
            "linecolor": "white",
            "ticks": ""
           },
           "bgcolor": "#E5ECF6",
           "caxis": {
            "gridcolor": "white",
            "linecolor": "white",
            "ticks": ""
           }
          },
          "title": {
           "x": 0.05
          },
          "xaxis": {
           "automargin": true,
           "gridcolor": "white",
           "linecolor": "white",
           "ticks": "",
           "title": {
            "standoff": 15
           },
           "zerolinecolor": "white",
           "zerolinewidth": 2
          },
          "yaxis": {
           "automargin": true,
           "gridcolor": "white",
           "linecolor": "white",
           "ticks": "",
           "title": {
            "standoff": 15
           },
           "zerolinecolor": "white",
           "zerolinewidth": 2
          }
         }
        },
        "title": {
         "text": "Survival Rate by Gender"
        },
        "xaxis": {
         "anchor": "y",
         "domain": [
          0,
          1
         ],
         "title": {
          "text": "Gender"
         }
        },
        "yaxis": {
         "anchor": "x",
         "domain": [
          0,
          1
         ],
         "tickformat": ".1%",
         "title": {
          "text": "Survival Rate"
         }
        }
       }
      }
     },
     "metadata": {},
     "output_type": "display_data"
    }
   ],
   "source": [
    "# Calculate the survival rate by gender\n",
    "survival_rate_gender = titanic.groupby('Sex')['Survived'].mean().reset_index()\n",
    "\n",
    "# Create a bar chart\n",
    "fig = px.bar(survival_rate_gender, x='Sex', y='Survived',\n",
    "             text='Survived',\n",
    "             title='Survival Rate by Gender',\n",
    "             labels={'Survived': 'Survival Rate', 'Sex': 'Gender'})\n",
    "\n",
    "# Update the y-axis to show percentages\n",
    "fig.update_yaxes(tickformat=\".1%\")\n",
    "\n",
    "# Show the plot\n",
    "fig.show()\n"
   ]
  },
  {
   "cell_type": "markdown",
   "metadata": {},
   "source": [
    "Survival Rate by Age Group:\n",
    "A bar chart could compare the survival rates of different age groups (children, adults, seniors)."
   ]
  },
  {
   "cell_type": "code",
   "execution_count": 12,
   "metadata": {},
   "outputs": [
    {
     "data": {
      "application/vnd.plotly.v1+json": {
       "config": {
        "plotlyServerURL": "https://plot.ly"
       },
       "data": [
        {
         "alignmentgroup": "True",
         "hovertemplate": "Age Group=%{x}<br>Survival Rate=%{text}<extra></extra>",
         "legendgroup": "",
         "marker": {
          "color": "#636efa",
          "pattern": {
           "shape": ""
          }
         },
         "name": "",
         "offsetgroup": "",
         "orientation": "v",
         "showlegend": false,
         "text": [
          0.5735294117647058,
          0.4888888888888889,
          0.38608695652173913,
          0.2692307692307692
         ],
         "textposition": "auto",
         "type": "bar",
         "x": [
          "Child",
          "Teen",
          "Adult",
          "Senior"
         ],
         "xaxis": "x",
         "y": [
          0.5735294117647058,
          0.4888888888888889,
          0.38608695652173913,
          0.2692307692307692
         ],
         "yaxis": "y"
        }
       ],
       "layout": {
        "barmode": "relative",
        "legend": {
         "tracegroupgap": 0
        },
        "template": {
         "data": {
          "bar": [
           {
            "error_x": {
             "color": "#2a3f5f"
            },
            "error_y": {
             "color": "#2a3f5f"
            },
            "marker": {
             "line": {
              "color": "#E5ECF6",
              "width": 0.5
             },
             "pattern": {
              "fillmode": "overlay",
              "size": 10,
              "solidity": 0.2
             }
            },
            "type": "bar"
           }
          ],
          "barpolar": [
           {
            "marker": {
             "line": {
              "color": "#E5ECF6",
              "width": 0.5
             },
             "pattern": {
              "fillmode": "overlay",
              "size": 10,
              "solidity": 0.2
             }
            },
            "type": "barpolar"
           }
          ],
          "carpet": [
           {
            "aaxis": {
             "endlinecolor": "#2a3f5f",
             "gridcolor": "white",
             "linecolor": "white",
             "minorgridcolor": "white",
             "startlinecolor": "#2a3f5f"
            },
            "baxis": {
             "endlinecolor": "#2a3f5f",
             "gridcolor": "white",
             "linecolor": "white",
             "minorgridcolor": "white",
             "startlinecolor": "#2a3f5f"
            },
            "type": "carpet"
           }
          ],
          "choropleth": [
           {
            "colorbar": {
             "outlinewidth": 0,
             "ticks": ""
            },
            "type": "choropleth"
           }
          ],
          "contour": [
           {
            "colorbar": {
             "outlinewidth": 0,
             "ticks": ""
            },
            "colorscale": [
             [
              0,
              "#0d0887"
             ],
             [
              0.1111111111111111,
              "#46039f"
             ],
             [
              0.2222222222222222,
              "#7201a8"
             ],
             [
              0.3333333333333333,
              "#9c179e"
             ],
             [
              0.4444444444444444,
              "#bd3786"
             ],
             [
              0.5555555555555556,
              "#d8576b"
             ],
             [
              0.6666666666666666,
              "#ed7953"
             ],
             [
              0.7777777777777778,
              "#fb9f3a"
             ],
             [
              0.8888888888888888,
              "#fdca26"
             ],
             [
              1,
              "#f0f921"
             ]
            ],
            "type": "contour"
           }
          ],
          "contourcarpet": [
           {
            "colorbar": {
             "outlinewidth": 0,
             "ticks": ""
            },
            "type": "contourcarpet"
           }
          ],
          "heatmap": [
           {
            "colorbar": {
             "outlinewidth": 0,
             "ticks": ""
            },
            "colorscale": [
             [
              0,
              "#0d0887"
             ],
             [
              0.1111111111111111,
              "#46039f"
             ],
             [
              0.2222222222222222,
              "#7201a8"
             ],
             [
              0.3333333333333333,
              "#9c179e"
             ],
             [
              0.4444444444444444,
              "#bd3786"
             ],
             [
              0.5555555555555556,
              "#d8576b"
             ],
             [
              0.6666666666666666,
              "#ed7953"
             ],
             [
              0.7777777777777778,
              "#fb9f3a"
             ],
             [
              0.8888888888888888,
              "#fdca26"
             ],
             [
              1,
              "#f0f921"
             ]
            ],
            "type": "heatmap"
           }
          ],
          "heatmapgl": [
           {
            "colorbar": {
             "outlinewidth": 0,
             "ticks": ""
            },
            "colorscale": [
             [
              0,
              "#0d0887"
             ],
             [
              0.1111111111111111,
              "#46039f"
             ],
             [
              0.2222222222222222,
              "#7201a8"
             ],
             [
              0.3333333333333333,
              "#9c179e"
             ],
             [
              0.4444444444444444,
              "#bd3786"
             ],
             [
              0.5555555555555556,
              "#d8576b"
             ],
             [
              0.6666666666666666,
              "#ed7953"
             ],
             [
              0.7777777777777778,
              "#fb9f3a"
             ],
             [
              0.8888888888888888,
              "#fdca26"
             ],
             [
              1,
              "#f0f921"
             ]
            ],
            "type": "heatmapgl"
           }
          ],
          "histogram": [
           {
            "marker": {
             "pattern": {
              "fillmode": "overlay",
              "size": 10,
              "solidity": 0.2
             }
            },
            "type": "histogram"
           }
          ],
          "histogram2d": [
           {
            "colorbar": {
             "outlinewidth": 0,
             "ticks": ""
            },
            "colorscale": [
             [
              0,
              "#0d0887"
             ],
             [
              0.1111111111111111,
              "#46039f"
             ],
             [
              0.2222222222222222,
              "#7201a8"
             ],
             [
              0.3333333333333333,
              "#9c179e"
             ],
             [
              0.4444444444444444,
              "#bd3786"
             ],
             [
              0.5555555555555556,
              "#d8576b"
             ],
             [
              0.6666666666666666,
              "#ed7953"
             ],
             [
              0.7777777777777778,
              "#fb9f3a"
             ],
             [
              0.8888888888888888,
              "#fdca26"
             ],
             [
              1,
              "#f0f921"
             ]
            ],
            "type": "histogram2d"
           }
          ],
          "histogram2dcontour": [
           {
            "colorbar": {
             "outlinewidth": 0,
             "ticks": ""
            },
            "colorscale": [
             [
              0,
              "#0d0887"
             ],
             [
              0.1111111111111111,
              "#46039f"
             ],
             [
              0.2222222222222222,
              "#7201a8"
             ],
             [
              0.3333333333333333,
              "#9c179e"
             ],
             [
              0.4444444444444444,
              "#bd3786"
             ],
             [
              0.5555555555555556,
              "#d8576b"
             ],
             [
              0.6666666666666666,
              "#ed7953"
             ],
             [
              0.7777777777777778,
              "#fb9f3a"
             ],
             [
              0.8888888888888888,
              "#fdca26"
             ],
             [
              1,
              "#f0f921"
             ]
            ],
            "type": "histogram2dcontour"
           }
          ],
          "mesh3d": [
           {
            "colorbar": {
             "outlinewidth": 0,
             "ticks": ""
            },
            "type": "mesh3d"
           }
          ],
          "parcoords": [
           {
            "line": {
             "colorbar": {
              "outlinewidth": 0,
              "ticks": ""
             }
            },
            "type": "parcoords"
           }
          ],
          "pie": [
           {
            "automargin": true,
            "type": "pie"
           }
          ],
          "scatter": [
           {
            "fillpattern": {
             "fillmode": "overlay",
             "size": 10,
             "solidity": 0.2
            },
            "type": "scatter"
           }
          ],
          "scatter3d": [
           {
            "line": {
             "colorbar": {
              "outlinewidth": 0,
              "ticks": ""
             }
            },
            "marker": {
             "colorbar": {
              "outlinewidth": 0,
              "ticks": ""
             }
            },
            "type": "scatter3d"
           }
          ],
          "scattercarpet": [
           {
            "marker": {
             "colorbar": {
              "outlinewidth": 0,
              "ticks": ""
             }
            },
            "type": "scattercarpet"
           }
          ],
          "scattergeo": [
           {
            "marker": {
             "colorbar": {
              "outlinewidth": 0,
              "ticks": ""
             }
            },
            "type": "scattergeo"
           }
          ],
          "scattergl": [
           {
            "marker": {
             "colorbar": {
              "outlinewidth": 0,
              "ticks": ""
             }
            },
            "type": "scattergl"
           }
          ],
          "scattermapbox": [
           {
            "marker": {
             "colorbar": {
              "outlinewidth": 0,
              "ticks": ""
             }
            },
            "type": "scattermapbox"
           }
          ],
          "scatterpolar": [
           {
            "marker": {
             "colorbar": {
              "outlinewidth": 0,
              "ticks": ""
             }
            },
            "type": "scatterpolar"
           }
          ],
          "scatterpolargl": [
           {
            "marker": {
             "colorbar": {
              "outlinewidth": 0,
              "ticks": ""
             }
            },
            "type": "scatterpolargl"
           }
          ],
          "scatterternary": [
           {
            "marker": {
             "colorbar": {
              "outlinewidth": 0,
              "ticks": ""
             }
            },
            "type": "scatterternary"
           }
          ],
          "surface": [
           {
            "colorbar": {
             "outlinewidth": 0,
             "ticks": ""
            },
            "colorscale": [
             [
              0,
              "#0d0887"
             ],
             [
              0.1111111111111111,
              "#46039f"
             ],
             [
              0.2222222222222222,
              "#7201a8"
             ],
             [
              0.3333333333333333,
              "#9c179e"
             ],
             [
              0.4444444444444444,
              "#bd3786"
             ],
             [
              0.5555555555555556,
              "#d8576b"
             ],
             [
              0.6666666666666666,
              "#ed7953"
             ],
             [
              0.7777777777777778,
              "#fb9f3a"
             ],
             [
              0.8888888888888888,
              "#fdca26"
             ],
             [
              1,
              "#f0f921"
             ]
            ],
            "type": "surface"
           }
          ],
          "table": [
           {
            "cells": {
             "fill": {
              "color": "#EBF0F8"
             },
             "line": {
              "color": "white"
             }
            },
            "header": {
             "fill": {
              "color": "#C8D4E3"
             },
             "line": {
              "color": "white"
             }
            },
            "type": "table"
           }
          ]
         },
         "layout": {
          "annotationdefaults": {
           "arrowcolor": "#2a3f5f",
           "arrowhead": 0,
           "arrowwidth": 1
          },
          "autotypenumbers": "strict",
          "coloraxis": {
           "colorbar": {
            "outlinewidth": 0,
            "ticks": ""
           }
          },
          "colorscale": {
           "diverging": [
            [
             0,
             "#8e0152"
            ],
            [
             0.1,
             "#c51b7d"
            ],
            [
             0.2,
             "#de77ae"
            ],
            [
             0.3,
             "#f1b6da"
            ],
            [
             0.4,
             "#fde0ef"
            ],
            [
             0.5,
             "#f7f7f7"
            ],
            [
             0.6,
             "#e6f5d0"
            ],
            [
             0.7,
             "#b8e186"
            ],
            [
             0.8,
             "#7fbc41"
            ],
            [
             0.9,
             "#4d9221"
            ],
            [
             1,
             "#276419"
            ]
           ],
           "sequential": [
            [
             0,
             "#0d0887"
            ],
            [
             0.1111111111111111,
             "#46039f"
            ],
            [
             0.2222222222222222,
             "#7201a8"
            ],
            [
             0.3333333333333333,
             "#9c179e"
            ],
            [
             0.4444444444444444,
             "#bd3786"
            ],
            [
             0.5555555555555556,
             "#d8576b"
            ],
            [
             0.6666666666666666,
             "#ed7953"
            ],
            [
             0.7777777777777778,
             "#fb9f3a"
            ],
            [
             0.8888888888888888,
             "#fdca26"
            ],
            [
             1,
             "#f0f921"
            ]
           ],
           "sequentialminus": [
            [
             0,
             "#0d0887"
            ],
            [
             0.1111111111111111,
             "#46039f"
            ],
            [
             0.2222222222222222,
             "#7201a8"
            ],
            [
             0.3333333333333333,
             "#9c179e"
            ],
            [
             0.4444444444444444,
             "#bd3786"
            ],
            [
             0.5555555555555556,
             "#d8576b"
            ],
            [
             0.6666666666666666,
             "#ed7953"
            ],
            [
             0.7777777777777778,
             "#fb9f3a"
            ],
            [
             0.8888888888888888,
             "#fdca26"
            ],
            [
             1,
             "#f0f921"
            ]
           ]
          },
          "colorway": [
           "#636efa",
           "#EF553B",
           "#00cc96",
           "#ab63fa",
           "#FFA15A",
           "#19d3f3",
           "#FF6692",
           "#B6E880",
           "#FF97FF",
           "#FECB52"
          ],
          "font": {
           "color": "#2a3f5f"
          },
          "geo": {
           "bgcolor": "white",
           "lakecolor": "white",
           "landcolor": "#E5ECF6",
           "showlakes": true,
           "showland": true,
           "subunitcolor": "white"
          },
          "hoverlabel": {
           "align": "left"
          },
          "hovermode": "closest",
          "mapbox": {
           "style": "light"
          },
          "paper_bgcolor": "white",
          "plot_bgcolor": "#E5ECF6",
          "polar": {
           "angularaxis": {
            "gridcolor": "white",
            "linecolor": "white",
            "ticks": ""
           },
           "bgcolor": "#E5ECF6",
           "radialaxis": {
            "gridcolor": "white",
            "linecolor": "white",
            "ticks": ""
           }
          },
          "scene": {
           "xaxis": {
            "backgroundcolor": "#E5ECF6",
            "gridcolor": "white",
            "gridwidth": 2,
            "linecolor": "white",
            "showbackground": true,
            "ticks": "",
            "zerolinecolor": "white"
           },
           "yaxis": {
            "backgroundcolor": "#E5ECF6",
            "gridcolor": "white",
            "gridwidth": 2,
            "linecolor": "white",
            "showbackground": true,
            "ticks": "",
            "zerolinecolor": "white"
           },
           "zaxis": {
            "backgroundcolor": "#E5ECF6",
            "gridcolor": "white",
            "gridwidth": 2,
            "linecolor": "white",
            "showbackground": true,
            "ticks": "",
            "zerolinecolor": "white"
           }
          },
          "shapedefaults": {
           "line": {
            "color": "#2a3f5f"
           }
          },
          "ternary": {
           "aaxis": {
            "gridcolor": "white",
            "linecolor": "white",
            "ticks": ""
           },
           "baxis": {
            "gridcolor": "white",
            "linecolor": "white",
            "ticks": ""
           },
           "bgcolor": "#E5ECF6",
           "caxis": {
            "gridcolor": "white",
            "linecolor": "white",
            "ticks": ""
           }
          },
          "title": {
           "x": 0.05
          },
          "xaxis": {
           "automargin": true,
           "gridcolor": "white",
           "linecolor": "white",
           "ticks": "",
           "title": {
            "standoff": 15
           },
           "zerolinecolor": "white",
           "zerolinewidth": 2
          },
          "yaxis": {
           "automargin": true,
           "gridcolor": "white",
           "linecolor": "white",
           "ticks": "",
           "title": {
            "standoff": 15
           },
           "zerolinecolor": "white",
           "zerolinewidth": 2
          }
         }
        },
        "title": {
         "text": "Survival Rate by Age Group"
        },
        "xaxis": {
         "anchor": "y",
         "domain": [
          0,
          1
         ],
         "title": {
          "text": "Age Group"
         }
        },
        "yaxis": {
         "anchor": "x",
         "domain": [
          0,
          1
         ],
         "tickformat": ".1%",
         "title": {
          "text": "Survival Rate"
         }
        }
       }
      }
     },
     "metadata": {},
     "output_type": "display_data"
    }
   ],
   "source": [
    "# Define age groups\n",
    "bins = [0, 12, 18, 60, 120]  # 0-12: Child, 13-18: Teen, 19-60: Adult, 60+: Senior\n",
    "labels = ['Child', 'Teen', 'Adult', 'Senior']\n",
    "titanic['AgeGroup'] = pd.cut(titanic['Age'], bins=bins, labels=labels, right=False)\n",
    "\n",
    "# Calculate the survival rate for each age group\n",
    "survival_rate_age_group = titanic.groupby('AgeGroup')['Survived'].mean().reset_index()\n",
    "\n",
    "# Create a bar chart\n",
    "fig = px.bar(survival_rate_age_group, x='AgeGroup', y='Survived',\n",
    "             text='Survived',\n",
    "             title='Survival Rate by Age Group',\n",
    "             labels={'Survived': 'Survival Rate', 'AgeGroup': 'Age Group'})\n",
    "\n",
    "# Update the y-axis to show percentages\n",
    "fig.update_yaxes(tickformat=\".1%\")\n",
    "\n",
    "# Show the plot\n",
    "fig.show()"
   ]
  },
  {
   "cell_type": "markdown",
   "metadata": {},
   "source": [
    "Creating a histogram to visualize the age distribution of passengers aboard the Titanic"
   ]
  },
  {
   "cell_type": "code",
   "execution_count": 6,
   "metadata": {},
   "outputs": [],
   "source": [
    "# Drop NaN values from 'Age' column\n",
    "titanic = titanic.dropna(subset=['Age'])\n"
   ]
  },
  {
   "cell_type": "code",
   "execution_count": 7,
   "metadata": {},
   "outputs": [
    {
     "data": {
      "application/vnd.plotly.v1+json": {
       "config": {
        "plotlyServerURL": "https://plot.ly"
       },
       "data": [
        {
         "alignmentgroup": "True",
         "bingroup": "x",
         "hovertemplate": "Age (years)=%{x}<br>count=%{y}<extra></extra>",
         "legendgroup": "",
         "marker": {
          "color": "#636efa",
          "pattern": {
           "shape": ""
          }
         },
         "name": "",
         "nbinsx": 30,
         "offsetgroup": "",
         "orientation": "v",
         "showlegend": false,
         "type": "histogram",
         "x": [
          22,
          38,
          26,
          35,
          35,
          54,
          2,
          27,
          14,
          4,
          58,
          20,
          39,
          14,
          55,
          2,
          31,
          35,
          34,
          15,
          28,
          8,
          38,
          19,
          40,
          66,
          28,
          42,
          21,
          18,
          14,
          40,
          27,
          3,
          19,
          18,
          7,
          21,
          49,
          29,
          65,
          21,
          28.5,
          5,
          11,
          22,
          38,
          45,
          4,
          29,
          19,
          17,
          26,
          32,
          16,
          21,
          26,
          32,
          25,
          0.83,
          30,
          22,
          29,
          28,
          17,
          33,
          16,
          23,
          24,
          29,
          20,
          46,
          26,
          59,
          71,
          23,
          34,
          34,
          28,
          21,
          33,
          37,
          28,
          21,
          38,
          47,
          14.5,
          22,
          20,
          17,
          21,
          70.5,
          29,
          24,
          2,
          21,
          32.5,
          32.5,
          54,
          12,
          24,
          45,
          33,
          20,
          47,
          29,
          25,
          23,
          19,
          37,
          16,
          24,
          22,
          24,
          19,
          18,
          19,
          27,
          9,
          36.5,
          42,
          51,
          22,
          55.5,
          40.5,
          51,
          16,
          30,
          44,
          40,
          26,
          17,
          1,
          9,
          45,
          28,
          61,
          4,
          1,
          21,
          56,
          18,
          50,
          30,
          36,
          9,
          1,
          4,
          45,
          40,
          36,
          32,
          19,
          19,
          3,
          44,
          58,
          42,
          24,
          28,
          34,
          45.5,
          18,
          2,
          32,
          26,
          16,
          40,
          24,
          35,
          22,
          30,
          31,
          27,
          42,
          32,
          30,
          16,
          27,
          51,
          38,
          22,
          19,
          20.5,
          18,
          35,
          29,
          59,
          5,
          24,
          44,
          8,
          19,
          33,
          29,
          22,
          30,
          44,
          25,
          24,
          37,
          54,
          29,
          62,
          30,
          41,
          29,
          30,
          35,
          50,
          3,
          52,
          40,
          36,
          16,
          25,
          58,
          35,
          25,
          41,
          37,
          63,
          45,
          7,
          35,
          65,
          28,
          16,
          19,
          33,
          30,
          22,
          42,
          22,
          26,
          19,
          36,
          24,
          24,
          23.5,
          2,
          50,
          19,
          0.92,
          17,
          30,
          30,
          24,
          18,
          26,
          28,
          43,
          26,
          24,
          54,
          31,
          40,
          22,
          27,
          30,
          22,
          36,
          61,
          36,
          31,
          16,
          45.5,
          38,
          16,
          29,
          41,
          45,
          45,
          2,
          24,
          28,
          25,
          36,
          24,
          40,
          3,
          42,
          23,
          15,
          25,
          28,
          22,
          38,
          40,
          29,
          45,
          35,
          30,
          60,
          24,
          25,
          18,
          19,
          22,
          3,
          22,
          27,
          20,
          19,
          42,
          1,
          32,
          35,
          18,
          1,
          36,
          17,
          36,
          21,
          28,
          23,
          24,
          22,
          31,
          46,
          23,
          28,
          39,
          26,
          21,
          28,
          20,
          34,
          51,
          3,
          21,
          33,
          44,
          34,
          18,
          30,
          10,
          21,
          29,
          28,
          18,
          28,
          19,
          32,
          28,
          42,
          17,
          50,
          14,
          21,
          24,
          64,
          31,
          45,
          20,
          25,
          28,
          4,
          13,
          34,
          5,
          52,
          36,
          30,
          49,
          29,
          65,
          50,
          48,
          34,
          47,
          48,
          38,
          56,
          0.75,
          38,
          33,
          23,
          22,
          34,
          29,
          22,
          2,
          9,
          50,
          63,
          25,
          35,
          58,
          30,
          9,
          21,
          55,
          71,
          21,
          54,
          25,
          24,
          17,
          21,
          37,
          16,
          18,
          33,
          28,
          26,
          29,
          36,
          54,
          24,
          47,
          34,
          36,
          32,
          30,
          22,
          44,
          40.5,
          50,
          39,
          23,
          2,
          17,
          30,
          7,
          45,
          30,
          22,
          36,
          9,
          11,
          32,
          50,
          64,
          19,
          33,
          8,
          17,
          27,
          22,
          22,
          62,
          48,
          39,
          36,
          40,
          28,
          24,
          19,
          29,
          32,
          62,
          53,
          36,
          16,
          19,
          34,
          39,
          32,
          25,
          39,
          54,
          36,
          18,
          47,
          60,
          22,
          35,
          52,
          47,
          37,
          36,
          49,
          49,
          24,
          44,
          35,
          36,
          30,
          27,
          22,
          40,
          39,
          35,
          24,
          34,
          26,
          4,
          26,
          27,
          42,
          20,
          21,
          21,
          61,
          57,
          21,
          26,
          80,
          51,
          32,
          9,
          28,
          32,
          31,
          41,
          20,
          24,
          2,
          0.75,
          48,
          19,
          56,
          23,
          18,
          21,
          18,
          24,
          32,
          23,
          58,
          50,
          40,
          47,
          36,
          20,
          32,
          25,
          43,
          40,
          31,
          70,
          31,
          18,
          24.5,
          18,
          43,
          36,
          27,
          20,
          14,
          60,
          25,
          14,
          19,
          18,
          15,
          31,
          4,
          25,
          60,
          52,
          44,
          49,
          42,
          18,
          35,
          18,
          25,
          26,
          39,
          45,
          42,
          22,
          24,
          48,
          29,
          52,
          19,
          38,
          27,
          33,
          6,
          17,
          34,
          50,
          27,
          20,
          30,
          25,
          25,
          29,
          11,
          23,
          23,
          28.5,
          48,
          35,
          36,
          21,
          24,
          31,
          70,
          16,
          30,
          19,
          31,
          4,
          6,
          33,
          23,
          48,
          0.67,
          28,
          18,
          34,
          33,
          41,
          20,
          36,
          16,
          51,
          30.5,
          32,
          24,
          48,
          57,
          54,
          18,
          5,
          43,
          13,
          17,
          29,
          25,
          25,
          18,
          8,
          1,
          46,
          16,
          25,
          39,
          49,
          31,
          30,
          30,
          34,
          31,
          11,
          0.42,
          27,
          31,
          39,
          18,
          39,
          33,
          26,
          39,
          35,
          6,
          30.5,
          23,
          31,
          43,
          10,
          52,
          27,
          38,
          27,
          2,
          1,
          62,
          15,
          0.83,
          23,
          18,
          39,
          21,
          32,
          20,
          16,
          30,
          34.5,
          17,
          42,
          35,
          28,
          4,
          74,
          9,
          16,
          44,
          18,
          45,
          51,
          24,
          41,
          21,
          48,
          24,
          42,
          27,
          31,
          4,
          26,
          47,
          33,
          47,
          28,
          15,
          20,
          19,
          56,
          25,
          33,
          22,
          28,
          25,
          39,
          27,
          19,
          26,
          32
         ],
         "xaxis": "x",
         "yaxis": "y"
        },
        {
         "alignmentgroup": "True",
         "hovertemplate": "Age (years)=%{x}<extra></extra>",
         "legendgroup": "",
         "marker": {
          "color": "#636efa"
         },
         "name": "",
         "notched": true,
         "offsetgroup": "",
         "showlegend": false,
         "type": "box",
         "x": [
          22,
          38,
          26,
          35,
          35,
          54,
          2,
          27,
          14,
          4,
          58,
          20,
          39,
          14,
          55,
          2,
          31,
          35,
          34,
          15,
          28,
          8,
          38,
          19,
          40,
          66,
          28,
          42,
          21,
          18,
          14,
          40,
          27,
          3,
          19,
          18,
          7,
          21,
          49,
          29,
          65,
          21,
          28.5,
          5,
          11,
          22,
          38,
          45,
          4,
          29,
          19,
          17,
          26,
          32,
          16,
          21,
          26,
          32,
          25,
          0.83,
          30,
          22,
          29,
          28,
          17,
          33,
          16,
          23,
          24,
          29,
          20,
          46,
          26,
          59,
          71,
          23,
          34,
          34,
          28,
          21,
          33,
          37,
          28,
          21,
          38,
          47,
          14.5,
          22,
          20,
          17,
          21,
          70.5,
          29,
          24,
          2,
          21,
          32.5,
          32.5,
          54,
          12,
          24,
          45,
          33,
          20,
          47,
          29,
          25,
          23,
          19,
          37,
          16,
          24,
          22,
          24,
          19,
          18,
          19,
          27,
          9,
          36.5,
          42,
          51,
          22,
          55.5,
          40.5,
          51,
          16,
          30,
          44,
          40,
          26,
          17,
          1,
          9,
          45,
          28,
          61,
          4,
          1,
          21,
          56,
          18,
          50,
          30,
          36,
          9,
          1,
          4,
          45,
          40,
          36,
          32,
          19,
          19,
          3,
          44,
          58,
          42,
          24,
          28,
          34,
          45.5,
          18,
          2,
          32,
          26,
          16,
          40,
          24,
          35,
          22,
          30,
          31,
          27,
          42,
          32,
          30,
          16,
          27,
          51,
          38,
          22,
          19,
          20.5,
          18,
          35,
          29,
          59,
          5,
          24,
          44,
          8,
          19,
          33,
          29,
          22,
          30,
          44,
          25,
          24,
          37,
          54,
          29,
          62,
          30,
          41,
          29,
          30,
          35,
          50,
          3,
          52,
          40,
          36,
          16,
          25,
          58,
          35,
          25,
          41,
          37,
          63,
          45,
          7,
          35,
          65,
          28,
          16,
          19,
          33,
          30,
          22,
          42,
          22,
          26,
          19,
          36,
          24,
          24,
          23.5,
          2,
          50,
          19,
          0.92,
          17,
          30,
          30,
          24,
          18,
          26,
          28,
          43,
          26,
          24,
          54,
          31,
          40,
          22,
          27,
          30,
          22,
          36,
          61,
          36,
          31,
          16,
          45.5,
          38,
          16,
          29,
          41,
          45,
          45,
          2,
          24,
          28,
          25,
          36,
          24,
          40,
          3,
          42,
          23,
          15,
          25,
          28,
          22,
          38,
          40,
          29,
          45,
          35,
          30,
          60,
          24,
          25,
          18,
          19,
          22,
          3,
          22,
          27,
          20,
          19,
          42,
          1,
          32,
          35,
          18,
          1,
          36,
          17,
          36,
          21,
          28,
          23,
          24,
          22,
          31,
          46,
          23,
          28,
          39,
          26,
          21,
          28,
          20,
          34,
          51,
          3,
          21,
          33,
          44,
          34,
          18,
          30,
          10,
          21,
          29,
          28,
          18,
          28,
          19,
          32,
          28,
          42,
          17,
          50,
          14,
          21,
          24,
          64,
          31,
          45,
          20,
          25,
          28,
          4,
          13,
          34,
          5,
          52,
          36,
          30,
          49,
          29,
          65,
          50,
          48,
          34,
          47,
          48,
          38,
          56,
          0.75,
          38,
          33,
          23,
          22,
          34,
          29,
          22,
          2,
          9,
          50,
          63,
          25,
          35,
          58,
          30,
          9,
          21,
          55,
          71,
          21,
          54,
          25,
          24,
          17,
          21,
          37,
          16,
          18,
          33,
          28,
          26,
          29,
          36,
          54,
          24,
          47,
          34,
          36,
          32,
          30,
          22,
          44,
          40.5,
          50,
          39,
          23,
          2,
          17,
          30,
          7,
          45,
          30,
          22,
          36,
          9,
          11,
          32,
          50,
          64,
          19,
          33,
          8,
          17,
          27,
          22,
          22,
          62,
          48,
          39,
          36,
          40,
          28,
          24,
          19,
          29,
          32,
          62,
          53,
          36,
          16,
          19,
          34,
          39,
          32,
          25,
          39,
          54,
          36,
          18,
          47,
          60,
          22,
          35,
          52,
          47,
          37,
          36,
          49,
          49,
          24,
          44,
          35,
          36,
          30,
          27,
          22,
          40,
          39,
          35,
          24,
          34,
          26,
          4,
          26,
          27,
          42,
          20,
          21,
          21,
          61,
          57,
          21,
          26,
          80,
          51,
          32,
          9,
          28,
          32,
          31,
          41,
          20,
          24,
          2,
          0.75,
          48,
          19,
          56,
          23,
          18,
          21,
          18,
          24,
          32,
          23,
          58,
          50,
          40,
          47,
          36,
          20,
          32,
          25,
          43,
          40,
          31,
          70,
          31,
          18,
          24.5,
          18,
          43,
          36,
          27,
          20,
          14,
          60,
          25,
          14,
          19,
          18,
          15,
          31,
          4,
          25,
          60,
          52,
          44,
          49,
          42,
          18,
          35,
          18,
          25,
          26,
          39,
          45,
          42,
          22,
          24,
          48,
          29,
          52,
          19,
          38,
          27,
          33,
          6,
          17,
          34,
          50,
          27,
          20,
          30,
          25,
          25,
          29,
          11,
          23,
          23,
          28.5,
          48,
          35,
          36,
          21,
          24,
          31,
          70,
          16,
          30,
          19,
          31,
          4,
          6,
          33,
          23,
          48,
          0.67,
          28,
          18,
          34,
          33,
          41,
          20,
          36,
          16,
          51,
          30.5,
          32,
          24,
          48,
          57,
          54,
          18,
          5,
          43,
          13,
          17,
          29,
          25,
          25,
          18,
          8,
          1,
          46,
          16,
          25,
          39,
          49,
          31,
          30,
          30,
          34,
          31,
          11,
          0.42,
          27,
          31,
          39,
          18,
          39,
          33,
          26,
          39,
          35,
          6,
          30.5,
          23,
          31,
          43,
          10,
          52,
          27,
          38,
          27,
          2,
          1,
          62,
          15,
          0.83,
          23,
          18,
          39,
          21,
          32,
          20,
          16,
          30,
          34.5,
          17,
          42,
          35,
          28,
          4,
          74,
          9,
          16,
          44,
          18,
          45,
          51,
          24,
          41,
          21,
          48,
          24,
          42,
          27,
          31,
          4,
          26,
          47,
          33,
          47,
          28,
          15,
          20,
          19,
          56,
          25,
          33,
          22,
          28,
          25,
          39,
          27,
          19,
          26,
          32
         ],
         "xaxis": "x2",
         "yaxis": "y2"
        }
       ],
       "layout": {
        "barmode": "relative",
        "legend": {
         "tracegroupgap": 0
        },
        "template": {
         "data": {
          "bar": [
           {
            "error_x": {
             "color": "#2a3f5f"
            },
            "error_y": {
             "color": "#2a3f5f"
            },
            "marker": {
             "line": {
              "color": "#E5ECF6",
              "width": 0.5
             },
             "pattern": {
              "fillmode": "overlay",
              "size": 10,
              "solidity": 0.2
             }
            },
            "type": "bar"
           }
          ],
          "barpolar": [
           {
            "marker": {
             "line": {
              "color": "#E5ECF6",
              "width": 0.5
             },
             "pattern": {
              "fillmode": "overlay",
              "size": 10,
              "solidity": 0.2
             }
            },
            "type": "barpolar"
           }
          ],
          "carpet": [
           {
            "aaxis": {
             "endlinecolor": "#2a3f5f",
             "gridcolor": "white",
             "linecolor": "white",
             "minorgridcolor": "white",
             "startlinecolor": "#2a3f5f"
            },
            "baxis": {
             "endlinecolor": "#2a3f5f",
             "gridcolor": "white",
             "linecolor": "white",
             "minorgridcolor": "white",
             "startlinecolor": "#2a3f5f"
            },
            "type": "carpet"
           }
          ],
          "choropleth": [
           {
            "colorbar": {
             "outlinewidth": 0,
             "ticks": ""
            },
            "type": "choropleth"
           }
          ],
          "contour": [
           {
            "colorbar": {
             "outlinewidth": 0,
             "ticks": ""
            },
            "colorscale": [
             [
              0,
              "#0d0887"
             ],
             [
              0.1111111111111111,
              "#46039f"
             ],
             [
              0.2222222222222222,
              "#7201a8"
             ],
             [
              0.3333333333333333,
              "#9c179e"
             ],
             [
              0.4444444444444444,
              "#bd3786"
             ],
             [
              0.5555555555555556,
              "#d8576b"
             ],
             [
              0.6666666666666666,
              "#ed7953"
             ],
             [
              0.7777777777777778,
              "#fb9f3a"
             ],
             [
              0.8888888888888888,
              "#fdca26"
             ],
             [
              1,
              "#f0f921"
             ]
            ],
            "type": "contour"
           }
          ],
          "contourcarpet": [
           {
            "colorbar": {
             "outlinewidth": 0,
             "ticks": ""
            },
            "type": "contourcarpet"
           }
          ],
          "heatmap": [
           {
            "colorbar": {
             "outlinewidth": 0,
             "ticks": ""
            },
            "colorscale": [
             [
              0,
              "#0d0887"
             ],
             [
              0.1111111111111111,
              "#46039f"
             ],
             [
              0.2222222222222222,
              "#7201a8"
             ],
             [
              0.3333333333333333,
              "#9c179e"
             ],
             [
              0.4444444444444444,
              "#bd3786"
             ],
             [
              0.5555555555555556,
              "#d8576b"
             ],
             [
              0.6666666666666666,
              "#ed7953"
             ],
             [
              0.7777777777777778,
              "#fb9f3a"
             ],
             [
              0.8888888888888888,
              "#fdca26"
             ],
             [
              1,
              "#f0f921"
             ]
            ],
            "type": "heatmap"
           }
          ],
          "heatmapgl": [
           {
            "colorbar": {
             "outlinewidth": 0,
             "ticks": ""
            },
            "colorscale": [
             [
              0,
              "#0d0887"
             ],
             [
              0.1111111111111111,
              "#46039f"
             ],
             [
              0.2222222222222222,
              "#7201a8"
             ],
             [
              0.3333333333333333,
              "#9c179e"
             ],
             [
              0.4444444444444444,
              "#bd3786"
             ],
             [
              0.5555555555555556,
              "#d8576b"
             ],
             [
              0.6666666666666666,
              "#ed7953"
             ],
             [
              0.7777777777777778,
              "#fb9f3a"
             ],
             [
              0.8888888888888888,
              "#fdca26"
             ],
             [
              1,
              "#f0f921"
             ]
            ],
            "type": "heatmapgl"
           }
          ],
          "histogram": [
           {
            "marker": {
             "pattern": {
              "fillmode": "overlay",
              "size": 10,
              "solidity": 0.2
             }
            },
            "type": "histogram"
           }
          ],
          "histogram2d": [
           {
            "colorbar": {
             "outlinewidth": 0,
             "ticks": ""
            },
            "colorscale": [
             [
              0,
              "#0d0887"
             ],
             [
              0.1111111111111111,
              "#46039f"
             ],
             [
              0.2222222222222222,
              "#7201a8"
             ],
             [
              0.3333333333333333,
              "#9c179e"
             ],
             [
              0.4444444444444444,
              "#bd3786"
             ],
             [
              0.5555555555555556,
              "#d8576b"
             ],
             [
              0.6666666666666666,
              "#ed7953"
             ],
             [
              0.7777777777777778,
              "#fb9f3a"
             ],
             [
              0.8888888888888888,
              "#fdca26"
             ],
             [
              1,
              "#f0f921"
             ]
            ],
            "type": "histogram2d"
           }
          ],
          "histogram2dcontour": [
           {
            "colorbar": {
             "outlinewidth": 0,
             "ticks": ""
            },
            "colorscale": [
             [
              0,
              "#0d0887"
             ],
             [
              0.1111111111111111,
              "#46039f"
             ],
             [
              0.2222222222222222,
              "#7201a8"
             ],
             [
              0.3333333333333333,
              "#9c179e"
             ],
             [
              0.4444444444444444,
              "#bd3786"
             ],
             [
              0.5555555555555556,
              "#d8576b"
             ],
             [
              0.6666666666666666,
              "#ed7953"
             ],
             [
              0.7777777777777778,
              "#fb9f3a"
             ],
             [
              0.8888888888888888,
              "#fdca26"
             ],
             [
              1,
              "#f0f921"
             ]
            ],
            "type": "histogram2dcontour"
           }
          ],
          "mesh3d": [
           {
            "colorbar": {
             "outlinewidth": 0,
             "ticks": ""
            },
            "type": "mesh3d"
           }
          ],
          "parcoords": [
           {
            "line": {
             "colorbar": {
              "outlinewidth": 0,
              "ticks": ""
             }
            },
            "type": "parcoords"
           }
          ],
          "pie": [
           {
            "automargin": true,
            "type": "pie"
           }
          ],
          "scatter": [
           {
            "fillpattern": {
             "fillmode": "overlay",
             "size": 10,
             "solidity": 0.2
            },
            "type": "scatter"
           }
          ],
          "scatter3d": [
           {
            "line": {
             "colorbar": {
              "outlinewidth": 0,
              "ticks": ""
             }
            },
            "marker": {
             "colorbar": {
              "outlinewidth": 0,
              "ticks": ""
             }
            },
            "type": "scatter3d"
           }
          ],
          "scattercarpet": [
           {
            "marker": {
             "colorbar": {
              "outlinewidth": 0,
              "ticks": ""
             }
            },
            "type": "scattercarpet"
           }
          ],
          "scattergeo": [
           {
            "marker": {
             "colorbar": {
              "outlinewidth": 0,
              "ticks": ""
             }
            },
            "type": "scattergeo"
           }
          ],
          "scattergl": [
           {
            "marker": {
             "colorbar": {
              "outlinewidth": 0,
              "ticks": ""
             }
            },
            "type": "scattergl"
           }
          ],
          "scattermapbox": [
           {
            "marker": {
             "colorbar": {
              "outlinewidth": 0,
              "ticks": ""
             }
            },
            "type": "scattermapbox"
           }
          ],
          "scatterpolar": [
           {
            "marker": {
             "colorbar": {
              "outlinewidth": 0,
              "ticks": ""
             }
            },
            "type": "scatterpolar"
           }
          ],
          "scatterpolargl": [
           {
            "marker": {
             "colorbar": {
              "outlinewidth": 0,
              "ticks": ""
             }
            },
            "type": "scatterpolargl"
           }
          ],
          "scatterternary": [
           {
            "marker": {
             "colorbar": {
              "outlinewidth": 0,
              "ticks": ""
             }
            },
            "type": "scatterternary"
           }
          ],
          "surface": [
           {
            "colorbar": {
             "outlinewidth": 0,
             "ticks": ""
            },
            "colorscale": [
             [
              0,
              "#0d0887"
             ],
             [
              0.1111111111111111,
              "#46039f"
             ],
             [
              0.2222222222222222,
              "#7201a8"
             ],
             [
              0.3333333333333333,
              "#9c179e"
             ],
             [
              0.4444444444444444,
              "#bd3786"
             ],
             [
              0.5555555555555556,
              "#d8576b"
             ],
             [
              0.6666666666666666,
              "#ed7953"
             ],
             [
              0.7777777777777778,
              "#fb9f3a"
             ],
             [
              0.8888888888888888,
              "#fdca26"
             ],
             [
              1,
              "#f0f921"
             ]
            ],
            "type": "surface"
           }
          ],
          "table": [
           {
            "cells": {
             "fill": {
              "color": "#EBF0F8"
             },
             "line": {
              "color": "white"
             }
            },
            "header": {
             "fill": {
              "color": "#C8D4E3"
             },
             "line": {
              "color": "white"
             }
            },
            "type": "table"
           }
          ]
         },
         "layout": {
          "annotationdefaults": {
           "arrowcolor": "#2a3f5f",
           "arrowhead": 0,
           "arrowwidth": 1
          },
          "autotypenumbers": "strict",
          "coloraxis": {
           "colorbar": {
            "outlinewidth": 0,
            "ticks": ""
           }
          },
          "colorscale": {
           "diverging": [
            [
             0,
             "#8e0152"
            ],
            [
             0.1,
             "#c51b7d"
            ],
            [
             0.2,
             "#de77ae"
            ],
            [
             0.3,
             "#f1b6da"
            ],
            [
             0.4,
             "#fde0ef"
            ],
            [
             0.5,
             "#f7f7f7"
            ],
            [
             0.6,
             "#e6f5d0"
            ],
            [
             0.7,
             "#b8e186"
            ],
            [
             0.8,
             "#7fbc41"
            ],
            [
             0.9,
             "#4d9221"
            ],
            [
             1,
             "#276419"
            ]
           ],
           "sequential": [
            [
             0,
             "#0d0887"
            ],
            [
             0.1111111111111111,
             "#46039f"
            ],
            [
             0.2222222222222222,
             "#7201a8"
            ],
            [
             0.3333333333333333,
             "#9c179e"
            ],
            [
             0.4444444444444444,
             "#bd3786"
            ],
            [
             0.5555555555555556,
             "#d8576b"
            ],
            [
             0.6666666666666666,
             "#ed7953"
            ],
            [
             0.7777777777777778,
             "#fb9f3a"
            ],
            [
             0.8888888888888888,
             "#fdca26"
            ],
            [
             1,
             "#f0f921"
            ]
           ],
           "sequentialminus": [
            [
             0,
             "#0d0887"
            ],
            [
             0.1111111111111111,
             "#46039f"
            ],
            [
             0.2222222222222222,
             "#7201a8"
            ],
            [
             0.3333333333333333,
             "#9c179e"
            ],
            [
             0.4444444444444444,
             "#bd3786"
            ],
            [
             0.5555555555555556,
             "#d8576b"
            ],
            [
             0.6666666666666666,
             "#ed7953"
            ],
            [
             0.7777777777777778,
             "#fb9f3a"
            ],
            [
             0.8888888888888888,
             "#fdca26"
            ],
            [
             1,
             "#f0f921"
            ]
           ]
          },
          "colorway": [
           "#636efa",
           "#EF553B",
           "#00cc96",
           "#ab63fa",
           "#FFA15A",
           "#19d3f3",
           "#FF6692",
           "#B6E880",
           "#FF97FF",
           "#FECB52"
          ],
          "font": {
           "color": "#2a3f5f"
          },
          "geo": {
           "bgcolor": "white",
           "lakecolor": "white",
           "landcolor": "#E5ECF6",
           "showlakes": true,
           "showland": true,
           "subunitcolor": "white"
          },
          "hoverlabel": {
           "align": "left"
          },
          "hovermode": "closest",
          "mapbox": {
           "style": "light"
          },
          "paper_bgcolor": "white",
          "plot_bgcolor": "#E5ECF6",
          "polar": {
           "angularaxis": {
            "gridcolor": "white",
            "linecolor": "white",
            "ticks": ""
           },
           "bgcolor": "#E5ECF6",
           "radialaxis": {
            "gridcolor": "white",
            "linecolor": "white",
            "ticks": ""
           }
          },
          "scene": {
           "xaxis": {
            "backgroundcolor": "#E5ECF6",
            "gridcolor": "white",
            "gridwidth": 2,
            "linecolor": "white",
            "showbackground": true,
            "ticks": "",
            "zerolinecolor": "white"
           },
           "yaxis": {
            "backgroundcolor": "#E5ECF6",
            "gridcolor": "white",
            "gridwidth": 2,
            "linecolor": "white",
            "showbackground": true,
            "ticks": "",
            "zerolinecolor": "white"
           },
           "zaxis": {
            "backgroundcolor": "#E5ECF6",
            "gridcolor": "white",
            "gridwidth": 2,
            "linecolor": "white",
            "showbackground": true,
            "ticks": "",
            "zerolinecolor": "white"
           }
          },
          "shapedefaults": {
           "line": {
            "color": "#2a3f5f"
           }
          },
          "ternary": {
           "aaxis": {
            "gridcolor": "white",
            "linecolor": "white",
            "ticks": ""
           },
           "baxis": {
            "gridcolor": "white",
            "linecolor": "white",
            "ticks": ""
           },
           "bgcolor": "#E5ECF6",
           "caxis": {
            "gridcolor": "white",
            "linecolor": "white",
            "ticks": ""
           }
          },
          "title": {
           "x": 0.05
          },
          "xaxis": {
           "automargin": true,
           "gridcolor": "white",
           "linecolor": "white",
           "ticks": "",
           "title": {
            "standoff": 15
           },
           "zerolinecolor": "white",
           "zerolinewidth": 2
          },
          "yaxis": {
           "automargin": true,
           "gridcolor": "white",
           "linecolor": "white",
           "ticks": "",
           "title": {
            "standoff": 15
           },
           "zerolinecolor": "white",
           "zerolinewidth": 2
          }
         }
        },
        "title": {
         "text": "Age Distribution of Passengers"
        },
        "xaxis": {
         "anchor": "y",
         "domain": [
          0,
          1
         ],
         "title": {
          "text": "Age (years)"
         }
        },
        "xaxis2": {
         "anchor": "y2",
         "domain": [
          0,
          1
         ],
         "matches": "x",
         "showgrid": true,
         "showticklabels": false
        },
        "yaxis": {
         "anchor": "x",
         "domain": [
          0,
          0.8316
         ],
         "title": {
          "text": "count"
         }
        },
        "yaxis2": {
         "anchor": "x2",
         "domain": [
          0.8416,
          1
         ],
         "matches": "y2",
         "showgrid": false,
         "showline": false,
         "showticklabels": false,
         "ticks": ""
        }
       }
      }
     },
     "metadata": {},
     "output_type": "display_data"
    }
   ],
   "source": [
    "# Create a histogram to visualize the age distribution\n",
    "fig = px.histogram(titanic, x='Age',\n",
    "                   title='Age Distribution of Passengers',\n",
    "                   labels={'Age': 'Age (years)'},\n",
    "                   nbins=30, # Adjust this value based on your data distribution and preference\n",
    "                   marginal='box', # Adds a boxplot to the top of the histogram\n",
    "                   )\n",
    "\n",
    "# Show the plot\n",
    "fig.show()"
   ]
  },
  {
   "cell_type": "markdown",
   "metadata": {},
   "source": [
    "Embarkation Point Distribution: A pie chart to show the proportion of passengers embarking from different points."
   ]
  },
  {
   "cell_type": "code",
   "execution_count": null,
   "metadata": {},
   "outputs": [],
   "source": []
  },
  {
   "cell_type": "code",
   "execution_count": 8,
   "metadata": {},
   "outputs": [
    {
     "data": {
      "application/vnd.plotly.v1+json": {
       "config": {
        "plotlyServerURL": "https://plot.ly"
       },
       "data": [
        {
         "domain": {
          "x": [
           0,
           1
          ],
          "y": [
           0,
           1
          ]
         },
         "hovertemplate": "Embarkation Point=%{label}<br>Number of Passengers=%{value}<extra></extra>",
         "labels": [
          "S",
          "C",
          "Q"
         ],
         "legendgroup": "",
         "name": "",
         "showlegend": true,
         "type": "pie",
         "values": [
          554,
          130,
          28
         ]
        }
       ],
       "layout": {
        "legend": {
         "tracegroupgap": 0
        },
        "piecolorway": [
         "rgb(103,0,31)",
         "rgb(178,24,43)",
         "rgb(214,96,77)",
         "rgb(244,165,130)",
         "rgb(253,219,199)",
         "rgb(247,247,247)",
         "rgb(209,229,240)",
         "rgb(146,197,222)",
         "rgb(67,147,195)",
         "rgb(33,102,172)",
         "rgb(5,48,97)"
        ],
        "template": {
         "data": {
          "bar": [
           {
            "error_x": {
             "color": "#2a3f5f"
            },
            "error_y": {
             "color": "#2a3f5f"
            },
            "marker": {
             "line": {
              "color": "#E5ECF6",
              "width": 0.5
             },
             "pattern": {
              "fillmode": "overlay",
              "size": 10,
              "solidity": 0.2
             }
            },
            "type": "bar"
           }
          ],
          "barpolar": [
           {
            "marker": {
             "line": {
              "color": "#E5ECF6",
              "width": 0.5
             },
             "pattern": {
              "fillmode": "overlay",
              "size": 10,
              "solidity": 0.2
             }
            },
            "type": "barpolar"
           }
          ],
          "carpet": [
           {
            "aaxis": {
             "endlinecolor": "#2a3f5f",
             "gridcolor": "white",
             "linecolor": "white",
             "minorgridcolor": "white",
             "startlinecolor": "#2a3f5f"
            },
            "baxis": {
             "endlinecolor": "#2a3f5f",
             "gridcolor": "white",
             "linecolor": "white",
             "minorgridcolor": "white",
             "startlinecolor": "#2a3f5f"
            },
            "type": "carpet"
           }
          ],
          "choropleth": [
           {
            "colorbar": {
             "outlinewidth": 0,
             "ticks": ""
            },
            "type": "choropleth"
           }
          ],
          "contour": [
           {
            "colorbar": {
             "outlinewidth": 0,
             "ticks": ""
            },
            "colorscale": [
             [
              0,
              "#0d0887"
             ],
             [
              0.1111111111111111,
              "#46039f"
             ],
             [
              0.2222222222222222,
              "#7201a8"
             ],
             [
              0.3333333333333333,
              "#9c179e"
             ],
             [
              0.4444444444444444,
              "#bd3786"
             ],
             [
              0.5555555555555556,
              "#d8576b"
             ],
             [
              0.6666666666666666,
              "#ed7953"
             ],
             [
              0.7777777777777778,
              "#fb9f3a"
             ],
             [
              0.8888888888888888,
              "#fdca26"
             ],
             [
              1,
              "#f0f921"
             ]
            ],
            "type": "contour"
           }
          ],
          "contourcarpet": [
           {
            "colorbar": {
             "outlinewidth": 0,
             "ticks": ""
            },
            "type": "contourcarpet"
           }
          ],
          "heatmap": [
           {
            "colorbar": {
             "outlinewidth": 0,
             "ticks": ""
            },
            "colorscale": [
             [
              0,
              "#0d0887"
             ],
             [
              0.1111111111111111,
              "#46039f"
             ],
             [
              0.2222222222222222,
              "#7201a8"
             ],
             [
              0.3333333333333333,
              "#9c179e"
             ],
             [
              0.4444444444444444,
              "#bd3786"
             ],
             [
              0.5555555555555556,
              "#d8576b"
             ],
             [
              0.6666666666666666,
              "#ed7953"
             ],
             [
              0.7777777777777778,
              "#fb9f3a"
             ],
             [
              0.8888888888888888,
              "#fdca26"
             ],
             [
              1,
              "#f0f921"
             ]
            ],
            "type": "heatmap"
           }
          ],
          "heatmapgl": [
           {
            "colorbar": {
             "outlinewidth": 0,
             "ticks": ""
            },
            "colorscale": [
             [
              0,
              "#0d0887"
             ],
             [
              0.1111111111111111,
              "#46039f"
             ],
             [
              0.2222222222222222,
              "#7201a8"
             ],
             [
              0.3333333333333333,
              "#9c179e"
             ],
             [
              0.4444444444444444,
              "#bd3786"
             ],
             [
              0.5555555555555556,
              "#d8576b"
             ],
             [
              0.6666666666666666,
              "#ed7953"
             ],
             [
              0.7777777777777778,
              "#fb9f3a"
             ],
             [
              0.8888888888888888,
              "#fdca26"
             ],
             [
              1,
              "#f0f921"
             ]
            ],
            "type": "heatmapgl"
           }
          ],
          "histogram": [
           {
            "marker": {
             "pattern": {
              "fillmode": "overlay",
              "size": 10,
              "solidity": 0.2
             }
            },
            "type": "histogram"
           }
          ],
          "histogram2d": [
           {
            "colorbar": {
             "outlinewidth": 0,
             "ticks": ""
            },
            "colorscale": [
             [
              0,
              "#0d0887"
             ],
             [
              0.1111111111111111,
              "#46039f"
             ],
             [
              0.2222222222222222,
              "#7201a8"
             ],
             [
              0.3333333333333333,
              "#9c179e"
             ],
             [
              0.4444444444444444,
              "#bd3786"
             ],
             [
              0.5555555555555556,
              "#d8576b"
             ],
             [
              0.6666666666666666,
              "#ed7953"
             ],
             [
              0.7777777777777778,
              "#fb9f3a"
             ],
             [
              0.8888888888888888,
              "#fdca26"
             ],
             [
              1,
              "#f0f921"
             ]
            ],
            "type": "histogram2d"
           }
          ],
          "histogram2dcontour": [
           {
            "colorbar": {
             "outlinewidth": 0,
             "ticks": ""
            },
            "colorscale": [
             [
              0,
              "#0d0887"
             ],
             [
              0.1111111111111111,
              "#46039f"
             ],
             [
              0.2222222222222222,
              "#7201a8"
             ],
             [
              0.3333333333333333,
              "#9c179e"
             ],
             [
              0.4444444444444444,
              "#bd3786"
             ],
             [
              0.5555555555555556,
              "#d8576b"
             ],
             [
              0.6666666666666666,
              "#ed7953"
             ],
             [
              0.7777777777777778,
              "#fb9f3a"
             ],
             [
              0.8888888888888888,
              "#fdca26"
             ],
             [
              1,
              "#f0f921"
             ]
            ],
            "type": "histogram2dcontour"
           }
          ],
          "mesh3d": [
           {
            "colorbar": {
             "outlinewidth": 0,
             "ticks": ""
            },
            "type": "mesh3d"
           }
          ],
          "parcoords": [
           {
            "line": {
             "colorbar": {
              "outlinewidth": 0,
              "ticks": ""
             }
            },
            "type": "parcoords"
           }
          ],
          "pie": [
           {
            "automargin": true,
            "type": "pie"
           }
          ],
          "scatter": [
           {
            "fillpattern": {
             "fillmode": "overlay",
             "size": 10,
             "solidity": 0.2
            },
            "type": "scatter"
           }
          ],
          "scatter3d": [
           {
            "line": {
             "colorbar": {
              "outlinewidth": 0,
              "ticks": ""
             }
            },
            "marker": {
             "colorbar": {
              "outlinewidth": 0,
              "ticks": ""
             }
            },
            "type": "scatter3d"
           }
          ],
          "scattercarpet": [
           {
            "marker": {
             "colorbar": {
              "outlinewidth": 0,
              "ticks": ""
             }
            },
            "type": "scattercarpet"
           }
          ],
          "scattergeo": [
           {
            "marker": {
             "colorbar": {
              "outlinewidth": 0,
              "ticks": ""
             }
            },
            "type": "scattergeo"
           }
          ],
          "scattergl": [
           {
            "marker": {
             "colorbar": {
              "outlinewidth": 0,
              "ticks": ""
             }
            },
            "type": "scattergl"
           }
          ],
          "scattermapbox": [
           {
            "marker": {
             "colorbar": {
              "outlinewidth": 0,
              "ticks": ""
             }
            },
            "type": "scattermapbox"
           }
          ],
          "scatterpolar": [
           {
            "marker": {
             "colorbar": {
              "outlinewidth": 0,
              "ticks": ""
             }
            },
            "type": "scatterpolar"
           }
          ],
          "scatterpolargl": [
           {
            "marker": {
             "colorbar": {
              "outlinewidth": 0,
              "ticks": ""
             }
            },
            "type": "scatterpolargl"
           }
          ],
          "scatterternary": [
           {
            "marker": {
             "colorbar": {
              "outlinewidth": 0,
              "ticks": ""
             }
            },
            "type": "scatterternary"
           }
          ],
          "surface": [
           {
            "colorbar": {
             "outlinewidth": 0,
             "ticks": ""
            },
            "colorscale": [
             [
              0,
              "#0d0887"
             ],
             [
              0.1111111111111111,
              "#46039f"
             ],
             [
              0.2222222222222222,
              "#7201a8"
             ],
             [
              0.3333333333333333,
              "#9c179e"
             ],
             [
              0.4444444444444444,
              "#bd3786"
             ],
             [
              0.5555555555555556,
              "#d8576b"
             ],
             [
              0.6666666666666666,
              "#ed7953"
             ],
             [
              0.7777777777777778,
              "#fb9f3a"
             ],
             [
              0.8888888888888888,
              "#fdca26"
             ],
             [
              1,
              "#f0f921"
             ]
            ],
            "type": "surface"
           }
          ],
          "table": [
           {
            "cells": {
             "fill": {
              "color": "#EBF0F8"
             },
             "line": {
              "color": "white"
             }
            },
            "header": {
             "fill": {
              "color": "#C8D4E3"
             },
             "line": {
              "color": "white"
             }
            },
            "type": "table"
           }
          ]
         },
         "layout": {
          "annotationdefaults": {
           "arrowcolor": "#2a3f5f",
           "arrowhead": 0,
           "arrowwidth": 1
          },
          "autotypenumbers": "strict",
          "coloraxis": {
           "colorbar": {
            "outlinewidth": 0,
            "ticks": ""
           }
          },
          "colorscale": {
           "diverging": [
            [
             0,
             "#8e0152"
            ],
            [
             0.1,
             "#c51b7d"
            ],
            [
             0.2,
             "#de77ae"
            ],
            [
             0.3,
             "#f1b6da"
            ],
            [
             0.4,
             "#fde0ef"
            ],
            [
             0.5,
             "#f7f7f7"
            ],
            [
             0.6,
             "#e6f5d0"
            ],
            [
             0.7,
             "#b8e186"
            ],
            [
             0.8,
             "#7fbc41"
            ],
            [
             0.9,
             "#4d9221"
            ],
            [
             1,
             "#276419"
            ]
           ],
           "sequential": [
            [
             0,
             "#0d0887"
            ],
            [
             0.1111111111111111,
             "#46039f"
            ],
            [
             0.2222222222222222,
             "#7201a8"
            ],
            [
             0.3333333333333333,
             "#9c179e"
            ],
            [
             0.4444444444444444,
             "#bd3786"
            ],
            [
             0.5555555555555556,
             "#d8576b"
            ],
            [
             0.6666666666666666,
             "#ed7953"
            ],
            [
             0.7777777777777778,
             "#fb9f3a"
            ],
            [
             0.8888888888888888,
             "#fdca26"
            ],
            [
             1,
             "#f0f921"
            ]
           ],
           "sequentialminus": [
            [
             0,
             "#0d0887"
            ],
            [
             0.1111111111111111,
             "#46039f"
            ],
            [
             0.2222222222222222,
             "#7201a8"
            ],
            [
             0.3333333333333333,
             "#9c179e"
            ],
            [
             0.4444444444444444,
             "#bd3786"
            ],
            [
             0.5555555555555556,
             "#d8576b"
            ],
            [
             0.6666666666666666,
             "#ed7953"
            ],
            [
             0.7777777777777778,
             "#fb9f3a"
            ],
            [
             0.8888888888888888,
             "#fdca26"
            ],
            [
             1,
             "#f0f921"
            ]
           ]
          },
          "colorway": [
           "#636efa",
           "#EF553B",
           "#00cc96",
           "#ab63fa",
           "#FFA15A",
           "#19d3f3",
           "#FF6692",
           "#B6E880",
           "#FF97FF",
           "#FECB52"
          ],
          "font": {
           "color": "#2a3f5f"
          },
          "geo": {
           "bgcolor": "white",
           "lakecolor": "white",
           "landcolor": "#E5ECF6",
           "showlakes": true,
           "showland": true,
           "subunitcolor": "white"
          },
          "hoverlabel": {
           "align": "left"
          },
          "hovermode": "closest",
          "mapbox": {
           "style": "light"
          },
          "paper_bgcolor": "white",
          "plot_bgcolor": "#E5ECF6",
          "polar": {
           "angularaxis": {
            "gridcolor": "white",
            "linecolor": "white",
            "ticks": ""
           },
           "bgcolor": "#E5ECF6",
           "radialaxis": {
            "gridcolor": "white",
            "linecolor": "white",
            "ticks": ""
           }
          },
          "scene": {
           "xaxis": {
            "backgroundcolor": "#E5ECF6",
            "gridcolor": "white",
            "gridwidth": 2,
            "linecolor": "white",
            "showbackground": true,
            "ticks": "",
            "zerolinecolor": "white"
           },
           "yaxis": {
            "backgroundcolor": "#E5ECF6",
            "gridcolor": "white",
            "gridwidth": 2,
            "linecolor": "white",
            "showbackground": true,
            "ticks": "",
            "zerolinecolor": "white"
           },
           "zaxis": {
            "backgroundcolor": "#E5ECF6",
            "gridcolor": "white",
            "gridwidth": 2,
            "linecolor": "white",
            "showbackground": true,
            "ticks": "",
            "zerolinecolor": "white"
           }
          },
          "shapedefaults": {
           "line": {
            "color": "#2a3f5f"
           }
          },
          "ternary": {
           "aaxis": {
            "gridcolor": "white",
            "linecolor": "white",
            "ticks": ""
           },
           "baxis": {
            "gridcolor": "white",
            "linecolor": "white",
            "ticks": ""
           },
           "bgcolor": "#E5ECF6",
           "caxis": {
            "gridcolor": "white",
            "linecolor": "white",
            "ticks": ""
           }
          },
          "title": {
           "x": 0.05
          },
          "xaxis": {
           "automargin": true,
           "gridcolor": "white",
           "linecolor": "white",
           "ticks": "",
           "title": {
            "standoff": 15
           },
           "zerolinecolor": "white",
           "zerolinewidth": 2
          },
          "yaxis": {
           "automargin": true,
           "gridcolor": "white",
           "linecolor": "white",
           "ticks": "",
           "title": {
            "standoff": 15
           },
           "zerolinecolor": "white",
           "zerolinewidth": 2
          }
         }
        },
        "title": {
         "text": "Embarkation Point Distribution"
        }
       }
      }
     },
     "metadata": {},
     "output_type": "display_data"
    }
   ],
   "source": [
    "# Count the frequency of each embarkation point\n",
    "embark_counts = titanic['Embarked'].value_counts().reset_index()\n",
    "embark_counts.columns = ['Embarked', 'Count']\n",
    "\n",
    "# Create a pie chart\n",
    "fig = px.pie(embark_counts, values='Count', names='Embarked',\n",
    "             title='Embarkation Point Distribution',\n",
    "             color_discrete_sequence=px.colors.sequential.RdBu,\n",
    "             labels={'Embarked': 'Embarkation Point', 'Count': 'Number of Passengers'})\n",
    "\n",
    "# Show the plot\n",
    "fig.show()"
   ]
  },
  {
   "cell_type": "code",
   "execution_count": 9,
   "metadata": {},
   "outputs": [],
   "source": [
    "# Fill NaN values with 'Unknown'\n",
    "titanic['Embarked'].fillna('Unknown', inplace=True)\n"
   ]
  },
  {
   "cell_type": "code",
   "execution_count": 10,
   "metadata": {},
   "outputs": [
    {
     "data": {
      "application/vnd.plotly.v1+json": {
       "config": {
        "plotlyServerURL": "https://plot.ly"
       },
       "data": [
        {
         "domain": {
          "x": [
           0,
           1
          ],
          "y": [
           0,
           1
          ]
         },
         "hovertemplate": "Embarkation Point=%{label}<br>Number of Passengers=%{value}<extra></extra>",
         "labels": [
          "S",
          "C",
          "Q",
          "Unknown"
         ],
         "legendgroup": "",
         "name": "",
         "showlegend": true,
         "type": "pie",
         "values": [
          554,
          130,
          28,
          2
         ]
        }
       ],
       "layout": {
        "legend": {
         "tracegroupgap": 0
        },
        "piecolorway": [
         "rgb(103,0,31)",
         "rgb(178,24,43)",
         "rgb(214,96,77)",
         "rgb(244,165,130)",
         "rgb(253,219,199)",
         "rgb(247,247,247)",
         "rgb(209,229,240)",
         "rgb(146,197,222)",
         "rgb(67,147,195)",
         "rgb(33,102,172)",
         "rgb(5,48,97)"
        ],
        "template": {
         "data": {
          "bar": [
           {
            "error_x": {
             "color": "#2a3f5f"
            },
            "error_y": {
             "color": "#2a3f5f"
            },
            "marker": {
             "line": {
              "color": "#E5ECF6",
              "width": 0.5
             },
             "pattern": {
              "fillmode": "overlay",
              "size": 10,
              "solidity": 0.2
             }
            },
            "type": "bar"
           }
          ],
          "barpolar": [
           {
            "marker": {
             "line": {
              "color": "#E5ECF6",
              "width": 0.5
             },
             "pattern": {
              "fillmode": "overlay",
              "size": 10,
              "solidity": 0.2
             }
            },
            "type": "barpolar"
           }
          ],
          "carpet": [
           {
            "aaxis": {
             "endlinecolor": "#2a3f5f",
             "gridcolor": "white",
             "linecolor": "white",
             "minorgridcolor": "white",
             "startlinecolor": "#2a3f5f"
            },
            "baxis": {
             "endlinecolor": "#2a3f5f",
             "gridcolor": "white",
             "linecolor": "white",
             "minorgridcolor": "white",
             "startlinecolor": "#2a3f5f"
            },
            "type": "carpet"
           }
          ],
          "choropleth": [
           {
            "colorbar": {
             "outlinewidth": 0,
             "ticks": ""
            },
            "type": "choropleth"
           }
          ],
          "contour": [
           {
            "colorbar": {
             "outlinewidth": 0,
             "ticks": ""
            },
            "colorscale": [
             [
              0,
              "#0d0887"
             ],
             [
              0.1111111111111111,
              "#46039f"
             ],
             [
              0.2222222222222222,
              "#7201a8"
             ],
             [
              0.3333333333333333,
              "#9c179e"
             ],
             [
              0.4444444444444444,
              "#bd3786"
             ],
             [
              0.5555555555555556,
              "#d8576b"
             ],
             [
              0.6666666666666666,
              "#ed7953"
             ],
             [
              0.7777777777777778,
              "#fb9f3a"
             ],
             [
              0.8888888888888888,
              "#fdca26"
             ],
             [
              1,
              "#f0f921"
             ]
            ],
            "type": "contour"
           }
          ],
          "contourcarpet": [
           {
            "colorbar": {
             "outlinewidth": 0,
             "ticks": ""
            },
            "type": "contourcarpet"
           }
          ],
          "heatmap": [
           {
            "colorbar": {
             "outlinewidth": 0,
             "ticks": ""
            },
            "colorscale": [
             [
              0,
              "#0d0887"
             ],
             [
              0.1111111111111111,
              "#46039f"
             ],
             [
              0.2222222222222222,
              "#7201a8"
             ],
             [
              0.3333333333333333,
              "#9c179e"
             ],
             [
              0.4444444444444444,
              "#bd3786"
             ],
             [
              0.5555555555555556,
              "#d8576b"
             ],
             [
              0.6666666666666666,
              "#ed7953"
             ],
             [
              0.7777777777777778,
              "#fb9f3a"
             ],
             [
              0.8888888888888888,
              "#fdca26"
             ],
             [
              1,
              "#f0f921"
             ]
            ],
            "type": "heatmap"
           }
          ],
          "heatmapgl": [
           {
            "colorbar": {
             "outlinewidth": 0,
             "ticks": ""
            },
            "colorscale": [
             [
              0,
              "#0d0887"
             ],
             [
              0.1111111111111111,
              "#46039f"
             ],
             [
              0.2222222222222222,
              "#7201a8"
             ],
             [
              0.3333333333333333,
              "#9c179e"
             ],
             [
              0.4444444444444444,
              "#bd3786"
             ],
             [
              0.5555555555555556,
              "#d8576b"
             ],
             [
              0.6666666666666666,
              "#ed7953"
             ],
             [
              0.7777777777777778,
              "#fb9f3a"
             ],
             [
              0.8888888888888888,
              "#fdca26"
             ],
             [
              1,
              "#f0f921"
             ]
            ],
            "type": "heatmapgl"
           }
          ],
          "histogram": [
           {
            "marker": {
             "pattern": {
              "fillmode": "overlay",
              "size": 10,
              "solidity": 0.2
             }
            },
            "type": "histogram"
           }
          ],
          "histogram2d": [
           {
            "colorbar": {
             "outlinewidth": 0,
             "ticks": ""
            },
            "colorscale": [
             [
              0,
              "#0d0887"
             ],
             [
              0.1111111111111111,
              "#46039f"
             ],
             [
              0.2222222222222222,
              "#7201a8"
             ],
             [
              0.3333333333333333,
              "#9c179e"
             ],
             [
              0.4444444444444444,
              "#bd3786"
             ],
             [
              0.5555555555555556,
              "#d8576b"
             ],
             [
              0.6666666666666666,
              "#ed7953"
             ],
             [
              0.7777777777777778,
              "#fb9f3a"
             ],
             [
              0.8888888888888888,
              "#fdca26"
             ],
             [
              1,
              "#f0f921"
             ]
            ],
            "type": "histogram2d"
           }
          ],
          "histogram2dcontour": [
           {
            "colorbar": {
             "outlinewidth": 0,
             "ticks": ""
            },
            "colorscale": [
             [
              0,
              "#0d0887"
             ],
             [
              0.1111111111111111,
              "#46039f"
             ],
             [
              0.2222222222222222,
              "#7201a8"
             ],
             [
              0.3333333333333333,
              "#9c179e"
             ],
             [
              0.4444444444444444,
              "#bd3786"
             ],
             [
              0.5555555555555556,
              "#d8576b"
             ],
             [
              0.6666666666666666,
              "#ed7953"
             ],
             [
              0.7777777777777778,
              "#fb9f3a"
             ],
             [
              0.8888888888888888,
              "#fdca26"
             ],
             [
              1,
              "#f0f921"
             ]
            ],
            "type": "histogram2dcontour"
           }
          ],
          "mesh3d": [
           {
            "colorbar": {
             "outlinewidth": 0,
             "ticks": ""
            },
            "type": "mesh3d"
           }
          ],
          "parcoords": [
           {
            "line": {
             "colorbar": {
              "outlinewidth": 0,
              "ticks": ""
             }
            },
            "type": "parcoords"
           }
          ],
          "pie": [
           {
            "automargin": true,
            "type": "pie"
           }
          ],
          "scatter": [
           {
            "fillpattern": {
             "fillmode": "overlay",
             "size": 10,
             "solidity": 0.2
            },
            "type": "scatter"
           }
          ],
          "scatter3d": [
           {
            "line": {
             "colorbar": {
              "outlinewidth": 0,
              "ticks": ""
             }
            },
            "marker": {
             "colorbar": {
              "outlinewidth": 0,
              "ticks": ""
             }
            },
            "type": "scatter3d"
           }
          ],
          "scattercarpet": [
           {
            "marker": {
             "colorbar": {
              "outlinewidth": 0,
              "ticks": ""
             }
            },
            "type": "scattercarpet"
           }
          ],
          "scattergeo": [
           {
            "marker": {
             "colorbar": {
              "outlinewidth": 0,
              "ticks": ""
             }
            },
            "type": "scattergeo"
           }
          ],
          "scattergl": [
           {
            "marker": {
             "colorbar": {
              "outlinewidth": 0,
              "ticks": ""
             }
            },
            "type": "scattergl"
           }
          ],
          "scattermapbox": [
           {
            "marker": {
             "colorbar": {
              "outlinewidth": 0,
              "ticks": ""
             }
            },
            "type": "scattermapbox"
           }
          ],
          "scatterpolar": [
           {
            "marker": {
             "colorbar": {
              "outlinewidth": 0,
              "ticks": ""
             }
            },
            "type": "scatterpolar"
           }
          ],
          "scatterpolargl": [
           {
            "marker": {
             "colorbar": {
              "outlinewidth": 0,
              "ticks": ""
             }
            },
            "type": "scatterpolargl"
           }
          ],
          "scatterternary": [
           {
            "marker": {
             "colorbar": {
              "outlinewidth": 0,
              "ticks": ""
             }
            },
            "type": "scatterternary"
           }
          ],
          "surface": [
           {
            "colorbar": {
             "outlinewidth": 0,
             "ticks": ""
            },
            "colorscale": [
             [
              0,
              "#0d0887"
             ],
             [
              0.1111111111111111,
              "#46039f"
             ],
             [
              0.2222222222222222,
              "#7201a8"
             ],
             [
              0.3333333333333333,
              "#9c179e"
             ],
             [
              0.4444444444444444,
              "#bd3786"
             ],
             [
              0.5555555555555556,
              "#d8576b"
             ],
             [
              0.6666666666666666,
              "#ed7953"
             ],
             [
              0.7777777777777778,
              "#fb9f3a"
             ],
             [
              0.8888888888888888,
              "#fdca26"
             ],
             [
              1,
              "#f0f921"
             ]
            ],
            "type": "surface"
           }
          ],
          "table": [
           {
            "cells": {
             "fill": {
              "color": "#EBF0F8"
             },
             "line": {
              "color": "white"
             }
            },
            "header": {
             "fill": {
              "color": "#C8D4E3"
             },
             "line": {
              "color": "white"
             }
            },
            "type": "table"
           }
          ]
         },
         "layout": {
          "annotationdefaults": {
           "arrowcolor": "#2a3f5f",
           "arrowhead": 0,
           "arrowwidth": 1
          },
          "autotypenumbers": "strict",
          "coloraxis": {
           "colorbar": {
            "outlinewidth": 0,
            "ticks": ""
           }
          },
          "colorscale": {
           "diverging": [
            [
             0,
             "#8e0152"
            ],
            [
             0.1,
             "#c51b7d"
            ],
            [
             0.2,
             "#de77ae"
            ],
            [
             0.3,
             "#f1b6da"
            ],
            [
             0.4,
             "#fde0ef"
            ],
            [
             0.5,
             "#f7f7f7"
            ],
            [
             0.6,
             "#e6f5d0"
            ],
            [
             0.7,
             "#b8e186"
            ],
            [
             0.8,
             "#7fbc41"
            ],
            [
             0.9,
             "#4d9221"
            ],
            [
             1,
             "#276419"
            ]
           ],
           "sequential": [
            [
             0,
             "#0d0887"
            ],
            [
             0.1111111111111111,
             "#46039f"
            ],
            [
             0.2222222222222222,
             "#7201a8"
            ],
            [
             0.3333333333333333,
             "#9c179e"
            ],
            [
             0.4444444444444444,
             "#bd3786"
            ],
            [
             0.5555555555555556,
             "#d8576b"
            ],
            [
             0.6666666666666666,
             "#ed7953"
            ],
            [
             0.7777777777777778,
             "#fb9f3a"
            ],
            [
             0.8888888888888888,
             "#fdca26"
            ],
            [
             1,
             "#f0f921"
            ]
           ],
           "sequentialminus": [
            [
             0,
             "#0d0887"
            ],
            [
             0.1111111111111111,
             "#46039f"
            ],
            [
             0.2222222222222222,
             "#7201a8"
            ],
            [
             0.3333333333333333,
             "#9c179e"
            ],
            [
             0.4444444444444444,
             "#bd3786"
            ],
            [
             0.5555555555555556,
             "#d8576b"
            ],
            [
             0.6666666666666666,
             "#ed7953"
            ],
            [
             0.7777777777777778,
             "#fb9f3a"
            ],
            [
             0.8888888888888888,
             "#fdca26"
            ],
            [
             1,
             "#f0f921"
            ]
           ]
          },
          "colorway": [
           "#636efa",
           "#EF553B",
           "#00cc96",
           "#ab63fa",
           "#FFA15A",
           "#19d3f3",
           "#FF6692",
           "#B6E880",
           "#FF97FF",
           "#FECB52"
          ],
          "font": {
           "color": "#2a3f5f"
          },
          "geo": {
           "bgcolor": "white",
           "lakecolor": "white",
           "landcolor": "#E5ECF6",
           "showlakes": true,
           "showland": true,
           "subunitcolor": "white"
          },
          "hoverlabel": {
           "align": "left"
          },
          "hovermode": "closest",
          "mapbox": {
           "style": "light"
          },
          "paper_bgcolor": "white",
          "plot_bgcolor": "#E5ECF6",
          "polar": {
           "angularaxis": {
            "gridcolor": "white",
            "linecolor": "white",
            "ticks": ""
           },
           "bgcolor": "#E5ECF6",
           "radialaxis": {
            "gridcolor": "white",
            "linecolor": "white",
            "ticks": ""
           }
          },
          "scene": {
           "xaxis": {
            "backgroundcolor": "#E5ECF6",
            "gridcolor": "white",
            "gridwidth": 2,
            "linecolor": "white",
            "showbackground": true,
            "ticks": "",
            "zerolinecolor": "white"
           },
           "yaxis": {
            "backgroundcolor": "#E5ECF6",
            "gridcolor": "white",
            "gridwidth": 2,
            "linecolor": "white",
            "showbackground": true,
            "ticks": "",
            "zerolinecolor": "white"
           },
           "zaxis": {
            "backgroundcolor": "#E5ECF6",
            "gridcolor": "white",
            "gridwidth": 2,
            "linecolor": "white",
            "showbackground": true,
            "ticks": "",
            "zerolinecolor": "white"
           }
          },
          "shapedefaults": {
           "line": {
            "color": "#2a3f5f"
           }
          },
          "ternary": {
           "aaxis": {
            "gridcolor": "white",
            "linecolor": "white",
            "ticks": ""
           },
           "baxis": {
            "gridcolor": "white",
            "linecolor": "white",
            "ticks": ""
           },
           "bgcolor": "#E5ECF6",
           "caxis": {
            "gridcolor": "white",
            "linecolor": "white",
            "ticks": ""
           }
          },
          "title": {
           "x": 0.05
          },
          "xaxis": {
           "automargin": true,
           "gridcolor": "white",
           "linecolor": "white",
           "ticks": "",
           "title": {
            "standoff": 15
           },
           "zerolinecolor": "white",
           "zerolinewidth": 2
          },
          "yaxis": {
           "automargin": true,
           "gridcolor": "white",
           "linecolor": "white",
           "ticks": "",
           "title": {
            "standoff": 15
           },
           "zerolinecolor": "white",
           "zerolinewidth": 2
          }
         }
        },
        "title": {
         "text": "Embarkation Point Distribution"
        }
       }
      }
     },
     "metadata": {},
     "output_type": "display_data"
    }
   ],
   "source": [
    "# Count the frequency of each embarkation point\n",
    "embark_counts = titanic['Embarked'].value_counts().reset_index()\n",
    "embark_counts.columns = ['Embarked', 'Count']\n",
    "\n",
    "# Create a pie chart\n",
    "fig = px.pie(embark_counts, values='Count', names='Embarked',\n",
    "             title='Embarkation Point Distribution',\n",
    "             color_discrete_sequence=px.colors.sequential.RdBu,\n",
    "             labels={'Embarked': 'Embarkation Point', 'Count': 'Number of Passengers'})\n",
    "\n",
    "# Show the plot\n",
    "fig.show()"
   ]
  }
 ],
 "metadata": {
  "kernelspec": {
   "display_name": "price39_env",
   "language": "python",
   "name": "price39_env"
  },
  "language_info": {
   "codemirror_mode": {
    "name": "ipython",
    "version": 3
   },
   "file_extension": ".py",
   "mimetype": "text/x-python",
   "name": "python",
   "nbconvert_exporter": "python",
   "pygments_lexer": "ipython3",
   "version": "3.9.16"
  }
 },
 "nbformat": 4,
 "nbformat_minor": 2
}
