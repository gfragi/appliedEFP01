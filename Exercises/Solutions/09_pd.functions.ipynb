{
 "cells": [
  {
   "cell_type": "code",
   "execution_count": 1,
   "metadata": {},
   "outputs": [],
   "source": [
    "import pandas as pd\n",
    "\n"
   ]
  },
  {
   "cell_type": "code",
   "execution_count": 2,
   "metadata": {},
   "outputs": [],
   "source": [
    "reviews = pd.read_csv('../data/wine/winemag-data_first1000.csv', index_col=0)\n"
   ]
  },
  {
   "cell_type": "markdown",
   "metadata": {},
   "source": [
    "## Some theory\n",
    "Ένας χάρτης (**map**) είναι ένας όρος, δανεισμένος από τα μαθηματικά, για μια συνάρτηση που παίρνει ένα σύνολο τιμών και τις \"χαρτογραφεί\" σε ένα άλλο σύνολο τιμών. Στην επιστήμη δεδομένων έχουμε συχνά την ανάγκη να δημιουργήσουμε νέες αναπαραστάσεις από υπάρχοντα δεδομένα ή να μετατρέψουμε δεδομένα από τη μορφή στην οποία βρίσκονται τώρα στη μορφή που θέλουμε να είναι αργότερα. Οι \"χάρτες\" είναι αυτοί που χειρίζονται αυτή τη δουλειά, καθιστώντας τους εξαιρετικά σημαντικούς για την ολοκλήρωση της εργασίας σας!\n",
    "\n",
    "Υπάρχουν δύο μέθοδοι χαρτογράφησης που θα χρησιμοποιείτε συχνά.\n",
    "\n",
    "Η `map()` είναι η πρώτη και ελαφρώς απλούστερη. \n",
    "\n",
    "Για παράδειγμα, ας υποθέσουμε ότι θέλαμε να επαναλάβουμε τους βαθμούς που έλαβαν τα κρασιά στο 0. Μπορούμε να το κάνουμε ως εξής:"
   ]
  },
  {
   "cell_type": "markdown",
   "metadata": {},
   "source": [
    "## Exercises"
   ]
  },
  {
   "cell_type": "markdown",
   "metadata": {},
   "source": [
    "## 1.\n",
    "\n",
    "Ποια είναι η διάμεσος της στήλης `points` στο DataFrame `reviews`;"
   ]
  },
  {
   "cell_type": "code",
   "execution_count": 3,
   "metadata": {},
   "outputs": [
    {
     "data": {
      "text/plain": [
       "88.0"
      ]
     },
     "execution_count": 3,
     "metadata": {},
     "output_type": "execute_result"
    }
   ],
   "source": [
    "reviews.points.median()"
   ]
  },
  {
   "cell_type": "markdown",
   "metadata": {},
   "source": [
    "## 2.\n",
    "\n",
    "Ποιες χώρες αντιπροσωπεύονται στο σύνολο δεδομένων;"
   ]
  },
  {
   "cell_type": "code",
   "execution_count": 5,
   "metadata": {},
   "outputs": [
    {
     "data": {
      "text/plain": [
       "array(['US', 'France', 'Argentina', 'Italy', 'Portugal', 'Turkey',\n",
       "       'Australia', 'Chile', 'South Africa', 'Spain', 'New Zealand',\n",
       "       'Israel', 'Austria', 'Uruguay', 'Germany', 'Greece', 'Bulgaria',\n",
       "       'Romania', 'Moldova', 'Georgia', 'Mexico', 'Canada'], dtype=object)"
      ]
     },
     "execution_count": 5,
     "metadata": {},
     "output_type": "execute_result"
    }
   ],
   "source": [
    "countries = reviews.country.unique()\n",
    "countries"
   ]
  },
  {
   "cell_type": "markdown",
   "metadata": {},
   "source": [
    "## 3.\n",
    "\n",
    "Πόσο συχνά εμφανίζεται κάθε χώρα στο σύνολο δεδομένων; Δημιουργήστε Series `reviews_per_country` χαρτογράφησης χωρών με τον αριθμό των κριτικών για κρασιά από αυτήν τη χώρα."
   ]
  },
  {
   "cell_type": "code",
   "execution_count": 7,
   "metadata": {},
   "outputs": [
    {
     "data": {
      "text/plain": [
       "US              431\n",
       "Italy           154\n",
       "France          144\n",
       "Spain            48\n",
       "Chile            32\n",
       "Argentina        29\n",
       "Australia        29\n",
       "Portugal         28\n",
       "New Zealand      28\n",
       "Germany          19\n",
       "Austria          18\n",
       "South Africa     17\n",
       "Greece            6\n",
       "Israel            6\n",
       "Turkey            2\n",
       "Romania           2\n",
       "Mexico            2\n",
       "Uruguay           1\n",
       "Bulgaria          1\n",
       "Moldova           1\n",
       "Georgia           1\n",
       "Canada            1\n",
       "Name: country, dtype: int64"
      ]
     },
     "execution_count": 7,
     "metadata": {},
     "output_type": "execute_result"
    }
   ],
   "source": [
    "reviews_per_country = reviews.country.value_counts()\n",
    "reviews_per_country"
   ]
  },
  {
   "cell_type": "markdown",
   "metadata": {},
   "source": [
    "## 4.\n",
    "\n",
    "Θα θέλαμε να φιλοξενήσουμε αυτές τις κριτικές κρασιών στον ιστότοπό μας, αλλά ένα σύστημα αξιολόγησης που κυμαίνεται από 80 έως 100 βαθμούς είναι πολύ δύσκολο να κατανοηθεί - θα θέλαμε να τις μεταφράσουμε σε απλές αξιολογήσεις με αστέρια. Μια βαθμολογία 95 ή υψηλότερη μετράει ως 3 αστέρια, μια βαθμολογία τουλάχιστον 85 αλλά λιγότερο από 95 είναι 2 αστέρια. Οποιαδήποτε άλλη βαθμολογία είναι 1 αστέρι.\n",
    "\n",
    "Επίσης, η Israelian Vintners Association αγόρασε πολλές διαφημίσεις στον ιστότοπο, επομένως όλα τα κρασιά από τον Καναδά θα πρέπει να λαμβάνουν αυτόματα 3 αστέρια, ανεξάρτητα από βαθμούς.\n",
    "\n",
    "Δημιουργήστε ενα αντικείμενο Series, `star_ratings` με τον αριθμό των αστεριών που αντιστοιχεί   σε κάθε κριτική στο σύνολο δεδομένων."
   ]
  },
  {
   "cell_type": "code",
   "execution_count": 10,
   "metadata": {},
   "outputs": [
    {
     "data": {
      "text/plain": [
       "0      2\n",
       "1      2\n",
       "2      2\n",
       "3      2\n",
       "4      2\n",
       "      ..\n",
       "995    2\n",
       "996    1\n",
       "997    2\n",
       "998    2\n",
       "999    1\n",
       "Length: 1000, dtype: int64"
      ]
     },
     "execution_count": 10,
     "metadata": {},
     "output_type": "execute_result"
    }
   ],
   "source": [
    "def stars_map(row):\n",
    "    \"\"\"\n",
    "    Assigns star ratings based on the country and points of a wine review.\n",
    "\n",
    "    Parameters:\n",
    "    - row: A pandas Series representing a row of a DataFrame.\n",
    "\n",
    "    Returns:\n",
    "    - An integer representing the star rating of the wine review.\n",
    "    \"\"\"\n",
    "    if row.country == 'Israel':\n",
    "        return 3\n",
    "    elif row.points >= 95:\n",
    "        return 3\n",
    "    elif row.points >= 85:\n",
    "        return 2\n",
    "    else:\n",
    "        return 1\n",
    "\n",
    "star_ratings = reviews.apply(stars_map, axis='columns') # axis=1 is the same as axis='columns' \n",
    "star_ratings"
   ]
  },
  {
   "cell_type": "code",
   "execution_count": null,
   "metadata": {},
   "outputs": [],
   "source": []
  }
 ],
 "metadata": {
  "kernelspec": {
   "display_name": "Python 3.10.6 64-bit",
   "language": "python",
   "name": "python3"
  },
  "language_info": {
   "codemirror_mode": {
    "name": "ipython",
    "version": 3
   },
   "file_extension": ".py",
   "mimetype": "text/x-python",
   "name": "python",
   "nbconvert_exporter": "python",
   "pygments_lexer": "ipython3",
   "version": "3.10.6"
  },
  "orig_nbformat": 4,
  "vscode": {
   "interpreter": {
    "hash": "916dbcbb3f70747c44a77c7bcd40155683ae19c65e1c03b4aa3499c5328201f1"
   }
  }
 },
 "nbformat": 4,
 "nbformat_minor": 2
}
