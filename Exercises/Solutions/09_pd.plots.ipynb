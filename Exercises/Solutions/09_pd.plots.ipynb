{
 "cells": [
  {
   "cell_type": "code",
   "execution_count": 54,
   "metadata": {},
   "outputs": [],
   "source": [
    "import pandas as pd\n"
   ]
  },
  {
   "cell_type": "code",
   "execution_count": 55,
   "metadata": {},
   "outputs": [
    {
     "data": {
      "text/html": [
       "<div>\n",
       "<style scoped>\n",
       "    .dataframe tbody tr th:only-of-type {\n",
       "        vertical-align: middle;\n",
       "    }\n",
       "\n",
       "    .dataframe tbody tr th {\n",
       "        vertical-align: top;\n",
       "    }\n",
       "\n",
       "    .dataframe thead th {\n",
       "        text-align: right;\n",
       "    }\n",
       "</style>\n",
       "<table border=\"1\" class=\"dataframe\">\n",
       "  <thead>\n",
       "    <tr style=\"text-align: right;\">\n",
       "      <th></th>\n",
       "      <th>country</th>\n",
       "      <th>description</th>\n",
       "      <th>designation</th>\n",
       "      <th>points</th>\n",
       "      <th>price</th>\n",
       "      <th>province</th>\n",
       "      <th>region_1</th>\n",
       "      <th>region_2</th>\n",
       "      <th>variety</th>\n",
       "      <th>winery</th>\n",
       "    </tr>\n",
       "  </thead>\n",
       "  <tbody>\n",
       "    <tr>\n",
       "      <th>0</th>\n",
       "      <td>US</td>\n",
       "      <td>This is quite soft and pretty, a charming wine...</td>\n",
       "      <td>Vineyard Select</td>\n",
       "      <td>87</td>\n",
       "      <td>18.0</td>\n",
       "      <td>Oregon</td>\n",
       "      <td>Chehalem Mountains</td>\n",
       "      <td>Willamette Valley</td>\n",
       "      <td>Pinot Noir</td>\n",
       "      <td>Gresser</td>\n",
       "    </tr>\n",
       "    <tr>\n",
       "      <th>1</th>\n",
       "      <td>France</td>\n",
       "      <td>A crisp, fresh Riesling that manages to be lea...</td>\n",
       "      <td>Le Dragon</td>\n",
       "      <td>86</td>\n",
       "      <td>34.0</td>\n",
       "      <td>Alsace</td>\n",
       "      <td>Alsace</td>\n",
       "      <td>NaN</td>\n",
       "      <td>Riesling</td>\n",
       "      <td>Josmeyer</td>\n",
       "    </tr>\n",
       "    <tr>\n",
       "      <th>2</th>\n",
       "      <td>US</td>\n",
       "      <td>A medium bouquet of apple, lemon and a touch o...</td>\n",
       "      <td>Grand Cru</td>\n",
       "      <td>85</td>\n",
       "      <td>15.0</td>\n",
       "      <td>New York</td>\n",
       "      <td>North Fork of Long Island</td>\n",
       "      <td>Long Island</td>\n",
       "      <td>Chardonnay</td>\n",
       "      <td>Raphael</td>\n",
       "    </tr>\n",
       "    <tr>\n",
       "      <th>3</th>\n",
       "      <td>Argentina</td>\n",
       "      <td>Aromas of blackberry, balsam wood, lemony oak ...</td>\n",
       "      <td>Reserva</td>\n",
       "      <td>90</td>\n",
       "      <td>24.0</td>\n",
       "      <td>Mendoza Province</td>\n",
       "      <td>Mendoza</td>\n",
       "      <td>NaN</td>\n",
       "      <td>Malbec</td>\n",
       "      <td>Sur de los Andes</td>\n",
       "    </tr>\n",
       "    <tr>\n",
       "      <th>4</th>\n",
       "      <td>Italy</td>\n",
       "      <td>Aromas of wild flower, honey and peach charact...</td>\n",
       "      <td>Villa Luigia Millesimato Extra Dry</td>\n",
       "      <td>87</td>\n",
       "      <td>20.0</td>\n",
       "      <td>Veneto</td>\n",
       "      <td>Conegliano Valdobbiadene Prosecco Superiore</td>\n",
       "      <td>NaN</td>\n",
       "      <td>Glera</td>\n",
       "      <td>Il Follo</td>\n",
       "    </tr>\n",
       "  </tbody>\n",
       "</table>\n",
       "</div>"
      ],
      "text/plain": [
       "     country                                        description  \\\n",
       "0         US  This is quite soft and pretty, a charming wine...   \n",
       "1     France  A crisp, fresh Riesling that manages to be lea...   \n",
       "2         US  A medium bouquet of apple, lemon and a touch o...   \n",
       "3  Argentina  Aromas of blackberry, balsam wood, lemony oak ...   \n",
       "4      Italy  Aromas of wild flower, honey and peach charact...   \n",
       "\n",
       "                          designation  points  price          province  \\\n",
       "0                     Vineyard Select      87   18.0            Oregon   \n",
       "1                           Le Dragon      86   34.0            Alsace   \n",
       "2                           Grand Cru      85   15.0          New York   \n",
       "3                             Reserva      90   24.0  Mendoza Province   \n",
       "4  Villa Luigia Millesimato Extra Dry      87   20.0            Veneto   \n",
       "\n",
       "                                      region_1           region_2     variety  \\\n",
       "0                           Chehalem Mountains  Willamette Valley  Pinot Noir   \n",
       "1                                       Alsace                NaN    Riesling   \n",
       "2                    North Fork of Long Island        Long Island  Chardonnay   \n",
       "3                                      Mendoza                NaN      Malbec   \n",
       "4  Conegliano Valdobbiadene Prosecco Superiore                NaN       Glera   \n",
       "\n",
       "             winery  \n",
       "0           Gresser  \n",
       "1          Josmeyer  \n",
       "2           Raphael  \n",
       "3  Sur de los Andes  \n",
       "4          Il Follo  "
      ]
     },
     "execution_count": 55,
     "metadata": {},
     "output_type": "execute_result"
    }
   ],
   "source": [
    "reviews = pd.read_csv('../data/winemag-data_first1000.csv', index_col=0)\n",
    "reviews.head()"
   ]
  },
  {
   "cell_type": "code",
   "execution_count": 56,
   "metadata": {},
   "outputs": [
    {
     "name": "stdout",
     "output_type": "stream",
     "text": [
      "<class 'pandas.core.frame.DataFrame'>\n",
      "Int64Index: 1000 entries, 0 to 999\n",
      "Data columns (total 10 columns):\n",
      " #   Column       Non-Null Count  Dtype  \n",
      "---  ------       --------------  -----  \n",
      " 0   country      1000 non-null   object \n",
      " 1   description  1000 non-null   object \n",
      " 2   designation  678 non-null    object \n",
      " 3   points       1000 non-null   int64  \n",
      " 4   price        919 non-null    float64\n",
      " 5   province     1000 non-null   object \n",
      " 6   region_1     833 non-null    object \n",
      " 7   region_2     422 non-null    object \n",
      " 8   variety      1000 non-null   object \n",
      " 9   winery       1000 non-null   object \n",
      "dtypes: float64(1), int64(1), object(8)\n",
      "memory usage: 85.9+ KB\n"
     ]
    }
   ],
   "source": [
    "reviews.info()"
   ]
  },
  {
   "cell_type": "code",
   "execution_count": 57,
   "metadata": {},
   "outputs": [],
   "source": [
    "reviews.dropna(subset=['price'], inplace=True)\n"
   ]
  },
  {
   "cell_type": "code",
   "execution_count": 58,
   "metadata": {},
   "outputs": [
    {
     "data": {
      "text/plain": [
       "0       18.0\n",
       "1       34.0\n",
       "2       15.0\n",
       "3       24.0\n",
       "4       20.0\n",
       "       ...  \n",
       "995     29.0\n",
       "996     25.0\n",
       "997    190.0\n",
       "998      9.0\n",
       "999      7.0\n",
       "Name: price, Length: 919, dtype: Float64"
      ]
     },
     "execution_count": 58,
     "metadata": {},
     "output_type": "execute_result"
    }
   ],
   "source": [
    "reviews.price.astype('Float64')"
   ]
  },
  {
   "cell_type": "markdown",
   "metadata": {},
   "source": [
    "Plot the number of wines for each country.\n",
    "\n",
    "Parameters:\n",
    "- reviews (DataFrame): The DataFrame containing the wine reviews."
   ]
  },
  {
   "cell_type": "code",
   "execution_count": 59,
   "metadata": {},
   "outputs": [
    {
     "data": {
      "image/png": "[encoded data removed]",
      "text/plain": [
       "<Figure size 640x480 with 1 Axes>"
      ]
     },
     "metadata": {},
     "output_type": "display_data"
    }
   ],
   "source": [
    "import matplotlib.pyplot as plt\n",
    "\n",
    "# Count the number of wines for each country\n",
    "country_counts = reviews['country'].value_counts()\n",
    "\n",
    "# Plot the data\n",
    "country_counts.plot(kind='bar')\n",
    "\n",
    "# Set the labels and title\n",
    "plt.xlabel('Country')\n",
    "plt.ylabel('Number of Wines')\n",
    "plt.title('Number of Wines by Country')\n",
    "\n",
    "# Show the plot\n",
    "plt.show()\n"
   ]
  },
  {
   "cell_type": "markdown",
   "metadata": {},
   "source": [
    "Bar chart that displays the average review points per country using Plotly. This chart will display each country on the x-axis and its corresponding average review points on the y-axis, with the bars colored based on the average review points."
   ]
  },
  {
   "cell_type": "markdown",
   "metadata": {},
   "source": [
    "Using Matplotllib"
   ]
  },
  {
   "cell_type": "code",
   "execution_count": 60,
   "metadata": {},
   "outputs": [
    {
     "data": {
      "image/png": "[encoded data removed]",
      "text/plain": [
       "<Figure size 640x480 with 1 Axes>"
      ]
     },
     "metadata": {},
     "output_type": "display_data"
    }
   ],
   "source": [
    "# Group the data by country and calculate the average review point\n",
    "average_review_point = reviews.groupby('country')['points'].mean()\n",
    "\n",
    "# Sort the data in descending order\n",
    "average_review_point = average_review_point.sort_values(ascending=False)\n",
    "\n",
    "# Plot the data\n",
    "average_review_point.plot(kind='bar')\n",
    "\n",
    "# Set the labels and title\n",
    "plt.xlabel('Country')\n",
    "plt.ylabel('Average Review Point')\n",
    "plt.title('Average Review Point per Country')\n",
    "\n",
    "# Show the plot\n",
    "plt.show()\n"
   ]
  },
  {
   "cell_type": "markdown",
   "metadata": {},
   "source": [
    "Usind Plotly"
   ]
  },
  {
   "cell_type": "code",
   "execution_count": 61,
   "metadata": {},
   "outputs": [
    {
     "data": {
      "application/vnd.plotly.v1+json": {
       "config": {
        "plotlyServerURL": "https://plot.ly"
       },
       "data": [
        {
         "alignmentgroup": "True",
         "hovertemplate": "Country=%{x}<br>Average Review Point=%{marker.color}<extra></extra>",
         "legendgroup": "",
         "marker": {
          "color": [
           92,
           89.71428571428571,
           88.66037735849056,
           88.58536585365853,
           87.77777777777777,
           87.68,
           87.6588785046729,
           87,
           86.70212765957447,
           86.65517241379311,
           86.6470588235294,
           86.55172413793103,
           86.5,
           86.39285714285714,
           86,
           86,
           85.96875,
           85.66666666666667,
           85,
           85,
           84,
           81.5
          ],
          "coloraxis": "coloraxis",
          "pattern": {
           "shape": ""
          }
         },
         "name": "",
         "offsetgroup": "",
         "orientation": "v",
         "showlegend": false,
         "textposition": "auto",
         "type": "bar",
         "x": [
          "Canada",
          "Austria",
          "France",
          "Italy",
          "Germany",
          "Portugal",
          "US",
          "Moldova",
          "Spain",
          "Argentina",
          "South Africa",
          "Australia",
          "Turkey",
          "New Zealand",
          "Greece",
          "Bulgaria",
          "Chile",
          "Israel",
          "Romania",
          "Uruguay",
          "Georgia",
          "Mexico"
         ],
         "xaxis": "x",
         "y": [
          92,
          89.71428571428571,
          88.66037735849056,
          88.58536585365853,
          87.77777777777777,
          87.68,
          87.6588785046729,
          87,
          86.70212765957447,
          86.65517241379311,
          86.6470588235294,
          86.55172413793103,
          86.5,
          86.39285714285714,
          86,
          86,
          85.96875,
          85.66666666666667,
          85,
          85,
          84,
          81.5
         ],
         "yaxis": "y"
        }
       ],
       "layout": {
        "barmode": "relative",
        "coloraxis": {
         "colorbar": {
          "title": {
           "text": "Average Review Point"
          }
         },
         "colorscale": [
          [
           0,
           "#0d0887"
          ],
          [
           0.1111111111111111,
           "#46039f"
          ],
          [
           0.2222222222222222,
           "#7201a8"
          ],
          [
           0.3333333333333333,
           "#9c179e"
          ],
          [
           0.4444444444444444,
           "#bd3786"
          ],
          [
           0.5555555555555556,
           "#d8576b"
          ],
          [
           0.6666666666666666,
           "#ed7953"
          ],
          [
           0.7777777777777778,
           "#fb9f3a"
          ],
          [
           0.8888888888888888,
           "#fdca26"
          ],
          [
           1,
           "#f0f921"
          ]
         ]
        },
        "legend": {
         "tracegroupgap": 0
        },
        "template": {
         "data": {
          "bar": [
           {
            "error_x": {
             "color": "#2a3f5f"
            },
            "error_y": {
             "color": "#2a3f5f"
            },
            "marker": {
             "line": {
              "color": "#E5ECF6",
              "width": 0.5
             },
             "pattern": {
              "fillmode": "overlay",
              "size": 10,
              "solidity": 0.2
             }
            },
            "type": "bar"
           }
          ],
          "barpolar": [
           {
            "marker": {
             "line": {
              "color": "#E5ECF6",
              "width": 0.5
             },
             "pattern": {
              "fillmode": "overlay",
              "size": 10,
              "solidity": 0.2
             }
            },
            "type": "barpolar"
           }
          ],
          "carpet": [
           {
            "aaxis": {
             "endlinecolor": "#2a3f5f",
             "gridcolor": "white",
             "linecolor": "white",
             "minorgridcolor": "white",
             "startlinecolor": "#2a3f5f"
            },
            "baxis": {
             "endlinecolor": "#2a3f5f",
             "gridcolor": "white",
             "linecolor": "white",
             "minorgridcolor": "white",
             "startlinecolor": "#2a3f5f"
            },
            "type": "carpet"
           }
          ],
          "choropleth": [
           {
            "colorbar": {
             "outlinewidth": 0,
             "ticks": ""
            },
            "type": "choropleth"
           }
          ],
          "contour": [
           {
            "colorbar": {
             "outlinewidth": 0,
             "ticks": ""
            },
            "colorscale": [
             [
              0,
              "#0d0887"
             ],
             [
              0.1111111111111111,
              "#46039f"
             ],
             [
              0.2222222222222222,
              "#7201a8"
             ],
             [
              0.3333333333333333,
              "#9c179e"
             ],
             [
              0.4444444444444444,
              "#bd3786"
             ],
             [
              0.5555555555555556,
              "#d8576b"
             ],
             [
              0.6666666666666666,
              "#ed7953"
             ],
             [
              0.7777777777777778,
              "#fb9f3a"
             ],
             [
              0.8888888888888888,
              "#fdca26"
             ],
             [
              1,
              "#f0f921"
             ]
            ],
            "type": "contour"
           }
          ],
          "contourcarpet": [
           {
            "colorbar": {
             "outlinewidth": 0,
             "ticks": ""
            },
            "type": "contourcarpet"
           }
          ],
          "heatmap": [
           {
            "colorbar": {
             "outlinewidth": 0,
             "ticks": ""
            },
            "colorscale": [
             [
              0,
              "#0d0887"
             ],
             [
              0.1111111111111111,
              "#46039f"
             ],
             [
              0.2222222222222222,
              "#7201a8"
             ],
             [
              0.3333333333333333,
              "#9c179e"
             ],
             [
              0.4444444444444444,
              "#bd3786"
             ],
             [
              0.5555555555555556,
              "#d8576b"
             ],
             [
              0.6666666666666666,
              "#ed7953"
             ],
             [
              0.7777777777777778,
              "#fb9f3a"
             ],
             [
              0.8888888888888888,
              "#fdca26"
             ],
             [
              1,
              "#f0f921"
             ]
            ],
            "type": "heatmap"
           }
          ],
          "heatmapgl": [
           {
            "colorbar": {
             "outlinewidth": 0,
             "ticks": ""
            },
            "colorscale": [
             [
              0,
              "#0d0887"
             ],
             [
              0.1111111111111111,
              "#46039f"
             ],
             [
              0.2222222222222222,
              "#7201a8"
             ],
             [
              0.3333333333333333,
              "#9c179e"
             ],
             [
              0.4444444444444444,
              "#bd3786"
             ],
             [
              0.5555555555555556,
              "#d8576b"
             ],
             [
              0.6666666666666666,
              "#ed7953"
             ],
             [
              0.7777777777777778,
              "#fb9f3a"
             ],
             [
              0.8888888888888888,
              "#fdca26"
             ],
             [
              1,
              "#f0f921"
             ]
            ],
            "type": "heatmapgl"
           }
          ],
          "histogram": [
           {
            "marker": {
             "pattern": {
              "fillmode": "overlay",
              "size": 10,
              "solidity": 0.2
             }
            },
            "type": "histogram"
           }
          ],
          "histogram2d": [
           {
            "colorbar": {
             "outlinewidth": 0,
             "ticks": ""
            },
            "colorscale": [
             [
              0,
              "#0d0887"
             ],
             [
              0.1111111111111111,
              "#46039f"
             ],
             [
              0.2222222222222222,
              "#7201a8"
             ],
             [
              0.3333333333333333,
              "#9c179e"
             ],
             [
              0.4444444444444444,
              "#bd3786"
             ],
             [
              0.5555555555555556,
              "#d8576b"
             ],
             [
              0.6666666666666666,
              "#ed7953"
             ],
             [
              0.7777777777777778,
              "#fb9f3a"
             ],
             [
              0.8888888888888888,
              "#fdca26"
             ],
             [
              1,
              "#f0f921"
             ]
            ],
            "type": "histogram2d"
           }
          ],
          "histogram2dcontour": [
           {
            "colorbar": {
             "outlinewidth": 0,
             "ticks": ""
            },
            "colorscale": [
             [
              0,
              "#0d0887"
             ],
             [
              0.1111111111111111,
              "#46039f"
             ],
             [
              0.2222222222222222,
              "#7201a8"
             ],
             [
              0.3333333333333333,
              "#9c179e"
             ],
             [
              0.4444444444444444,
              "#bd3786"
             ],
             [
              0.5555555555555556,
              "#d8576b"
             ],
             [
              0.6666666666666666,
              "#ed7953"
             ],
             [
              0.7777777777777778,
              "#fb9f3a"
             ],
             [
              0.8888888888888888,
              "#fdca26"
             ],
             [
              1,
              "#f0f921"
             ]
            ],
            "type": "histogram2dcontour"
           }
          ],
          "mesh3d": [
           {
            "colorbar": {
             "outlinewidth": 0,
             "ticks": ""
            },
            "type": "mesh3d"
           }
          ],
          "parcoords": [
           {
            "line": {
             "colorbar": {
              "outlinewidth": 0,
              "ticks": ""
             }
            },
            "type": "parcoords"
           }
          ],
          "pie": [
           {
            "automargin": true,
            "type": "pie"
           }
          ],
          "scatter": [
           {
            "fillpattern": {
             "fillmode": "overlay",
             "size": 10,
             "solidity": 0.2
            },
            "type": "scatter"
           }
          ],
          "scatter3d": [
           {
            "line": {
             "colorbar": {
              "outlinewidth": 0,
              "ticks": ""
             }
            },
            "marker": {
             "colorbar": {
              "outlinewidth": 0,
              "ticks": ""
             }
            },
            "type": "scatter3d"
           }
          ],
          "scattercarpet": [
           {
            "marker": {
             "colorbar": {
              "outlinewidth": 0,
              "ticks": ""
             }
            },
            "type": "scattercarpet"
           }
          ],
          "scattergeo": [
           {
            "marker": {
             "colorbar": {
              "outlinewidth": 0,
              "ticks": ""
             }
            },
            "type": "scattergeo"
           }
          ],
          "scattergl": [
           {
            "marker": {
             "colorbar": {
              "outlinewidth": 0,
              "ticks": ""
             }
            },
            "type": "scattergl"
           }
          ],
          "scattermapbox": [
           {
            "marker": {
             "colorbar": {
              "outlinewidth": 0,
              "ticks": ""
             }
            },
            "type": "scattermapbox"
           }
          ],
          "scatterpolar": [
           {
            "marker": {
             "colorbar": {
              "outlinewidth": 0,
              "ticks": ""
             }
            },
            "type": "scatterpolar"
           }
          ],
          "scatterpolargl": [
           {
            "marker": {
             "colorbar": {
              "outlinewidth": 0,
              "ticks": ""
             }
            },
            "type": "scatterpolargl"
           }
          ],
          "scatterternary": [
           {
            "marker": {
             "colorbar": {
              "outlinewidth": 0,
              "ticks": ""
             }
            },
            "type": "scatterternary"
           }
          ],
          "surface": [
           {
            "colorbar": {
             "outlinewidth": 0,
             "ticks": ""
            },
            "colorscale": [
             [
              0,
              "#0d0887"
             ],
             [
              0.1111111111111111,
              "#46039f"
             ],
             [
              0.2222222222222222,
              "#7201a8"
             ],
             [
              0.3333333333333333,
              "#9c179e"
             ],
             [
              0.4444444444444444,
              "#bd3786"
             ],
             [
              0.5555555555555556,
              "#d8576b"
             ],
             [
              0.6666666666666666,
              "#ed7953"
             ],
             [
              0.7777777777777778,
              "#fb9f3a"
             ],
             [
              0.8888888888888888,
              "#fdca26"
             ],
             [
              1,
              "#f0f921"
             ]
            ],
            "type": "surface"
           }
          ],
          "table": [
           {
            "cells": {
             "fill": {
              "color": "#EBF0F8"
             },
             "line": {
              "color": "white"
             }
            },
            "header": {
             "fill": {
              "color": "#C8D4E3"
             },
             "line": {
              "color": "white"
             }
            },
            "type": "table"
           }
          ]
         },
         "layout": {
          "annotationdefaults": {
           "arrowcolor": "#2a3f5f",
           "arrowhead": 0,
           "arrowwidth": 1
          },
          "autotypenumbers": "strict",
          "coloraxis": {
           "colorbar": {
            "outlinewidth": 0,
            "ticks": ""
           }
          },
          "colorscale": {
           "diverging": [
            [
             0,
             "#8e0152"
            ],
            [
             0.1,
             "#c51b7d"
            ],
            [
             0.2,
             "#de77ae"
            ],
            [
             0.3,
             "#f1b6da"
            ],
            [
             0.4,
             "#fde0ef"
            ],
            [
             0.5,
             "#f7f7f7"
            ],
            [
             0.6,
             "#e6f5d0"
            ],
            [
             0.7,
             "#b8e186"
            ],
            [
             0.8,
             "#7fbc41"
            ],
            [
             0.9,
             "#4d9221"
            ],
            [
             1,
             "#276419"
            ]
           ],
           "sequential": [
            [
             0,
             "#0d0887"
            ],
            [
             0.1111111111111111,
             "#46039f"
            ],
            [
             0.2222222222222222,
             "#7201a8"
            ],
            [
             0.3333333333333333,
             "#9c179e"
            ],
            [
             0.4444444444444444,
             "#bd3786"
            ],
            [
             0.5555555555555556,
             "#d8576b"
            ],
            [
             0.6666666666666666,
             "#ed7953"
            ],
            [
             0.7777777777777778,
             "#fb9f3a"
            ],
            [
             0.8888888888888888,
             "#fdca26"
            ],
            [
             1,
             "#f0f921"
            ]
           ],
           "sequentialminus": [
            [
             0,
             "#0d0887"
            ],
            [
             0.1111111111111111,
             "#46039f"
            ],
            [
             0.2222222222222222,
             "#7201a8"
            ],
            [
             0.3333333333333333,
             "#9c179e"
            ],
            [
             0.4444444444444444,
             "#bd3786"
            ],
            [
             0.5555555555555556,
             "#d8576b"
            ],
            [
             0.6666666666666666,
             "#ed7953"
            ],
            [
             0.7777777777777778,
             "#fb9f3a"
            ],
            [
             0.8888888888888888,
             "#fdca26"
            ],
            [
             1,
             "#f0f921"
            ]
           ]
          },
          "colorway": [
           "#636efa",
           "#EF553B",
           "#00cc96",
           "#ab63fa",
           "#FFA15A",
           "#19d3f3",
           "#FF6692",
           "#B6E880",
           "#FF97FF",
           "#FECB52"
          ],
          "font": {
           "color": "#2a3f5f"
          },
          "geo": {
           "bgcolor": "white",
           "lakecolor": "white",
           "landcolor": "#E5ECF6",
           "showlakes": true,
           "showland": true,
           "subunitcolor": "white"
          },
          "hoverlabel": {
           "align": "left"
          },
          "hovermode": "closest",
          "mapbox": {
           "style": "light"
          },
          "paper_bgcolor": "white",
          "plot_bgcolor": "#E5ECF6",
          "polar": {
           "angularaxis": {
            "gridcolor": "white",
            "linecolor": "white",
            "ticks": ""
           },
           "bgcolor": "#E5ECF6",
           "radialaxis": {
            "gridcolor": "white",
            "linecolor": "white",
            "ticks": ""
           }
          },
          "scene": {
           "xaxis": {
            "backgroundcolor": "#E5ECF6",
            "gridcolor": "white",
            "gridwidth": 2,
            "linecolor": "white",
            "showbackground": true,
            "ticks": "",
            "zerolinecolor": "white"
           },
           "yaxis": {
            "backgroundcolor": "#E5ECF6",
            "gridcolor": "white",
            "gridwidth": 2,
            "linecolor": "white",
            "showbackground": true,
            "ticks": "",
            "zerolinecolor": "white"
           },
           "zaxis": {
            "backgroundcolor": "#E5ECF6",
            "gridcolor": "white",
            "gridwidth": 2,
            "linecolor": "white",
            "showbackground": true,
            "ticks": "",
            "zerolinecolor": "white"
           }
          },
          "shapedefaults": {
           "line": {
            "color": "#2a3f5f"
           }
          },
          "ternary": {
           "aaxis": {
            "gridcolor": "white",
            "linecolor": "white",
            "ticks": ""
           },
           "baxis": {
            "gridcolor": "white",
            "linecolor": "white",
            "ticks": ""
           },
           "bgcolor": "#E5ECF6",
           "caxis": {
            "gridcolor": "white",
            "linecolor": "white",
            "ticks": ""
           }
          },
          "title": {
           "x": 0.05
          },
          "xaxis": {
           "automargin": true,
           "gridcolor": "white",
           "linecolor": "white",
           "ticks": "",
           "title": {
            "standoff": 15
           },
           "zerolinecolor": "white",
           "zerolinewidth": 2
          },
          "yaxis": {
           "automargin": true,
           "gridcolor": "white",
           "linecolor": "white",
           "ticks": "",
           "title": {
            "standoff": 15
           },
           "zerolinecolor": "white",
           "zerolinewidth": 2
          }
         }
        },
        "title": {
         "text": "Average Review Point per Country"
        },
        "xaxis": {
         "anchor": "y",
         "domain": [
          0,
          1
         ],
         "title": {
          "text": "Country"
         }
        },
        "yaxis": {
         "anchor": "x",
         "domain": [
          0,
          1
         ],
         "title": {
          "text": "Average Review Point"
         }
        }
       }
      }
     },
     "metadata": {},
     "output_type": "display_data"
    }
   ],
   "source": [
    "import plotly.express as px\n",
    "\n",
    "# Group the data by country and calculate the average review point\n",
    "average_review_point = reviews.groupby('country')['points'].mean()\n",
    "\n",
    "# Sort the data in descending order\n",
    "average_review_point = average_review_point.sort_values(ascending=False)\n",
    "\n",
    "# Create a new DataFrame\n",
    "df = pd.DataFrame({'Country': average_review_point.index, 'AverageReviewPoint': average_review_point.values})\n",
    "\n",
    "# Create a Plotly Plot\n",
    "fig = px.bar(df, x='Country', y='AverageReviewPoint',\n",
    "             color='AverageReviewPoint',\n",
    "             title='Average Review Point per Country',\n",
    "             labels={'AverageReviewPoint': 'Average Review Point'})\n",
    "\n",
    "# Show the plot\n",
    "fig.show()\n"
   ]
  },
  {
   "cell_type": "markdown",
   "metadata": {},
   "source": [
    "The review_frequency is calculated by counting the occurrences of each country in the dataset. This frequency data is then added to the DataFrame and displayed in the plot as part of the hover data"
   ]
  },
  {
   "cell_type": "code",
   "execution_count": 62,
   "metadata": {},
   "outputs": [
    {
     "data": {
      "application/vnd.plotly.v1+json": {
       "config": {
        "plotlyServerURL": "https://plot.ly"
       },
       "data": [
        {
         "alignmentgroup": "True",
         "customdata": [
          [
           1
          ],
          [
           14
          ],
          [
           106
          ],
          [
           123
          ],
          [
           18
          ],
          [
           25
          ],
          [
           428
          ],
          [
           1
          ],
          [
           47
          ],
          [
           29
          ],
          [
           17
          ],
          [
           29
          ],
          [
           2
          ],
          [
           28
          ],
          [
           6
          ],
          [
           1
          ],
          [
           32
          ],
          [
           6
          ],
          [
           2
          ],
          [
           1
          ],
          [
           1
          ],
          [
           2
          ]
         ],
         "hovertemplate": "Country=%{x}<br>Average Review Point=%{marker.color}<br>Review Frequency=%{customdata[0]}<extra></extra>",
         "legendgroup": "",
         "marker": {
          "color": [
           92,
           89.71428571428571,
           88.66037735849056,
           88.58536585365853,
           87.77777777777777,
           87.68,
           87.6588785046729,
           87,
           86.70212765957447,
           86.65517241379311,
           86.6470588235294,
           86.55172413793103,
           86.5,
           86.39285714285714,
           86,
           86,
           85.96875,
           85.66666666666667,
           85,
           85,
           84,
           81.5
          ],
          "coloraxis": "coloraxis",
          "pattern": {
           "shape": ""
          }
         },
         "name": "",
         "offsetgroup": "",
         "orientation": "v",
         "showlegend": false,
         "textposition": "auto",
         "type": "bar",
         "x": [
          "Canada",
          "Austria",
          "France",
          "Italy",
          "Germany",
          "Portugal",
          "US",
          "Moldova",
          "Spain",
          "Argentina",
          "South Africa",
          "Australia",
          "Turkey",
          "New Zealand",
          "Greece",
          "Bulgaria",
          "Chile",
          "Israel",
          "Romania",
          "Uruguay",
          "Georgia",
          "Mexico"
         ],
         "xaxis": "x",
         "y": [
          92,
          89.71428571428571,
          88.66037735849056,
          88.58536585365853,
          87.77777777777777,
          87.68,
          87.6588785046729,
          87,
          86.70212765957447,
          86.65517241379311,
          86.6470588235294,
          86.55172413793103,
          86.5,
          86.39285714285714,
          86,
          86,
          85.96875,
          85.66666666666667,
          85,
          85,
          84,
          81.5
         ],
         "yaxis": "y"
        }
       ],
       "layout": {
        "barmode": "relative",
        "coloraxis": {
         "colorbar": {
          "title": {
           "text": "Average Review Point"
          }
         },
         "colorscale": [
          [
           0,
           "#0d0887"
          ],
          [
           0.1111111111111111,
           "#46039f"
          ],
          [
           0.2222222222222222,
           "#7201a8"
          ],
          [
           0.3333333333333333,
           "#9c179e"
          ],
          [
           0.4444444444444444,
           "#bd3786"
          ],
          [
           0.5555555555555556,
           "#d8576b"
          ],
          [
           0.6666666666666666,
           "#ed7953"
          ],
          [
           0.7777777777777778,
           "#fb9f3a"
          ],
          [
           0.8888888888888888,
           "#fdca26"
          ],
          [
           1,
           "#f0f921"
          ]
         ]
        },
        "legend": {
         "tracegroupgap": 0
        },
        "template": {
         "data": {
          "bar": [
           {
            "error_x": {
             "color": "#2a3f5f"
            },
            "error_y": {
             "color": "#2a3f5f"
            },
            "marker": {
             "line": {
              "color": "#E5ECF6",
              "width": 0.5
             },
             "pattern": {
              "fillmode": "overlay",
              "size": 10,
              "solidity": 0.2
             }
            },
            "type": "bar"
           }
          ],
          "barpolar": [
           {
            "marker": {
             "line": {
              "color": "#E5ECF6",
              "width": 0.5
             },
             "pattern": {
              "fillmode": "overlay",
              "size": 10,
              "solidity": 0.2
             }
            },
            "type": "barpolar"
           }
          ],
          "carpet": [
           {
            "aaxis": {
             "endlinecolor": "#2a3f5f",
             "gridcolor": "white",
             "linecolor": "white",
             "minorgridcolor": "white",
             "startlinecolor": "#2a3f5f"
            },
            "baxis": {
             "endlinecolor": "#2a3f5f",
             "gridcolor": "white",
             "linecolor": "white",
             "minorgridcolor": "white",
             "startlinecolor": "#2a3f5f"
            },
            "type": "carpet"
           }
          ],
          "choropleth": [
           {
            "colorbar": {
             "outlinewidth": 0,
             "ticks": ""
            },
            "type": "choropleth"
           }
          ],
          "contour": [
           {
            "colorbar": {
             "outlinewidth": 0,
             "ticks": ""
            },
            "colorscale": [
             [
              0,
              "#0d0887"
             ],
             [
              0.1111111111111111,
              "#46039f"
             ],
             [
              0.2222222222222222,
              "#7201a8"
             ],
             [
              0.3333333333333333,
              "#9c179e"
             ],
             [
              0.4444444444444444,
              "#bd3786"
             ],
             [
              0.5555555555555556,
              "#d8576b"
             ],
             [
              0.6666666666666666,
              "#ed7953"
             ],
             [
              0.7777777777777778,
              "#fb9f3a"
             ],
             [
              0.8888888888888888,
              "#fdca26"
             ],
             [
              1,
              "#f0f921"
             ]
            ],
            "type": "contour"
           }
          ],
          "contourcarpet": [
           {
            "colorbar": {
             "outlinewidth": 0,
             "ticks": ""
            },
            "type": "contourcarpet"
           }
          ],
          "heatmap": [
           {
            "colorbar": {
             "outlinewidth": 0,
             "ticks": ""
            },
            "colorscale": [
             [
              0,
              "#0d0887"
             ],
             [
              0.1111111111111111,
              "#46039f"
             ],
             [
              0.2222222222222222,
              "#7201a8"
             ],
             [
              0.3333333333333333,
              "#9c179e"
             ],
             [
              0.4444444444444444,
              "#bd3786"
             ],
             [
              0.5555555555555556,
              "#d8576b"
             ],
             [
              0.6666666666666666,
              "#ed7953"
             ],
             [
              0.7777777777777778,
              "#fb9f3a"
             ],
             [
              0.8888888888888888,
              "#fdca26"
             ],
             [
              1,
              "#f0f921"
             ]
            ],
            "type": "heatmap"
           }
          ],
          "heatmapgl": [
           {
            "colorbar": {
             "outlinewidth": 0,
             "ticks": ""
            },
            "colorscale": [
             [
              0,
              "#0d0887"
             ],
             [
              0.1111111111111111,
              "#46039f"
             ],
             [
              0.2222222222222222,
              "#7201a8"
             ],
             [
              0.3333333333333333,
              "#9c179e"
             ],
             [
              0.4444444444444444,
              "#bd3786"
             ],
             [
              0.5555555555555556,
              "#d8576b"
             ],
             [
              0.6666666666666666,
              "#ed7953"
             ],
             [
              0.7777777777777778,
              "#fb9f3a"
             ],
             [
              0.8888888888888888,
              "#fdca26"
             ],
             [
              1,
              "#f0f921"
             ]
            ],
            "type": "heatmapgl"
           }
          ],
          "histogram": [
           {
            "marker": {
             "pattern": {
              "fillmode": "overlay",
              "size": 10,
              "solidity": 0.2
             }
            },
            "type": "histogram"
           }
          ],
          "histogram2d": [
           {
            "colorbar": {
             "outlinewidth": 0,
             "ticks": ""
            },
            "colorscale": [
             [
              0,
              "#0d0887"
             ],
             [
              0.1111111111111111,
              "#46039f"
             ],
             [
              0.2222222222222222,
              "#7201a8"
             ],
             [
              0.3333333333333333,
              "#9c179e"
             ],
             [
              0.4444444444444444,
              "#bd3786"
             ],
             [
              0.5555555555555556,
              "#d8576b"
             ],
             [
              0.6666666666666666,
              "#ed7953"
             ],
             [
              0.7777777777777778,
              "#fb9f3a"
             ],
             [
              0.8888888888888888,
              "#fdca26"
             ],
             [
              1,
              "#f0f921"
             ]
            ],
            "type": "histogram2d"
           }
          ],
          "histogram2dcontour": [
           {
            "colorbar": {
             "outlinewidth": 0,
             "ticks": ""
            },
            "colorscale": [
             [
              0,
              "#0d0887"
             ],
             [
              0.1111111111111111,
              "#46039f"
             ],
             [
              0.2222222222222222,
              "#7201a8"
             ],
             [
              0.3333333333333333,
              "#9c179e"
             ],
             [
              0.4444444444444444,
              "#bd3786"
             ],
             [
              0.5555555555555556,
              "#d8576b"
             ],
             [
              0.6666666666666666,
              "#ed7953"
             ],
             [
              0.7777777777777778,
              "#fb9f3a"
             ],
             [
              0.8888888888888888,
              "#fdca26"
             ],
             [
              1,
              "#f0f921"
             ]
            ],
            "type": "histogram2dcontour"
           }
          ],
          "mesh3d": [
           {
            "colorbar": {
             "outlinewidth": 0,
             "ticks": ""
            },
            "type": "mesh3d"
           }
          ],
          "parcoords": [
           {
            "line": {
             "colorbar": {
              "outlinewidth": 0,
              "ticks": ""
             }
            },
            "type": "parcoords"
           }
          ],
          "pie": [
           {
            "automargin": true,
            "type": "pie"
           }
          ],
          "scatter": [
           {
            "fillpattern": {
             "fillmode": "overlay",
             "size": 10,
             "solidity": 0.2
            },
            "type": "scatter"
           }
          ],
          "scatter3d": [
           {
            "line": {
             "colorbar": {
              "outlinewidth": 0,
              "ticks": ""
             }
            },
            "marker": {
             "colorbar": {
              "outlinewidth": 0,
              "ticks": ""
             }
            },
            "type": "scatter3d"
           }
          ],
          "scattercarpet": [
           {
            "marker": {
             "colorbar": {
              "outlinewidth": 0,
              "ticks": ""
             }
            },
            "type": "scattercarpet"
           }
          ],
          "scattergeo": [
           {
            "marker": {
             "colorbar": {
              "outlinewidth": 0,
              "ticks": ""
             }
            },
            "type": "scattergeo"
           }
          ],
          "scattergl": [
           {
            "marker": {
             "colorbar": {
              "outlinewidth": 0,
              "ticks": ""
             }
            },
            "type": "scattergl"
           }
          ],
          "scattermapbox": [
           {
            "marker": {
             "colorbar": {
              "outlinewidth": 0,
              "ticks": ""
             }
            },
            "type": "scattermapbox"
           }
          ],
          "scatterpolar": [
           {
            "marker": {
             "colorbar": {
              "outlinewidth": 0,
              "ticks": ""
             }
            },
            "type": "scatterpolar"
           }
          ],
          "scatterpolargl": [
           {
            "marker": {
             "colorbar": {
              "outlinewidth": 0,
              "ticks": ""
             }
            },
            "type": "scatterpolargl"
           }
          ],
          "scatterternary": [
           {
            "marker": {
             "colorbar": {
              "outlinewidth": 0,
              "ticks": ""
             }
            },
            "type": "scatterternary"
           }
          ],
          "surface": [
           {
            "colorbar": {
             "outlinewidth": 0,
             "ticks": ""
            },
            "colorscale": [
             [
              0,
              "#0d0887"
             ],
             [
              0.1111111111111111,
              "#46039f"
             ],
             [
              0.2222222222222222,
              "#7201a8"
             ],
             [
              0.3333333333333333,
              "#9c179e"
             ],
             [
              0.4444444444444444,
              "#bd3786"
             ],
             [
              0.5555555555555556,
              "#d8576b"
             ],
             [
              0.6666666666666666,
              "#ed7953"
             ],
             [
              0.7777777777777778,
              "#fb9f3a"
             ],
             [
              0.8888888888888888,
              "#fdca26"
             ],
             [
              1,
              "#f0f921"
             ]
            ],
            "type": "surface"
           }
          ],
          "table": [
           {
            "cells": {
             "fill": {
              "color": "#EBF0F8"
             },
             "line": {
              "color": "white"
             }
            },
            "header": {
             "fill": {
              "color": "#C8D4E3"
             },
             "line": {
              "color": "white"
             }
            },
            "type": "table"
           }
          ]
         },
         "layout": {
          "annotationdefaults": {
           "arrowcolor": "#2a3f5f",
           "arrowhead": 0,
           "arrowwidth": 1
          },
          "autotypenumbers": "strict",
          "coloraxis": {
           "colorbar": {
            "outlinewidth": 0,
            "ticks": ""
           }
          },
          "colorscale": {
           "diverging": [
            [
             0,
             "#8e0152"
            ],
            [
             0.1,
             "#c51b7d"
            ],
            [
             0.2,
             "#de77ae"
            ],
            [
             0.3,
             "#f1b6da"
            ],
            [
             0.4,
             "#fde0ef"
            ],
            [
             0.5,
             "#f7f7f7"
            ],
            [
             0.6,
             "#e6f5d0"
            ],
            [
             0.7,
             "#b8e186"
            ],
            [
             0.8,
             "#7fbc41"
            ],
            [
             0.9,
             "#4d9221"
            ],
            [
             1,
             "#276419"
            ]
           ],
           "sequential": [
            [
             0,
             "#0d0887"
            ],
            [
             0.1111111111111111,
             "#46039f"
            ],
            [
             0.2222222222222222,
             "#7201a8"
            ],
            [
             0.3333333333333333,
             "#9c179e"
            ],
            [
             0.4444444444444444,
             "#bd3786"
            ],
            [
             0.5555555555555556,
             "#d8576b"
            ],
            [
             0.6666666666666666,
             "#ed7953"
            ],
            [
             0.7777777777777778,
             "#fb9f3a"
            ],
            [
             0.8888888888888888,
             "#fdca26"
            ],
            [
             1,
             "#f0f921"
            ]
           ],
           "sequentialminus": [
            [
             0,
             "#0d0887"
            ],
            [
             0.1111111111111111,
             "#46039f"
            ],
            [
             0.2222222222222222,
             "#7201a8"
            ],
            [
             0.3333333333333333,
             "#9c179e"
            ],
            [
             0.4444444444444444,
             "#bd3786"
            ],
            [
             0.5555555555555556,
             "#d8576b"
            ],
            [
             0.6666666666666666,
             "#ed7953"
            ],
            [
             0.7777777777777778,
             "#fb9f3a"
            ],
            [
             0.8888888888888888,
             "#fdca26"
            ],
            [
             1,
             "#f0f921"
            ]
           ]
          },
          "colorway": [
           "#636efa",
           "#EF553B",
           "#00cc96",
           "#ab63fa",
           "#FFA15A",
           "#19d3f3",
           "#FF6692",
           "#B6E880",
           "#FF97FF",
           "#FECB52"
          ],
          "font": {
           "color": "#2a3f5f"
          },
          "geo": {
           "bgcolor": "white",
           "lakecolor": "white",
           "landcolor": "#E5ECF6",
           "showlakes": true,
           "showland": true,
           "subunitcolor": "white"
          },
          "hoverlabel": {
           "align": "left"
          },
          "hovermode": "closest",
          "mapbox": {
           "style": "light"
          },
          "paper_bgcolor": "white",
          "plot_bgcolor": "#E5ECF6",
          "polar": {
           "angularaxis": {
            "gridcolor": "white",
            "linecolor": "white",
            "ticks": ""
           },
           "bgcolor": "#E5ECF6",
           "radialaxis": {
            "gridcolor": "white",
            "linecolor": "white",
            "ticks": ""
           }
          },
          "scene": {
           "xaxis": {
            "backgroundcolor": "#E5ECF6",
            "gridcolor": "white",
            "gridwidth": 2,
            "linecolor": "white",
            "showbackground": true,
            "ticks": "",
            "zerolinecolor": "white"
           },
           "yaxis": {
            "backgroundcolor": "#E5ECF6",
            "gridcolor": "white",
            "gridwidth": 2,
            "linecolor": "white",
            "showbackground": true,
            "ticks": "",
            "zerolinecolor": "white"
           },
           "zaxis": {
            "backgroundcolor": "#E5ECF6",
            "gridcolor": "white",
            "gridwidth": 2,
            "linecolor": "white",
            "showbackground": true,
            "ticks": "",
            "zerolinecolor": "white"
           }
          },
          "shapedefaults": {
           "line": {
            "color": "#2a3f5f"
           }
          },
          "ternary": {
           "aaxis": {
            "gridcolor": "white",
            "linecolor": "white",
            "ticks": ""
           },
           "baxis": {
            "gridcolor": "white",
            "linecolor": "white",
            "ticks": ""
           },
           "bgcolor": "#E5ECF6",
           "caxis": {
            "gridcolor": "white",
            "linecolor": "white",
            "ticks": ""
           }
          },
          "title": {
           "x": 0.05
          },
          "xaxis": {
           "automargin": true,
           "gridcolor": "white",
           "linecolor": "white",
           "ticks": "",
           "title": {
            "standoff": 15
           },
           "zerolinecolor": "white",
           "zerolinewidth": 2
          },
          "yaxis": {
           "automargin": true,
           "gridcolor": "white",
           "linecolor": "white",
           "ticks": "",
           "title": {
            "standoff": 15
           },
           "zerolinecolor": "white",
           "zerolinewidth": 2
          }
         }
        },
        "title": {
         "text": "Average Review Point and Review Frequency per Country"
        },
        "xaxis": {
         "anchor": "y",
         "domain": [
          0,
          1
         ],
         "title": {
          "text": "Country"
         }
        },
        "yaxis": {
         "anchor": "x",
         "domain": [
          0,
          1
         ],
         "title": {
          "text": "Average Review Point"
         }
        }
       }
      }
     },
     "metadata": {},
     "output_type": "display_data"
    }
   ],
   "source": [
    "import pandas as pd\n",
    "import plotly.express as px\n",
    "\n",
    "# Group the data by country and calculate the average review point\n",
    "average_review_point = reviews.groupby('country')['points'].mean()\n",
    "\n",
    "# Calculate the frequency of reviews for each country\n",
    "review_frequency = reviews['country'].value_counts()\n",
    "\n",
    "# Sort the data in descending order of average review points\n",
    "average_review_point = average_review_point.sort_values(ascending=False)\n",
    "\n",
    "# Create a new DataFrame combining both metrics\n",
    "df = pd.DataFrame({\n",
    "    'Country': average_review_point.index,\n",
    "    'AverageReviewPoint': average_review_point.values,\n",
    "    'ReviewFrequency': review_frequency[average_review_point.index].values  # Match order with average review points\n",
    "})\n",
    "\n",
    "# Create a Plotly Plot\n",
    "fig = px.bar(df, x='Country', y='AverageReviewPoint',\n",
    "             color='AverageReviewPoint',\n",
    "             hover_data=['ReviewFrequency'],  # Display review frequency on hover\n",
    "             title='Average Review Point and Review Frequency per Country',\n",
    "             labels={'AverageReviewPoint': 'Average Review Point', 'ReviewFrequency': 'Review Frequency'})\n",
    "\n",
    "# Show the plot\n",
    "fig.show()\n"
   ]
  },
  {
   "cell_type": "code",
   "execution_count": 63,
   "metadata": {},
   "outputs": [
    {
     "data": {
      "application/vnd.plotly.v1+json": {
       "config": {
        "plotlyServerURL": "https://plot.ly"
       },
       "data": [
        {
         "name": "Average Review Point",
         "type": "bar",
         "x": [
          "Canada",
          "Austria",
          "France",
          "Italy",
          "Germany",
          "Portugal",
          "US",
          "Moldova",
          "Spain",
          "Argentina",
          "South Africa",
          "Australia",
          "Turkey",
          "New Zealand",
          "Greece",
          "Bulgaria",
          "Chile",
          "Israel",
          "Romania",
          "Uruguay",
          "Georgia",
          "Mexico"
         ],
         "xaxis": "x",
         "y": [
          92,
          89.71428571428571,
          88.66037735849056,
          88.58536585365853,
          87.77777777777777,
          87.68,
          87.6588785046729,
          87,
          86.70212765957447,
          86.65517241379311,
          86.6470588235294,
          86.55172413793103,
          86.5,
          86.39285714285714,
          86,
          86,
          85.96875,
          85.66666666666667,
          85,
          85,
          84,
          81.5
         ],
         "yaxis": "y"
        },
        {
         "mode": "markers",
         "name": "Review Frequency",
         "type": "scatter",
         "x": [
          "US",
          "Italy",
          "France",
          "Spain",
          "Chile",
          "Argentina",
          "Australia",
          "New Zealand",
          "Portugal",
          "Germany",
          "South Africa",
          "Austria",
          "Greece",
          "Israel",
          "Turkey",
          "Romania",
          "Mexico",
          "Uruguay",
          "Bulgaria",
          "Moldova",
          "Georgia",
          "Canada"
         ],
         "xaxis": "x",
         "y": [
          428,
          123,
          106,
          47,
          32,
          29,
          29,
          28,
          25,
          18,
          17,
          14,
          6,
          6,
          2,
          2,
          2,
          1,
          1,
          1,
          1,
          1
         ],
         "yaxis": "y2"
        }
       ],
       "layout": {
        "template": {
         "data": {
          "bar": [
           {
            "error_x": {
             "color": "#2a3f5f"
            },
            "error_y": {
             "color": "#2a3f5f"
            },
            "marker": {
             "line": {
              "color": "#E5ECF6",
              "width": 0.5
             },
             "pattern": {
              "fillmode": "overlay",
              "size": 10,
              "solidity": 0.2
             }
            },
            "type": "bar"
           }
          ],
          "barpolar": [
           {
            "marker": {
             "line": {
              "color": "#E5ECF6",
              "width": 0.5
             },
             "pattern": {
              "fillmode": "overlay",
              "size": 10,
              "solidity": 0.2
             }
            },
            "type": "barpolar"
           }
          ],
          "carpet": [
           {
            "aaxis": {
             "endlinecolor": "#2a3f5f",
             "gridcolor": "white",
             "linecolor": "white",
             "minorgridcolor": "white",
             "startlinecolor": "#2a3f5f"
            },
            "baxis": {
             "endlinecolor": "#2a3f5f",
             "gridcolor": "white",
             "linecolor": "white",
             "minorgridcolor": "white",
             "startlinecolor": "#2a3f5f"
            },
            "type": "carpet"
           }
          ],
          "choropleth": [
           {
            "colorbar": {
             "outlinewidth": 0,
             "ticks": ""
            },
            "type": "choropleth"
           }
          ],
          "contour": [
           {
            "colorbar": {
             "outlinewidth": 0,
             "ticks": ""
            },
            "colorscale": [
             [
              0,
              "#0d0887"
             ],
             [
              0.1111111111111111,
              "#46039f"
             ],
             [
              0.2222222222222222,
              "#7201a8"
             ],
             [
              0.3333333333333333,
              "#9c179e"
             ],
             [
              0.4444444444444444,
              "#bd3786"
             ],
             [
              0.5555555555555556,
              "#d8576b"
             ],
             [
              0.6666666666666666,
              "#ed7953"
             ],
             [
              0.7777777777777778,
              "#fb9f3a"
             ],
             [
              0.8888888888888888,
              "#fdca26"
             ],
             [
              1,
              "#f0f921"
             ]
            ],
            "type": "contour"
           }
          ],
          "contourcarpet": [
           {
            "colorbar": {
             "outlinewidth": 0,
             "ticks": ""
            },
            "type": "contourcarpet"
           }
          ],
          "heatmap": [
           {
            "colorbar": {
             "outlinewidth": 0,
             "ticks": ""
            },
            "colorscale": [
             [
              0,
              "#0d0887"
             ],
             [
              0.1111111111111111,
              "#46039f"
             ],
             [
              0.2222222222222222,
              "#7201a8"
             ],
             [
              0.3333333333333333,
              "#9c179e"
             ],
             [
              0.4444444444444444,
              "#bd3786"
             ],
             [
              0.5555555555555556,
              "#d8576b"
             ],
             [
              0.6666666666666666,
              "#ed7953"
             ],
             [
              0.7777777777777778,
              "#fb9f3a"
             ],
             [
              0.8888888888888888,
              "#fdca26"
             ],
             [
              1,
              "#f0f921"
             ]
            ],
            "type": "heatmap"
           }
          ],
          "heatmapgl": [
           {
            "colorbar": {
             "outlinewidth": 0,
             "ticks": ""
            },
            "colorscale": [
             [
              0,
              "#0d0887"
             ],
             [
              0.1111111111111111,
              "#46039f"
             ],
             [
              0.2222222222222222,
              "#7201a8"
             ],
             [
              0.3333333333333333,
              "#9c179e"
             ],
             [
              0.4444444444444444,
              "#bd3786"
             ],
             [
              0.5555555555555556,
              "#d8576b"
             ],
             [
              0.6666666666666666,
              "#ed7953"
             ],
             [
              0.7777777777777778,
              "#fb9f3a"
             ],
             [
              0.8888888888888888,
              "#fdca26"
             ],
             [
              1,
              "#f0f921"
             ]
            ],
            "type": "heatmapgl"
           }
          ],
          "histogram": [
           {
            "marker": {
             "pattern": {
              "fillmode": "overlay",
              "size": 10,
              "solidity": 0.2
             }
            },
            "type": "histogram"
           }
          ],
          "histogram2d": [
           {
            "colorbar": {
             "outlinewidth": 0,
             "ticks": ""
            },
            "colorscale": [
             [
              0,
              "#0d0887"
             ],
             [
              0.1111111111111111,
              "#46039f"
             ],
             [
              0.2222222222222222,
              "#7201a8"
             ],
             [
              0.3333333333333333,
              "#9c179e"
             ],
             [
              0.4444444444444444,
              "#bd3786"
             ],
             [
              0.5555555555555556,
              "#d8576b"
             ],
             [
              0.6666666666666666,
              "#ed7953"
             ],
             [
              0.7777777777777778,
              "#fb9f3a"
             ],
             [
              0.8888888888888888,
              "#fdca26"
             ],
             [
              1,
              "#f0f921"
             ]
            ],
            "type": "histogram2d"
           }
          ],
          "histogram2dcontour": [
           {
            "colorbar": {
             "outlinewidth": 0,
             "ticks": ""
            },
            "colorscale": [
             [
              0,
              "#0d0887"
             ],
             [
              0.1111111111111111,
              "#46039f"
             ],
             [
              0.2222222222222222,
              "#7201a8"
             ],
             [
              0.3333333333333333,
              "#9c179e"
             ],
             [
              0.4444444444444444,
              "#bd3786"
             ],
             [
              0.5555555555555556,
              "#d8576b"
             ],
             [
              0.6666666666666666,
              "#ed7953"
             ],
             [
              0.7777777777777778,
              "#fb9f3a"
             ],
             [
              0.8888888888888888,
              "#fdca26"
             ],
             [
              1,
              "#f0f921"
             ]
            ],
            "type": "histogram2dcontour"
           }
          ],
          "mesh3d": [
           {
            "colorbar": {
             "outlinewidth": 0,
             "ticks": ""
            },
            "type": "mesh3d"
           }
          ],
          "parcoords": [
           {
            "line": {
             "colorbar": {
              "outlinewidth": 0,
              "ticks": ""
             }
            },
            "type": "parcoords"
           }
          ],
          "pie": [
           {
            "automargin": true,
            "type": "pie"
           }
          ],
          "scatter": [
           {
            "fillpattern": {
             "fillmode": "overlay",
             "size": 10,
             "solidity": 0.2
            },
            "type": "scatter"
           }
          ],
          "scatter3d": [
           {
            "line": {
             "colorbar": {
              "outlinewidth": 0,
              "ticks": ""
             }
            },
            "marker": {
             "colorbar": {
              "outlinewidth": 0,
              "ticks": ""
             }
            },
            "type": "scatter3d"
           }
          ],
          "scattercarpet": [
           {
            "marker": {
             "colorbar": {
              "outlinewidth": 0,
              "ticks": ""
             }
            },
            "type": "scattercarpet"
           }
          ],
          "scattergeo": [
           {
            "marker": {
             "colorbar": {
              "outlinewidth": 0,
              "ticks": ""
             }
            },
            "type": "scattergeo"
           }
          ],
          "scattergl": [
           {
            "marker": {
             "colorbar": {
              "outlinewidth": 0,
              "ticks": ""
             }
            },
            "type": "scattergl"
           }
          ],
          "scattermapbox": [
           {
            "marker": {
             "colorbar": {
              "outlinewidth": 0,
              "ticks": ""
             }
            },
            "type": "scattermapbox"
           }
          ],
          "scatterpolar": [
           {
            "marker": {
             "colorbar": {
              "outlinewidth": 0,
              "ticks": ""
             }
            },
            "type": "scatterpolar"
           }
          ],
          "scatterpolargl": [
           {
            "marker": {
             "colorbar": {
              "outlinewidth": 0,
              "ticks": ""
             }
            },
            "type": "scatterpolargl"
           }
          ],
          "scatterternary": [
           {
            "marker": {
             "colorbar": {
              "outlinewidth": 0,
              "ticks": ""
             }
            },
            "type": "scatterternary"
           }
          ],
          "surface": [
           {
            "colorbar": {
             "outlinewidth": 0,
             "ticks": ""
            },
            "colorscale": [
             [
              0,
              "#0d0887"
             ],
             [
              0.1111111111111111,
              "#46039f"
             ],
             [
              0.2222222222222222,
              "#7201a8"
             ],
             [
              0.3333333333333333,
              "#9c179e"
             ],
             [
              0.4444444444444444,
              "#bd3786"
             ],
             [
              0.5555555555555556,
              "#d8576b"
             ],
             [
              0.6666666666666666,
              "#ed7953"
             ],
             [
              0.7777777777777778,
              "#fb9f3a"
             ],
             [
              0.8888888888888888,
              "#fdca26"
             ],
             [
              1,
              "#f0f921"
             ]
            ],
            "type": "surface"
           }
          ],
          "table": [
           {
            "cells": {
             "fill": {
              "color": "#EBF0F8"
             },
             "line": {
              "color": "white"
             }
            },
            "header": {
             "fill": {
              "color": "#C8D4E3"
             },
             "line": {
              "color": "white"
             }
            },
            "type": "table"
           }
          ]
         },
         "layout": {
          "annotationdefaults": {
           "arrowcolor": "#2a3f5f",
           "arrowhead": 0,
           "arrowwidth": 1
          },
          "autotypenumbers": "strict",
          "coloraxis": {
           "colorbar": {
            "outlinewidth": 0,
            "ticks": ""
           }
          },
          "colorscale": {
           "diverging": [
            [
             0,
             "#8e0152"
            ],
            [
             0.1,
             "#c51b7d"
            ],
            [
             0.2,
             "#de77ae"
            ],
            [
             0.3,
             "#f1b6da"
            ],
            [
             0.4,
             "#fde0ef"
            ],
            [
             0.5,
             "#f7f7f7"
            ],
            [
             0.6,
             "#e6f5d0"
            ],
            [
             0.7,
             "#b8e186"
            ],
            [
             0.8,
             "#7fbc41"
            ],
            [
             0.9,
             "#4d9221"
            ],
            [
             1,
             "#276419"
            ]
           ],
           "sequential": [
            [
             0,
             "#0d0887"
            ],
            [
             0.1111111111111111,
             "#46039f"
            ],
            [
             0.2222222222222222,
             "#7201a8"
            ],
            [
             0.3333333333333333,
             "#9c179e"
            ],
            [
             0.4444444444444444,
             "#bd3786"
            ],
            [
             0.5555555555555556,
             "#d8576b"
            ],
            [
             0.6666666666666666,
             "#ed7953"
            ],
            [
             0.7777777777777778,
             "#fb9f3a"
            ],
            [
             0.8888888888888888,
             "#fdca26"
            ],
            [
             1,
             "#f0f921"
            ]
           ],
           "sequentialminus": [
            [
             0,
             "#0d0887"
            ],
            [
             0.1111111111111111,
             "#46039f"
            ],
            [
             0.2222222222222222,
             "#7201a8"
            ],
            [
             0.3333333333333333,
             "#9c179e"
            ],
            [
             0.4444444444444444,
             "#bd3786"
            ],
            [
             0.5555555555555556,
             "#d8576b"
            ],
            [
             0.6666666666666666,
             "#ed7953"
            ],
            [
             0.7777777777777778,
             "#fb9f3a"
            ],
            [
             0.8888888888888888,
             "#fdca26"
            ],
            [
             1,
             "#f0f921"
            ]
           ]
          },
          "colorway": [
           "#636efa",
           "#EF553B",
           "#00cc96",
           "#ab63fa",
           "#FFA15A",
           "#19d3f3",
           "#FF6692",
           "#B6E880",
           "#FF97FF",
           "#FECB52"
          ],
          "font": {
           "color": "#2a3f5f"
          },
          "geo": {
           "bgcolor": "white",
           "lakecolor": "white",
           "landcolor": "#E5ECF6",
           "showlakes": true,
           "showland": true,
           "subunitcolor": "white"
          },
          "hoverlabel": {
           "align": "left"
          },
          "hovermode": "closest",
          "mapbox": {
           "style": "light"
          },
          "paper_bgcolor": "white",
          "plot_bgcolor": "#E5ECF6",
          "polar": {
           "angularaxis": {
            "gridcolor": "white",
            "linecolor": "white",
            "ticks": ""
           },
           "bgcolor": "#E5ECF6",
           "radialaxis": {
            "gridcolor": "white",
            "linecolor": "white",
            "ticks": ""
           }
          },
          "scene": {
           "xaxis": {
            "backgroundcolor": "#E5ECF6",
            "gridcolor": "white",
            "gridwidth": 2,
            "linecolor": "white",
            "showbackground": true,
            "ticks": "",
            "zerolinecolor": "white"
           },
           "yaxis": {
            "backgroundcolor": "#E5ECF6",
            "gridcolor": "white",
            "gridwidth": 2,
            "linecolor": "white",
            "showbackground": true,
            "ticks": "",
            "zerolinecolor": "white"
           },
           "zaxis": {
            "backgroundcolor": "#E5ECF6",
            "gridcolor": "white",
            "gridwidth": 2,
            "linecolor": "white",
            "showbackground": true,
            "ticks": "",
            "zerolinecolor": "white"
           }
          },
          "shapedefaults": {
           "line": {
            "color": "#2a3f5f"
           }
          },
          "ternary": {
           "aaxis": {
            "gridcolor": "white",
            "linecolor": "white",
            "ticks": ""
           },
           "baxis": {
            "gridcolor": "white",
            "linecolor": "white",
            "ticks": ""
           },
           "bgcolor": "#E5ECF6",
           "caxis": {
            "gridcolor": "white",
            "linecolor": "white",
            "ticks": ""
           }
          },
          "title": {
           "x": 0.05
          },
          "xaxis": {
           "automargin": true,
           "gridcolor": "white",
           "linecolor": "white",
           "ticks": "",
           "title": {
            "standoff": 15
           },
           "zerolinecolor": "white",
           "zerolinewidth": 2
          },
          "yaxis": {
           "automargin": true,
           "gridcolor": "white",
           "linecolor": "white",
           "ticks": "",
           "title": {
            "standoff": 15
           },
           "zerolinecolor": "white",
           "zerolinewidth": 2
          }
         }
        },
        "title": {
         "text": "Average Review Point and Review Frequency per Country"
        },
        "xaxis": {
         "anchor": "y",
         "domain": [
          0,
          0.94
         ],
         "title": {
          "text": "Country"
         }
        },
        "yaxis": {
         "anchor": "x",
         "domain": [
          0,
          1
         ],
         "title": {
          "text": "Average Review Point"
         }
        },
        "yaxis2": {
         "anchor": "x",
         "overlaying": "y",
         "side": "right",
         "title": {
          "text": "Review Frequency"
         }
        }
       }
      }
     },
     "metadata": {},
     "output_type": "display_data"
    }
   ],
   "source": [
    "import pandas as pd\n",
    "import plotly.graph_objects as go\n",
    "from plotly.subplots import make_subplots\n",
    "\n",
    "# Group the data by country and calculate the average review point\n",
    "average_review_point = reviews.groupby('country')['points'].mean()\n",
    "\n",
    "# Calculate the frequency of reviews for each country\n",
    "review_frequency = reviews['country'].value_counts()\n",
    "\n",
    "# Sort the data in descending order of average review points\n",
    "average_review_point = average_review_point.sort_values(ascending=False)\n",
    "\n",
    "# Create a subplot with secondary y-axis\n",
    "fig = make_subplots(specs=[[{\"secondary_y\": True}]])\n",
    "\n",
    "# Add average review points bar chart\n",
    "fig.add_trace(go.Bar(x=average_review_point.index, \n",
    "                     y=average_review_point.values, \n",
    "                     name='Average Review Point'), \n",
    "                     secondary_y=False)\n",
    "\n",
    "# Add review frequency line chart with markers only\n",
    "fig.add_trace(go.Scatter(x=review_frequency.index, \n",
    "                         y=review_frequency.values, \n",
    "                         name='Review Frequency', \n",
    "                         mode='markers'),\n",
    "                         secondary_y=True)\n",
    "\n",
    "# Set x-axis title\n",
    "fig.update_xaxes(title_text=\"Country\")\n",
    "\n",
    "# Set y-axes titles\n",
    "fig.update_yaxes(title_text=\"Average Review Point\", secondary_y=False)\n",
    "fig.update_yaxes(title_text=\"Review Frequency\", secondary_y=True)\n",
    "\n",
    "# Add plot title\n",
    "fig.update_layout(title_text=\"Average Review Point and Review Frequency per Country\")\n",
    "\n",
    "# Show the plot\n",
    "fig.show()"
   ]
  },
  {
   "cell_type": "markdown",
   "metadata": {},
   "source": [
    "A bar chart that displays both the average review points and the frequency of reviews for each wine variety"
   ]
  },
  {
   "cell_type": "code",
   "execution_count": 64,
   "metadata": {},
   "outputs": [
    {
     "data": {
      "application/vnd.plotly.v1+json": {
       "config": {
        "plotlyServerURL": "https://plot.ly"
       },
       "data": [
        {
         "alignmentgroup": "True",
         "customdata": [
          [
           1
          ],
          [
           1
          ],
          [
           1
          ],
          [
           1
          ],
          [
           1
          ],
          [
           1
          ],
          [
           1
          ],
          [
           1
          ],
          [
           1
          ],
          [
           3
          ],
          [
           12
          ],
          [
           2
          ],
          [
           2
          ],
          [
           8
          ],
          [
           6
          ],
          [
           1
          ],
          [
           2
          ],
          [
           1
          ],
          [
           1
          ],
          [
           1
          ],
          [
           1
          ],
          [
           2
          ],
          [
           2
          ],
          [
           11
          ],
          [
           31
          ],
          [
           1
          ],
          [
           1
          ],
          [
           2
          ],
          [
           1
          ],
          [
           1
          ],
          [
           6
          ],
          [
           16
          ],
          [
           46
          ],
          [
           3
          ],
          [
           3
          ],
          [
           64
          ],
          [
           5
          ],
          [
           79
          ],
          [
           15
          ],
          [
           2
          ],
          [
           1
          ],
          [
           1
          ],
          [
           8
          ],
          [
           5
          ],
          [
           19
          ],
          [
           8
          ],
          [
           37
          ],
          [
           107
          ],
          [
           83
          ],
          [
           6
          ],
          [
           3
          ],
          [
           10
          ],
          [
           19
          ],
          [
           2
          ],
          [
           2
          ],
          [
           2
          ],
          [
           2
          ],
          [
           4
          ],
          [
           5
          ],
          [
           1
          ],
          [
           2
          ],
          [
           1
          ],
          [
           1
          ],
          [
           1
          ],
          [
           2
          ],
          [
           5
          ],
          [
           22
          ],
          [
           17
          ],
          [
           16
          ],
          [
           22
          ],
          [
           2
          ],
          [
           49
          ],
          [
           33
          ],
          [
           3
          ],
          [
           3
          ],
          [
           8
          ],
          [
           5
          ],
          [
           12
          ],
          [
           1
          ],
          [
           1
          ],
          [
           1
          ],
          [
           1
          ],
          [
           1
          ],
          [
           4
          ],
          [
           9
          ],
          [
           1
          ],
          [
           1
          ],
          [
           1
          ],
          [
           2
          ],
          [
           1
          ],
          [
           1
          ],
          [
           1
          ],
          [
           1
          ],
          [
           1
          ],
          [
           1
          ],
          [
           1
          ],
          [
           1
          ],
          [
           1
          ],
          [
           2
          ],
          [
           3
          ],
          [
           1
          ],
          [
           1
          ],
          [
           1
          ],
          [
           1
          ],
          [
           1
          ],
          [
           1
          ],
          [
           1
          ],
          [
           4
          ],
          [
           1
          ],
          [
           1
          ]
         ],
         "hovertemplate": "Designation=%{x}<br>Average Review Point=%{marker.color}<br>Review Frequency=%{customdata[0]}<extra></extra>",
         "legendgroup": "",
         "marker": {
          "color": [
           92,
           92,
           92,
           92,
           92,
           92,
           91,
           91,
           91,
           90.66666666666667,
           90.58333333333333,
           90.5,
           90.5,
           90.375,
           90,
           90,
           90,
           90,
           90,
           90,
           90,
           89.5,
           89.5,
           89.18181818181819,
           89.12903225806451,
           89,
           89,
           89,
           89,
           89,
           88.5,
           88.4375,
           88.3913043478261,
           88.33333333333333,
           88.33333333333333,
           88.203125,
           88.2,
           88.16455696202532,
           88.06666666666666,
           88,
           88,
           88,
           88,
           88,
           87.78947368421052,
           87.75,
           87.70270270270271,
           87.69158878504673,
           87.6867469879518,
           87.66666666666667,
           87.66666666666667,
           87.6,
           87.52631578947368,
           87.5,
           87.5,
           87.5,
           87.5,
           87.25,
           87.2,
           87,
           87,
           87,
           87,
           87,
           87,
           87,
           86.95454545454545,
           86.82352941176471,
           86.625,
           86.5909090909091,
           86.5,
           86.46938775510205,
           86.39393939393939,
           86.33333333333333,
           86.33333333333333,
           86.25,
           86.2,
           86.16666666666667,
           86,
           86,
           86,
           86,
           86,
           85.75,
           85.33333333333333,
           85,
           85,
           85,
           85,
           85,
           85,
           85,
           85,
           85,
           85,
           85,
           85,
           85,
           84.5,
           84.33333333333333,
           84,
           84,
           84,
           84,
           83,
           83,
           83,
           82.75,
           82,
           81
          ],
          "coloraxis": "coloraxis",
          "pattern": {
           "shape": ""
          }
         },
         "name": "",
         "offsetgroup": "",
         "orientation": "v",
         "showlegend": false,
         "textposition": "auto",
         "type": "bar",
         "x": [
          "Greco",
          "Vidal",
          "Malbec-Cabernet Sauvignon",
          "Loureiro",
          "Tannat",
          "Tinto del Pais",
          "Grauburgunder",
          "Cabernet-Syrah",
          "Nerello Mascalese",
          "Grüner Veltliner",
          "Sangiovese Grosso",
          "Sémillon",
          "Mourvèdre",
          "Gewürztraminer",
          "Chenin Blanc",
          "Mencía",
          "Tinta de Toro",
          "Malbec-Merlot",
          "Assyrtiko",
          "Monastrell",
          "Nero di Troia",
          "Aglianico",
          "Touriga Nacional",
          "Corvina, Rondinella, Molinara",
          "Bordeaux-style Red Blend",
          "Alicante",
          "Alicante Bouschet",
          "Friulano",
          "Garnacha-Monastrell",
          "Vernaccia",
          "Cabernet Franc",
          "Sparkling Blend",
          "Syrah",
          "Champagne Blend",
          "Gamay",
          "Red Blend",
          "Portuguese Red",
          "Pinot Noir",
          "Rhône-style Red Blend",
          "Melon",
          "Sagrantino",
          "Meritage",
          "Nebbiolo",
          "Garganega",
          "Sangiovese",
          "Port",
          "Riesling",
          "Chardonnay",
          "Cabernet Sauvignon",
          "Viognier",
          "Barbera",
          "Shiraz",
          "Malbec",
          "Nero d'Avola",
          "Petit Verdot",
          "Cabernet Sauvignon-Merlot",
          "Fiano",
          "Pinot Blanc",
          "Grenache",
          "Verdicchio",
          "Semillon-Sauvignon Blanc",
          "Turbiana",
          "Catarratto",
          "Spätburgunder",
          "Prosecco",
          "Bordeaux-style White Blend",
          "Merlot",
          "White Blend",
          "Rosé",
          "Tempranillo",
          "Vermentino",
          "Sauvignon Blanc",
          "Zinfandel",
          "Glera",
          "Tempranillo Blend",
          "Pinot Grigio",
          "Portuguese White",
          "Pinot Gris",
          "Merlot-Shiraz",
          "Lagrein",
          "Macabeo",
          "Petite Verdot",
          "Torrontés",
          "Dolcetto",
          "Petite Sirah",
          "Tinta Roriz",
          "Chenin Blanc-Chardonnay",
          "Castelão",
          "Verdejo",
          "Verdelho",
          "Tempranillo-Garnacha",
          "Bonarda",
          "Rosato",
          "Arneis",
          "Grignolino",
          "Silvaner",
          "Montepulciano",
          "Sauvignon Blanc-Verdejo",
          "Agiorgitiko",
          "Garnacha",
          "Saperavi",
          "Cabernet Sauvignon-Syrah",
          "Cabernet Sauvignon-Carmenère",
          "Cabernet Pfeffer",
          "Teroldego",
          "Pinot Bianco",
          "Roussanne",
          "Carmenère",
          "Gewürztraminer-Riesling",
          "Primitivo"
         ],
         "xaxis": "x",
         "y": [
          92,
          92,
          92,
          92,
          92,
          92,
          91,
          91,
          91,
          90.66666666666667,
          90.58333333333333,
          90.5,
          90.5,
          90.375,
          90,
          90,
          90,
          90,
          90,
          90,
          90,
          89.5,
          89.5,
          89.18181818181819,
          89.12903225806451,
          89,
          89,
          89,
          89,
          89,
          88.5,
          88.4375,
          88.3913043478261,
          88.33333333333333,
          88.33333333333333,
          88.203125,
          88.2,
          88.16455696202532,
          88.06666666666666,
          88,
          88,
          88,
          88,
          88,
          87.78947368421052,
          87.75,
          87.70270270270271,
          87.69158878504673,
          87.6867469879518,
          87.66666666666667,
          87.66666666666667,
          87.6,
          87.52631578947368,
          87.5,
          87.5,
          87.5,
          87.5,
          87.25,
          87.2,
          87,
          87,
          87,
          87,
          87,
          87,
          87,
          86.95454545454545,
          86.82352941176471,
          86.625,
          86.5909090909091,
          86.5,
          86.46938775510205,
          86.39393939393939,
          86.33333333333333,
          86.33333333333333,
          86.25,
          86.2,
          86.16666666666667,
          86,
          86,
          86,
          86,
          86,
          85.75,
          85.33333333333333,
          85,
          85,
          85,
          85,
          85,
          85,
          85,
          85,
          85,
          85,
          85,
          85,
          85,
          84.5,
          84.33333333333333,
          84,
          84,
          84,
          84,
          83,
          83,
          83,
          82.75,
          82,
          81
         ],
         "yaxis": "y"
        }
       ],
       "layout": {
        "barmode": "relative",
        "coloraxis": {
         "colorbar": {
          "title": {
           "text": "Average Review Point"
          }
         },
         "colorscale": [
          [
           0,
           "#0d0887"
          ],
          [
           0.1111111111111111,
           "#46039f"
          ],
          [
           0.2222222222222222,
           "#7201a8"
          ],
          [
           0.3333333333333333,
           "#9c179e"
          ],
          [
           0.4444444444444444,
           "#bd3786"
          ],
          [
           0.5555555555555556,
           "#d8576b"
          ],
          [
           0.6666666666666666,
           "#ed7953"
          ],
          [
           0.7777777777777778,
           "#fb9f3a"
          ],
          [
           0.8888888888888888,
           "#fdca26"
          ],
          [
           1,
           "#f0f921"
          ]
         ]
        },
        "legend": {
         "tracegroupgap": 0
        },
        "template": {
         "data": {
          "bar": [
           {
            "error_x": {
             "color": "#2a3f5f"
            },
            "error_y": {
             "color": "#2a3f5f"
            },
            "marker": {
             "line": {
              "color": "#E5ECF6",
              "width": 0.5
             },
             "pattern": {
              "fillmode": "overlay",
              "size": 10,
              "solidity": 0.2
             }
            },
            "type": "bar"
           }
          ],
          "barpolar": [
           {
            "marker": {
             "line": {
              "color": "#E5ECF6",
              "width": 0.5
             },
             "pattern": {
              "fillmode": "overlay",
              "size": 10,
              "solidity": 0.2
             }
            },
            "type": "barpolar"
           }
          ],
          "carpet": [
           {
            "aaxis": {
             "endlinecolor": "#2a3f5f",
             "gridcolor": "white",
             "linecolor": "white",
             "minorgridcolor": "white",
             "startlinecolor": "#2a3f5f"
            },
            "baxis": {
             "endlinecolor": "#2a3f5f",
             "gridcolor": "white",
             "linecolor": "white",
             "minorgridcolor": "white",
             "startlinecolor": "#2a3f5f"
            },
            "type": "carpet"
           }
          ],
          "choropleth": [
           {
            "colorbar": {
             "outlinewidth": 0,
             "ticks": ""
            },
            "type": "choropleth"
           }
          ],
          "contour": [
           {
            "colorbar": {
             "outlinewidth": 0,
             "ticks": ""
            },
            "colorscale": [
             [
              0,
              "#0d0887"
             ],
             [
              0.1111111111111111,
              "#46039f"
             ],
             [
              0.2222222222222222,
              "#7201a8"
             ],
             [
              0.3333333333333333,
              "#9c179e"
             ],
             [
              0.4444444444444444,
              "#bd3786"
             ],
             [
              0.5555555555555556,
              "#d8576b"
             ],
             [
              0.6666666666666666,
              "#ed7953"
             ],
             [
              0.7777777777777778,
              "#fb9f3a"
             ],
             [
              0.8888888888888888,
              "#fdca26"
             ],
             [
              1,
              "#f0f921"
             ]
            ],
            "type": "contour"
           }
          ],
          "contourcarpet": [
           {
            "colorbar": {
             "outlinewidth": 0,
             "ticks": ""
            },
            "type": "contourcarpet"
           }
          ],
          "heatmap": [
           {
            "colorbar": {
             "outlinewidth": 0,
             "ticks": ""
            },
            "colorscale": [
             [
              0,
              "#0d0887"
             ],
             [
              0.1111111111111111,
              "#46039f"
             ],
             [
              0.2222222222222222,
              "#7201a8"
             ],
             [
              0.3333333333333333,
              "#9c179e"
             ],
             [
              0.4444444444444444,
              "#bd3786"
             ],
             [
              0.5555555555555556,
              "#d8576b"
             ],
             [
              0.6666666666666666,
              "#ed7953"
             ],
             [
              0.7777777777777778,
              "#fb9f3a"
             ],
             [
              0.8888888888888888,
              "#fdca26"
             ],
             [
              1,
              "#f0f921"
             ]
            ],
            "type": "heatmap"
           }
          ],
          "heatmapgl": [
           {
            "colorbar": {
             "outlinewidth": 0,
             "ticks": ""
            },
            "colorscale": [
             [
              0,
              "#0d0887"
             ],
             [
              0.1111111111111111,
              "#46039f"
             ],
             [
              0.2222222222222222,
              "#7201a8"
             ],
             [
              0.3333333333333333,
              "#9c179e"
             ],
             [
              0.4444444444444444,
              "#bd3786"
             ],
             [
              0.5555555555555556,
              "#d8576b"
             ],
             [
              0.6666666666666666,
              "#ed7953"
             ],
             [
              0.7777777777777778,
              "#fb9f3a"
             ],
             [
              0.8888888888888888,
              "#fdca26"
             ],
             [
              1,
              "#f0f921"
             ]
            ],
            "type": "heatmapgl"
           }
          ],
          "histogram": [
           {
            "marker": {
             "pattern": {
              "fillmode": "overlay",
              "size": 10,
              "solidity": 0.2
             }
            },
            "type": "histogram"
           }
          ],
          "histogram2d": [
           {
            "colorbar": {
             "outlinewidth": 0,
             "ticks": ""
            },
            "colorscale": [
             [
              0,
              "#0d0887"
             ],
             [
              0.1111111111111111,
              "#46039f"
             ],
             [
              0.2222222222222222,
              "#7201a8"
             ],
             [
              0.3333333333333333,
              "#9c179e"
             ],
             [
              0.4444444444444444,
              "#bd3786"
             ],
             [
              0.5555555555555556,
              "#d8576b"
             ],
             [
              0.6666666666666666,
              "#ed7953"
             ],
             [
              0.7777777777777778,
              "#fb9f3a"
             ],
             [
              0.8888888888888888,
              "#fdca26"
             ],
             [
              1,
              "#f0f921"
             ]
            ],
            "type": "histogram2d"
           }
          ],
          "histogram2dcontour": [
           {
            "colorbar": {
             "outlinewidth": 0,
             "ticks": ""
            },
            "colorscale": [
             [
              0,
              "#0d0887"
             ],
             [
              0.1111111111111111,
              "#46039f"
             ],
             [
              0.2222222222222222,
              "#7201a8"
             ],
             [
              0.3333333333333333,
              "#9c179e"
             ],
             [
              0.4444444444444444,
              "#bd3786"
             ],
             [
              0.5555555555555556,
              "#d8576b"
             ],
             [
              0.6666666666666666,
              "#ed7953"
             ],
             [
              0.7777777777777778,
              "#fb9f3a"
             ],
             [
              0.8888888888888888,
              "#fdca26"
             ],
             [
              1,
              "#f0f921"
             ]
            ],
            "type": "histogram2dcontour"
           }
          ],
          "mesh3d": [
           {
            "colorbar": {
             "outlinewidth": 0,
             "ticks": ""
            },
            "type": "mesh3d"
           }
          ],
          "parcoords": [
           {
            "line": {
             "colorbar": {
              "outlinewidth": 0,
              "ticks": ""
             }
            },
            "type": "parcoords"
           }
          ],
          "pie": [
           {
            "automargin": true,
            "type": "pie"
           }
          ],
          "scatter": [
           {
            "fillpattern": {
             "fillmode": "overlay",
             "size": 10,
             "solidity": 0.2
            },
            "type": "scatter"
           }
          ],
          "scatter3d": [
           {
            "line": {
             "colorbar": {
              "outlinewidth": 0,
              "ticks": ""
             }
            },
            "marker": {
             "colorbar": {
              "outlinewidth": 0,
              "ticks": ""
             }
            },
            "type": "scatter3d"
           }
          ],
          "scattercarpet": [
           {
            "marker": {
             "colorbar": {
              "outlinewidth": 0,
              "ticks": ""
             }
            },
            "type": "scattercarpet"
           }
          ],
          "scattergeo": [
           {
            "marker": {
             "colorbar": {
              "outlinewidth": 0,
              "ticks": ""
             }
            },
            "type": "scattergeo"
           }
          ],
          "scattergl": [
           {
            "marker": {
             "colorbar": {
              "outlinewidth": 0,
              "ticks": ""
             }
            },
            "type": "scattergl"
           }
          ],
          "scattermapbox": [
           {
            "marker": {
             "colorbar": {
              "outlinewidth": 0,
              "ticks": ""
             }
            },
            "type": "scattermapbox"
           }
          ],
          "scatterpolar": [
           {
            "marker": {
             "colorbar": {
              "outlinewidth": 0,
              "ticks": ""
             }
            },
            "type": "scatterpolar"
           }
          ],
          "scatterpolargl": [
           {
            "marker": {
             "colorbar": {
              "outlinewidth": 0,
              "ticks": ""
             }
            },
            "type": "scatterpolargl"
           }
          ],
          "scatterternary": [
           {
            "marker": {
             "colorbar": {
              "outlinewidth": 0,
              "ticks": ""
             }
            },
            "type": "scatterternary"
           }
          ],
          "surface": [
           {
            "colorbar": {
             "outlinewidth": 0,
             "ticks": ""
            },
            "colorscale": [
             [
              0,
              "#0d0887"
             ],
             [
              0.1111111111111111,
              "#46039f"
             ],
             [
              0.2222222222222222,
              "#7201a8"
             ],
             [
              0.3333333333333333,
              "#9c179e"
             ],
             [
              0.4444444444444444,
              "#bd3786"
             ],
             [
              0.5555555555555556,
              "#d8576b"
             ],
             [
              0.6666666666666666,
              "#ed7953"
             ],
             [
              0.7777777777777778,
              "#fb9f3a"
             ],
             [
              0.8888888888888888,
              "#fdca26"
             ],
             [
              1,
              "#f0f921"
             ]
            ],
            "type": "surface"
           }
          ],
          "table": [
           {
            "cells": {
             "fill": {
              "color": "#EBF0F8"
             },
             "line": {
              "color": "white"
             }
            },
            "header": {
             "fill": {
              "color": "#C8D4E3"
             },
             "line": {
              "color": "white"
             }
            },
            "type": "table"
           }
          ]
         },
         "layout": {
          "annotationdefaults": {
           "arrowcolor": "#2a3f5f",
           "arrowhead": 0,
           "arrowwidth": 1
          },
          "autotypenumbers": "strict",
          "coloraxis": {
           "colorbar": {
            "outlinewidth": 0,
            "ticks": ""
           }
          },
          "colorscale": {
           "diverging": [
            [
             0,
             "#8e0152"
            ],
            [
             0.1,
             "#c51b7d"
            ],
            [
             0.2,
             "#de77ae"
            ],
            [
             0.3,
             "#f1b6da"
            ],
            [
             0.4,
             "#fde0ef"
            ],
            [
             0.5,
             "#f7f7f7"
            ],
            [
             0.6,
             "#e6f5d0"
            ],
            [
             0.7,
             "#b8e186"
            ],
            [
             0.8,
             "#7fbc41"
            ],
            [
             0.9,
             "#4d9221"
            ],
            [
             1,
             "#276419"
            ]
           ],
           "sequential": [
            [
             0,
             "#0d0887"
            ],
            [
             0.1111111111111111,
             "#46039f"
            ],
            [
             0.2222222222222222,
             "#7201a8"
            ],
            [
             0.3333333333333333,
             "#9c179e"
            ],
            [
             0.4444444444444444,
             "#bd3786"
            ],
            [
             0.5555555555555556,
             "#d8576b"
            ],
            [
             0.6666666666666666,
             "#ed7953"
            ],
            [
             0.7777777777777778,
             "#fb9f3a"
            ],
            [
             0.8888888888888888,
             "#fdca26"
            ],
            [
             1,
             "#f0f921"
            ]
           ],
           "sequentialminus": [
            [
             0,
             "#0d0887"
            ],
            [
             0.1111111111111111,
             "#46039f"
            ],
            [
             0.2222222222222222,
             "#7201a8"
            ],
            [
             0.3333333333333333,
             "#9c179e"
            ],
            [
             0.4444444444444444,
             "#bd3786"
            ],
            [
             0.5555555555555556,
             "#d8576b"
            ],
            [
             0.6666666666666666,
             "#ed7953"
            ],
            [
             0.7777777777777778,
             "#fb9f3a"
            ],
            [
             0.8888888888888888,
             "#fdca26"
            ],
            [
             1,
             "#f0f921"
            ]
           ]
          },
          "colorway": [
           "#636efa",
           "#EF553B",
           "#00cc96",
           "#ab63fa",
           "#FFA15A",
           "#19d3f3",
           "#FF6692",
           "#B6E880",
           "#FF97FF",
           "#FECB52"
          ],
          "font": {
           "color": "#2a3f5f"
          },
          "geo": {
           "bgcolor": "white",
           "lakecolor": "white",
           "landcolor": "#E5ECF6",
           "showlakes": true,
           "showland": true,
           "subunitcolor": "white"
          },
          "hoverlabel": {
           "align": "left"
          },
          "hovermode": "closest",
          "mapbox": {
           "style": "light"
          },
          "paper_bgcolor": "white",
          "plot_bgcolor": "#E5ECF6",
          "polar": {
           "angularaxis": {
            "gridcolor": "white",
            "linecolor": "white",
            "ticks": ""
           },
           "bgcolor": "#E5ECF6",
           "radialaxis": {
            "gridcolor": "white",
            "linecolor": "white",
            "ticks": ""
           }
          },
          "scene": {
           "xaxis": {
            "backgroundcolor": "#E5ECF6",
            "gridcolor": "white",
            "gridwidth": 2,
            "linecolor": "white",
            "showbackground": true,
            "ticks": "",
            "zerolinecolor": "white"
           },
           "yaxis": {
            "backgroundcolor": "#E5ECF6",
            "gridcolor": "white",
            "gridwidth": 2,
            "linecolor": "white",
            "showbackground": true,
            "ticks": "",
            "zerolinecolor": "white"
           },
           "zaxis": {
            "backgroundcolor": "#E5ECF6",
            "gridcolor": "white",
            "gridwidth": 2,
            "linecolor": "white",
            "showbackground": true,
            "ticks": "",
            "zerolinecolor": "white"
           }
          },
          "shapedefaults": {
           "line": {
            "color": "#2a3f5f"
           }
          },
          "ternary": {
           "aaxis": {
            "gridcolor": "white",
            "linecolor": "white",
            "ticks": ""
           },
           "baxis": {
            "gridcolor": "white",
            "linecolor": "white",
            "ticks": ""
           },
           "bgcolor": "#E5ECF6",
           "caxis": {
            "gridcolor": "white",
            "linecolor": "white",
            "ticks": ""
           }
          },
          "title": {
           "x": 0.05
          },
          "xaxis": {
           "automargin": true,
           "gridcolor": "white",
           "linecolor": "white",
           "ticks": "",
           "title": {
            "standoff": 15
           },
           "zerolinecolor": "white",
           "zerolinewidth": 2
          },
          "yaxis": {
           "automargin": true,
           "gridcolor": "white",
           "linecolor": "white",
           "ticks": "",
           "title": {
            "standoff": 15
           },
           "zerolinecolor": "white",
           "zerolinewidth": 2
          }
         }
        },
        "title": {
         "text": "Average Review Point and Review Frequency per Designation"
        },
        "xaxis": {
         "anchor": "y",
         "domain": [
          0,
          1
         ],
         "tickangle": -45,
         "title": {
          "text": "Designation"
         }
        },
        "yaxis": {
         "anchor": "x",
         "domain": [
          0,
          1
         ],
         "title": {
          "text": "Average Review Point"
         }
        }
       }
      }
     },
     "metadata": {},
     "output_type": "display_data"
    }
   ],
   "source": [
    "import pandas as pd\n",
    "import plotly.express as px\n",
    "\n",
    "# Group the data by designation and calculate the average review point\n",
    "average_review_point = reviews.groupby('variety')['points'].mean()\n",
    "\n",
    "# Calculate the frequency of reviews for each designation\n",
    "review_frequency = reviews['variety'].value_counts()\n",
    "\n",
    "# Sort the data in descending order of average review points\n",
    "average_review_point = average_review_point.sort_values(ascending=False)\n",
    "\n",
    "# Create a new DataFrame combining both metrics\n",
    "df = pd.DataFrame({\n",
    "    'Designation': average_review_point.index,\n",
    "    'AverageReviewPoint': average_review_point.values,\n",
    "    'ReviewFrequency': review_frequency[average_review_point.index].values  # Match order with average review points\n",
    "})\n",
    "\n",
    "# Create a Plotly Plot\n",
    "fig = px.bar(df, x='Designation', y='AverageReviewPoint',\n",
    "             color='AverageReviewPoint',\n",
    "             hover_data=['ReviewFrequency'],  # Display review frequency on hover\n",
    "             title='Average Review Point and Review Frequency per Designation',\n",
    "             labels={'AverageReviewPoint': 'Average Review Point', 'ReviewFrequency': 'Review Frequency'})\n",
    "\n",
    "# Show the plot\n",
    "fig.update_layout(xaxis_tickangle=-45)  # Rotate x-axis labels for better visibility\n",
    "fig.show()\n"
   ]
  },
  {
   "cell_type": "markdown",
   "metadata": {},
   "source": [
    "Include only wine varieties that have more than 10 reviews"
   ]
  },
  {
   "cell_type": "code",
   "execution_count": 65,
   "metadata": {},
   "outputs": [
    {
     "data": {
      "application/vnd.plotly.v1+json": {
       "config": {
        "plotlyServerURL": "https://plot.ly"
       },
       "data": [
        {
         "alignmentgroup": "True",
         "customdata": [
          [
           12
          ],
          [
           11
          ],
          [
           31
          ],
          [
           16
          ],
          [
           46
          ],
          [
           64
          ],
          [
           79
          ],
          [
           15
          ],
          [
           19
          ],
          [
           37
          ],
          [
           107
          ],
          [
           83
          ],
          [
           19
          ],
          [
           22
          ],
          [
           17
          ],
          [
           16
          ],
          [
           22
          ],
          [
           49
          ],
          [
           33
          ],
          [
           12
          ]
         ],
         "hovertemplate": "Designation=%{x}<br>Average Review Point=%{marker.color}<br>Review Frequency=%{customdata[0]}<extra></extra>",
         "legendgroup": "",
         "marker": {
          "color": [
           90.58333333333333,
           89.18181818181819,
           89.12903225806451,
           88.4375,
           88.3913043478261,
           88.203125,
           88.16455696202532,
           88.06666666666666,
           87.78947368421052,
           87.70270270270271,
           87.69158878504673,
           87.6867469879518,
           87.52631578947368,
           86.95454545454545,
           86.82352941176471,
           86.625,
           86.5909090909091,
           86.46938775510205,
           86.39393939393939,
           86.16666666666667
          ],
          "coloraxis": "coloraxis",
          "pattern": {
           "shape": ""
          }
         },
         "name": "",
         "offsetgroup": "",
         "orientation": "v",
         "showlegend": false,
         "textposition": "auto",
         "type": "bar",
         "x": [
          "Sangiovese Grosso",
          "Corvina, Rondinella, Molinara",
          "Bordeaux-style Red Blend",
          "Sparkling Blend",
          "Syrah",
          "Red Blend",
          "Pinot Noir",
          "Rhône-style Red Blend",
          "Sangiovese",
          "Riesling",
          "Chardonnay",
          "Cabernet Sauvignon",
          "Malbec",
          "Merlot",
          "White Blend",
          "Rosé",
          "Tempranillo",
          "Sauvignon Blanc",
          "Zinfandel",
          "Pinot Gris"
         ],
         "xaxis": "x",
         "y": [
          90.58333333333333,
          89.18181818181819,
          89.12903225806451,
          88.4375,
          88.3913043478261,
          88.203125,
          88.16455696202532,
          88.06666666666666,
          87.78947368421052,
          87.70270270270271,
          87.69158878504673,
          87.6867469879518,
          87.52631578947368,
          86.95454545454545,
          86.82352941176471,
          86.625,
          86.5909090909091,
          86.46938775510205,
          86.39393939393939,
          86.16666666666667
         ],
         "yaxis": "y"
        }
       ],
       "layout": {
        "barmode": "relative",
        "coloraxis": {
         "colorbar": {
          "title": {
           "text": "Average Review Point"
          }
         },
         "colorscale": [
          [
           0,
           "#0d0887"
          ],
          [
           0.1111111111111111,
           "#46039f"
          ],
          [
           0.2222222222222222,
           "#7201a8"
          ],
          [
           0.3333333333333333,
           "#9c179e"
          ],
          [
           0.4444444444444444,
           "#bd3786"
          ],
          [
           0.5555555555555556,
           "#d8576b"
          ],
          [
           0.6666666666666666,
           "#ed7953"
          ],
          [
           0.7777777777777778,
           "#fb9f3a"
          ],
          [
           0.8888888888888888,
           "#fdca26"
          ],
          [
           1,
           "#f0f921"
          ]
         ]
        },
        "legend": {
         "tracegroupgap": 0
        },
        "template": {
         "data": {
          "bar": [
           {
            "error_x": {
             "color": "#2a3f5f"
            },
            "error_y": {
             "color": "#2a3f5f"
            },
            "marker": {
             "line": {
              "color": "#E5ECF6",
              "width": 0.5
             },
             "pattern": {
              "fillmode": "overlay",
              "size": 10,
              "solidity": 0.2
             }
            },
            "type": "bar"
           }
          ],
          "barpolar": [
           {
            "marker": {
             "line": {
              "color": "#E5ECF6",
              "width": 0.5
             },
             "pattern": {
              "fillmode": "overlay",
              "size": 10,
              "solidity": 0.2
             }
            },
            "type": "barpolar"
           }
          ],
          "carpet": [
           {
            "aaxis": {
             "endlinecolor": "#2a3f5f",
             "gridcolor": "white",
             "linecolor": "white",
             "minorgridcolor": "white",
             "startlinecolor": "#2a3f5f"
            },
            "baxis": {
             "endlinecolor": "#2a3f5f",
             "gridcolor": "white",
             "linecolor": "white",
             "minorgridcolor": "white",
             "startlinecolor": "#2a3f5f"
            },
            "type": "carpet"
           }
          ],
          "choropleth": [
           {
            "colorbar": {
             "outlinewidth": 0,
             "ticks": ""
            },
            "type": "choropleth"
           }
          ],
          "contour": [
           {
            "colorbar": {
             "outlinewidth": 0,
             "ticks": ""
            },
            "colorscale": [
             [
              0,
              "#0d0887"
             ],
             [
              0.1111111111111111,
              "#46039f"
             ],
             [
              0.2222222222222222,
              "#7201a8"
             ],
             [
              0.3333333333333333,
              "#9c179e"
             ],
             [
              0.4444444444444444,
              "#bd3786"
             ],
             [
              0.5555555555555556,
              "#d8576b"
             ],
             [
              0.6666666666666666,
              "#ed7953"
             ],
             [
              0.7777777777777778,
              "#fb9f3a"
             ],
             [
              0.8888888888888888,
              "#fdca26"
             ],
             [
              1,
              "#f0f921"
             ]
            ],
            "type": "contour"
           }
          ],
          "contourcarpet": [
           {
            "colorbar": {
             "outlinewidth": 0,
             "ticks": ""
            },
            "type": "contourcarpet"
           }
          ],
          "heatmap": [
           {
            "colorbar": {
             "outlinewidth": 0,
             "ticks": ""
            },
            "colorscale": [
             [
              0,
              "#0d0887"
             ],
             [
              0.1111111111111111,
              "#46039f"
             ],
             [
              0.2222222222222222,
              "#7201a8"
             ],
             [
              0.3333333333333333,
              "#9c179e"
             ],
             [
              0.4444444444444444,
              "#bd3786"
             ],
             [
              0.5555555555555556,
              "#d8576b"
             ],
             [
              0.6666666666666666,
              "#ed7953"
             ],
             [
              0.7777777777777778,
              "#fb9f3a"
             ],
             [
              0.8888888888888888,
              "#fdca26"
             ],
             [
              1,
              "#f0f921"
             ]
            ],
            "type": "heatmap"
           }
          ],
          "heatmapgl": [
           {
            "colorbar": {
             "outlinewidth": 0,
             "ticks": ""
            },
            "colorscale": [
             [
              0,
              "#0d0887"
             ],
             [
              0.1111111111111111,
              "#46039f"
             ],
             [
              0.2222222222222222,
              "#7201a8"
             ],
             [
              0.3333333333333333,
              "#9c179e"
             ],
             [
              0.4444444444444444,
              "#bd3786"
             ],
             [
              0.5555555555555556,
              "#d8576b"
             ],
             [
              0.6666666666666666,
              "#ed7953"
             ],
             [
              0.7777777777777778,
              "#fb9f3a"
             ],
             [
              0.8888888888888888,
              "#fdca26"
             ],
             [
              1,
              "#f0f921"
             ]
            ],
            "type": "heatmapgl"
           }
          ],
          "histogram": [
           {
            "marker": {
             "pattern": {
              "fillmode": "overlay",
              "size": 10,
              "solidity": 0.2
             }
            },
            "type": "histogram"
           }
          ],
          "histogram2d": [
           {
            "colorbar": {
             "outlinewidth": 0,
             "ticks": ""
            },
            "colorscale": [
             [
              0,
              "#0d0887"
             ],
             [
              0.1111111111111111,
              "#46039f"
             ],
             [
              0.2222222222222222,
              "#7201a8"
             ],
             [
              0.3333333333333333,
              "#9c179e"
             ],
             [
              0.4444444444444444,
              "#bd3786"
             ],
             [
              0.5555555555555556,
              "#d8576b"
             ],
             [
              0.6666666666666666,
              "#ed7953"
             ],
             [
              0.7777777777777778,
              "#fb9f3a"
             ],
             [
              0.8888888888888888,
              "#fdca26"
             ],
             [
              1,
              "#f0f921"
             ]
            ],
            "type": "histogram2d"
           }
          ],
          "histogram2dcontour": [
           {
            "colorbar": {
             "outlinewidth": 0,
             "ticks": ""
            },
            "colorscale": [
             [
              0,
              "#0d0887"
             ],
             [
              0.1111111111111111,
              "#46039f"
             ],
             [
              0.2222222222222222,
              "#7201a8"
             ],
             [
              0.3333333333333333,
              "#9c179e"
             ],
             [
              0.4444444444444444,
              "#bd3786"
             ],
             [
              0.5555555555555556,
              "#d8576b"
             ],
             [
              0.6666666666666666,
              "#ed7953"
             ],
             [
              0.7777777777777778,
              "#fb9f3a"
             ],
             [
              0.8888888888888888,
              "#fdca26"
             ],
             [
              1,
              "#f0f921"
             ]
            ],
            "type": "histogram2dcontour"
           }
          ],
          "mesh3d": [
           {
            "colorbar": {
             "outlinewidth": 0,
             "ticks": ""
            },
            "type": "mesh3d"
           }
          ],
          "parcoords": [
           {
            "line": {
             "colorbar": {
              "outlinewidth": 0,
              "ticks": ""
             }
            },
            "type": "parcoords"
           }
          ],
          "pie": [
           {
            "automargin": true,
            "type": "pie"
           }
          ],
          "scatter": [
           {
            "fillpattern": {
             "fillmode": "overlay",
             "size": 10,
             "solidity": 0.2
            },
            "type": "scatter"
           }
          ],
          "scatter3d": [
           {
            "line": {
             "colorbar": {
              "outlinewidth": 0,
              "ticks": ""
             }
            },
            "marker": {
             "colorbar": {
              "outlinewidth": 0,
              "ticks": ""
             }
            },
            "type": "scatter3d"
           }
          ],
          "scattercarpet": [
           {
            "marker": {
             "colorbar": {
              "outlinewidth": 0,
              "ticks": ""
             }
            },
            "type": "scattercarpet"
           }
          ],
          "scattergeo": [
           {
            "marker": {
             "colorbar": {
              "outlinewidth": 0,
              "ticks": ""
             }
            },
            "type": "scattergeo"
           }
          ],
          "scattergl": [
           {
            "marker": {
             "colorbar": {
              "outlinewidth": 0,
              "ticks": ""
             }
            },
            "type": "scattergl"
           }
          ],
          "scattermapbox": [
           {
            "marker": {
             "colorbar": {
              "outlinewidth": 0,
              "ticks": ""
             }
            },
            "type": "scattermapbox"
           }
          ],
          "scatterpolar": [
           {
            "marker": {
             "colorbar": {
              "outlinewidth": 0,
              "ticks": ""
             }
            },
            "type": "scatterpolar"
           }
          ],
          "scatterpolargl": [
           {
            "marker": {
             "colorbar": {
              "outlinewidth": 0,
              "ticks": ""
             }
            },
            "type": "scatterpolargl"
           }
          ],
          "scatterternary": [
           {
            "marker": {
             "colorbar": {
              "outlinewidth": 0,
              "ticks": ""
             }
            },
            "type": "scatterternary"
           }
          ],
          "surface": [
           {
            "colorbar": {
             "outlinewidth": 0,
             "ticks": ""
            },
            "colorscale": [
             [
              0,
              "#0d0887"
             ],
             [
              0.1111111111111111,
              "#46039f"
             ],
             [
              0.2222222222222222,
              "#7201a8"
             ],
             [
              0.3333333333333333,
              "#9c179e"
             ],
             [
              0.4444444444444444,
              "#bd3786"
             ],
             [
              0.5555555555555556,
              "#d8576b"
             ],
             [
              0.6666666666666666,
              "#ed7953"
             ],
             [
              0.7777777777777778,
              "#fb9f3a"
             ],
             [
              0.8888888888888888,
              "#fdca26"
             ],
             [
              1,
              "#f0f921"
             ]
            ],
            "type": "surface"
           }
          ],
          "table": [
           {
            "cells": {
             "fill": {
              "color": "#EBF0F8"
             },
             "line": {
              "color": "white"
             }
            },
            "header": {
             "fill": {
              "color": "#C8D4E3"
             },
             "line": {
              "color": "white"
             }
            },
            "type": "table"
           }
          ]
         },
         "layout": {
          "annotationdefaults": {
           "arrowcolor": "#2a3f5f",
           "arrowhead": 0,
           "arrowwidth": 1
          },
          "autotypenumbers": "strict",
          "coloraxis": {
           "colorbar": {
            "outlinewidth": 0,
            "ticks": ""
           }
          },
          "colorscale": {
           "diverging": [
            [
             0,
             "#8e0152"
            ],
            [
             0.1,
             "#c51b7d"
            ],
            [
             0.2,
             "#de77ae"
            ],
            [
             0.3,
             "#f1b6da"
            ],
            [
             0.4,
             "#fde0ef"
            ],
            [
             0.5,
             "#f7f7f7"
            ],
            [
             0.6,
             "#e6f5d0"
            ],
            [
             0.7,
             "#b8e186"
            ],
            [
             0.8,
             "#7fbc41"
            ],
            [
             0.9,
             "#4d9221"
            ],
            [
             1,
             "#276419"
            ]
           ],
           "sequential": [
            [
             0,
             "#0d0887"
            ],
            [
             0.1111111111111111,
             "#46039f"
            ],
            [
             0.2222222222222222,
             "#7201a8"
            ],
            [
             0.3333333333333333,
             "#9c179e"
            ],
            [
             0.4444444444444444,
             "#bd3786"
            ],
            [
             0.5555555555555556,
             "#d8576b"
            ],
            [
             0.6666666666666666,
             "#ed7953"
            ],
            [
             0.7777777777777778,
             "#fb9f3a"
            ],
            [
             0.8888888888888888,
             "#fdca26"
            ],
            [
             1,
             "#f0f921"
            ]
           ],
           "sequentialminus": [
            [
             0,
             "#0d0887"
            ],
            [
             0.1111111111111111,
             "#46039f"
            ],
            [
             0.2222222222222222,
             "#7201a8"
            ],
            [
             0.3333333333333333,
             "#9c179e"
            ],
            [
             0.4444444444444444,
             "#bd3786"
            ],
            [
             0.5555555555555556,
             "#d8576b"
            ],
            [
             0.6666666666666666,
             "#ed7953"
            ],
            [
             0.7777777777777778,
             "#fb9f3a"
            ],
            [
             0.8888888888888888,
             "#fdca26"
            ],
            [
             1,
             "#f0f921"
            ]
           ]
          },
          "colorway": [
           "#636efa",
           "#EF553B",
           "#00cc96",
           "#ab63fa",
           "#FFA15A",
           "#19d3f3",
           "#FF6692",
           "#B6E880",
           "#FF97FF",
           "#FECB52"
          ],
          "font": {
           "color": "#2a3f5f"
          },
          "geo": {
           "bgcolor": "white",
           "lakecolor": "white",
           "landcolor": "#E5ECF6",
           "showlakes": true,
           "showland": true,
           "subunitcolor": "white"
          },
          "hoverlabel": {
           "align": "left"
          },
          "hovermode": "closest",
          "mapbox": {
           "style": "light"
          },
          "paper_bgcolor": "white",
          "plot_bgcolor": "#E5ECF6",
          "polar": {
           "angularaxis": {
            "gridcolor": "white",
            "linecolor": "white",
            "ticks": ""
           },
           "bgcolor": "#E5ECF6",
           "radialaxis": {
            "gridcolor": "white",
            "linecolor": "white",
            "ticks": ""
           }
          },
          "scene": {
           "xaxis": {
            "backgroundcolor": "#E5ECF6",
            "gridcolor": "white",
            "gridwidth": 2,
            "linecolor": "white",
            "showbackground": true,
            "ticks": "",
            "zerolinecolor": "white"
           },
           "yaxis": {
            "backgroundcolor": "#E5ECF6",
            "gridcolor": "white",
            "gridwidth": 2,
            "linecolor": "white",
            "showbackground": true,
            "ticks": "",
            "zerolinecolor": "white"
           },
           "zaxis": {
            "backgroundcolor": "#E5ECF6",
            "gridcolor": "white",
            "gridwidth": 2,
            "linecolor": "white",
            "showbackground": true,
            "ticks": "",
            "zerolinecolor": "white"
           }
          },
          "shapedefaults": {
           "line": {
            "color": "#2a3f5f"
           }
          },
          "ternary": {
           "aaxis": {
            "gridcolor": "white",
            "linecolor": "white",
            "ticks": ""
           },
           "baxis": {
            "gridcolor": "white",
            "linecolor": "white",
            "ticks": ""
           },
           "bgcolor": "#E5ECF6",
           "caxis": {
            "gridcolor": "white",
            "linecolor": "white",
            "ticks": ""
           }
          },
          "title": {
           "x": 0.05
          },
          "xaxis": {
           "automargin": true,
           "gridcolor": "white",
           "linecolor": "white",
           "ticks": "",
           "title": {
            "standoff": 15
           },
           "zerolinecolor": "white",
           "zerolinewidth": 2
          },
          "yaxis": {
           "automargin": true,
           "gridcolor": "white",
           "linecolor": "white",
           "ticks": "",
           "title": {
            "standoff": 15
           },
           "zerolinecolor": "white",
           "zerolinewidth": 2
          }
         }
        },
        "title": {
         "text": "Average Review Point and Review Frequency per Designation for Varieties with More Than 10 Reviews"
        },
        "xaxis": {
         "anchor": "y",
         "domain": [
          0,
          1
         ],
         "tickangle": -45,
         "title": {
          "text": "Designation"
         }
        },
        "yaxis": {
         "anchor": "x",
         "domain": [
          0,
          1
         ],
         "title": {
          "text": "Average Review Point"
         }
        }
       }
      }
     },
     "metadata": {},
     "output_type": "display_data"
    }
   ],
   "source": [
    "import pandas as pd\n",
    "import plotly.express as px\n",
    "\n",
    "# Calculate the frequency of reviews for each variety\n",
    "review_frequency = reviews['variety'].value_counts()\n",
    "\n",
    "# Filter out varieties with 10 or fewer reviews\n",
    "varieties_with_enough_reviews = review_frequency[review_frequency > 10].index\n",
    "\n",
    "# Filter the original DataFrame to include only those varieties\n",
    "filtered_reviews = reviews[reviews['variety'].isin(varieties_with_enough_reviews)]\n",
    "\n",
    "# Group the filtered data by variety and calculate the average review point\n",
    "average_review_point = filtered_reviews.groupby('variety')['points'].mean()\n",
    "\n",
    "# Sort the data in descending order of average review points\n",
    "average_review_point = average_review_point.sort_values(ascending=False)\n",
    "\n",
    "# Filter review_frequency to include only the selected varieties\n",
    "review_frequency = review_frequency[average_review_point.index]\n",
    "\n",
    "# Create a new DataFrame combining both metrics\n",
    "df = pd.DataFrame({\n",
    "    'Designation': average_review_point.index,\n",
    "    'AverageReviewPoint': average_review_point.values,\n",
    "    'ReviewFrequency': review_frequency.values  # Match order with average review points\n",
    "})\n",
    "\n",
    "# Create a Plotly Plot\n",
    "fig = px.bar(df, x='Designation', y='AverageReviewPoint',\n",
    "             color='AverageReviewPoint',\n",
    "             hover_data=['ReviewFrequency'],  # Display review frequency on hover\n",
    "             title='Average Review Point and Review Frequency per Designation for Varieties with More Than 10 Reviews',\n",
    "             labels={'AverageReviewPoint': 'Average Review Point', 'ReviewFrequency': 'Review Frequency'})\n",
    "\n",
    "fig.update_layout(xaxis_tickangle=-45)  # Rotate x-axis labels for better visibility\n",
    "fig.show()"
   ]
  },
  {
   "cell_type": "code",
   "execution_count": 66,
   "metadata": {},
   "outputs": [
    {
     "data": {
      "application/vnd.plotly.v1+json": {
       "config": {
        "plotlyServerURL": "https://plot.ly"
       },
       "data": [
        {
         "customdata": [
          [
           "US",
           "Pinot Noir",
           "Gresser"
          ],
          [
           "France",
           "Riesling",
           "Josmeyer"
          ],
          [
           "US",
           "Chardonnay",
           "Raphael"
          ],
          [
           "Argentina",
           "Malbec",
           "Sur de los Andes"
          ],
          [
           "Italy",
           "Glera",
           "Il Follo"
          ],
          [
           "US",
           "Cabernet Sauvignon",
           "Hogue"
          ],
          [
           "US",
           "Cabernet Sauvignon",
           "Martin Ray"
          ],
          [
           "US",
           "Zinfandel",
           "Three Angels"
          ],
          [
           "US",
           "Zinfandel",
           "Vigil"
          ],
          [
           "US",
           "Pinot Gris",
           "The Eyrie Vineyards"
          ],
          [
           "US",
           "Cabernet Sauvignon",
           "Seven Hills"
          ],
          [
           "US",
           "Cabernet Sauvignon",
           "Jordan"
          ],
          [
           "US",
           "Chardonnay",
           "Joullian"
          ],
          [
           "France",
           "Bordeaux-style White Blend",
           "Château Teyssier"
          ],
          [
           "Turkey",
           "Red Blend",
           "Suvla"
          ],
          [
           "France",
           "Chardonnay",
           "Henri de Villamont"
          ],
          [
           "US",
           "Cabernet Sauvignon",
           "Arrowood"
          ],
          [
           "US",
           "Bordeaux-style Red Blend",
           "Von Strasser"
          ],
          [
           "Australia",
           "Petit Verdot",
           "Ellen Landing"
          ],
          [
           "Italy",
           "Pinot Grigio",
           "Kellerei Kaltern Caldaro"
          ],
          [
           "Portugal",
           "Portuguese White",
           "Solar de Pinheiro"
          ],
          [
           "US",
           "Pinot Noir",
           "Lachini"
          ],
          [
           "Italy",
           "Sangiovese Grosso",
           "Gianni Brunelli"
          ],
          [
           "Australia",
           "Shiraz",
           "Domaine Terlato & Chapoutier"
          ],
          [
           "Chile",
           "Chardonnay",
           "MontGras"
          ],
          [
           "Italy",
           "Sangiovese Grosso",
           "Tassi"
          ],
          [
           "Italy",
           "Red Blend",
           "Ferrari Iris e Figli"
          ],
          [
           "South Africa",
           "Merlot-Shiraz",
           "Cederberg"
          ],
          [
           "Italy",
           "Turbiana",
           "Montonale"
          ],
          [
           "US",
           "Red Blend",
           "Coeur d'Alene"
          ],
          [
           "France",
           "Sauvignon Blanc",
           "Château de Tracy"
          ],
          [
           "US",
           "Rosé",
           "Hargrave"
          ],
          [
           "US",
           "Cabernet Sauvignon",
           "Silver Lake"
          ],
          [
           "US",
           "Red Blend",
           "William Church"
          ],
          [
           "Italy",
           "Corvina, Rondinella, Molinara",
           "San Rustico"
          ],
          [
           "Chile",
           "Merlot",
           "Portal Del Alto"
          ],
          [
           "South Africa",
           "Chardonnay",
           "Van Loveren"
          ],
          [
           "Italy",
           "Red Blend",
           "Il Poggione"
          ],
          [
           "US",
           "Pinot Noir",
           "Lemelson"
          ],
          [
           "France",
           "Chardonnay",
           "Louis Jadot"
          ],
          [
           "Italy",
           "Grignolino",
           "Quattro Leoni"
          ],
          [
           "US",
           "Cabernet Franc",
           "Easton"
          ],
          [
           "Spain",
           "White Blend",
           "Albet I Noya"
          ],
          [
           "US",
           "Pinot Gris",
           "Columbia Winery"
          ],
          [
           "Italy",
           "Vermentino",
           "Mesa"
          ],
          [
           "Spain",
           "Garnacha",
           "Borsao"
          ],
          [
           "Spain",
           "Sparkling Blend",
           "Marqués de Gelida"
          ],
          [
           "US",
           "Cabernet Franc",
           "Arger-Martucci"
          ],
          [
           "US",
           "Syrah",
           "Jason-Stephens"
          ],
          [
           "US",
           "Cabernet Sauvignon",
           "Palouse"
          ],
          [
           "US",
           "Pinot Noir",
           "Rutz"
          ],
          [
           "US",
           "Pinot Noir",
           "Lincourt"
          ],
          [
           "US",
           "Chardonnay",
           "Sonoma-Loeb"
          ],
          [
           "US",
           "Viognier",
           "Castle"
          ],
          [
           "US",
           "White Blend",
           "Anne Amie"
          ],
          [
           "US",
           "Chardonnay",
           "Kendall-Jackson"
          ],
          [
           "US",
           "Malbec",
           "Chateau St. Jean"
          ],
          [
           "New Zealand",
           "Sauvignon Blanc",
           "Kim Crawford"
          ],
          [
           "Spain",
           "Tempranillo",
           "Bodegas Qumrán"
          ],
          [
           "US",
           "Nebbiolo",
           "Stottle"
          ],
          [
           "US",
           "Cabernet Sauvignon",
           "Three Rivers"
          ],
          [
           "Italy",
           "Sangiovese",
           "Le Miccine"
          ],
          [
           "US",
           "Pinot Noir",
           "Vergari"
          ],
          [
           "New Zealand",
           "Pinot Noir",
           "Brancott"
          ],
          [
           "US",
           "Pinot Noir",
           "Claudia Springs"
          ],
          [
           "Spain",
           "Tempranillo",
           "Campo Viejo"
          ],
          [
           "US",
           "Sauvignon Blanc",
           "Easton"
          ],
          [
           "France",
           "Pinot Noir",
           "Bouchard Père & Fils"
          ],
          [
           "Spain",
           "Tempranillo",
           "Senorio de San Vincente"
          ],
          [
           "Portugal",
           "Portuguese Red",
           "Real Companhia Velha"
          ],
          [
           "US",
           "Riesling",
           "Nacina"
          ],
          [
           "Argentina",
           "Cabernet Sauvignon",
           "Viniterra"
          ],
          [
           "US",
           "Cabernet Sauvignon",
           "Titus"
          ],
          [
           "US",
           "Chardonnay",
           "Wellington"
          ],
          [
           "Italy",
           "Sangiovese Grosso",
           "Gianni Brunelli"
          ],
          [
           "US",
           "Pinot Noir",
           "Woodside"
          ],
          [
           "France",
           "Cabernet Franc",
           "Château de Minière"
          ],
          [
           "US",
           "Cabernet Sauvignon",
           "Tamarack Cellars"
          ],
          [
           "Italy",
           "Pinot Grigio",
           "Mezzacorona"
          ],
          [
           "Portugal",
           "Alicante Bouschet",
           "DFJ Vinhos"
          ],
          [
           "US",
           "Cabernet Sauvignon",
           "Martin Ray"
          ],
          [
           "US",
           "Bordeaux-style Red Blend",
           "Atalon"
          ],
          [
           "Australia",
           "Shiraz",
           "Hope Estate"
          ],
          [
           "US",
           "Mourvèdre",
           "Trio Vintners"
          ],
          [
           "France",
           "Rosé",
           "Chateau du Donjon"
          ],
          [
           "Portugal",
           "Touriga Nacional",
           "Churchill's"
          ],
          [
           "US",
           "Cabernet Sauvignon",
           "Venge"
          ],
          [
           "France",
           "Sauvignon Blanc",
           "Domaine Fouassier"
          ],
          [
           "Australia",
           "Rhône-style Red Blend",
           "Grant Burge"
          ],
          [
           "US",
           "Syrah",
           "Four Vines"
          ],
          [
           "US",
           "Pinot Noir",
           "Adelaida"
          ],
          [
           "US",
           "Sémillon",
           "JM Cellars"
          ],
          [
           "Italy",
           "Red Blend",
           "Tenuta San Giorgio"
          ],
          [
           "US",
           "Bordeaux-style Red Blend",
           "Upland Estates"
          ],
          [
           "France",
           "Chenin Blanc",
           "Clos de la Coulée de Serrant"
          ],
          [
           "Australia",
           "Sauvignon Blanc",
           "De Bortoli"
          ],
          [
           "US",
           "Cabernet Sauvignon",
           "Robert Craig"
          ],
          [
           "Israel",
           "Pinot Noir",
           "Galil Mountain"
          ],
          [
           "US",
           "Cabernet Sauvignon",
           "Municipal Winemakers"
          ],
          [
           "Chile",
           "Merlot",
           "Caliterra"
          ],
          [
           "US",
           "Cabernet Sauvignon",
           "Ben Hogan"
          ],
          [
           "US",
           "Merlot",
           "Stony Lonesome"
          ],
          [
           "Australia",
           "Shiraz",
           "Dutschke"
          ],
          [
           "Spain",
           "Mencía",
           "Avanthia"
          ],
          [
           "US",
           "Chardonnay",
           "Vine Cliff"
          ],
          [
           "Australia",
           "Cabernet Sauvignon",
           "Angus The Bull"
          ],
          [
           "US",
           "Zinfandel",
           "Pianetta"
          ],
          [
           "US",
           "Syrah",
           "Brander"
          ],
          [
           "Austria",
           "Pinot Noir",
           "Johanneshof Reinisch"
          ],
          [
           "Chile",
           "Cabernet Sauvignon-Syrah",
           "Viña Santacruz"
          ],
          [
           "Chile",
           "Syrah",
           "TerraNoble"
          ],
          [
           "Chile",
           "Malbec",
           "Concha y Toro"
          ],
          [
           "US",
           "Roussanne",
           "Writer's Block"
          ],
          [
           "Portugal",
           "Portuguese White",
           "Borges"
          ],
          [
           "US",
           "Red Blend",
           "Fair Hare"
          ],
          [
           "US",
           "Bordeaux-style Red Blend",
           "Betz Family"
          ],
          [
           "New Zealand",
           "Sauvignon Blanc",
           "Redcliffe"
          ],
          [
           "US",
           "Syrah",
           "Morgan"
          ],
          [
           "US",
           "Cabernet Sauvignon",
           "J. Lohr"
          ],
          [
           "US",
           "Pinot Noir",
           "Sonoma-Loeb"
          ],
          [
           "France",
           "Chenin Blanc",
           "Domaine des Baumard"
          ],
          [
           "US",
           "Chardonnay",
           "Fess Parker"
          ],
          [
           "France",
           "Pinot Blanc",
           "Pierre Sparr"
          ],
          [
           "Uruguay",
           "Red Blend",
           "Toscanini"
          ],
          [
           "Australia",
           "Chardonnay",
           "Jacob's Creek"
          ],
          [
           "France",
           "Rhône-style Red Blend",
           "Vignobles La Coterie"
          ],
          [
           "US",
           "Cabernet Sauvignon",
           "B Side"
          ],
          [
           "US",
           "Gewürztraminer",
           "Gordon Brothers"
          ],
          [
           "US",
           "Pinot Noir",
           "Iota Cellars"
          ],
          [
           "US",
           "Pinot Noir",
           "Acrobat"
          ],
          [
           "Italy",
           "Corvina, Rondinella, Molinara",
           "Remo Farina"
          ],
          [
           "US",
           "Chardonnay",
           "True Earth"
          ],
          [
           "US",
           "Pinot Gris",
           "La Rochelle"
          ],
          [
           "Argentina",
           "Torrontés",
           "Tukma"
          ],
          [
           "US",
           "Pinot Gris",
           "Château Bianca"
          ],
          [
           "US",
           "Pinot Noir",
           "Cultivé Cellars"
          ],
          [
           "France",
           "Chardonnay",
           "Domaine Jessiaume"
          ],
          [
           "Italy",
           "Sangiovese",
           "Vecchia Cantina di Montepulciano"
          ],
          [
           "Italy",
           "Sangiovese",
           "Capoverso"
          ],
          [
           "South Africa",
           "Chardonnay",
           "Morgenhof"
          ],
          [
           "France",
           "Chardonnay",
           "Château Vitallis"
          ],
          [
           "US",
           "Zinfandel",
           "Truett Hurst"
          ],
          [
           "Italy",
           "Rosé",
           "Feudo Antico"
          ],
          [
           "Argentina",
           "Malbec",
           "Andeluna"
          ],
          [
           "Chile",
           "Merlot",
           "Viña La Rosa"
          ],
          [
           "US",
           "Rosé",
           "Martin Ray"
          ],
          [
           "Spain",
           "Tempranillo",
           "Finca Torremilanos"
          ],
          [
           "US",
           "Red Blend",
           "Regan"
          ],
          [
           "Argentina",
           "Malbec",
           "Bodega Norton"
          ],
          [
           "US",
           "Chardonnay",
           "Edna Valley Vineyard"
          ],
          [
           "Chile",
           "Syrah",
           "Von Siebenthal"
          ],
          [
           "US",
           "Cabernet Sauvignon",
           "Bridlewood"
          ],
          [
           "France",
           "Rhône-style Red Blend",
           "VF"
          ],
          [
           "Spain",
           "Tempranillo",
           "El Coto"
          ],
          [
           "Argentina",
           "Malbec",
           "Lagarde"
          ],
          [
           "US",
           "Chardonnay",
           "Talley"
          ],
          [
           "US",
           "Cabernet Sauvignon",
           "Napa Cellars"
          ],
          [
           "Italy",
           "Sangiovese",
           "Camigliano"
          ],
          [
           "US",
           "Pinot Noir",
           "Zimri Cellars"
          ],
          [
           "Italy",
           "Sangiovese",
           "Poggio al Casone"
          ],
          [
           "US",
           "Syrah",
           "Bonterra"
          ],
          [
           "Austria",
           "Pinot Blanc",
           "Höpler"
          ],
          [
           "US",
           "Chardonnay",
           "Wente"
          ],
          [
           "Germany",
           "Riesling",
           "Richard Böcking"
          ],
          [
           "US",
           "Pinot Noir",
           "Marimar Estate"
          ],
          [
           "New Zealand",
           "Chardonnay",
           "Wairau River"
          ],
          [
           "France",
           "Sparkling Blend",
           "Château Rives-Blanques"
          ],
          [
           "France",
           "Bordeaux-style Red Blend",
           "Château de la Grave"
          ],
          [
           "France",
           "Rosé",
           "Château Grand Boise"
          ],
          [
           "France",
           "Riesling",
           "Gustave Lorentz"
          ],
          [
           "US",
           "Cabernet Sauvignon",
           "Whitehall Lane"
          ],
          [
           "Portugal",
           "Syrah",
           "Cortes de Cima"
          ],
          [
           "Austria",
           "Sauvignon Blanc",
           "Sattlerhof"
          ],
          [
           "New Zealand",
           "Chardonnay",
           "Goose Bay"
          ],
          [
           "US",
           "Cabernet Sauvignon",
           "Midsummer Cellars"
          ],
          [
           "New Zealand",
           "Pinot Gris",
           "Freefall"
          ],
          [
           "Italy",
           "Fiano",
           "Feudi di San Gregorio"
          ],
          [
           "Spain",
           "Tempranillo",
           "Señorio de Uñuela"
          ],
          [
           "New Zealand",
           "Merlot",
           "Sacred Hill"
          ],
          [
           "Spain",
           "Tempranillo Blend",
           "Viña Valoria"
          ],
          [
           "US",
           "Viognier",
           "Coeur d'Alene"
          ],
          [
           "US",
           "Red Blend",
           "Madrone Mountain"
          ],
          [
           "US",
           "Sparkling Blend",
           "Domaine Ste. Michelle"
          ],
          [
           "Chile",
           "Red Blend",
           "Emiliana"
          ],
          [
           "US",
           "Pinot Noir",
           "Goldeneye"
          ],
          [
           "Spain",
           "Tempranillo",
           "Sierra Cantabria"
          ],
          [
           "New Zealand",
           "Pinot Noir",
           "Woollaston"
          ],
          [
           "US",
           "Syrah",
           "Stolpman"
          ],
          [
           "Italy",
           "Sangiovese Grosso",
           "SassodiSole"
          ],
          [
           "Spain",
           "Tinto del Pais",
           "O. Fournier"
          ],
          [
           "France",
           "Chardonnay",
           "Domaine Faiveley"
          ],
          [
           "US",
           "Bordeaux-style Red Blend",
           "Arger-Martucci"
          ],
          [
           "Italy",
           "Sangiovese Grosso",
           "Il Paradiso di Frassina"
          ],
          [
           "Israel",
           "Merlot",
           "Carmel"
          ],
          [
           "France",
           "Sparkling Blend",
           "Louis Bouillot"
          ],
          [
           "New Zealand",
           "Pinot Gris",
           "Seifried"
          ],
          [
           "US",
           "Pinot Noir",
           "Patz & Hall"
          ],
          [
           "Italy",
           "Red Blend",
           "Ruffino"
          ],
          [
           "Spain",
           "Verdejo",
           "Emina"
          ],
          [
           "US",
           "Cabernet Sauvignon",
           "Kenwood"
          ],
          [
           "Spain",
           "Tempranillo Blend",
           "CVNE"
          ],
          [
           "US",
           "Chardonnay",
           "Orogeny"
          ],
          [
           "US",
           "Sauvignon Blanc",
           "Château Souverain"
          ],
          [
           "Portugal",
           "Port",
           "Royal Oporto"
          ],
          [
           "Spain",
           "Garnacha-Monastrell",
           "Atalaya"
          ],
          [
           "Austria",
           "White Blend",
           "Umathum"
          ],
          [
           "Argentina",
           "Red Blend",
           "Colomé"
          ],
          [
           "US",
           "Chardonnay",
           "Andretti"
          ],
          [
           "Germany",
           "Riesling",
           "Dr. H. Thanisch (Erben Müller-Burggraef)"
          ],
          [
           "US",
           "Petite Sirah",
           "Thurston Wolfe"
          ],
          [
           "Austria",
           "Pinot Gris",
           "Kracher"
          ],
          [
           "US",
           "Syrah",
           "Hess Select"
          ],
          [
           "Italy",
           "Red Blend",
           "Antinori"
          ],
          [
           "US",
           "Syrah",
           "Lynch"
          ],
          [
           "US",
           "Pinot Noir",
           "Talisman"
          ],
          [
           "US",
           "Red Blend",
           "JC Cellars"
          ],
          [
           "US",
           "Red Blend",
           "Dunham"
          ],
          [
           "US",
           "Sauvignon Blanc",
           "Edna Valley Vineyard"
          ],
          [
           "US",
           "Chardonnay",
           "Venge"
          ],
          [
           "Italy",
           "Corvina, Rondinella, Molinara",
           "Le Salette"
          ],
          [
           "France",
           "Rhône-style Red Blend",
           "Domaine Saint Antonin"
          ],
          [
           "US",
           "Chenin Blanc",
           "Ballentine"
          ],
          [
           "Chile",
           "Pinot Noir",
           "Indomita"
          ],
          [
           "Italy",
           "Pinot Bianco",
           "Tieffenbrunner"
          ],
          [
           "US",
           "Chardonnay",
           "Davis Family"
          ],
          [
           "New Zealand",
           "Sauvignon Blanc",
           "Matariki"
          ],
          [
           "US",
           "Chardonnay",
           "Sparkman"
          ],
          [
           "Australia",
           "Pinot Grigio",
           "De Bortoli"
          ],
          [
           "France",
           "Bordeaux-style Red Blend",
           "Château Chantelune"
          ],
          [
           "US",
           "Red Blend",
           "Ten Mile"
          ],
          [
           "US",
           "Sparkling Blend",
           "Schramsberg"
          ],
          [
           "Portugal",
           "Tinta Roriz",
           "Quinta de Ventozelo"
          ],
          [
           "Australia",
           "Cabernet Sauvignon",
           "Oxford Landing"
          ],
          [
           "Greece",
           "Agiorgitiko",
           "Boutari"
          ],
          [
           "US",
           "Cabernet Sauvignon",
           "Cameron Hughes"
          ],
          [
           "US",
           "Cabernet Sauvignon",
           "Bandit"
          ],
          [
           "Italy",
           "Corvina, Rondinella, Molinara",
           "Villa Spinosa"
          ],
          [
           "US",
           "Chardonnay",
           "Waterbrook"
          ],
          [
           "France",
           "Sauvignon Blanc",
           "Joseph Mellot"
          ],
          [
           "US",
           "Cabernet Sauvignon",
           "Ballentine"
          ],
          [
           "Italy",
           "Red Blend",
           "Tenuta Argentiera"
          ],
          [
           "Argentina",
           "Merlot",
           "Joffré e Hijas"
          ],
          [
           "US",
           "Pinot Noir",
           "La Luz"
          ],
          [
           "US",
           "Pinot Noir",
           "Pali"
          ],
          [
           "Spain",
           "Cabernet Sauvignon",
           "Bodegas y Viñedos Castiblanque"
          ],
          [
           "US",
           "Chardonnay",
           "Laird"
          ],
          [
           "New Zealand",
           "Pinot Gris",
           "Maude"
          ],
          [
           "US",
           "Merlot",
           "Barrister"
          ],
          [
           "Portugal",
           "Portuguese Red",
           "DFJ Vinhos"
          ],
          [
           "US",
           "Riesling",
           "Atwater"
          ],
          [
           "US",
           "Cabernet Sauvignon",
           "Duncan Peak"
          ],
          [
           "US",
           "Pinot Noir",
           "Luminous Hills"
          ],
          [
           "France",
           "Rhône-style Red Blend",
           "Les Domaines Auriol"
          ],
          [
           "Austria",
           "Pinot Noir",
           "Johanneshof Reinisch"
          ],
          [
           "Italy",
           "Red Blend",
           "La Doga"
          ],
          [
           "US",
           "Red Blend",
           "Daniel Gehrs"
          ],
          [
           "US",
           "Cabernet Sauvignon",
           "Emblem"
          ],
          [
           "US",
           "Meritage",
           "Troon"
          ],
          [
           "Australia",
           "Shiraz",
           "Thorny Devil"
          ],
          [
           "France",
           "Chardonnay",
           "Domaine Laroche"
          ],
          [
           "US",
           "Tempranillo",
           "Gundlach Bundschu"
          ],
          [
           "US",
           "Petite Verdot",
           "Wellington"
          ],
          [
           "US",
           "Chardonnay",
           "Hunnicutt"
          ],
          [
           "Greece",
           "Assyrtiko",
           "Santo Wines"
          ],
          [
           "Australia",
           "Chardonnay",
           "Bulletin Place"
          ],
          [
           "US",
           "Pinot Noir",
           "Williams Selyem"
          ],
          [
           "Australia",
           "Pinot Noir",
           "Giant Steps"
          ],
          [
           "Australia",
           "Sémillon",
           "De Bortoli"
          ],
          [
           "US",
           "Chardonnay",
           "Hanzell"
          ],
          [
           "Spain",
           "Red Blend",
           "Bodegas Pirineos"
          ],
          [
           "US",
           "Chardonnay",
           "Thomas Fogarty"
          ],
          [
           "US",
           "Syrah",
           "Charles Smith"
          ],
          [
           "US",
           "Zinfandel",
           "Rodney Strong"
          ],
          [
           "US",
           "Merlot",
           "Kendall-Jackson"
          ],
          [
           "Chile",
           "Carmenère",
           "Carmen"
          ],
          [
           "Argentina",
           "Malbec",
           "Casa Montes"
          ],
          [
           "US",
           "Merlot",
           "Geyser Peak"
          ],
          [
           "US",
           "Syrah",
           "Buena Vista"
          ],
          [
           "Portugal",
           "Castelão",
           "DFJ Vinhos"
          ],
          [
           "Argentina",
           "Cabernet Sauvignon",
           "Michel Torino"
          ],
          [
           "US",
           "Chardonnay",
           "Mount Eden"
          ],
          [
           "Australia",
           "Shiraz",
           "Kiss Chasey"
          ],
          [
           "US",
           "Zinfandel",
           "Lolonis"
          ],
          [
           "Italy",
           "Sangiovese",
           "Castello di Gabbiano"
          ],
          [
           "Italy",
           "Dolcetto",
           "Il Vino dei Padri"
          ],
          [
           "US",
           "Chardonnay",
           "Gary Farrell"
          ],
          [
           "Chile",
           "Pinot Noir",
           "Ritual"
          ],
          [
           "New Zealand",
           "Cabernet Sauvignon-Merlot",
           "Coopers Creek"
          ],
          [
           "US",
           "Riesling",
           "Fox Run"
          ],
          [
           "Germany",
           "Riesling",
           "Maximin Grünhäuser"
          ],
          [
           "France",
           "Bordeaux-style Red Blend",
           "Château de Braude"
          ],
          [
           "US",
           "Cabernet Sauvignon",
           "Summers"
          ],
          [
           "US",
           "Zinfandel",
           "Hobo"
          ],
          [
           "South Africa",
           "Viognier",
           "Fairview"
          ],
          [
           "US",
           "Chardonnay",
           "Tamber Bey"
          ],
          [
           "France",
           "Chardonnay",
           "Georges Duboeuf"
          ],
          [
           "Spain",
           "Tempranillo Blend",
           "Bodegas Olarra"
          ],
          [
           "US",
           "Cabernet Sauvignon",
           "Swanson"
          ],
          [
           "France",
           "Rosé",
           "Château Sainte Roseline"
          ],
          [
           "Chile",
           "Cabernet Sauvignon",
           "Color Block"
          ],
          [
           "US",
           "Pinot Noir",
           "Sonoma-Loeb"
          ],
          [
           "US",
           "Red Blend",
           "Red 7"
          ],
          [
           "Spain",
           "Chardonnay",
           "Raimat"
          ],
          [
           "US",
           "Bordeaux-style Red Blend",
           "Space Cowboy"
          ],
          [
           "US",
           "Cabernet-Syrah",
           "Efeste"
          ],
          [
           "New Zealand",
           "Sauvignon Blanc",
           "Mohua"
          ],
          [
           "Germany",
           "Riesling",
           "Grans-Fassian"
          ],
          [
           "US",
           "Syrah",
           "Hard Row To Hoe"
          ],
          [
           "South Africa",
           "Chenin Blanc",
           "Wildekrans"
          ],
          [
           "US",
           "Petite Sirah",
           "Lava Cap"
          ],
          [
           "US",
           "Zinfandel",
           "Sonoma Creek"
          ],
          [
           "US",
           "Sauvignon Blanc",
           "Charles Krug"
          ],
          [
           "US",
           "Cabernet Sauvignon",
           "Sebastiani"
          ],
          [
           "Italy",
           "Glera",
           "Villa Sandi"
          ],
          [
           "Israel",
           "Chardonnay",
           "Gamla"
          ],
          [
           "US",
           "Syrah",
           "Meyer Family Cellars"
          ],
          [
           "US",
           "Gewürztraminer",
           "Dowsett Family"
          ],
          [
           "US",
           "Syrah",
           "Wrath"
          ],
          [
           "US",
           "Sauvignon Blanc",
           "Oak Grove"
          ],
          [
           "US",
           "Tempranillo",
           "Bray"
          ],
          [
           "US",
           "Cabernet Sauvignon",
           "Abeja"
          ],
          [
           "France",
           "Chardonnay",
           "Bouchard Père & Fils"
          ],
          [
           "US",
           "Pinot Noir",
           "Redhawk"
          ],
          [
           "Australia",
           "Pinot Noir",
           "Kooyong"
          ],
          [
           "Germany",
           "Riesling",
           "Reichsgraf von Kesselstatt"
          ],
          [
           "US",
           "Cabernet Sauvignon",
           "Trinchero"
          ],
          [
           "Italy",
           "Red Blend",
           "Poggio Verrano"
          ],
          [
           "US",
           "Syrah",
           "Soleau"
          ],
          [
           "Spain",
           "Macabeo",
           "La Purísima"
          ],
          [
           "US",
           "Chardonnay",
           "Bianchi"
          ],
          [
           "US",
           "Red Blend",
           "Saturday Night Red"
          ],
          [
           "US",
           "Sauvignon Blanc",
           "Clos du Bois"
          ],
          [
           "US",
           "Zinfandel",
           "Pietra Santa"
          ],
          [
           "US",
           "Cabernet Sauvignon",
           "Far Niente"
          ],
          [
           "US",
           "Cabernet Sauvignon",
           "Austin Robaire"
          ],
          [
           "Spain",
           "Verdejo",
           "Solar de la Vega"
          ],
          [
           "US",
           "Merlot",
           "Keenan"
          ],
          [
           "US",
           "Rhône-style Red Blend",
           "Epoch Estate Wines"
          ],
          [
           "Italy",
           "Sparkling Blend",
           "Ca' del Bosco"
          ],
          [
           "US",
           "Malbec",
           "Milbrandt"
          ],
          [
           "Bulgaria",
           "Merlot",
           "Vini"
          ],
          [
           "US",
           "Sangiovese",
           "Pedroncelli"
          ],
          [
           "US",
           "Gewürztraminer",
           "Vinum Cellars"
          ],
          [
           "US",
           "Pinot Noir",
           "Pali"
          ],
          [
           "US",
           "Zinfandel",
           "Hobo"
          ],
          [
           "France",
           "Rosé",
           "Château d'Esclans"
          ],
          [
           "Italy",
           "Dolcetto",
           "Paolo Manzone"
          ],
          [
           "US",
           "Zinfandel",
           "Newsome-Harlow"
          ],
          [
           "Italy",
           "Catarratto",
           "Castellucci Miano"
          ],
          [
           "US",
           "Chardonnay",
           "Wente"
          ],
          [
           "France",
           "Chardonnay",
           "Domaine Leflaive"
          ],
          [
           "Italy",
           "Barbera",
           "Cascina Chicco"
          ],
          [
           "Greece",
           "Agiorgitiko",
           "Mediterra"
          ],
          [
           "US",
           "Petite Sirah",
           "Peirano"
          ],
          [
           "Chile",
           "Chardonnay",
           "De Martino"
          ],
          [
           "US",
           "Pinot Noir",
           "Baxter"
          ],
          [
           "Austria",
           "Grauburgunder",
           "Winkler-Hermaden"
          ],
          [
           "US",
           "Chardonnay",
           "Anam Cara"
          ],
          [
           "Australia",
           "Chardonnay",
           "Green Point"
          ],
          [
           "France",
           "Pinot Gris",
           "Gustave Lorentz"
          ],
          [
           "Argentina",
           "Cabernet Sauvignon",
           "Doña Paula"
          ],
          [
           "US",
           "Cabernet Sauvignon",
           "Circles Edge"
          ],
          [
           "Italy",
           "Red Blend",
           "Donnafugata"
          ],
          [
           "US",
           "Grenache",
           "Minassian-Young"
          ],
          [
           "Italy",
           "Friulano",
           "Lis Neris"
          ],
          [
           "US",
           "Pinot Noir",
           "The Four Graces"
          ],
          [
           "US",
           "Chardonnay",
           "Dahlia"
          ],
          [
           "US",
           "Pinot Noir",
           "Peacock Cellars"
          ],
          [
           "Chile",
           "Sauvignon Blanc",
           "Arboleda"
          ],
          [
           "US",
           "Sangiovese",
           "Waterbrook"
          ],
          [
           "Spain",
           "Sparkling Blend",
           "Castellblanch"
          ],
          [
           "US",
           "Syrah",
           "Zaca Mesa"
          ],
          [
           "Argentina",
           "Red Blend",
           "2 Copas"
          ],
          [
           "US",
           "Cabernet Sauvignon",
           "Joseph Phelps"
          ],
          [
           "US",
           "Pinot Noir",
           "Willamette Valley Vineyards"
          ],
          [
           "Italy",
           "Alicante",
           "Fattoria Mantellassi"
          ],
          [
           "Italy",
           "Nebbiolo",
           "Rivetti Massimo"
          ],
          [
           "Italy",
           "Red Blend",
           "Tenuta del Buonamico"
          ],
          [
           "US",
           "Zinfandel",
           "Four Vines"
          ],
          [
           "Italy",
           "Merlot",
           "Máté"
          ],
          [
           "US",
           "Chardonnay",
           "Stonecap"
          ],
          [
           "France",
           "White Blend",
           "Addict Wines"
          ],
          [
           "US",
           "Petite Sirah",
           "Aaron"
          ],
          [
           "Italy",
           "Barbera",
           "Pecchenino"
          ],
          [
           "US",
           "Petit Verdot",
           "Rasa"
          ],
          [
           "France",
           "Tannat",
           "Château Peyros"
          ],
          [
           "Italy",
           "Sangiovese",
           "Fattoria di Petrognano"
          ],
          [
           "US",
           "Sauvignon Blanc",
           "Flying Horse"
          ],
          [
           "Portugal",
           "Port",
           "Osborne"
          ],
          [
           "France",
           "Red Blend",
           "Château Margüi"
          ],
          [
           "New Zealand",
           "Sauvignon Blanc",
           "Dashwood"
          ],
          [
           "France",
           "Bordeaux-style White Blend",
           "Château Roquetaillade la Grange"
          ],
          [
           "Spain",
           "Tempranillo",
           "Felix Callejo"
          ],
          [
           "Greece",
           "White Blend",
           "Dougos"
          ],
          [
           "France",
           "Champagne Blend",
           "Montaudon"
          ],
          [
           "Portugal",
           "Port",
           "Churchill's"
          ],
          [
           "Chile",
           "Cabernet Sauvignon-Carmenère",
           "Cono Sur"
          ],
          [
           "US",
           "Pinot Noir",
           "Marimar Estate"
          ],
          [
           "Italy",
           "Garganega",
           "Coffele"
          ],
          [
           "US",
           "White Blend",
           "Davenport Cellars"
          ],
          [
           "France",
           "Pinot Noir",
           "Louis Latour"
          ],
          [
           "US",
           "Cabernet Sauvignon",
           "Zero One Vintners"
          ],
          [
           "US",
           "Pinot Noir",
           "MacPhail"
          ],
          [
           "Spain",
           "Tempranillo",
           "Bodegas Martinez Corta"
          ],
          [
           "New Zealand",
           "Riesling",
           "Allan Scott"
          ],
          [
           "South Africa",
           "Chardonnay",
           "Rustenberg"
          ],
          [
           "Portugal",
           "Loureiro",
           "Quinta do Ameal"
          ],
          [
           "US",
           "Chardonnay",
           "Adelsheim"
          ],
          [
           "US",
           "Chardonnay",
           "M. Cosentino"
          ],
          [
           "US",
           "Riesling",
           "Kendall-Jackson"
          ],
          [
           "Greece",
           "Rosé",
           "Wine Art Estate"
          ],
          [
           "France",
           "Chardonnay",
           "Pommery"
          ],
          [
           "US",
           "Merlot",
           "X"
          ],
          [
           "US",
           "Sparkling Blend",
           "Iron Horse"
          ],
          [
           "US",
           "Rhône-style Red Blend",
           "Terre Rouge"
          ],
          [
           "US",
           "Viognier",
           "Freemark Abbey"
          ],
          [
           "France",
           "Bordeaux-style Red Blend",
           "Château Ducru Beaucaillou"
          ],
          [
           "US",
           "White Blend",
           "Beringer"
          ],
          [
           "US",
           "Chardonnay",
           "Foley"
          ],
          [
           "France",
           "Red Blend",
           "Producteurs Plaimont"
          ],
          [
           "Italy",
           "Rosato",
           "Miali"
          ],
          [
           "Italy",
           "Syrah",
           "Cusumano"
          ],
          [
           "Spain",
           "Tempranillo",
           "Volteo"
          ],
          [
           "Portugal",
           "Portuguese Red",
           "Caves Aliança"
          ],
          [
           "US",
           "Pinot Noir",
           "La Crema"
          ],
          [
           "US",
           "Cabernet Sauvignon",
           "Sylvester"
          ],
          [
           "Italy",
           "Red Blend",
           "Marchesi Torrigiani"
          ],
          [
           "Italy",
           "Garganega",
           "Fattori"
          ],
          [
           "US",
           "Rosé",
           "Lullaby"
          ],
          [
           "France",
           "Pinot Noir",
           "Michel Picard"
          ],
          [
           "US",
           "Merlot",
           "Maddalena"
          ],
          [
           "Italy",
           "Dolcetto",
           "Poderi Luigi Einaudi"
          ],
          [
           "US",
           "Zinfandel",
           "Chatom"
          ],
          [
           "US",
           "Cabernet Sauvignon",
           "Cass"
          ],
          [
           "US",
           "Pinot Noir",
           "Tousey"
          ],
          [
           "Chile",
           "Sauvignon Blanc",
           "Leyda"
          ],
          [
           "Portugal",
           "Portuguese White",
           "J. Portugal Ramos"
          ],
          [
           "US",
           "Zinfandel",
           "Phipps"
          ],
          [
           "Israel",
           "Sauvignon Blanc",
           "Yatir"
          ],
          [
           "Australia",
           "Pinot Grigio",
           "Climbing"
          ],
          [
           "New Zealand",
           "Chardonnay",
           "Spy Valley"
          ],
          [
           "France",
           "Bordeaux-style Red Blend",
           "Château Grand Jean"
          ],
          [
           "France",
           "Gewürztraminer",
           "Hugel"
          ],
          [
           "US",
           "Red Blend",
           "Bogle"
          ],
          [
           "Romania",
           "Sauvignon Blanc",
           "VinArte"
          ],
          [
           "Italy",
           "White Blend",
           "Guerra Albano"
          ],
          [
           "US",
           "Zinfandel",
           "Bin 36"
          ],
          [
           "Italy",
           "Sangiovese",
           "Toscolo"
          ],
          [
           "France",
           "Chardonnay",
           "Jacques Charlet"
          ],
          [
           "Italy",
           "Pinot Grigio",
           "Tramin"
          ],
          [
           "US",
           "Zinfandel",
           "Napoma"
          ],
          [
           "US",
           "Chardonnay",
           "Edna Valley Vineyard"
          ],
          [
           "Italy",
           "Aglianico",
           "I Capitani"
          ],
          [
           "US",
           "Grenache",
           "Casa Dumetz"
          ],
          [
           "Italy",
           "Sangiovese",
           "Fornacina"
          ],
          [
           "US",
           "Sangiovese",
           "Venge"
          ],
          [
           "Italy",
           "Garganega",
           "Fattori"
          ],
          [
           "France",
           "Riesling",
           "Domaine Sipp-Mack"
          ],
          [
           "Spain",
           "White Blend",
           "Inspiración Pampano"
          ],
          [
           "Germany",
           "Spätburgunder",
           "A. Christmann"
          ],
          [
           "France",
           "Syrah",
           "Michel & Stéphane Ogier"
          ],
          [
           "US",
           "Riesling",
           "Fox Run"
          ],
          [
           "France",
           "Red Blend",
           "Domaine Berthoumieu"
          ],
          [
           "France",
           "Rhône-style Red Blend",
           "Perrin & Fils"
          ],
          [
           "Turkey",
           "Merlot",
           "Selendi"
          ],
          [
           "US",
           "Zinfandel",
           "Fetzer"
          ],
          [
           "Italy",
           "Sangiovese Grosso",
           "Verbena"
          ],
          [
           "Australia",
           "Shiraz",
           "Kilikanoon"
          ],
          [
           "US",
           "Cabernet Franc",
           "Sequoia Grove"
          ],
          [
           "US",
           "Chardonnay",
           "Gainey"
          ],
          [
           "US",
           "Sauvignon Blanc",
           "Schug"
          ],
          [
           "Austria",
           "Grüner Veltliner",
           "Bründlmayer"
          ],
          [
           "US",
           "Zinfandel",
           "Ancient Peaks"
          ],
          [
           "US",
           "Nebbiolo",
           "Martin & Weyrich"
          ],
          [
           "US",
           "Zinfandel",
           "Kunde"
          ],
          [
           "Italy",
           "White Blend",
           "Tenuta di Burchino"
          ],
          [
           "US",
           "Chardonnay",
           "Vinum Cellars"
          ],
          [
           "US",
           "Syrah",
           "Castoro Cellars"
          ],
          [
           "Italy",
           "Red Blend",
           "San Fabiano Calcinaia"
          ],
          [
           "Argentina",
           "Malbec",
           "Bodega Renacer"
          ],
          [
           "Australia",
           "Chardonnay",
           "Jacob's Creek"
          ],
          [
           "Moldova",
           "Merlot",
           "Bostavan"
          ],
          [
           "US",
           "Red Blend",
           "Coelho"
          ],
          [
           "US",
           "Pinot Noir",
           "Verve"
          ],
          [
           "US",
           "Merlot",
           "Chateau Ste. Michelle"
          ],
          [
           "Germany",
           "Riesling",
           "Fritz Haag"
          ],
          [
           "France",
           "Gamay",
           "Lucien Lardy"
          ],
          [
           "Germany",
           "Rosé",
           "Gaul"
          ],
          [
           "US",
           "Pinot Noir",
           "Three Saints"
          ],
          [
           "Italy",
           "Sangiovese",
           "Valdicava"
          ],
          [
           "Germany",
           "Riesling",
           "Dr. Volkmar"
          ],
          [
           "US",
           "Cabernet Sauvignon",
           "Gamache"
          ],
          [
           "US",
           "Petite Sirah",
           "Jewel"
          ],
          [
           "US",
           "Rhône-style Red Blend",
           "Page Springs"
          ],
          [
           "France",
           "Pinot Noir",
           "Alphonse Mellot"
          ],
          [
           "Italy",
           "Nero d'Avola",
           "Sikelia"
          ],
          [
           "US",
           "Pinot Noir",
           "Williams Selyem"
          ],
          [
           "Israel",
           "Bordeaux-style Red Blend",
           "Domaine du Castel"
          ],
          [
           "Chile",
           "Rosé",
           "Tamaya"
          ],
          [
           "Italy",
           "Rosé",
           "Masi"
          ],
          [
           "Italy",
           "Barbera",
           "Tenuta Rocca"
          ],
          [
           "Austria",
           "Red Blend",
           "Johann Heinrich"
          ],
          [
           "US",
           "Chardonnay",
           "Kessler-Haak"
          ],
          [
           "Portugal",
           "Portuguese Red",
           "Quinta do Crasto"
          ],
          [
           "Georgia",
           "Saperavi",
           "Telavi"
          ],
          [
           "US",
           "Pinot Noir",
           "Armida"
          ],
          [
           "US",
           "Pinot Noir",
           "Alta Maria"
          ],
          [
           "US",
           "Pinot Noir",
           "Dahlia"
          ],
          [
           "US",
           "Mourvèdre",
           "Garretson"
          ],
          [
           "US",
           "White Blend",
           "Huston"
          ],
          [
           "US",
           "Cabernet Sauvignon",
           "Nordby"
          ],
          [
           "Germany",
           "Riesling",
           "Schloss Johannisberger"
          ],
          [
           "Spain",
           "Tinta de Toro",
           "Pictor"
          ],
          [
           "US",
           "Cabernet Sauvignon",
           "Seven Hills"
          ],
          [
           "US",
           "Syrah",
           "Muscardini"
          ],
          [
           "Italy",
           "Sangiovese",
           "Castelli del Grevepesa"
          ],
          [
           "Romania",
           "Chardonnay",
           "Prahova Valley"
          ],
          [
           "US",
           "Chardonnay",
           "Dry Creek Vineyard"
          ],
          [
           "Argentina",
           "Malbec-Cabernet Sauvignon",
           "DiamAndes"
          ],
          [
           "New Zealand",
           "Sauvignon Blanc",
           "Te Awa Farm"
          ],
          [
           "Germany",
           "Silvaner",
           "Wirsching"
          ],
          [
           "South Africa",
           "White Blend",
           "Haute Cabrière"
          ],
          [
           "US",
           "Riesling",
           "Blue Teal"
          ],
          [
           "France",
           "Chardonnay",
           "Simonnet-Febvre"
          ],
          [
           "Italy",
           "Sagrantino",
           "Còlpetrone"
          ],
          [
           "Greece",
           "Sauvignon Blanc",
           "Domaine Costa Lazaridi"
          ],
          [
           "New Zealand",
           "Sauvignon Blanc",
           "Zeal"
          ],
          [
           "Australia",
           "Chardonnay",
           "Hope Estate"
          ],
          [
           "US",
           "Semillon-Sauvignon Blanc",
           "Murrieta's Well"
          ],
          [
           "US",
           "Shiraz",
           "Babcock"
          ],
          [
           "Italy",
           "Corvina, Rondinella, Molinara",
           "Villa Monteleone"
          ],
          [
           "Argentina",
           "Malbec",
           "Nieto Senetiner"
          ],
          [
           "US",
           "Riesling",
           "Dr. Konstantin Frank"
          ],
          [
           "US",
           "Merlot",
           "Turnbull"
          ],
          [
           "Italy",
           "Prosecco",
           "Montesel Renzo"
          ],
          [
           "South Africa",
           "Sauvignon Blanc",
           "Porcupine Ridge"
          ],
          [
           "US",
           "Chardonnay",
           "Donkey & Goat"
          ],
          [
           "US",
           "Port",
           "Robert Hall"
          ],
          [
           "Italy",
           "Sangiovese Grosso",
           "Tenuta San Giorgio"
          ],
          [
           "Chile",
           "Cabernet Sauvignon",
           "La Playa"
          ],
          [
           "Portugal",
           "Port",
           "Offley"
          ],
          [
           "US",
           "Sauvignon Blanc",
           "White Oak"
          ],
          [
           "US",
           "Tempranillo",
           "Six Sigma Ranch"
          ],
          [
           "Spain",
           "Tempranillo",
           "Valdubón"
          ],
          [
           "Spain",
           "Tempranillo",
           "Peña Roble"
          ],
          [
           "US",
           "Pinot Blanc",
           "Dutton-Goldfield"
          ],
          [
           "Australia",
           "Bordeaux-style Red Blend",
           "Giant Steps"
          ],
          [
           "Italy",
           "Corvina, Rondinella, Molinara",
           "Ca' Rugate"
          ],
          [
           "France",
           "Rhône-style Red Blend",
           "Château St. Roch de Laurens"
          ],
          [
           "US",
           "Grenache",
           "Crux"
          ],
          [
           "Italy",
           "Nebbiolo",
           "Luciano Sandrone"
          ],
          [
           "New Zealand",
           "Chardonnay",
           "Matua Valley"
          ],
          [
           "Spain",
           "Tempranillo",
           "J. Garcia Carrion"
          ],
          [
           "US",
           "Pinot Noir",
           "Goldeneye"
          ],
          [
           "US",
           "Pinot Noir",
           "Talley"
          ],
          [
           "Germany",
           "Riesling",
           "Hans Wirsching"
          ],
          [
           "Chile",
           "Carmenère",
           "Aresti"
          ],
          [
           "US",
           "Cabernet Sauvignon",
           "Glencorrie"
          ],
          [
           "US",
           "Chardonnay",
           "Chateau Ste. Michelle"
          ],
          [
           "Italy",
           "Sangiovese Grosso",
           "Canneta"
          ],
          [
           "US",
           "Pinot Noir",
           "Irony"
          ],
          [
           "US",
           "Zinfandel",
           "Peachy Canyon"
          ],
          [
           "US",
           "Cabernet Sauvignon",
           "Paul Dolan"
          ],
          [
           "US",
           "Sauvignon Blanc",
           "Lail"
          ],
          [
           "US",
           "Bordeaux-style White Blend",
           "Cloudlift Cellars"
          ],
          [
           "Portugal",
           "Port",
           "Poças"
          ],
          [
           "US",
           "Red Blend",
           "Crane Brothers"
          ],
          [
           "Portugal",
           "Portuguese White",
           "Quinta da Lagoalva de Cima"
          ],
          [
           "US",
           "Red Blend",
           "The Big Red Monster"
          ],
          [
           "US",
           "Cabernet Sauvignon",
           "Acronym"
          ],
          [
           "US",
           "Syrah",
           "Zaca Mesa"
          ],
          [
           "Italy",
           "Red Blend",
           "Le Fonti"
          ],
          [
           "US",
           "Syrah",
           "Ty Caton"
          ],
          [
           "US",
           "Chardonnay",
           "Wrights Station"
          ],
          [
           "Italy",
           "Nebbiolo",
           "Tenuta Rocca"
          ],
          [
           "Israel",
           "Chardonnay",
           "Carmel"
          ],
          [
           "US",
           "Bordeaux-style Red Blend",
           "Conn Creek"
          ],
          [
           "US",
           "Chardonnay",
           "St. Francis"
          ],
          [
           "Mexico",
           "Cabernet Sauvignon",
           "Emevé"
          ],
          [
           "US",
           "Grenache",
           "Betz Family"
          ],
          [
           "Spain",
           "Tempranillo",
           "Valdubón"
          ],
          [
           "France",
           "Malbec",
           "Jean-Luc Baldès"
          ],
          [
           "US",
           "Chardonnay",
           "Dr. Konstantin Frank"
          ],
          [
           "Spain",
           "Garnacha",
           "Pagos Familia Langa"
          ],
          [
           "Chile",
           "Syrah",
           "Maycas del Limari"
          ],
          [
           "Italy",
           "Nero di Troia",
           "Alberto Longo"
          ],
          [
           "Portugal",
           "Port",
           "Rozes"
          ],
          [
           "Portugal",
           "Gewürztraminer-Riesling",
           "Quinta da Lagoalva de Cima"
          ],
          [
           "France",
           "Rhône-style Red Blend",
           "Château de la Liquiere"
          ],
          [
           "US",
           "Zinfandel",
           "Elyse"
          ],
          [
           "France",
           "Bordeaux-style Red Blend",
           "Château Grand-Maison"
          ],
          [
           "Mexico",
           "Grenache",
           "Tres Valles"
          ],
          [
           "US",
           "Chardonnay",
           "Sarah's Vineyard"
          ],
          [
           "France",
           "Gewürztraminer",
           "Cave de Ribeauvillé"
          ],
          [
           "France",
           "Bordeaux-style Red Blend",
           "Château les Ormes de Pez"
          ],
          [
           "US",
           "Cabernet Sauvignon",
           "Midnight"
          ],
          [
           "Italy",
           "Red Blend",
           "Podere Sapaio"
          ],
          [
           "Italy",
           "Sangiovese",
           "Lornano"
          ],
          [
           "Italy",
           "Friulano",
           "Cantarutti"
          ],
          [
           "US",
           "Sparkling Blend",
           "Schramsberg"
          ],
          [
           "US",
           "Red Blend",
           "Kana"
          ],
          [
           "New Zealand",
           "Chardonnay",
           "Hatton Estate"
          ],
          [
           "US",
           "Zinfandel",
           "Collier Falls"
          ],
          [
           "Spain",
           "Tempranillo",
           "Marqués de Terán"
          ],
          [
           "US",
           "Merlot",
           "Mannina Cellars"
          ],
          [
           "South Africa",
           "Chenin Blanc",
           "Post House"
          ],
          [
           "Argentina",
           "Malbec",
           "Trapiche"
          ],
          [
           "US",
           "Sauvignon Blanc",
           "Provenance Vineyards"
          ],
          [
           "Italy",
           "Greco",
           "Mastroberardino"
          ],
          [
           "France",
           "Rhône-style Red Blend",
           "Brotte"
          ],
          [
           "South Africa",
           "Cabernet Sauvignon",
           "Thelema"
          ],
          [
           "US",
           "Cabernet Sauvignon",
           "McManis"
          ],
          [
           "US",
           "Riesling",
           "Hyland"
          ],
          [
           "Italy",
           "Aglianico",
           "Basilisco"
          ],
          [
           "US",
           "Syrah",
           "Tsillan"
          ],
          [
           "US",
           "Cabernet Sauvignon",
           "Raymond"
          ],
          [
           "US",
           "Cabernet Franc",
           "Vermeil"
          ],
          [
           "US",
           "Chardonnay",
           "Talbott"
          ],
          [
           "US",
           "Cabernet Sauvignon",
           "The Magpie"
          ],
          [
           "Austria",
           "Red Blend",
           "Nittnaus Hans und Christine"
          ],
          [
           "US",
           "Pinot Noir",
           "Scott Family"
          ],
          [
           "US",
           "Cabernet Sauvignon",
           "Channing Perrine"
          ],
          [
           "France",
           "Bordeaux-style Red Blend",
           "Château Lestage Simon"
          ],
          [
           "US",
           "Verdelho",
           "Lee Family Farm"
          ],
          [
           "US",
           "Chardonnay",
           "Beaulieu Vineyard"
          ],
          [
           "US",
           "Chardonnay",
           "Kendall-Jackson"
          ],
          [
           "New Zealand",
           "Sauvignon Blanc",
           "Red Hill (NZ)"
          ],
          [
           "US",
           "Sauvignon Blanc",
           "Buttonwood Farm"
          ],
          [
           "US",
           "White Blend",
           "Borra"
          ],
          [
           "Australia",
           "Riesling",
           "Leasingham"
          ],
          [
           "Spain",
           "Tempranillo",
           "Matarromera"
          ],
          [
           "Italy",
           "Sangiovese",
           "Tenimenti Angelini"
          ],
          [
           "Spain",
           "Garnacha",
           "Castillo de Monséran"
          ],
          [
           "US",
           "Gewürztraminer",
           "De Loach"
          ],
          [
           "France",
           "Rhône-style Red Blend",
           "Domaine Saint Andéol"
          ],
          [
           "South Africa",
           "Sauvignon Blanc",
           "Simonsig"
          ],
          [
           "US",
           "Zinfandel",
           "Amador Foothill Winery"
          ],
          [
           "US",
           "Red Blend",
           "Columbia Crest"
          ],
          [
           "US",
           "Pinot Noir",
           "Diora"
          ],
          [
           "Germany",
           "Riesling",
           "Gräflich von Hohenthal'Scher"
          ],
          [
           "France",
           "Sauvignon Blanc",
           "Joseph Mellot"
          ],
          [
           "Argentina",
           "Bonarda",
           "La Posta"
          ],
          [
           "France",
           "Bordeaux-style Red Blend",
           "Château Bélingard"
          ],
          [
           "US",
           "Pinot Noir",
           "Clos Pegase"
          ],
          [
           "Portugal",
           "Portuguese White",
           "Monte da Penha"
          ],
          [
           "US",
           "Pinot Noir",
           "Loring Wine Company"
          ],
          [
           "US",
           "Cabernet Sauvignon",
           "Hawk and Horse Vineyards"
          ],
          [
           "US",
           "Sauvignon Blanc",
           "Spring Mountain Vineyard"
          ],
          [
           "Argentina",
           "Sauvignon Blanc",
           "Hat in the Ring"
          ],
          [
           "US",
           "Syrah",
           "Hug"
          ],
          [
           "US",
           "Chardonnay",
           "Donati"
          ],
          [
           "US",
           "Syrah",
           "Sanguis"
          ],
          [
           "France",
           "Sauvignon Blanc",
           "Michel Redde et Fils"
          ],
          [
           "US",
           "Pinot Noir",
           "Calera"
          ],
          [
           "Italy",
           "Sangiovese Grosso",
           "Donatella Cinelli Colombini"
          ],
          [
           "US",
           "Red Blend",
           "Spring Valley Vineyard"
          ],
          [
           "US",
           "Primitivo",
           "Rosa d'Oro"
          ],
          [
           "US",
           "Sauvignon Blanc",
           "Selene"
          ],
          [
           "US",
           "Syrah",
           "Brander"
          ],
          [
           "Spain",
           "Tempranillo-Garnacha",
           "Bodegas Navarro López"
          ],
          [
           "France",
           "Gewürztraminer",
           "Domaine Zinck"
          ],
          [
           "US",
           "Pinot Gris",
           "Gård"
          ],
          [
           "US",
           "Cabernet Sauvignon",
           "Kunde"
          ],
          [
           "Argentina",
           "Chenin Blanc-Chardonnay",
           "Aconga"
          ],
          [
           "France",
           "Pinot Noir",
           "Jaffelin"
          ],
          [
           "US",
           "Zinfandel",
           "Wilson"
          ],
          [
           "US",
           "Cabernet Sauvignon",
           "San Simeon"
          ],
          [
           "Italy",
           "Chardonnay",
           "Cambria"
          ],
          [
           "Spain",
           "Sparkling Blend",
           "Paul Cheneau"
          ],
          [
           "US",
           "Zinfandel",
           "Candor"
          ],
          [
           "Italy",
           "Sangiovese Grosso",
           "Piccini"
          ],
          [
           "Italy",
           "Sangiovese",
           "Vicchiomaggio"
          ],
          [
           "US",
           "Sparkling Blend",
           "Mumm Napa"
          ],
          [
           "US",
           "Chardonnay",
           "Failla"
          ],
          [
           "US",
           "Chardonnay",
           "Rancho Sisquoc"
          ],
          [
           "Italy",
           "Red Blend",
           "Paniole"
          ],
          [
           "Italy",
           "Sangiovese Grosso",
           "Poggio Nardone"
          ],
          [
           "US",
           "Sauvignon Blanc",
           "Illumination"
          ],
          [
           "US",
           "Pinot Noir",
           "X"
          ],
          [
           "US",
           "Zinfandel",
           "St. Francis"
          ],
          [
           "US",
           "Red Blend",
           "American Roots"
          ],
          [
           "New Zealand",
           "Pinot Noir",
           "Mt. Difficulty"
          ],
          [
           "Argentina",
           "Malbec",
           "Luigi Bosca"
          ],
          [
           "US",
           "Riesling",
           "San Juan Vineyards"
          ],
          [
           "New Zealand",
           "Pinot Noir",
           "Sileni"
          ],
          [
           "Argentina",
           "Malbec",
           "Casa Montes"
          ],
          [
           "US",
           "Cabernet Sauvignon",
           "Martin Ray"
          ],
          [
           "Italy",
           "Red Blend",
           "Velenosi"
          ],
          [
           "Italy",
           "Garganega",
           "Pieropan"
          ],
          [
           "US",
           "Syrah",
           "Rusack"
          ],
          [
           "US",
           "Cabernet Sauvignon",
           "Cameron Hughes"
          ],
          [
           "Australia",
           "Shiraz",
           "Hope Estate"
          ],
          [
           "France",
           "Bordeaux-style Red Blend",
           "Château Siran"
          ],
          [
           "Spain",
           "Tempranillo",
           "Finca Vieja"
          ],
          [
           "France",
           "Chardonnay",
           "Joseph Drouhin"
          ],
          [
           "Italy",
           "Pinot Grigio",
           "Foffani"
          ],
          [
           "France",
           "Bordeaux-style Red Blend",
           "Château Valandraud"
          ],
          [
           "Italy",
           "Vernaccia",
           "Guicciardini Strozzi"
          ],
          [
           "Italy",
           "White Blend",
           "Capezzana"
          ],
          [
           "US",
           "Pinot Noir",
           "Drew"
          ],
          [
           "New Zealand",
           "Riesling",
           "Omaka Springs"
          ],
          [
           "Chile",
           "Syrah",
           "San Elias"
          ],
          [
           "US",
           "Pinot Noir",
           "Domaine Serene"
          ],
          [
           "US",
           "Pinot Blanc",
           "Paraiso Vineyards"
          ],
          [
           "South Africa",
           "Sauvignon Blanc",
           "Robertson Winery"
          ],
          [
           "US",
           "Red Blend",
           "Meek Family"
          ],
          [
           "US",
           "Pinot Noir",
           "Saintsbury"
          ],
          [
           "South Africa",
           "Cabernet Sauvignon-Merlot",
           "Two Oceans"
          ],
          [
           "South Africa",
           "Chardonnay",
           "Meerlust"
          ],
          [
           "US",
           "Pinot Noir",
           "Dry Creek Vineyard"
          ],
          [
           "Spain",
           "Tempranillo",
           "Altanza"
          ],
          [
           "US",
           "Chardonnay",
           "Morgan"
          ],
          [
           "France",
           "Gamay",
           "Château de la Chaize"
          ],
          [
           "US",
           "Merlot",
           "Irony"
          ],
          [
           "US",
           "Cabernet Sauvignon",
           "Sylvester"
          ],
          [
           "Italy",
           "Red Blend",
           "Nittardi"
          ],
          [
           "Italy",
           "Corvina, Rondinella, Molinara",
           "Corte Campagnola"
          ],
          [
           "Italy",
           "Verdicchio",
           "Bucci"
          ],
          [
           "US",
           "Cabernet Sauvignon",
           "Brander"
          ],
          [
           "Australia",
           "Shiraz",
           "Willow Bridge"
          ],
          [
           "US",
           "White Blend",
           "The Williamsburg Winery"
          ],
          [
           "France",
           "Chenin Blanc",
           "Domaine des Roches Neuves"
          ],
          [
           "US",
           "Merlot",
           "Barlow"
          ],
          [
           "Spain",
           "Tinta de Toro",
           "Teso La Monja"
          ],
          [
           "US",
           "Chardonnay",
           "Cameron Hughes"
          ],
          [
           "South Africa",
           "Cabernet Sauvignon",
           "Le Riche"
          ],
          [
           "US",
           "Zinfandel",
           "Madroña"
          ],
          [
           "Austria",
           "Riesling",
           "Hirsch"
          ],
          [
           "US",
           "Chardonnay",
           "El Molino"
          ],
          [
           "Argentina",
           "Chardonnay",
           "Bodega Catena Zapata"
          ],
          [
           "US",
           "Sauvignon Blanc",
           "Stag's Leap Wine Cellars"
          ],
          [
           "US",
           "Chardonnay",
           "Hanzell"
          ],
          [
           "Italy",
           "Lagrein",
           "Mezzacorona"
          ],
          [
           "Spain",
           "Sauvignon Blanc-Verdejo",
           "Storks' Tower"
          ],
          [
           "France",
           "Bordeaux-style Red Blend",
           "Château Branaire-Ducru"
          ],
          [
           "South Africa",
           "Semillon-Sauvignon Blanc",
           "Bizoe"
          ],
          [
           "US",
           "Pinot Noir",
           "Riverbench"
          ],
          [
           "Australia",
           "Riesling",
           "Plantagenet"
          ],
          [
           "Italy",
           "Sangiovese Grosso",
           "Bellaria"
          ],
          [
           "US",
           "Zinfandel",
           "Lapis Luna"
          ],
          [
           "France",
           "Riesling",
           "Domaine Ostertag"
          ],
          [
           "France",
           "Gamay",
           "Pardon et Fils"
          ],
          [
           "US",
           "Pinot Gris",
           "Girardet"
          ],
          [
           "Italy",
           "Glera",
           "Foss Marai"
          ],
          [
           "Chile",
           "Carmenère",
           "Corinto"
          ],
          [
           "US",
           "Bordeaux-style Red Blend",
           "Grand Rêve"
          ],
          [
           "US",
           "Sauvignon Blanc",
           "Dynamite Vineyards"
          ],
          [
           "France",
           "Bordeaux-style White Blend",
           "Château Haut Selve"
          ],
          [
           "US",
           "Syrah",
           "Soos Creek"
          ],
          [
           "US",
           "Sauvignon Blanc",
           "Shannon Ridge"
          ],
          [
           "Germany",
           "Riesling",
           "Dr. Pauly Bergweiler"
          ],
          [
           "US",
           "Red Blend",
           "Tamarack Cellars"
          ],
          [
           "France",
           "Bordeaux-style Red Blend",
           "Etablissements Thunevin"
          ],
          [
           "Italy",
           "Sangiovese",
           "Villa La Selva"
          ],
          [
           "Italy",
           "Prosecco",
           "Bisol"
          ],
          [
           "France",
           "Syrah",
           "M. Chapoutier"
          ],
          [
           "France",
           "Chardonnay",
           "Morey-Blanc"
          ],
          [
           "France",
           "Champagne Blend",
           "De Sousa & Fils"
          ],
          [
           "Argentina",
           "Riesling",
           "Luigi Bosca"
          ],
          [
           "US",
           "Syrah",
           "Caliza"
          ],
          [
           "US",
           "Chardonnay",
           "Clos du Bois"
          ],
          [
           "South Africa",
           "Cabernet Sauvignon",
           "Lynx"
          ],
          [
           "US",
           "Viognier",
           "Cristom"
          ],
          [
           "France",
           "Melon",
           "Les Vignerons des Terroirs de la Noëlle"
          ],
          [
           "Argentina",
           "Bordeaux-style Red Blend",
           "Finca Decero"
          ],
          [
           "US",
           "Cabernet Sauvignon",
           "Ladera"
          ],
          [
           "US",
           "Zinfandel",
           "Castello di Amorosa"
          ],
          [
           "Italy",
           "Chardonnay",
           "Tenute Cisa Asinari dei Marchesi di Gresy"
          ],
          [
           "US",
           "Chardonnay",
           "Morgan"
          ],
          [
           "US",
           "Chardonnay",
           "Martin Lane Winery"
          ],
          [
           "US",
           "Petite Sirah",
           "Earthquake"
          ],
          [
           "Argentina",
           "Malbec",
           "Bodega Catena Zapata"
          ],
          [
           "France",
           "Red Blend",
           "Domaine Roumagnac"
          ],
          [
           "France",
           "Rhône-style Red Blend",
           "Delas Frères"
          ],
          [
           "US",
           "Pinot Noir",
           "Bridgeview"
          ],
          [
           "US",
           "Cabernet Sauvignon",
           "Baldacci"
          ],
          [
           "US",
           "Cabernet Sauvignon",
           "Souverain"
          ],
          [
           "Italy",
           "Corvina, Rondinella, Molinara",
           "Tenuta Sant'Antonio"
          ],
          [
           "US",
           "Sauvignon Blanc",
           "Firestone"
          ],
          [
           "US",
           "Pinot Grigio",
           "Columbia Crest"
          ],
          [
           "New Zealand",
           "Pinot Noir",
           "Main Divide"
          ],
          [
           "US",
           "Sauvignon Blanc",
           "Clos du Bois"
          ],
          [
           "US",
           "Chardonnay",
           "Rooster Hill"
          ],
          [
           "US",
           "Pinot Noir",
           "Castle Rock"
          ],
          [
           "US",
           "Sparkling Blend",
           "Mumm Napa"
          ],
          [
           "Chile",
           "Red Blend",
           "Lapostolle"
          ],
          [
           "Austria",
           "Grüner Veltliner",
           "Von Donabaum"
          ],
          [
           "US",
           "Syrah",
           "Hahn"
          ],
          [
           "Australia",
           "Cabernet Sauvignon",
           "Rosemount"
          ],
          [
           "Italy",
           "Fiano",
           "Casebianche"
          ],
          [
           "US",
           "Syrah",
           "Qupé"
          ],
          [
           "Chile",
           "Red Blend",
           "Casa Silva"
          ],
          [
           "US",
           "Bordeaux-style Red Blend",
           "Grand Rêve"
          ],
          [
           "France",
           "Bordeaux-style Red Blend",
           "Château Larose-Trintaudon"
          ],
          [
           "Australia",
           "Pinot Gris",
           "Pewsey Vale"
          ],
          [
           "Italy",
           "Red Blend",
           "Caccia al Piano 1868"
          ],
          [
           "US",
           "Riesling",
           "Wagner"
          ],
          [
           "France",
           "Chardonnay",
           "Château Grenouille"
          ],
          [
           "US",
           "Zinfandel",
           "V. Sattui"
          ],
          [
           "Chile",
           "Red Blend",
           "Antiyal"
          ],
          [
           "Canada",
           "Vidal",
           "Pillitteri"
          ],
          [
           "US",
           "Chardonnay",
           "Carabella"
          ],
          [
           "US",
           "Cabernet Sauvignon",
           "J. Davies"
          ],
          [
           "France",
           "Chardonnay",
           "Cave de Lugny"
          ],
          [
           "US",
           "Pinot Grigio",
           "Renwood"
          ],
          [
           "Italy",
           "Garganega",
           "Monte Tondo"
          ],
          [
           "Italy",
           "Montepulciano",
           "Spinelli"
          ],
          [
           "US",
           "Syrah",
           "Valley of the Moon"
          ],
          [
           "Chile",
           "Carmenère",
           "Apaltagua"
          ],
          [
           "US",
           "Zinfandel",
           "Amelle"
          ],
          [
           "US",
           "Syrah",
           "Olsen Estates"
          ],
          [
           "US",
           "Pinot Noir",
           "Copeland Creek"
          ],
          [
           "Italy",
           "Nerello Mascalese",
           "Destro"
          ],
          [
           "Argentina",
           "Cabernet Sauvignon",
           "Casa Montes"
          ],
          [
           "US",
           "Zinfandel",
           "Lapis Luna"
          ],
          [
           "New Zealand",
           "Sauvignon Blanc",
           "Mt. Beautiful"
          ],
          [
           "Italy",
           "Arneis",
           "Pertinace"
          ],
          [
           "US",
           "Malbec",
           "Waterbrook"
          ],
          [
           "Spain",
           "Sparkling Blend",
           "El Xamfrà"
          ],
          [
           "France",
           "Bordeaux-style Red Blend",
           "Jean-Pierre Moueix"
          ],
          [
           "Portugal",
           "Touriga Nacional",
           "Quinta do Vallado"
          ],
          [
           "US",
           "White Blend",
           "Waterbrook"
          ],
          [
           "Italy",
           "Vermentino",
           "La Selva"
          ],
          [
           "US",
           "Chardonnay",
           "Girardet"
          ],
          [
           "US",
           "Cabernet Sauvignon",
           "Terlato"
          ],
          [
           "Italy",
           "Corvina, Rondinella, Molinara",
           "Montezovo"
          ],
          [
           "Italy",
           "Nebbiolo",
           "Ciabot Berton"
          ],
          [
           "Argentina",
           "Bordeaux-style Red Blend",
           "Andeluna"
          ],
          [
           "US",
           "Syrah",
           "Fleming Jenkins"
          ],
          [
           "US",
           "Cabernet Sauvignon",
           "Three Saints"
          ],
          [
           "Portugal",
           "Port",
           "Quinta de la Rosa"
          ],
          [
           "US",
           "Malbec",
           "Peachy Canyon"
          ],
          [
           "US",
           "Chardonnay",
           "Robert Hall"
          ],
          [
           "US",
           "Petite Sirah",
           "Line 39"
          ],
          [
           "US",
           "Petite Sirah",
           "EOS"
          ],
          [
           "Argentina",
           "Red Blend",
           "Bodega Renacer"
          ],
          [
           "France",
           "Rosé",
           "Mas de Cadenet"
          ],
          [
           "France",
           "Syrah",
           "Mont Saint-Vincent"
          ],
          [
           "US",
           "Malbec",
           "Beresan"
          ],
          [
           "Germany",
           "Riesling",
           "Dr. Pauly Bergweiler"
          ],
          [
           "Italy",
           "Red Blend",
           "Diadema"
          ],
          [
           "US",
           "Nebbiolo",
           "Adelaida"
          ],
          [
           "New Zealand",
           "Sauvignon Blanc",
           "Wairau River"
          ],
          [
           "Italy",
           "Corvina, Rondinella, Molinara",
           "Giuseppe Campagnola"
          ],
          [
           "US",
           "Chardonnay",
           "Mossback"
          ],
          [
           "US",
           "Chardonnay",
           "Materra Cunat Family Vineyards"
          ],
          [
           "US",
           "Pinot Noir",
           "Testarossa"
          ],
          [
           "US",
           "Dolcetto",
           "La Folia Winery"
          ],
          [
           "US",
           "Sauvignon Blanc",
           "Brander"
          ],
          [
           "Italy",
           "Corvina, Rondinella, Molinara",
           "Fattoria Garbole"
          ],
          [
           "US",
           "Syrah",
           "Reininger"
          ],
          [
           "Spain",
           "Tempranillo",
           "Bodegas Valdemar"
          ],
          [
           "Italy",
           "Sangiovese",
           "Villa Maisano"
          ],
          [
           "US",
           "Red Blend",
           "Côte Bonneville"
          ],
          [
           "US",
           "Teroldego",
           "Mosby"
          ],
          [
           "Italy",
           "Red Blend",
           "Castello del Terriccio"
          ],
          [
           "France",
           "Rosé",
           "Domaine Houchart"
          ],
          [
           "Chile",
           "Syrah",
           "Concha y Toro"
          ],
          [
           "Austria",
           "Grüner Veltliner",
           "Felsner"
          ],
          [
           "Italy",
           "Red Blend",
           "Caccia al Piano 1868"
          ],
          [
           "Chile",
           "Cabernet Sauvignon",
           "Agustinos"
          ],
          [
           "US",
           "Cabernet Franc",
           "Veramar"
          ],
          [
           "US",
           "Syrah",
           "Surh Luchtel"
          ],
          [
           "Chile",
           "Red Blend",
           "Miguel Torres"
          ],
          [
           "US",
           "Sparkling Blend",
           "Gloria Ferrer"
          ],
          [
           "US",
           "Bordeaux-style Red Blend",
           "Silver Thread"
          ],
          [
           "France",
           "Riesling",
           "Gustave Lorentz"
          ],
          [
           "US",
           "Cabernet Sauvignon",
           "Betz Family"
          ],
          [
           "France",
           "Syrah",
           "Michel & Stéphane Ogier"
          ],
          [
           "US",
           "Riesling",
           "Bitner"
          ],
          [
           "US",
           "Zinfandel",
           "Oak Farm Vineyards"
          ],
          [
           "Chile",
           "Cabernet Sauvignon",
           "Asunto de Vino"
          ],
          [
           "Italy",
           "Red Blend",
           "Tenuta di Biserno"
          ],
          [
           "Portugal",
           "Portuguese Red",
           "Herdade dos Coelheiros"
          ],
          [
           "Chile",
           "Sauvignon Blanc",
           "Santa Rita"
          ],
          [
           "Austria",
           "Riesling",
           "Schmelz"
          ],
          [
           "France",
           "Malbec-Merlot",
           "Château Saint-Didier-Parnac"
          ],
          [
           "France",
           "Bordeaux-style Red Blend",
           "Château Haut de la Bécade"
          ],
          [
           "France",
           "Viognier",
           "Domaine Juliette Avril"
          ],
          [
           "US",
           "Red Blend",
           "Guardian Cellars"
          ],
          [
           "US",
           "Petite Sirah",
           "Vina Robles"
          ],
          [
           "US",
           "Bordeaux-style Red Blend",
           "Palazzo Wine"
          ],
          [
           "France",
           "Pinot Noir",
           "Vignerons de Buxy"
          ],
          [
           "Germany",
           "Riesling",
           "Weingut Georg Albrecht Schneider"
          ],
          [
           "France",
           "Chardonnay",
           "Xavier Monnot"
          ],
          [
           "New Zealand",
           "Chardonnay",
           "Crossroads"
          ],
          [
           "US",
           "Chardonnay",
           "Willamette Valley Vineyards"
          ],
          [
           "US",
           "Red Blend",
           "TWODOG"
          ],
          [
           "France",
           "Bordeaux-style White Blend",
           "Chais de Méribel"
          ],
          [
           "US",
           "Cabernet Sauvignon",
           "Hogue"
          ],
          [
           "Spain",
           "Sparkling Blend",
           "Cavas Hill"
          ],
          [
           "Germany",
           "Riesling",
           "Baron Knyphausen"
          ],
          [
           "US",
           "Pinot Noir",
           "Sea Smoke"
          ],
          [
           "France",
           "Champagne Blend",
           "Chapuy"
          ],
          [
           "US",
           "Rosé",
           "Benessere"
          ],
          [
           "France",
           "Rosé",
           "Estandon"
          ],
          [
           "US",
           "Chardonnay",
           "Murphy-Goode"
          ],
          [
           "US",
           "Cabernet Sauvignon",
           "Regale Winery and Vineyards"
          ],
          [
           "US",
           "Chardonnay",
           "Gainey"
          ],
          [
           "France",
           "Melon",
           "Domaine de la Grenaudière"
          ],
          [
           "France",
           "Sauvignon Blanc",
           "Domaine de la Loge"
          ],
          [
           "US",
           "Pinot Noir",
           "Panther Creek"
          ],
          [
           "France",
           "Sparkling Blend",
           "Grandin"
          ],
          [
           "Germany",
           "Gewürztraminer",
           "Fitz-Ritter"
          ],
          [
           "Italy",
           "Red Blend",
           "Lungarotti"
          ],
          [
           "US",
           "Syrah",
           "Januik Winery"
          ],
          [
           "US",
           "Pinot Noir",
           "Domaine Drouhin Oregon"
          ],
          [
           "France",
           "Rhône-style Red Blend",
           "Château Saint Martin de la Garrigue"
          ],
          [
           "Spain",
           "White Blend",
           "Masies d'Avinyo"
          ],
          [
           "Italy",
           "Nebbiolo",
           "460 Casina Bric"
          ],
          [
           "Argentina",
           "Malbec",
           "Mauricio Lorca"
          ],
          [
           "Italy",
           "Cabernet Sauvignon",
           "Cavit"
          ],
          [
           "Italy",
           "Nero d'Avola",
           "D'Alessandro"
          ],
          [
           "Spain",
           "Monastrell",
           "Juan Gil"
          ],
          [
           "US",
           "Syrah",
           "Novy"
          ],
          [
           "US",
           "Cabernet Pfeffer",
           "DeRose"
          ],
          [
           "France",
           "Pinot Noir",
           "Chanson Père et Fils"
          ],
          [
           "US",
           "Chardonnay",
           "Hogue"
          ],
          [
           "Australia",
           "Shiraz",
           "Kalbarri"
          ]
         ],
         "hovertemplate": "Price ($)=%{marker.size}<br>Points (1-100)=%{marker.color}<br>country=%{customdata[0]}<br>variety=%{customdata[1]}<br>winery=%{customdata[2]}<extra></extra>",
         "legendgroup": "",
         "marker": {
          "color": [
           87,
           86,
           85,
           90,
           87,
           86,
           93,
           88,
           85,
           92,
           91,
           87,
           89,
           88,
           87,
           86,
           92,
           93,
           82,
           90,
           87,
           91,
           88,
           90,
           83,
           90,
           91,
           86,
           87,
           89,
           91,
           83,
           88,
           85,
           90,
           84,
           80,
           88,
           92,
           92,
           85,
           92,
           86,
           84,
           87,
           82,
           89,
           92,
           87,
           86,
           84,
           85,
           90,
           85,
           88,
           90,
           83,
           88,
           84,
           85,
           88,
           90,
           90,
           88,
           83,
           85,
           83,
           85,
           93,
           88,
           91,
           85,
           87,
           87,
           93,
           85,
           87,
           88,
           84,
           89,
           92,
           85,
           87,
           92,
           89,
           88,
           94,
           92,
           88,
           84,
           88,
           90,
           91,
           87,
           95,
           84,
           92,
           85,
           86,
           83,
           86,
           88,
           90,
           90,
           90,
           85,
           81,
           87,
           90,
           84,
           84,
           86,
           83,
           88,
           88,
           95,
           85,
           92,
           90,
           89,
           90,
           95,
           86,
           85,
           87,
           87,
           87,
           94,
           90,
           88,
           95,
           85,
           89,
           86,
           82,
           84,
           90,
           87,
           87,
           86,
           89,
           86,
           88,
           84,
           85,
           82,
           87,
           82,
           87,
           87,
           90,
           84,
           88,
           88,
           85,
           91,
           92,
           90,
           90,
           85,
           87,
           89,
           86,
           89,
           93,
           87,
           86,
           89,
           91,
           86,
           89,
           90,
           92,
           86,
           92,
           85,
           88,
           90,
           92,
           90,
           90,
           90,
           85,
           89,
           92,
           88,
           84,
           94,
           87,
           92,
           89,
           85,
           93,
           84,
           84,
           85,
           88,
           92,
           84,
           87,
           82,
           87,
           84,
           88,
           89,
           90,
           85,
           87,
           84,
           89,
           87,
           84,
           97,
           90,
           90,
           89,
           89,
           85,
           90,
           92,
           87,
           91,
           88,
           83,
           91,
           84,
           89,
           85,
           90,
           82,
           94,
           85,
           84,
           83,
           88,
           83,
           88,
           88,
           88,
           92,
           95,
           83,
           88,
           87,
           84,
           89,
           85,
           93,
           85,
           87,
           85,
           90,
           88,
           86,
           87,
           86,
           87,
           88,
           86,
           86,
           86,
           86,
           93,
           90,
           85,
           86,
           84,
           91,
           94,
           86,
           93,
           98,
           87,
           85,
           84,
           89,
           85,
           90,
           85,
           84,
           88,
           88,
           87,
           89,
           87,
           87,
           87,
           88,
           89,
           91,
           91,
           93,
           89,
           83,
           83,
           84,
           87,
           88,
           85,
           85,
           86,
           85,
           84,
           90,
           91,
           87,
           92,
           85,
           89,
           87,
           89,
           84,
           90,
           88,
           89,
           85,
           92,
           94,
           84,
           83,
           92,
           92,
           90,
           85,
           91,
           87,
           89,
           82,
           86,
           86,
           84,
           86,
           82,
           93,
           90,
           86,
           92,
           93,
           93,
           89,
           86,
           87,
           91,
           85,
           90,
           91,
           86,
           93,
           87,
           89,
           93,
           88,
           86,
           80,
           90,
           91,
           91,
           88,
           85,
           87,
           85,
           81,
           91,
           81,
           90,
           89,
           84,
           84,
           88,
           85,
           89,
           91,
           81,
           91,
           88,
           89,
           87,
           87,
           82,
           88,
           86,
           85,
           91,
           88,
           93,
           92,
           87,
           90,
           87,
           87,
           86,
           88,
           89,
           86,
           92,
           89,
           84,
           93,
           91,
           89,
           93,
           86,
           88,
           84,
           86,
           90,
           92,
           91,
           85,
           84,
           86,
           90,
           87,
           87,
           88,
           91,
           91,
           88,
           93,
           85,
           85,
           87,
           87,
           89,
           87,
           86,
           91,
           86,
           86,
           87,
           87,
           82,
           81,
           92,
           88,
           87,
           86,
           88,
           86,
           83,
           89,
           82,
           92,
           86,
           87,
           88,
           82,
           87,
           85,
           91,
           87,
           83,
           91,
           89,
           92,
           84,
           86,
           91,
           85,
           87,
           88,
           87,
           87,
           85,
           86,
           85,
           91,
           91,
           89,
           89,
           86,
           93,
           87,
           83,
           91,
           87,
           83,
           90,
           87,
           91,
           90,
           87,
           88,
           85,
           84,
           89,
           90,
           86,
           86,
           93,
           87,
           89,
           85,
           88,
           91,
           87,
           89,
           85,
           86,
           84,
           87,
           89,
           88,
           94,
           84,
           87,
           93,
           84,
           89,
           87,
           86,
           87,
           90,
           92,
           80,
           90,
           83,
           92,
           92,
           85,
           85,
           86,
           82,
           85,
           88,
           85,
           89,
           86,
           85,
           88,
           84,
           88,
           87,
           86,
           88,
           88,
           93,
           84,
           87,
           84,
           90,
           87,
           90,
           87,
           84,
           87,
           89,
           88,
           88,
           90,
           94,
           88,
           83,
           93,
           93,
           92,
           80,
           88,
           89,
           93,
           85,
           90,
           85,
           87,
           86,
           85,
           87,
           86,
           84,
           84,
           92,
           88,
           86,
           88,
           89,
           85,
           85,
           82,
           80,
           93,
           89,
           90,
           88,
           86,
           92,
           90,
           88,
           82,
           92,
           91,
           87,
           83,
           90,
           91,
           93,
           82,
           90,
           88,
           88,
           85,
           87,
           86,
           83,
           87,
           89,
           89,
           89,
           86,
           92,
           87,
           89,
           84,
           89,
           88,
           86,
           91,
           86,
           90,
           89,
           87,
           86,
           82,
           91,
           85,
           86,
           89,
           83,
           82,
           90,
           88,
           88,
           87,
           85,
           87,
           89,
           86,
           88,
           88,
           93,
           89,
           90,
           85,
           90,
           86,
           84,
           87,
           87,
           91,
           83,
           86,
           85,
           93,
           86,
           93,
           90,
           88,
           81,
           92,
           88,
           85,
           92,
           87,
           85,
           85,
           91,
           87,
           84,
           83,
           87,
           80,
           91,
           86,
           92,
           92,
           89,
           89,
           96,
           86,
           87,
           91,
           84,
           90,
           84,
           82,
           82,
           86,
           90,
           89,
           90,
           91,
           91,
           88,
           91,
           83,
           90,
           87,
           90,
           89,
           89,
           94,
           86,
           84,
           94,
           87,
           89,
           89,
           89,
           87,
           83,
           86,
           86,
           95,
           91,
           88,
           86,
           89,
           86,
           87,
           90,
           85,
           80,
           86,
           91,
           90,
           83,
           86,
           87,
           89,
           90,
           86,
           85,
           96,
           86,
           85,
           95,
           89,
           84,
           88,
           88,
           82,
           93,
           84,
           85,
           84,
           80,
           93,
           84,
           89,
           88,
           84,
           84,
           94,
           89,
           89,
           86,
           95,
           94,
           86,
           85,
           87,
           83,
           87,
           92,
           88,
           90,
           84,
           87,
           88,
           84,
           83,
           83,
           93,
           89,
           88,
           85,
           94,
           92,
           94,
           86,
           85,
           86,
           84,
           86,
           84,
           90,
           91,
           91,
           83,
           87,
           87,
           90,
           85,
           90,
           91,
           86,
           87,
           81,
           92,
           86,
           89,
           92,
           87,
           91,
           85,
           85,
           87,
           85,
           89,
           87,
           85,
           91,
           82,
           91,
           83,
           85,
           87,
           85,
           88,
           88,
           87,
           91,
           87,
           86,
           86,
           86,
           87,
           93,
           90,
           92,
           85,
           91,
           84,
           84,
           83,
           86,
           90,
           90,
           81,
           88,
           84,
           91,
           87,
           86,
           92,
           84,
           87,
           88,
           88,
           87,
           85,
           91,
           84,
           85,
           95,
           83,
           92,
           89,
           86,
           88,
           89,
           87,
           85,
           89,
           87,
           95,
           85,
           91,
           96,
           91,
           85,
           89,
           88,
           95,
           85,
           84,
           94,
           90,
           86,
           85,
           88,
           84,
           88,
           85,
           91,
           90,
           86,
           89,
           84,
           84,
           91,
           87,
           88,
           95,
           87,
           84,
           86,
           84,
           85,
           88,
           88,
           88,
           91,
           84,
           84,
           90,
           91,
           96,
           85,
           85,
           86,
           89,
           85,
           88,
           90,
           85,
           84,
           94,
           85,
           83
          ],
          "coloraxis": "coloraxis",
          "size": [
           18,
           34,
           15,
           24,
           20,
           16,
           60,
           20,
           16,
           22,
           25,
           55,
           33,
           27,
           17,
           36,
           35,
           100,
           19,
           15,
           12,
           45,
           75,
           40,
           12,
           65,
           35,
           18,
           15,
           25,
           35,
           10,
           12,
           32,
           54,
           15,
           15,
           45,
           50,
           75,
           17,
           20,
           13,
           9,
           28,
           7,
           15,
           45,
           26,
           50,
           20,
           22,
           49,
           20,
           16,
           20,
           55,
           18,
           15,
           42,
           50,
           40,
           45,
           25,
           20,
           10,
           16,
           25,
           57,
           10,
           20,
           14,
           40,
           20,
           75,
           36,
           20,
           32,
           8,
           15,
           45,
           30,
           10,
           26,
           17,
           28,
           55,
           36,
           33,
           25,
           55,
           32,
           40,
           45,
           79,
           13,
           55,
           18,
           40,
           7,
           27,
           16,
           36,
           75,
           39,
           12,
           25,
           20,
           60,
           14,
           14,
           12,
           16,
           13,
           13,
           52,
           12,
           40,
           35,
           39,
           22,
           28,
           15,
           19,
           12,
           16,
           30,
           37,
           38,
           13,
           90,
           13,
           24,
           15,
           12,
           35,
           50,
           14,
           22,
           12,
           18,
           29,
           20,
           11,
           12,
           16,
           14,
           39,
           11,
           30,
           35,
           15,
           9,
           20,
           11,
           24,
           50,
           55,
           35,
           13,
           15,
           19,
           15,
           45,
           47,
           20,
           23,
           20,
           24,
           30,
           75,
           24,
           38,
           24,
           44,
           18,
           18,
           21,
           40,
           35,
           18,
           38,
           12,
           30,
           75,
           18,
           29,
           68,
           30,
           85,
           26,
           75,
           75,
           24,
           15,
           18,
           70,
           70,
           13,
           70,
           15,
           35,
           14,
           60,
           16,
           19,
           17,
           19,
           17,
           20,
           14,
           13,
           115,
           65,
           65,
           32,
           29,
           15,
           39,
           50,
           19,
           15,
           20,
           12,
           35,
           15,
           30,
           13,
           100,
           11,
           38,
           16,
           10,
           14,
           22,
           9,
           25,
           12,
           20,
           60,
           60,
           40,
           37,
           54,
           23,
           44,
           23,
           25,
           8,
           16,
           25,
           35,
           11,
           20,
           19,
           32,
           50,
           32,
           11,
           24,
           36,
           30,
           38,
           20,
           8,
           49,
           30,
           29,
           130,
           30,
           45,
           140,
           20,
           18,
           10,
           30,
           19,
           37,
           8,
           13,
           18,
           15,
           28,
           24,
           18,
           40,
           18,
           24,
           30,
           28,
           17,
           56,
           22,
           18,
           40,
           6,
           18,
           70,
           20,
           10,
           42,
           24,
           10,
           55,
           25,
           13,
           57,
           28,
           35,
           30,
           15,
           18,
           30,
           21,
           21,
           28,
           22,
           50,
           8,
           18,
           38,
           84,
           22,
           28,
           33,
           50,
           49,
           10,
           10,
           16,
           11,
           14,
           15,
           115,
           115,
           8,
           60,
           65,
           149,
           25,
           9,
           15,
           20,
           44,
           28,
           35,
           18,
           36,
           30,
           14,
           155,
           25,
           25,
           12,
           15,
           45,
           31,
           22,
           16,
           30,
           15,
           17,
           40,
           22,
           28,
           27,
           20,
           36,
           17,
           13,
           10,
           23,
           8,
           48,
           45,
           27,
           23,
           16,
           14,
           42,
           11,
           11,
           32,
           28,
           55,
           18,
           18,
           25,
           19,
           30,
           14,
           12,
           70,
           18,
           59,
           51,
           13,
           47,
           34,
           16,
           279,
           30,
           60,
           12,
           14,
           50,
           25,
           40,
           34,
           12,
           22,
           50,
           25,
           31,
           30,
           27,
           120,
           16,
           45,
           9,
           17,
           12,
           8,
           29,
           38,
           20,
           44,
           15,
           22,
           51,
           15,
           19,
           16,
           42,
           26,
           12,
           10,
           36,
           24,
           13,
           36,
           12,
           55,
           16,
           20,
           25,
           16,
           24,
           16,
           33,
           26,
           12,
           45,
           35,
           60,
           32,
           15,
           20,
           10,
           25,
           35,
           16,
           15,
           14,
           120,
           9,
           40,
           40,
           48,
           22,
           15,
           108,
           17,
           15,
           22,
           14,
           14,
           18,
           17,
           20,
           38,
           9,
           26,
           24,
           16,
           22,
           22,
           18,
           24,
           89,
           13,
           28,
           10,
           30,
           115,
           12,
           34,
           45,
           15,
           10,
           28,
           49,
           29,
           150,
           40,
           45,
           25,
           20,
           28,
           16,
           95,
           37,
           17,
           45,
           32,
           26,
           10,
           30,
           35,
           12,
           17,
           15,
           9,
           13,
           60,
           17,
           13,
           10,
           25,
           15,
           11,
           52,
           15,
           35,
           20,
           13,
           32,
           28,
           12,
           7,
           108,
           16,
           42,
           24,
           20,
           25,
           30,
           55,
           20,
           42,
           155,
           20,
           6,
           75,
           75,
           33,
           13,
           35,
           17,
           49,
           15,
           19,
           25,
           38,
           17,
           16,
           36,
           10,
           14,
           20,
           42,
           38,
           25,
           35,
           59,
           30,
           54,
           15,
           24,
           45,
           24,
           17,
           15,
           18,
           20,
           32,
           80,
           28,
           30,
           37,
           27,
           25,
           25,
           45,
           35,
           24,
           40,
           36,
           16,
           40,
           20,
           20,
           30,
           12,
           24,
           24,
           50,
           22,
           25,
           40,
           41,
           10,
           25,
           20,
           30,
           65,
           70,
           39,
           40,
           24,
           39,
           19,
           29,
           15,
           18,
           17,
           11,
           18,
           19,
           8,
           325,
           64,
           8,
           14,
           20,
           14,
           18,
           35,
           30,
           19,
           20,
           17,
           18,
           30,
           15,
           50,
           65,
           40,
           10,
           29,
           16,
           70,
           25,
           40,
           70,
           50,
           18,
           26,
           20,
           9,
           48,
           14,
           22,
           9,
           57,
           34,
           25,
           19,
           15,
           18,
           60,
           20,
           30,
           34,
           20,
           40,
           50,
           40,
           27,
           45,
           25,
           45,
           22,
           15,
           15,
           10,
           45,
           64,
           30,
           25,
           26,
           13,
           22,
           10,
           33,
           14,
           95,
           30,
           55,
           42,
           15,
           9,
           90,
           13,
           17,
           25,
           18,
           8,
           20,
           20,
           36,
           35,
           19,
           14,
           20,
           23,
           29,
           21,
           28,
           15,
           8,
           25,
           32,
           17,
           10,
           30,
           18,
           65,
           40,
           20,
           26,
           65,
           10,
           15,
           60,
           26,
           42,
           21,
           59,
           15,
           48,
           16,
           16,
           15,
           10,
           55,
           13,
           20,
           20,
           15,
           12,
           50,
           20,
           28,
           17,
           250,
           102,
           60,
           18,
           45,
           14,
           20,
           25,
           12,
           50,
           65,
           38,
           22,
           26,
           28,
           28,
           123,
           13,
           34,
           20,
           65,
           40,
           70,
           14,
           11,
           25,
           12,
           15,
           12,
           19,
           20,
           13,
           14,
           24,
           18,
           35,
           28,
           55,
           23,
           18,
           30,
           13,
           90,
           29,
           30,
           30,
           27,
           75,
           16,
           10,
           20,
           8,
           16,
           13,
           24,
           45,
           30,
           32,
           10,
           14,
           20,
           16,
           14,
           16,
           24,
           35,
           15,
           18,
           16,
           60,
           22,
           80,
           20,
           40,
           22,
           54,
           32,
           16,
           9,
           60,
           26,
           22,
           7,
           29,
           12,
           150,
           35,
           20,
           60,
           18,
           22,
           54,
           28,
           13,
           35,
           32,
           7,
           15,
           120,
           30,
           45,
           11,
           12,
           20,
           56,
           12,
           32,
           38,
           27,
           50,
           22,
           50,
           58,
           87,
           19,
           32,
           12,
           419,
           11,
           8,
           42,
           21,
           90,
           30,
           25,
           26,
           65,
           16,
           17,
           66,
           17,
           40,
           15,
           21,
           30,
           11,
           66,
           50,
           32,
           16,
           11,
           14,
           60,
           20,
           16,
           35,
           50,
           12,
           17,
           35,
           30,
           85,
           13,
           19,
           45,
           21,
           10,
           14,
           16,
           29,
           25,
           190,
           9,
           7
          ],
          "sizemode": "area",
          "sizeref": 1.0475,
          "symbol": "circle"
         },
         "mode": "markers",
         "name": "",
         "orientation": "v",
         "showlegend": false,
         "type": "scatter",
         "x": [
          18,
          34,
          15,
          24,
          20,
          16,
          60,
          20,
          16,
          22,
          25,
          55,
          33,
          27,
          17,
          36,
          35,
          100,
          19,
          15,
          12,
          45,
          75,
          40,
          12,
          65,
          35,
          18,
          15,
          25,
          35,
          10,
          12,
          32,
          54,
          15,
          15,
          45,
          50,
          75,
          17,
          20,
          13,
          9,
          28,
          7,
          15,
          45,
          26,
          50,
          20,
          22,
          49,
          20,
          16,
          20,
          55,
          18,
          15,
          42,
          50,
          40,
          45,
          25,
          20,
          10,
          16,
          25,
          57,
          10,
          20,
          14,
          40,
          20,
          75,
          36,
          20,
          32,
          8,
          15,
          45,
          30,
          10,
          26,
          17,
          28,
          55,
          36,
          33,
          25,
          55,
          32,
          40,
          45,
          79,
          13,
          55,
          18,
          40,
          7,
          27,
          16,
          36,
          75,
          39,
          12,
          25,
          20,
          60,
          14,
          14,
          12,
          16,
          13,
          13,
          52,
          12,
          40,
          35,
          39,
          22,
          28,
          15,
          19,
          12,
          16,
          30,
          37,
          38,
          13,
          90,
          13,
          24,
          15,
          12,
          35,
          50,
          14,
          22,
          12,
          18,
          29,
          20,
          11,
          12,
          16,
          14,
          39,
          11,
          30,
          35,
          15,
          9,
          20,
          11,
          24,
          50,
          55,
          35,
          13,
          15,
          19,
          15,
          45,
          47,
          20,
          23,
          20,
          24,
          30,
          75,
          24,
          38,
          24,
          44,
          18,
          18,
          21,
          40,
          35,
          18,
          38,
          12,
          30,
          75,
          18,
          29,
          68,
          30,
          85,
          26,
          75,
          75,
          24,
          15,
          18,
          70,
          70,
          13,
          70,
          15,
          35,
          14,
          60,
          16,
          19,
          17,
          19,
          17,
          20,
          14,
          13,
          115,
          65,
          65,
          32,
          29,
          15,
          39,
          50,
          19,
          15,
          20,
          12,
          35,
          15,
          30,
          13,
          100,
          11,
          38,
          16,
          10,
          14,
          22,
          9,
          25,
          12,
          20,
          60,
          60,
          40,
          37,
          54,
          23,
          44,
          23,
          25,
          8,
          16,
          25,
          35,
          11,
          20,
          19,
          32,
          50,
          32,
          11,
          24,
          36,
          30,
          38,
          20,
          8,
          49,
          30,
          29,
          130,
          30,
          45,
          140,
          20,
          18,
          10,
          30,
          19,
          37,
          8,
          13,
          18,
          15,
          28,
          24,
          18,
          40,
          18,
          24,
          30,
          28,
          17,
          56,
          22,
          18,
          40,
          6,
          18,
          70,
          20,
          10,
          42,
          24,
          10,
          55,
          25,
          13,
          57,
          28,
          35,
          30,
          15,
          18,
          30,
          21,
          21,
          28,
          22,
          50,
          8,
          18,
          38,
          84,
          22,
          28,
          33,
          50,
          49,
          10,
          10,
          16,
          11,
          14,
          15,
          115,
          115,
          8,
          60,
          65,
          149,
          25,
          9,
          15,
          20,
          44,
          28,
          35,
          18,
          36,
          30,
          14,
          155,
          25,
          25,
          12,
          15,
          45,
          31,
          22,
          16,
          30,
          15,
          17,
          40,
          22,
          28,
          27,
          20,
          36,
          17,
          13,
          10,
          23,
          8,
          48,
          45,
          27,
          23,
          16,
          14,
          42,
          11,
          11,
          32,
          28,
          55,
          18,
          18,
          25,
          19,
          30,
          14,
          12,
          70,
          18,
          59,
          51,
          13,
          47,
          34,
          16,
          279,
          30,
          60,
          12,
          14,
          50,
          25,
          40,
          34,
          12,
          22,
          50,
          25,
          31,
          30,
          27,
          120,
          16,
          45,
          9,
          17,
          12,
          8,
          29,
          38,
          20,
          44,
          15,
          22,
          51,
          15,
          19,
          16,
          42,
          26,
          12,
          10,
          36,
          24,
          13,
          36,
          12,
          55,
          16,
          20,
          25,
          16,
          24,
          16,
          33,
          26,
          12,
          45,
          35,
          60,
          32,
          15,
          20,
          10,
          25,
          35,
          16,
          15,
          14,
          120,
          9,
          40,
          40,
          48,
          22,
          15,
          108,
          17,
          15,
          22,
          14,
          14,
          18,
          17,
          20,
          38,
          9,
          26,
          24,
          16,
          22,
          22,
          18,
          24,
          89,
          13,
          28,
          10,
          30,
          115,
          12,
          34,
          45,
          15,
          10,
          28,
          49,
          29,
          150,
          40,
          45,
          25,
          20,
          28,
          16,
          95,
          37,
          17,
          45,
          32,
          26,
          10,
          30,
          35,
          12,
          17,
          15,
          9,
          13,
          60,
          17,
          13,
          10,
          25,
          15,
          11,
          52,
          15,
          35,
          20,
          13,
          32,
          28,
          12,
          7,
          108,
          16,
          42,
          24,
          20,
          25,
          30,
          55,
          20,
          42,
          155,
          20,
          6,
          75,
          75,
          33,
          13,
          35,
          17,
          49,
          15,
          19,
          25,
          38,
          17,
          16,
          36,
          10,
          14,
          20,
          42,
          38,
          25,
          35,
          59,
          30,
          54,
          15,
          24,
          45,
          24,
          17,
          15,
          18,
          20,
          32,
          80,
          28,
          30,
          37,
          27,
          25,
          25,
          45,
          35,
          24,
          40,
          36,
          16,
          40,
          20,
          20,
          30,
          12,
          24,
          24,
          50,
          22,
          25,
          40,
          41,
          10,
          25,
          20,
          30,
          65,
          70,
          39,
          40,
          24,
          39,
          19,
          29,
          15,
          18,
          17,
          11,
          18,
          19,
          8,
          325,
          64,
          8,
          14,
          20,
          14,
          18,
          35,
          30,
          19,
          20,
          17,
          18,
          30,
          15,
          50,
          65,
          40,
          10,
          29,
          16,
          70,
          25,
          40,
          70,
          50,
          18,
          26,
          20,
          9,
          48,
          14,
          22,
          9,
          57,
          34,
          25,
          19,
          15,
          18,
          60,
          20,
          30,
          34,
          20,
          40,
          50,
          40,
          27,
          45,
          25,
          45,
          22,
          15,
          15,
          10,
          45,
          64,
          30,
          25,
          26,
          13,
          22,
          10,
          33,
          14,
          95,
          30,
          55,
          42,
          15,
          9,
          90,
          13,
          17,
          25,
          18,
          8,
          20,
          20,
          36,
          35,
          19,
          14,
          20,
          23,
          29,
          21,
          28,
          15,
          8,
          25,
          32,
          17,
          10,
          30,
          18,
          65,
          40,
          20,
          26,
          65,
          10,
          15,
          60,
          26,
          42,
          21,
          59,
          15,
          48,
          16,
          16,
          15,
          10,
          55,
          13,
          20,
          20,
          15,
          12,
          50,
          20,
          28,
          17,
          250,
          102,
          60,
          18,
          45,
          14,
          20,
          25,
          12,
          50,
          65,
          38,
          22,
          26,
          28,
          28,
          123,
          13,
          34,
          20,
          65,
          40,
          70,
          14,
          11,
          25,
          12,
          15,
          12,
          19,
          20,
          13,
          14,
          24,
          18,
          35,
          28,
          55,
          23,
          18,
          30,
          13,
          90,
          29,
          30,
          30,
          27,
          75,
          16,
          10,
          20,
          8,
          16,
          13,
          24,
          45,
          30,
          32,
          10,
          14,
          20,
          16,
          14,
          16,
          24,
          35,
          15,
          18,
          16,
          60,
          22,
          80,
          20,
          40,
          22,
          54,
          32,
          16,
          9,
          60,
          26,
          22,
          7,
          29,
          12,
          150,
          35,
          20,
          60,
          18,
          22,
          54,
          28,
          13,
          35,
          32,
          7,
          15,
          120,
          30,
          45,
          11,
          12,
          20,
          56,
          12,
          32,
          38,
          27,
          50,
          22,
          50,
          58,
          87,
          19,
          32,
          12,
          419,
          11,
          8,
          42,
          21,
          90,
          30,
          25,
          26,
          65,
          16,
          17,
          66,
          17,
          40,
          15,
          21,
          30,
          11,
          66,
          50,
          32,
          16,
          11,
          14,
          60,
          20,
          16,
          35,
          50,
          12,
          17,
          35,
          30,
          85,
          13,
          19,
          45,
          21,
          10,
          14,
          16,
          29,
          25,
          190,
          9,
          7
         ],
         "xaxis": "x",
         "y": [
          87,
          86,
          85,
          90,
          87,
          86,
          93,
          88,
          85,
          92,
          91,
          87,
          89,
          88,
          87,
          86,
          92,
          93,
          82,
          90,
          87,
          91,
          88,
          90,
          83,
          90,
          91,
          86,
          87,
          89,
          91,
          83,
          88,
          85,
          90,
          84,
          80,
          88,
          92,
          92,
          85,
          92,
          86,
          84,
          87,
          82,
          89,
          92,
          87,
          86,
          84,
          85,
          90,
          85,
          88,
          90,
          83,
          88,
          84,
          85,
          88,
          90,
          90,
          88,
          83,
          85,
          83,
          85,
          93,
          88,
          91,
          85,
          87,
          87,
          93,
          85,
          87,
          88,
          84,
          89,
          92,
          85,
          87,
          92,
          89,
          88,
          94,
          92,
          88,
          84,
          88,
          90,
          91,
          87,
          95,
          84,
          92,
          85,
          86,
          83,
          86,
          88,
          90,
          90,
          90,
          85,
          81,
          87,
          90,
          84,
          84,
          86,
          83,
          88,
          88,
          95,
          85,
          92,
          90,
          89,
          90,
          95,
          86,
          85,
          87,
          87,
          87,
          94,
          90,
          88,
          95,
          85,
          89,
          86,
          82,
          84,
          90,
          87,
          87,
          86,
          89,
          86,
          88,
          84,
          85,
          82,
          87,
          82,
          87,
          87,
          90,
          84,
          88,
          88,
          85,
          91,
          92,
          90,
          90,
          85,
          87,
          89,
          86,
          89,
          93,
          87,
          86,
          89,
          91,
          86,
          89,
          90,
          92,
          86,
          92,
          85,
          88,
          90,
          92,
          90,
          90,
          90,
          85,
          89,
          92,
          88,
          84,
          94,
          87,
          92,
          89,
          85,
          93,
          84,
          84,
          85,
          88,
          92,
          84,
          87,
          82,
          87,
          84,
          88,
          89,
          90,
          85,
          87,
          84,
          89,
          87,
          84,
          97,
          90,
          90,
          89,
          89,
          85,
          90,
          92,
          87,
          91,
          88,
          83,
          91,
          84,
          89,
          85,
          90,
          82,
          94,
          85,
          84,
          83,
          88,
          83,
          88,
          88,
          88,
          92,
          95,
          83,
          88,
          87,
          84,
          89,
          85,
          93,
          85,
          87,
          85,
          90,
          88,
          86,
          87,
          86,
          87,
          88,
          86,
          86,
          86,
          86,
          93,
          90,
          85,
          86,
          84,
          91,
          94,
          86,
          93,
          98,
          87,
          85,
          84,
          89,
          85,
          90,
          85,
          84,
          88,
          88,
          87,
          89,
          87,
          87,
          87,
          88,
          89,
          91,
          91,
          93,
          89,
          83,
          83,
          84,
          87,
          88,
          85,
          85,
          86,
          85,
          84,
          90,
          91,
          87,
          92,
          85,
          89,
          87,
          89,
          84,
          90,
          88,
          89,
          85,
          92,
          94,
          84,
          83,
          92,
          92,
          90,
          85,
          91,
          87,
          89,
          82,
          86,
          86,
          84,
          86,
          82,
          93,
          90,
          86,
          92,
          93,
          93,
          89,
          86,
          87,
          91,
          85,
          90,
          91,
          86,
          93,
          87,
          89,
          93,
          88,
          86,
          80,
          90,
          91,
          91,
          88,
          85,
          87,
          85,
          81,
          91,
          81,
          90,
          89,
          84,
          84,
          88,
          85,
          89,
          91,
          81,
          91,
          88,
          89,
          87,
          87,
          82,
          88,
          86,
          85,
          91,
          88,
          93,
          92,
          87,
          90,
          87,
          87,
          86,
          88,
          89,
          86,
          92,
          89,
          84,
          93,
          91,
          89,
          93,
          86,
          88,
          84,
          86,
          90,
          92,
          91,
          85,
          84,
          86,
          90,
          87,
          87,
          88,
          91,
          91,
          88,
          93,
          85,
          85,
          87,
          87,
          89,
          87,
          86,
          91,
          86,
          86,
          87,
          87,
          82,
          81,
          92,
          88,
          87,
          86,
          88,
          86,
          83,
          89,
          82,
          92,
          86,
          87,
          88,
          82,
          87,
          85,
          91,
          87,
          83,
          91,
          89,
          92,
          84,
          86,
          91,
          85,
          87,
          88,
          87,
          87,
          85,
          86,
          85,
          91,
          91,
          89,
          89,
          86,
          93,
          87,
          83,
          91,
          87,
          83,
          90,
          87,
          91,
          90,
          87,
          88,
          85,
          84,
          89,
          90,
          86,
          86,
          93,
          87,
          89,
          85,
          88,
          91,
          87,
          89,
          85,
          86,
          84,
          87,
          89,
          88,
          94,
          84,
          87,
          93,
          84,
          89,
          87,
          86,
          87,
          90,
          92,
          80,
          90,
          83,
          92,
          92,
          85,
          85,
          86,
          82,
          85,
          88,
          85,
          89,
          86,
          85,
          88,
          84,
          88,
          87,
          86,
          88,
          88,
          93,
          84,
          87,
          84,
          90,
          87,
          90,
          87,
          84,
          87,
          89,
          88,
          88,
          90,
          94,
          88,
          83,
          93,
          93,
          92,
          80,
          88,
          89,
          93,
          85,
          90,
          85,
          87,
          86,
          85,
          87,
          86,
          84,
          84,
          92,
          88,
          86,
          88,
          89,
          85,
          85,
          82,
          80,
          93,
          89,
          90,
          88,
          86,
          92,
          90,
          88,
          82,
          92,
          91,
          87,
          83,
          90,
          91,
          93,
          82,
          90,
          88,
          88,
          85,
          87,
          86,
          83,
          87,
          89,
          89,
          89,
          86,
          92,
          87,
          89,
          84,
          89,
          88,
          86,
          91,
          86,
          90,
          89,
          87,
          86,
          82,
          91,
          85,
          86,
          89,
          83,
          82,
          90,
          88,
          88,
          87,
          85,
          87,
          89,
          86,
          88,
          88,
          93,
          89,
          90,
          85,
          90,
          86,
          84,
          87,
          87,
          91,
          83,
          86,
          85,
          93,
          86,
          93,
          90,
          88,
          81,
          92,
          88,
          85,
          92,
          87,
          85,
          85,
          91,
          87,
          84,
          83,
          87,
          80,
          91,
          86,
          92,
          92,
          89,
          89,
          96,
          86,
          87,
          91,
          84,
          90,
          84,
          82,
          82,
          86,
          90,
          89,
          90,
          91,
          91,
          88,
          91,
          83,
          90,
          87,
          90,
          89,
          89,
          94,
          86,
          84,
          94,
          87,
          89,
          89,
          89,
          87,
          83,
          86,
          86,
          95,
          91,
          88,
          86,
          89,
          86,
          87,
          90,
          85,
          80,
          86,
          91,
          90,
          83,
          86,
          87,
          89,
          90,
          86,
          85,
          96,
          86,
          85,
          95,
          89,
          84,
          88,
          88,
          82,
          93,
          84,
          85,
          84,
          80,
          93,
          84,
          89,
          88,
          84,
          84,
          94,
          89,
          89,
          86,
          95,
          94,
          86,
          85,
          87,
          83,
          87,
          92,
          88,
          90,
          84,
          87,
          88,
          84,
          83,
          83,
          93,
          89,
          88,
          85,
          94,
          92,
          94,
          86,
          85,
          86,
          84,
          86,
          84,
          90,
          91,
          91,
          83,
          87,
          87,
          90,
          85,
          90,
          91,
          86,
          87,
          81,
          92,
          86,
          89,
          92,
          87,
          91,
          85,
          85,
          87,
          85,
          89,
          87,
          85,
          91,
          82,
          91,
          83,
          85,
          87,
          85,
          88,
          88,
          87,
          91,
          87,
          86,
          86,
          86,
          87,
          93,
          90,
          92,
          85,
          91,
          84,
          84,
          83,
          86,
          90,
          90,
          81,
          88,
          84,
          91,
          87,
          86,
          92,
          84,
          87,
          88,
          88,
          87,
          85,
          91,
          84,
          85,
          95,
          83,
          92,
          89,
          86,
          88,
          89,
          87,
          85,
          89,
          87,
          95,
          85,
          91,
          96,
          91,
          85,
          89,
          88,
          95,
          85,
          84,
          94,
          90,
          86,
          85,
          88,
          84,
          88,
          85,
          91,
          90,
          86,
          89,
          84,
          84,
          91,
          87,
          88,
          95,
          87,
          84,
          86,
          84,
          85,
          88,
          88,
          88,
          91,
          84,
          84,
          90,
          91,
          96,
          85,
          85,
          86,
          89,
          85,
          88,
          90,
          85,
          84,
          94,
          85,
          83
         ],
         "yaxis": "y"
        },
        {
         "hovertemplate": "<b>OLS trendline</b><br>points = 0.0517185 * price + 86.0041<br>R<sup>2</sup>=0.232629<br><br>Price ($)=%{x}<br>Points (1-100)=%{y} <b>(trend)</b><extra></extra>",
         "legendgroup": "",
         "marker": {
          "symbol": "circle"
         },
         "mode": "lines",
         "name": "",
         "showlegend": false,
         "type": "scatter",
         "x": [
          6,
          6,
          7,
          7,
          7,
          7,
          7,
          7,
          8,
          8,
          8,
          8,
          8,
          8,
          8,
          8,
          8,
          8,
          8,
          8,
          8,
          8,
          9,
          9,
          9,
          9,
          9,
          9,
          9,
          9,
          9,
          9,
          9,
          9,
          9,
          10,
          10,
          10,
          10,
          10,
          10,
          10,
          10,
          10,
          10,
          10,
          10,
          10,
          10,
          10,
          10,
          10,
          10,
          10,
          10,
          10,
          10,
          10,
          10,
          10,
          10,
          10,
          10,
          11,
          11,
          11,
          11,
          11,
          11,
          11,
          11,
          11,
          11,
          11,
          11,
          11,
          11,
          11,
          11,
          12,
          12,
          12,
          12,
          12,
          12,
          12,
          12,
          12,
          12,
          12,
          12,
          12,
          12,
          12,
          12,
          12,
          12,
          12,
          12,
          12,
          12,
          12,
          12,
          12,
          12,
          12,
          12,
          12,
          12,
          12,
          12,
          12,
          12,
          13,
          13,
          13,
          13,
          13,
          13,
          13,
          13,
          13,
          13,
          13,
          13,
          13,
          13,
          13,
          13,
          13,
          13,
          13,
          13,
          13,
          13,
          13,
          13,
          13,
          13,
          13,
          13,
          13,
          14,
          14,
          14,
          14,
          14,
          14,
          14,
          14,
          14,
          14,
          14,
          14,
          14,
          14,
          14,
          14,
          14,
          14,
          14,
          14,
          14,
          14,
          14,
          14,
          14,
          14,
          14,
          14,
          14,
          15,
          15,
          15,
          15,
          15,
          15,
          15,
          15,
          15,
          15,
          15,
          15,
          15,
          15,
          15,
          15,
          15,
          15,
          15,
          15,
          15,
          15,
          15,
          15,
          15,
          15,
          15,
          15,
          15,
          15,
          15,
          15,
          15,
          15,
          15,
          15,
          15,
          15,
          15,
          15,
          15,
          15,
          15,
          15,
          15,
          15,
          15,
          15,
          15,
          15,
          15,
          15,
          16,
          16,
          16,
          16,
          16,
          16,
          16,
          16,
          16,
          16,
          16,
          16,
          16,
          16,
          16,
          16,
          16,
          16,
          16,
          16,
          16,
          16,
          16,
          16,
          16,
          16,
          16,
          16,
          16,
          16,
          16,
          16,
          16,
          16,
          16,
          16,
          16,
          16,
          16,
          17,
          17,
          17,
          17,
          17,
          17,
          17,
          17,
          17,
          17,
          17,
          17,
          17,
          17,
          17,
          17,
          17,
          17,
          17,
          17,
          17,
          17,
          17,
          17,
          17,
          18,
          18,
          18,
          18,
          18,
          18,
          18,
          18,
          18,
          18,
          18,
          18,
          18,
          18,
          18,
          18,
          18,
          18,
          18,
          18,
          18,
          18,
          18,
          18,
          18,
          18,
          18,
          18,
          18,
          18,
          18,
          18,
          18,
          18,
          18,
          18,
          18,
          18,
          19,
          19,
          19,
          19,
          19,
          19,
          19,
          19,
          19,
          19,
          19,
          19,
          19,
          19,
          19,
          19,
          19,
          19,
          19,
          20,
          20,
          20,
          20,
          20,
          20,
          20,
          20,
          20,
          20,
          20,
          20,
          20,
          20,
          20,
          20,
          20,
          20,
          20,
          20,
          20,
          20,
          20,
          20,
          20,
          20,
          20,
          20,
          20,
          20,
          20,
          20,
          20,
          20,
          20,
          20,
          20,
          20,
          20,
          20,
          20,
          20,
          20,
          20,
          20,
          20,
          20,
          20,
          20,
          20,
          20,
          20,
          20,
          20,
          20,
          20,
          20,
          20,
          20,
          21,
          21,
          21,
          21,
          21,
          21,
          21,
          21,
          22,
          22,
          22,
          22,
          22,
          22,
          22,
          22,
          22,
          22,
          22,
          22,
          22,
          22,
          22,
          22,
          22,
          22,
          22,
          22,
          22,
          22,
          22,
          22,
          22,
          22,
          23,
          23,
          23,
          23,
          23,
          23,
          23,
          24,
          24,
          24,
          24,
          24,
          24,
          24,
          24,
          24,
          24,
          24,
          24,
          24,
          24,
          24,
          24,
          24,
          24,
          24,
          24,
          24,
          24,
          24,
          24,
          24,
          25,
          25,
          25,
          25,
          25,
          25,
          25,
          25,
          25,
          25,
          25,
          25,
          25,
          25,
          25,
          25,
          25,
          25,
          25,
          25,
          25,
          25,
          25,
          25,
          25,
          25,
          25,
          25,
          25,
          25,
          25,
          25,
          25,
          25,
          25,
          25,
          25,
          26,
          26,
          26,
          26,
          26,
          26,
          26,
          26,
          26,
          26,
          26,
          26,
          26,
          26,
          27,
          27,
          27,
          27,
          27,
          27,
          27,
          27,
          27,
          28,
          28,
          28,
          28,
          28,
          28,
          28,
          28,
          28,
          28,
          28,
          28,
          28,
          28,
          28,
          28,
          28,
          28,
          28,
          28,
          28,
          28,
          29,
          29,
          29,
          29,
          29,
          29,
          29,
          29,
          29,
          29,
          29,
          29,
          30,
          30,
          30,
          30,
          30,
          30,
          30,
          30,
          30,
          30,
          30,
          30,
          30,
          30,
          30,
          30,
          30,
          30,
          30,
          30,
          30,
          30,
          30,
          30,
          30,
          30,
          30,
          30,
          30,
          30,
          30,
          30,
          30,
          30,
          30,
          30,
          30,
          30,
          30,
          30,
          31,
          31,
          32,
          32,
          32,
          32,
          32,
          32,
          32,
          32,
          32,
          32,
          32,
          32,
          32,
          32,
          32,
          32,
          32,
          32,
          33,
          33,
          33,
          33,
          33,
          33,
          34,
          34,
          34,
          34,
          34,
          34,
          34,
          35,
          35,
          35,
          35,
          35,
          35,
          35,
          35,
          35,
          35,
          35,
          35,
          35,
          35,
          35,
          35,
          35,
          35,
          35,
          35,
          35,
          35,
          35,
          35,
          35,
          35,
          35,
          35,
          36,
          36,
          36,
          36,
          36,
          36,
          36,
          36,
          36,
          36,
          36,
          36,
          37,
          37,
          37,
          37,
          37,
          38,
          38,
          38,
          38,
          38,
          38,
          38,
          38,
          38,
          38,
          38,
          38,
          39,
          39,
          39,
          39,
          39,
          39,
          40,
          40,
          40,
          40,
          40,
          40,
          40,
          40,
          40,
          40,
          40,
          40,
          40,
          40,
          40,
          40,
          40,
          40,
          40,
          40,
          40,
          40,
          40,
          40,
          40,
          40,
          40,
          41,
          42,
          42,
          42,
          42,
          42,
          42,
          42,
          42,
          42,
          42,
          44,
          44,
          44,
          44,
          45,
          45,
          45,
          45,
          45,
          45,
          45,
          45,
          45,
          45,
          45,
          45,
          45,
          45,
          45,
          45,
          45,
          45,
          45,
          45,
          45,
          45,
          45,
          45,
          47,
          47,
          48,
          48,
          48,
          48,
          49,
          49,
          49,
          49,
          49,
          50,
          50,
          50,
          50,
          50,
          50,
          50,
          50,
          50,
          50,
          50,
          50,
          50,
          50,
          50,
          50,
          50,
          50,
          50,
          50,
          50,
          51,
          51,
          52,
          52,
          54,
          54,
          54,
          54,
          54,
          55,
          55,
          55,
          55,
          55,
          55,
          55,
          55,
          55,
          55,
          55,
          55,
          55,
          56,
          56,
          57,
          57,
          57,
          58,
          59,
          59,
          59,
          60,
          60,
          60,
          60,
          60,
          60,
          60,
          60,
          60,
          60,
          60,
          60,
          60,
          60,
          60,
          60,
          64,
          64,
          65,
          65,
          65,
          65,
          65,
          65,
          65,
          65,
          65,
          65,
          65,
          66,
          66,
          68,
          70,
          70,
          70,
          70,
          70,
          70,
          70,
          70,
          70,
          75,
          75,
          75,
          75,
          75,
          75,
          75,
          75,
          75,
          75,
          75,
          79,
          80,
          80,
          84,
          85,
          85,
          87,
          89,
          90,
          90,
          90,
          90,
          95,
          95,
          100,
          100,
          102,
          108,
          108,
          115,
          115,
          115,
          115,
          120,
          120,
          120,
          123,
          130,
          140,
          149,
          150,
          150,
          155,
          155,
          190,
          250,
          279,
          325,
          419
         ],
         "xaxis": "x",
         "y": [
          86.31441185956707,
          86.31441185956707,
          86.36613034771439,
          86.36613034771439,
          86.36613034771439,
          86.36613034771439,
          86.36613034771439,
          86.36613034771439,
          86.41784883586169,
          86.41784883586169,
          86.41784883586169,
          86.41784883586169,
          86.41784883586169,
          86.41784883586169,
          86.41784883586169,
          86.41784883586169,
          86.41784883586169,
          86.41784883586169,
          86.41784883586169,
          86.41784883586169,
          86.41784883586169,
          86.41784883586169,
          86.469567324009,
          86.469567324009,
          86.469567324009,
          86.469567324009,
          86.469567324009,
          86.469567324009,
          86.469567324009,
          86.469567324009,
          86.469567324009,
          86.469567324009,
          86.469567324009,
          86.469567324009,
          86.469567324009,
          86.52128581215631,
          86.52128581215631,
          86.52128581215631,
          86.52128581215631,
          86.52128581215631,
          86.52128581215631,
          86.52128581215631,
          86.52128581215631,
          86.52128581215631,
          86.52128581215631,
          86.52128581215631,
          86.52128581215631,
          86.52128581215631,
          86.52128581215631,
          86.52128581215631,
          86.52128581215631,
          86.52128581215631,
          86.52128581215631,
          86.52128581215631,
          86.52128581215631,
          86.52128581215631,
          86.52128581215631,
          86.52128581215631,
          86.52128581215631,
          86.52128581215631,
          86.52128581215631,
          86.52128581215631,
          86.52128581215631,
          86.57300430030362,
          86.57300430030362,
          86.57300430030362,
          86.57300430030362,
          86.57300430030362,
          86.57300430030362,
          86.57300430030362,
          86.57300430030362,
          86.57300430030362,
          86.57300430030362,
          86.57300430030362,
          86.57300430030362,
          86.57300430030362,
          86.57300430030362,
          86.57300430030362,
          86.57300430030362,
          86.62472278845094,
          86.62472278845094,
          86.62472278845094,
          86.62472278845094,
          86.62472278845094,
          86.62472278845094,
          86.62472278845094,
          86.62472278845094,
          86.62472278845094,
          86.62472278845094,
          86.62472278845094,
          86.62472278845094,
          86.62472278845094,
          86.62472278845094,
          86.62472278845094,
          86.62472278845094,
          86.62472278845094,
          86.62472278845094,
          86.62472278845094,
          86.62472278845094,
          86.62472278845094,
          86.62472278845094,
          86.62472278845094,
          86.62472278845094,
          86.62472278845094,
          86.62472278845094,
          86.62472278845094,
          86.62472278845094,
          86.62472278845094,
          86.62472278845094,
          86.62472278845094,
          86.62472278845094,
          86.62472278845094,
          86.62472278845094,
          86.67644127659824,
          86.67644127659824,
          86.67644127659824,
          86.67644127659824,
          86.67644127659824,
          86.67644127659824,
          86.67644127659824,
          86.67644127659824,
          86.67644127659824,
          86.67644127659824,
          86.67644127659824,
          86.67644127659824,
          86.67644127659824,
          86.67644127659824,
          86.67644127659824,
          86.67644127659824,
          86.67644127659824,
          86.67644127659824,
          86.67644127659824,
          86.67644127659824,
          86.67644127659824,
          86.67644127659824,
          86.67644127659824,
          86.67644127659824,
          86.67644127659824,
          86.67644127659824,
          86.67644127659824,
          86.67644127659824,
          86.67644127659824,
          86.72815976474556,
          86.72815976474556,
          86.72815976474556,
          86.72815976474556,
          86.72815976474556,
          86.72815976474556,
          86.72815976474556,
          86.72815976474556,
          86.72815976474556,
          86.72815976474556,
          86.72815976474556,
          86.72815976474556,
          86.72815976474556,
          86.72815976474556,
          86.72815976474556,
          86.72815976474556,
          86.72815976474556,
          86.72815976474556,
          86.72815976474556,
          86.72815976474556,
          86.72815976474556,
          86.72815976474556,
          86.72815976474556,
          86.72815976474556,
          86.72815976474556,
          86.72815976474556,
          86.72815976474556,
          86.72815976474556,
          86.72815976474556,
          86.77987825289286,
          86.77987825289286,
          86.77987825289286,
          86.77987825289286,
          86.77987825289286,
          86.77987825289286,
          86.77987825289286,
          86.77987825289286,
          86.77987825289286,
          86.77987825289286,
          86.77987825289286,
          86.77987825289286,
          86.77987825289286,
          86.77987825289286,
          86.77987825289286,
          86.77987825289286,
          86.77987825289286,
          86.77987825289286,
          86.77987825289286,
          86.77987825289286,
          86.77987825289286,
          86.77987825289286,
          86.77987825289286,
          86.77987825289286,
          86.77987825289286,
          86.77987825289286,
          86.77987825289286,
          86.77987825289286,
          86.77987825289286,
          86.77987825289286,
          86.77987825289286,
          86.77987825289286,
          86.77987825289286,
          86.77987825289286,
          86.77987825289286,
          86.77987825289286,
          86.77987825289286,
          86.77987825289286,
          86.77987825289286,
          86.77987825289286,
          86.77987825289286,
          86.77987825289286,
          86.77987825289286,
          86.77987825289286,
          86.77987825289286,
          86.77987825289286,
          86.77987825289286,
          86.77987825289286,
          86.77987825289286,
          86.77987825289286,
          86.77987825289286,
          86.77987825289286,
          86.83159674104017,
          86.83159674104017,
          86.83159674104017,
          86.83159674104017,
          86.83159674104017,
          86.83159674104017,
          86.83159674104017,
          86.83159674104017,
          86.83159674104017,
          86.83159674104017,
          86.83159674104017,
          86.83159674104017,
          86.83159674104017,
          86.83159674104017,
          86.83159674104017,
          86.83159674104017,
          86.83159674104017,
          86.83159674104017,
          86.83159674104017,
          86.83159674104017,
          86.83159674104017,
          86.83159674104017,
          86.83159674104017,
          86.83159674104017,
          86.83159674104017,
          86.83159674104017,
          86.83159674104017,
          86.83159674104017,
          86.83159674104017,
          86.83159674104017,
          86.83159674104017,
          86.83159674104017,
          86.83159674104017,
          86.83159674104017,
          86.83159674104017,
          86.83159674104017,
          86.83159674104017,
          86.83159674104017,
          86.83159674104017,
          86.88331522918747,
          86.88331522918747,
          86.88331522918747,
          86.88331522918747,
          86.88331522918747,
          86.88331522918747,
          86.88331522918747,
          86.88331522918747,
          86.88331522918747,
          86.88331522918747,
          86.88331522918747,
          86.88331522918747,
          86.88331522918747,
          86.88331522918747,
          86.88331522918747,
          86.88331522918747,
          86.88331522918747,
          86.88331522918747,
          86.88331522918747,
          86.88331522918747,
          86.88331522918747,
          86.88331522918747,
          86.88331522918747,
          86.88331522918747,
          86.88331522918747,
          86.93503371733479,
          86.93503371733479,
          86.93503371733479,
          86.93503371733479,
          86.93503371733479,
          86.93503371733479,
          86.93503371733479,
          86.93503371733479,
          86.93503371733479,
          86.93503371733479,
          86.93503371733479,
          86.93503371733479,
          86.93503371733479,
          86.93503371733479,
          86.93503371733479,
          86.93503371733479,
          86.93503371733479,
          86.93503371733479,
          86.93503371733479,
          86.93503371733479,
          86.93503371733479,
          86.93503371733479,
          86.93503371733479,
          86.93503371733479,
          86.93503371733479,
          86.93503371733479,
          86.93503371733479,
          86.93503371733479,
          86.93503371733479,
          86.93503371733479,
          86.93503371733479,
          86.93503371733479,
          86.93503371733479,
          86.93503371733479,
          86.93503371733479,
          86.93503371733479,
          86.93503371733479,
          86.93503371733479,
          86.98675220548209,
          86.98675220548209,
          86.98675220548209,
          86.98675220548209,
          86.98675220548209,
          86.98675220548209,
          86.98675220548209,
          86.98675220548209,
          86.98675220548209,
          86.98675220548209,
          86.98675220548209,
          86.98675220548209,
          86.98675220548209,
          86.98675220548209,
          86.98675220548209,
          86.98675220548209,
          86.98675220548209,
          86.98675220548209,
          86.98675220548209,
          87.0384706936294,
          87.0384706936294,
          87.0384706936294,
          87.0384706936294,
          87.0384706936294,
          87.0384706936294,
          87.0384706936294,
          87.0384706936294,
          87.0384706936294,
          87.0384706936294,
          87.0384706936294,
          87.0384706936294,
          87.0384706936294,
          87.0384706936294,
          87.0384706936294,
          87.0384706936294,
          87.0384706936294,
          87.0384706936294,
          87.0384706936294,
          87.0384706936294,
          87.0384706936294,
          87.0384706936294,
          87.0384706936294,
          87.0384706936294,
          87.0384706936294,
          87.0384706936294,
          87.0384706936294,
          87.0384706936294,
          87.0384706936294,
          87.0384706936294,
          87.0384706936294,
          87.0384706936294,
          87.0384706936294,
          87.0384706936294,
          87.0384706936294,
          87.0384706936294,
          87.0384706936294,
          87.0384706936294,
          87.0384706936294,
          87.0384706936294,
          87.0384706936294,
          87.0384706936294,
          87.0384706936294,
          87.0384706936294,
          87.0384706936294,
          87.0384706936294,
          87.0384706936294,
          87.0384706936294,
          87.0384706936294,
          87.0384706936294,
          87.0384706936294,
          87.0384706936294,
          87.0384706936294,
          87.0384706936294,
          87.0384706936294,
          87.0384706936294,
          87.0384706936294,
          87.0384706936294,
          87.0384706936294,
          87.09018918177671,
          87.09018918177671,
          87.09018918177671,
          87.09018918177671,
          87.09018918177671,
          87.09018918177671,
          87.09018918177671,
          87.09018918177671,
          87.14190766992402,
          87.14190766992402,
          87.14190766992402,
          87.14190766992402,
          87.14190766992402,
          87.14190766992402,
          87.14190766992402,
          87.14190766992402,
          87.14190766992402,
          87.14190766992402,
          87.14190766992402,
          87.14190766992402,
          87.14190766992402,
          87.14190766992402,
          87.14190766992402,
          87.14190766992402,
          87.14190766992402,
          87.14190766992402,
          87.14190766992402,
          87.14190766992402,
          87.14190766992402,
          87.14190766992402,
          87.14190766992402,
          87.14190766992402,
          87.14190766992402,
          87.14190766992402,
          87.19362615807134,
          87.19362615807134,
          87.19362615807134,
          87.19362615807134,
          87.19362615807134,
          87.19362615807134,
          87.19362615807134,
          87.24534464621864,
          87.24534464621864,
          87.24534464621864,
          87.24534464621864,
          87.24534464621864,
          87.24534464621864,
          87.24534464621864,
          87.24534464621864,
          87.24534464621864,
          87.24534464621864,
          87.24534464621864,
          87.24534464621864,
          87.24534464621864,
          87.24534464621864,
          87.24534464621864,
          87.24534464621864,
          87.24534464621864,
          87.24534464621864,
          87.24534464621864,
          87.24534464621864,
          87.24534464621864,
          87.24534464621864,
          87.24534464621864,
          87.24534464621864,
          87.24534464621864,
          87.29706313436596,
          87.29706313436596,
          87.29706313436596,
          87.29706313436596,
          87.29706313436596,
          87.29706313436596,
          87.29706313436596,
          87.29706313436596,
          87.29706313436596,
          87.29706313436596,
          87.29706313436596,
          87.29706313436596,
          87.29706313436596,
          87.29706313436596,
          87.29706313436596,
          87.29706313436596,
          87.29706313436596,
          87.29706313436596,
          87.29706313436596,
          87.29706313436596,
          87.29706313436596,
          87.29706313436596,
          87.29706313436596,
          87.29706313436596,
          87.29706313436596,
          87.29706313436596,
          87.29706313436596,
          87.29706313436596,
          87.29706313436596,
          87.29706313436596,
          87.29706313436596,
          87.29706313436596,
          87.29706313436596,
          87.29706313436596,
          87.29706313436596,
          87.29706313436596,
          87.29706313436596,
          87.34878162251326,
          87.34878162251326,
          87.34878162251326,
          87.34878162251326,
          87.34878162251326,
          87.34878162251326,
          87.34878162251326,
          87.34878162251326,
          87.34878162251326,
          87.34878162251326,
          87.34878162251326,
          87.34878162251326,
          87.34878162251326,
          87.34878162251326,
          87.40050011066057,
          87.40050011066057,
          87.40050011066057,
          87.40050011066057,
          87.40050011066057,
          87.40050011066057,
          87.40050011066057,
          87.40050011066057,
          87.40050011066057,
          87.45221859880787,
          87.45221859880787,
          87.45221859880787,
          87.45221859880787,
          87.45221859880787,
          87.45221859880787,
          87.45221859880787,
          87.45221859880787,
          87.45221859880787,
          87.45221859880787,
          87.45221859880787,
          87.45221859880787,
          87.45221859880787,
          87.45221859880787,
          87.45221859880787,
          87.45221859880787,
          87.45221859880787,
          87.45221859880787,
          87.45221859880787,
          87.45221859880787,
          87.45221859880787,
          87.45221859880787,
          87.50393708695519,
          87.50393708695519,
          87.50393708695519,
          87.50393708695519,
          87.50393708695519,
          87.50393708695519,
          87.50393708695519,
          87.50393708695519,
          87.50393708695519,
          87.50393708695519,
          87.50393708695519,
          87.50393708695519,
          87.55565557510249,
          87.55565557510249,
          87.55565557510249,
          87.55565557510249,
          87.55565557510249,
          87.55565557510249,
          87.55565557510249,
          87.55565557510249,
          87.55565557510249,
          87.55565557510249,
          87.55565557510249,
          87.55565557510249,
          87.55565557510249,
          87.55565557510249,
          87.55565557510249,
          87.55565557510249,
          87.55565557510249,
          87.55565557510249,
          87.55565557510249,
          87.55565557510249,
          87.55565557510249,
          87.55565557510249,
          87.55565557510249,
          87.55565557510249,
          87.55565557510249,
          87.55565557510249,
          87.55565557510249,
          87.55565557510249,
          87.55565557510249,
          87.55565557510249,
          87.55565557510249,
          87.55565557510249,
          87.55565557510249,
          87.55565557510249,
          87.55565557510249,
          87.55565557510249,
          87.55565557510249,
          87.55565557510249,
          87.55565557510249,
          87.55565557510249,
          87.60737406324981,
          87.60737406324981,
          87.65909255139711,
          87.65909255139711,
          87.65909255139711,
          87.65909255139711,
          87.65909255139711,
          87.65909255139711,
          87.65909255139711,
          87.65909255139711,
          87.65909255139711,
          87.65909255139711,
          87.65909255139711,
          87.65909255139711,
          87.65909255139711,
          87.65909255139711,
          87.65909255139711,
          87.65909255139711,
          87.65909255139711,
          87.65909255139711,
          87.71081103954442,
          87.71081103954442,
          87.71081103954442,
          87.71081103954442,
          87.71081103954442,
          87.71081103954442,
          87.76252952769174,
          87.76252952769174,
          87.76252952769174,
          87.76252952769174,
          87.76252952769174,
          87.76252952769174,
          87.76252952769174,
          87.81424801583904,
          87.81424801583904,
          87.81424801583904,
          87.81424801583904,
          87.81424801583904,
          87.81424801583904,
          87.81424801583904,
          87.81424801583904,
          87.81424801583904,
          87.81424801583904,
          87.81424801583904,
          87.81424801583904,
          87.81424801583904,
          87.81424801583904,
          87.81424801583904,
          87.81424801583904,
          87.81424801583904,
          87.81424801583904,
          87.81424801583904,
          87.81424801583904,
          87.81424801583904,
          87.81424801583904,
          87.81424801583904,
          87.81424801583904,
          87.81424801583904,
          87.81424801583904,
          87.81424801583904,
          87.81424801583904,
          87.86596650398636,
          87.86596650398636,
          87.86596650398636,
          87.86596650398636,
          87.86596650398636,
          87.86596650398636,
          87.86596650398636,
          87.86596650398636,
          87.86596650398636,
          87.86596650398636,
          87.86596650398636,
          87.86596650398636,
          87.91768499213366,
          87.91768499213366,
          87.91768499213366,
          87.91768499213366,
          87.91768499213366,
          87.96940348028097,
          87.96940348028097,
          87.96940348028097,
          87.96940348028097,
          87.96940348028097,
          87.96940348028097,
          87.96940348028097,
          87.96940348028097,
          87.96940348028097,
          87.96940348028097,
          87.96940348028097,
          87.96940348028097,
          88.02112196842828,
          88.02112196842828,
          88.02112196842828,
          88.02112196842828,
          88.02112196842828,
          88.02112196842828,
          88.07284045657559,
          88.07284045657559,
          88.07284045657559,
          88.07284045657559,
          88.07284045657559,
          88.07284045657559,
          88.07284045657559,
          88.07284045657559,
          88.07284045657559,
          88.07284045657559,
          88.07284045657559,
          88.07284045657559,
          88.07284045657559,
          88.07284045657559,
          88.07284045657559,
          88.07284045657559,
          88.07284045657559,
          88.07284045657559,
          88.07284045657559,
          88.07284045657559,
          88.07284045657559,
          88.07284045657559,
          88.07284045657559,
          88.07284045657559,
          88.07284045657559,
          88.07284045657559,
          88.07284045657559,
          88.12455894472289,
          88.17627743287021,
          88.17627743287021,
          88.17627743287021,
          88.17627743287021,
          88.17627743287021,
          88.17627743287021,
          88.17627743287021,
          88.17627743287021,
          88.17627743287021,
          88.17627743287021,
          88.27971440916482,
          88.27971440916482,
          88.27971440916482,
          88.27971440916482,
          88.33143289731214,
          88.33143289731214,
          88.33143289731214,
          88.33143289731214,
          88.33143289731214,
          88.33143289731214,
          88.33143289731214,
          88.33143289731214,
          88.33143289731214,
          88.33143289731214,
          88.33143289731214,
          88.33143289731214,
          88.33143289731214,
          88.33143289731214,
          88.33143289731214,
          88.33143289731214,
          88.33143289731214,
          88.33143289731214,
          88.33143289731214,
          88.33143289731214,
          88.33143289731214,
          88.33143289731214,
          88.33143289731214,
          88.33143289731214,
          88.43486987360676,
          88.43486987360676,
          88.48658836175406,
          88.48658836175406,
          88.48658836175406,
          88.48658836175406,
          88.53830684990137,
          88.53830684990137,
          88.53830684990137,
          88.53830684990137,
          88.53830684990137,
          88.59002533804868,
          88.59002533804868,
          88.59002533804868,
          88.59002533804868,
          88.59002533804868,
          88.59002533804868,
          88.59002533804868,
          88.59002533804868,
          88.59002533804868,
          88.59002533804868,
          88.59002533804868,
          88.59002533804868,
          88.59002533804868,
          88.59002533804868,
          88.59002533804868,
          88.59002533804868,
          88.59002533804868,
          88.59002533804868,
          88.59002533804868,
          88.59002533804868,
          88.59002533804868,
          88.64174382619599,
          88.64174382619599,
          88.6934623143433,
          88.6934623143433,
          88.79689929063791,
          88.79689929063791,
          88.79689929063791,
          88.79689929063791,
          88.79689929063791,
          88.84861777878523,
          88.84861777878523,
          88.84861777878523,
          88.84861777878523,
          88.84861777878523,
          88.84861777878523,
          88.84861777878523,
          88.84861777878523,
          88.84861777878523,
          88.84861777878523,
          88.84861777878523,
          88.84861777878523,
          88.84861777878523,
          88.90033626693253,
          88.90033626693253,
          88.95205475507984,
          88.95205475507984,
          88.95205475507984,
          89.00377324322716,
          89.05549173137446,
          89.05549173137446,
          89.05549173137446,
          89.10721021952178,
          89.10721021952178,
          89.10721021952178,
          89.10721021952178,
          89.10721021952178,
          89.10721021952178,
          89.10721021952178,
          89.10721021952178,
          89.10721021952178,
          89.10721021952178,
          89.10721021952178,
          89.10721021952178,
          89.10721021952178,
          89.10721021952178,
          89.10721021952178,
          89.10721021952178,
          89.31408417211101,
          89.31408417211101,
          89.36580266025831,
          89.36580266025831,
          89.36580266025831,
          89.36580266025831,
          89.36580266025831,
          89.36580266025831,
          89.36580266025831,
          89.36580266025831,
          89.36580266025831,
          89.36580266025831,
          89.36580266025831,
          89.41752114840563,
          89.41752114840563,
          89.52095812470024,
          89.62439510099486,
          89.62439510099486,
          89.62439510099486,
          89.62439510099486,
          89.62439510099486,
          89.62439510099486,
          89.62439510099486,
          89.62439510099486,
          89.62439510099486,
          89.88298754173141,
          89.88298754173141,
          89.88298754173141,
          89.88298754173141,
          89.88298754173141,
          89.88298754173141,
          89.88298754173141,
          89.88298754173141,
          89.88298754173141,
          89.88298754173141,
          89.88298754173141,
          90.08986149432064,
          90.14157998246796,
          90.14157998246796,
          90.3484539350572,
          90.4001724232045,
          90.4001724232045,
          90.50360939949911,
          90.60704637579374,
          90.65876486394104,
          90.65876486394104,
          90.65876486394104,
          90.65876486394104,
          90.9173573046776,
          90.9173573046776,
          91.17594974541413,
          91.17594974541413,
          91.27938672170876,
          91.58969765059261,
          91.58969765059261,
          91.95172706762378,
          91.95172706762378,
          91.95172706762378,
          91.95172706762378,
          92.21031950836031,
          92.21031950836031,
          92.21031950836031,
          92.36547497280225,
          92.72750438983341,
          93.2446892713065,
          93.71015566463228,
          93.7618741527796,
          93.7618741527796,
          94.02046659351615,
          94.02046659351615,
          95.83061367867197,
          98.9337229675105,
          100.43355912378247,
          102.81260957855869,
          107.67414746440575
         ],
         "yaxis": "y"
        }
       ],
       "layout": {
        "coloraxis": {
         "colorbar": {
          "title": {
           "text": "Points (1-100)"
          }
         },
         "colorscale": [
          [
           0,
           "#0d0887"
          ],
          [
           0.1111111111111111,
           "#46039f"
          ],
          [
           0.2222222222222222,
           "#7201a8"
          ],
          [
           0.3333333333333333,
           "#9c179e"
          ],
          [
           0.4444444444444444,
           "#bd3786"
          ],
          [
           0.5555555555555556,
           "#d8576b"
          ],
          [
           0.6666666666666666,
           "#ed7953"
          ],
          [
           0.7777777777777778,
           "#fb9f3a"
          ],
          [
           0.8888888888888888,
           "#fdca26"
          ],
          [
           1,
           "#f0f921"
          ]
         ]
        },
        "legend": {
         "itemsizing": "constant",
         "tracegroupgap": 0
        },
        "template": {
         "data": {
          "bar": [
           {
            "error_x": {
             "color": "#2a3f5f"
            },
            "error_y": {
             "color": "#2a3f5f"
            },
            "marker": {
             "line": {
              "color": "#E5ECF6",
              "width": 0.5
             },
             "pattern": {
              "fillmode": "overlay",
              "size": 10,
              "solidity": 0.2
             }
            },
            "type": "bar"
           }
          ],
          "barpolar": [
           {
            "marker": {
             "line": {
              "color": "#E5ECF6",
              "width": 0.5
             },
             "pattern": {
              "fillmode": "overlay",
              "size": 10,
              "solidity": 0.2
             }
            },
            "type": "barpolar"
           }
          ],
          "carpet": [
           {
            "aaxis": {
             "endlinecolor": "#2a3f5f",
             "gridcolor": "white",
             "linecolor": "white",
             "minorgridcolor": "white",
             "startlinecolor": "#2a3f5f"
            },
            "baxis": {
             "endlinecolor": "#2a3f5f",
             "gridcolor": "white",
             "linecolor": "white",
             "minorgridcolor": "white",
             "startlinecolor": "#2a3f5f"
            },
            "type": "carpet"
           }
          ],
          "choropleth": [
           {
            "colorbar": {
             "outlinewidth": 0,
             "ticks": ""
            },
            "type": "choropleth"
           }
          ],
          "contour": [
           {
            "colorbar": {
             "outlinewidth": 0,
             "ticks": ""
            },
            "colorscale": [
             [
              0,
              "#0d0887"
             ],
             [
              0.1111111111111111,
              "#46039f"
             ],
             [
              0.2222222222222222,
              "#7201a8"
             ],
             [
              0.3333333333333333,
              "#9c179e"
             ],
             [
              0.4444444444444444,
              "#bd3786"
             ],
             [
              0.5555555555555556,
              "#d8576b"
             ],
             [
              0.6666666666666666,
              "#ed7953"
             ],
             [
              0.7777777777777778,
              "#fb9f3a"
             ],
             [
              0.8888888888888888,
              "#fdca26"
             ],
             [
              1,
              "#f0f921"
             ]
            ],
            "type": "contour"
           }
          ],
          "contourcarpet": [
           {
            "colorbar": {
             "outlinewidth": 0,
             "ticks": ""
            },
            "type": "contourcarpet"
           }
          ],
          "heatmap": [
           {
            "colorbar": {
             "outlinewidth": 0,
             "ticks": ""
            },
            "colorscale": [
             [
              0,
              "#0d0887"
             ],
             [
              0.1111111111111111,
              "#46039f"
             ],
             [
              0.2222222222222222,
              "#7201a8"
             ],
             [
              0.3333333333333333,
              "#9c179e"
             ],
             [
              0.4444444444444444,
              "#bd3786"
             ],
             [
              0.5555555555555556,
              "#d8576b"
             ],
             [
              0.6666666666666666,
              "#ed7953"
             ],
             [
              0.7777777777777778,
              "#fb9f3a"
             ],
             [
              0.8888888888888888,
              "#fdca26"
             ],
             [
              1,
              "#f0f921"
             ]
            ],
            "type": "heatmap"
           }
          ],
          "heatmapgl": [
           {
            "colorbar": {
             "outlinewidth": 0,
             "ticks": ""
            },
            "colorscale": [
             [
              0,
              "#0d0887"
             ],
             [
              0.1111111111111111,
              "#46039f"
             ],
             [
              0.2222222222222222,
              "#7201a8"
             ],
             [
              0.3333333333333333,
              "#9c179e"
             ],
             [
              0.4444444444444444,
              "#bd3786"
             ],
             [
              0.5555555555555556,
              "#d8576b"
             ],
             [
              0.6666666666666666,
              "#ed7953"
             ],
             [
              0.7777777777777778,
              "#fb9f3a"
             ],
             [
              0.8888888888888888,
              "#fdca26"
             ],
             [
              1,
              "#f0f921"
             ]
            ],
            "type": "heatmapgl"
           }
          ],
          "histogram": [
           {
            "marker": {
             "pattern": {
              "fillmode": "overlay",
              "size": 10,
              "solidity": 0.2
             }
            },
            "type": "histogram"
           }
          ],
          "histogram2d": [
           {
            "colorbar": {
             "outlinewidth": 0,
             "ticks": ""
            },
            "colorscale": [
             [
              0,
              "#0d0887"
             ],
             [
              0.1111111111111111,
              "#46039f"
             ],
             [
              0.2222222222222222,
              "#7201a8"
             ],
             [
              0.3333333333333333,
              "#9c179e"
             ],
             [
              0.4444444444444444,
              "#bd3786"
             ],
             [
              0.5555555555555556,
              "#d8576b"
             ],
             [
              0.6666666666666666,
              "#ed7953"
             ],
             [
              0.7777777777777778,
              "#fb9f3a"
             ],
             [
              0.8888888888888888,
              "#fdca26"
             ],
             [
              1,
              "#f0f921"
             ]
            ],
            "type": "histogram2d"
           }
          ],
          "histogram2dcontour": [
           {
            "colorbar": {
             "outlinewidth": 0,
             "ticks": ""
            },
            "colorscale": [
             [
              0,
              "#0d0887"
             ],
             [
              0.1111111111111111,
              "#46039f"
             ],
             [
              0.2222222222222222,
              "#7201a8"
             ],
             [
              0.3333333333333333,
              "#9c179e"
             ],
             [
              0.4444444444444444,
              "#bd3786"
             ],
             [
              0.5555555555555556,
              "#d8576b"
             ],
             [
              0.6666666666666666,
              "#ed7953"
             ],
             [
              0.7777777777777778,
              "#fb9f3a"
             ],
             [
              0.8888888888888888,
              "#fdca26"
             ],
             [
              1,
              "#f0f921"
             ]
            ],
            "type": "histogram2dcontour"
           }
          ],
          "mesh3d": [
           {
            "colorbar": {
             "outlinewidth": 0,
             "ticks": ""
            },
            "type": "mesh3d"
           }
          ],
          "parcoords": [
           {
            "line": {
             "colorbar": {
              "outlinewidth": 0,
              "ticks": ""
             }
            },
            "type": "parcoords"
           }
          ],
          "pie": [
           {
            "automargin": true,
            "type": "pie"
           }
          ],
          "scatter": [
           {
            "fillpattern": {
             "fillmode": "overlay",
             "size": 10,
             "solidity": 0.2
            },
            "type": "scatter"
           }
          ],
          "scatter3d": [
           {
            "line": {
             "colorbar": {
              "outlinewidth": 0,
              "ticks": ""
             }
            },
            "marker": {
             "colorbar": {
              "outlinewidth": 0,
              "ticks": ""
             }
            },
            "type": "scatter3d"
           }
          ],
          "scattercarpet": [
           {
            "marker": {
             "colorbar": {
              "outlinewidth": 0,
              "ticks": ""
             }
            },
            "type": "scattercarpet"
           }
          ],
          "scattergeo": [
           {
            "marker": {
             "colorbar": {
              "outlinewidth": 0,
              "ticks": ""
             }
            },
            "type": "scattergeo"
           }
          ],
          "scattergl": [
           {
            "marker": {
             "colorbar": {
              "outlinewidth": 0,
              "ticks": ""
             }
            },
            "type": "scattergl"
           }
          ],
          "scattermapbox": [
           {
            "marker": {
             "colorbar": {
              "outlinewidth": 0,
              "ticks": ""
             }
            },
            "type": "scattermapbox"
           }
          ],
          "scatterpolar": [
           {
            "marker": {
             "colorbar": {
              "outlinewidth": 0,
              "ticks": ""
             }
            },
            "type": "scatterpolar"
           }
          ],
          "scatterpolargl": [
           {
            "marker": {
             "colorbar": {
              "outlinewidth": 0,
              "ticks": ""
             }
            },
            "type": "scatterpolargl"
           }
          ],
          "scatterternary": [
           {
            "marker": {
             "colorbar": {
              "outlinewidth": 0,
              "ticks": ""
             }
            },
            "type": "scatterternary"
           }
          ],
          "surface": [
           {
            "colorbar": {
             "outlinewidth": 0,
             "ticks": ""
            },
            "colorscale": [
             [
              0,
              "#0d0887"
             ],
             [
              0.1111111111111111,
              "#46039f"
             ],
             [
              0.2222222222222222,
              "#7201a8"
             ],
             [
              0.3333333333333333,
              "#9c179e"
             ],
             [
              0.4444444444444444,
              "#bd3786"
             ],
             [
              0.5555555555555556,
              "#d8576b"
             ],
             [
              0.6666666666666666,
              "#ed7953"
             ],
             [
              0.7777777777777778,
              "#fb9f3a"
             ],
             [
              0.8888888888888888,
              "#fdca26"
             ],
             [
              1,
              "#f0f921"
             ]
            ],
            "type": "surface"
           }
          ],
          "table": [
           {
            "cells": {
             "fill": {
              "color": "#EBF0F8"
             },
             "line": {
              "color": "white"
             }
            },
            "header": {
             "fill": {
              "color": "#C8D4E3"
             },
             "line": {
              "color": "white"
             }
            },
            "type": "table"
           }
          ]
         },
         "layout": {
          "annotationdefaults": {
           "arrowcolor": "#2a3f5f",
           "arrowhead": 0,
           "arrowwidth": 1
          },
          "autotypenumbers": "strict",
          "coloraxis": {
           "colorbar": {
            "outlinewidth": 0,
            "ticks": ""
           }
          },
          "colorscale": {
           "diverging": [
            [
             0,
             "#8e0152"
            ],
            [
             0.1,
             "#c51b7d"
            ],
            [
             0.2,
             "#de77ae"
            ],
            [
             0.3,
             "#f1b6da"
            ],
            [
             0.4,
             "#fde0ef"
            ],
            [
             0.5,
             "#f7f7f7"
            ],
            [
             0.6,
             "#e6f5d0"
            ],
            [
             0.7,
             "#b8e186"
            ],
            [
             0.8,
             "#7fbc41"
            ],
            [
             0.9,
             "#4d9221"
            ],
            [
             1,
             "#276419"
            ]
           ],
           "sequential": [
            [
             0,
             "#0d0887"
            ],
            [
             0.1111111111111111,
             "#46039f"
            ],
            [
             0.2222222222222222,
             "#7201a8"
            ],
            [
             0.3333333333333333,
             "#9c179e"
            ],
            [
             0.4444444444444444,
             "#bd3786"
            ],
            [
             0.5555555555555556,
             "#d8576b"
            ],
            [
             0.6666666666666666,
             "#ed7953"
            ],
            [
             0.7777777777777778,
             "#fb9f3a"
            ],
            [
             0.8888888888888888,
             "#fdca26"
            ],
            [
             1,
             "#f0f921"
            ]
           ],
           "sequentialminus": [
            [
             0,
             "#0d0887"
            ],
            [
             0.1111111111111111,
             "#46039f"
            ],
            [
             0.2222222222222222,
             "#7201a8"
            ],
            [
             0.3333333333333333,
             "#9c179e"
            ],
            [
             0.4444444444444444,
             "#bd3786"
            ],
            [
             0.5555555555555556,
             "#d8576b"
            ],
            [
             0.6666666666666666,
             "#ed7953"
            ],
            [
             0.7777777777777778,
             "#fb9f3a"
            ],
            [
             0.8888888888888888,
             "#fdca26"
            ],
            [
             1,
             "#f0f921"
            ]
           ]
          },
          "colorway": [
           "#636efa",
           "#EF553B",
           "#00cc96",
           "#ab63fa",
           "#FFA15A",
           "#19d3f3",
           "#FF6692",
           "#B6E880",
           "#FF97FF",
           "#FECB52"
          ],
          "font": {
           "color": "#2a3f5f"
          },
          "geo": {
           "bgcolor": "white",
           "lakecolor": "white",
           "landcolor": "#E5ECF6",
           "showlakes": true,
           "showland": true,
           "subunitcolor": "white"
          },
          "hoverlabel": {
           "align": "left"
          },
          "hovermode": "closest",
          "mapbox": {
           "style": "light"
          },
          "paper_bgcolor": "white",
          "plot_bgcolor": "#E5ECF6",
          "polar": {
           "angularaxis": {
            "gridcolor": "white",
            "linecolor": "white",
            "ticks": ""
           },
           "bgcolor": "#E5ECF6",
           "radialaxis": {
            "gridcolor": "white",
            "linecolor": "white",
            "ticks": ""
           }
          },
          "scene": {
           "xaxis": {
            "backgroundcolor": "#E5ECF6",
            "gridcolor": "white",
            "gridwidth": 2,
            "linecolor": "white",
            "showbackground": true,
            "ticks": "",
            "zerolinecolor": "white"
           },
           "yaxis": {
            "backgroundcolor": "#E5ECF6",
            "gridcolor": "white",
            "gridwidth": 2,
            "linecolor": "white",
            "showbackground": true,
            "ticks": "",
            "zerolinecolor": "white"
           },
           "zaxis": {
            "backgroundcolor": "#E5ECF6",
            "gridcolor": "white",
            "gridwidth": 2,
            "linecolor": "white",
            "showbackground": true,
            "ticks": "",
            "zerolinecolor": "white"
           }
          },
          "shapedefaults": {
           "line": {
            "color": "#2a3f5f"
           }
          },
          "ternary": {
           "aaxis": {
            "gridcolor": "white",
            "linecolor": "white",
            "ticks": ""
           },
           "baxis": {
            "gridcolor": "white",
            "linecolor": "white",
            "ticks": ""
           },
           "bgcolor": "#E5ECF6",
           "caxis": {
            "gridcolor": "white",
            "linecolor": "white",
            "ticks": ""
           }
          },
          "title": {
           "x": 0.05
          },
          "xaxis": {
           "automargin": true,
           "gridcolor": "white",
           "linecolor": "white",
           "ticks": "",
           "title": {
            "standoff": 15
           },
           "zerolinecolor": "white",
           "zerolinewidth": 2
          },
          "yaxis": {
           "automargin": true,
           "gridcolor": "white",
           "linecolor": "white",
           "ticks": "",
           "title": {
            "standoff": 15
           },
           "zerolinecolor": "white",
           "zerolinewidth": 2
          }
         }
        },
        "title": {
         "text": "Wine Reviews: Points vs. Price"
        },
        "xaxis": {
         "anchor": "y",
         "domain": [
          0,
          1
         ],
         "title": {
          "text": "Price ($)"
         }
        },
        "yaxis": {
         "anchor": "x",
         "domain": [
          0,
          1
         ],
         "title": {
          "text": "Points (1-100)"
         }
        }
       }
      }
     },
     "metadata": {},
     "output_type": "display_data"
    }
   ],
   "source": [
    "\n",
    "import plotly.express as px\n",
    "\n",
    "\n",
    "# Create a scatter plot\n",
    "fig = px.scatter(reviews, x='price', y='points', \n",
    "                 hover_data=['country', 'variety', 'winery'], # Add more details on hover\n",
    "                 title='Wine Reviews: Points vs. Price',\n",
    "                 labels={'price': 'Price ($)', 'points': 'Points (1-100)'}, \n",
    "                 color='points', # Color points based on their score\n",
    "                 size='price', # Size points based on their price for better visibility of price distribution\n",
    "                 trendline='ols') # Add a trendline to see the overall relationship\n",
    "\n",
    "# Show the plot\n",
    "fig.show()\n"
   ]
  }
 ],
 "metadata": {
  "kernelspec": {
   "display_name": "price39_env",
   "language": "python",
   "name": "price39_env"
  },
  "language_info": {
   "codemirror_mode": {
    "name": "ipython",
    "version": 3
   },
   "file_extension": ".py",
   "mimetype": "text/x-python",
   "name": "python",
   "nbconvert_exporter": "python",
   "pygments_lexer": "ipython3",
   "version": "3.9.16"
  }
 },
 "nbformat": 4,
 "nbformat_minor": 2
}
